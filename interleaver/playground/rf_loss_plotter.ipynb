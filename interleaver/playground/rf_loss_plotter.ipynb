{
 "cells": [
  {
   "cell_type": "code",
   "execution_count": 1,
   "id": "e5e56f5f-9ce3-4433-853f-c3ac0c4f3b2d",
   "metadata": {
    "tags": []
   },
   "outputs": [],
   "source": [
    "import matplotlib.pyplot as plt\n",
    "import numpy as np \n",
    "import pandas as pd\n",
    "from scipy.signal import find_peaks\n",
    "from tqdm import tqdm\n",
    "from interleaver_parameters import *\n",
    "from interleaver_2_stages import interleaver_2_stage_calc, calculate_spectrum_bandwidth\n",
    "from interleaver_3_stages import interleaver_3_stage_calc"
   ]
  },
  {
   "cell_type": "markdown",
   "id": "f2790741-2963-4507-9f7c-c66f1c226f7a",
   "metadata": {},
   "source": [
    "# Interleaver 2 stages"
   ]
  },
  {
   "cell_type": "code",
   "execution_count": null,
   "id": "b9f8f81f-990e-4a08-b891-d1bc232ea35f",
   "metadata": {
    "tags": []
   },
   "outputs": [
    {
     "name": "stdout",
     "output_type": "stream",
     "text": [
      "dL for 400Ghz FSR:  0.00038810416314973483\n",
      "  #      DC1        DC2        DC3       phi1      phi2       Cost\n",
      "   0    0.500000    0.630000    0.900000    2.338096 -1.115208  4868.036785\n",
      "  10    0.498920    0.635000    0.898592    2.484742 -1.065246  4725.710588\n"
     ]
    }
   ],
   "source": [
    "# Create compound effect of the three filter stages on top of each other\n",
    "print(\"dL for 400Ghz FSR: \", dL_400Ghz_FSR)\n",
    "um = 1e-6\n",
    "\n",
    "interleaver_400Ghz_FSR = interleaver_2_stage_calc(\n",
    "    L = 350*um,\n",
    "    dL1 = dL_400Ghz_FSR,\n",
    "    dL2 = 2*dL_400Ghz_FSR,\n",
    "    dc1 = 0.5,\n",
    "    dc2 = 0.63,\n",
    "    dc3 = 0.9,\n",
    ")\n",
    "interleaver_400Ghz_FSR.channel_spacing = FSR_wavelength/8\n",
    "\n",
    "interleaver_400Ghz_result = interleaver_400Ghz_FSR.minimize_cost_function(random_dc=False,random_phase=True,printy=True)\n",
    "\n",
    "wav,bar_port_amp,cross_port_amp = interleaver_400Ghz_FSR.calculate_spectrum(*interleaver_400Ghz_result.x)\n",
    "\n",
    "print(\"First stage insertion loss (dB): \", np.max(10*np.log10(bar_port_amp)))"
   ]
  },
  {
   "cell_type": "code",
   "execution_count": null,
   "id": "892b2295-655c-43a9-a65e-4f5091e6f49d",
   "metadata": {
    "tags": []
   },
   "outputs": [],
   "source": [
    "rand_variable_dc1 = np.random.normal(0,random_variable_sigma) \n",
    "rand_variable_dc2 = np.random.normal(0,random_variable_sigma) \n",
    "rand_variable_dc3 = np.random.normal(0,random_variable_sigma) \n",
    "\n",
    "rand_dc1 = (1+rand_variable_dc1)*0.495\n",
    "rand_dc2 = (1+rand_variable_dc2)*0.630\n",
    "rand_dc3 = (1+rand_variable_dc3)*0.895\n",
    "\n",
    "#Clamp values between 0 and 1\n",
    "rand_dc1 = np.clip(rand_dc1,a_min=0,a_max=1)\n",
    "rand_dc2 = np.clip(rand_dc2,a_min=0,a_max=1)\n",
    "rand_dc3 = np.clip(rand_dc3,a_min=0,a_max=1)\n",
    "\n",
    "variation_interleaver = interleaver_2_stage_calc(\n",
    "    L = 350*um,\n",
    "    dL1 = dL_400Ghz_FSR,\n",
    "    dL2 = 2*dL_400Ghz_FSR,\n",
    "    dc1 = rand_dc1,\n",
    "    dc2 = rand_dc2,\n",
    "    dc3 = rand_dc3,\n",
    "    effective_index = gf45clo_sin_neff_ng_variability['neff_freq0'].values[np.random.permutation(2000)[0]],\n",
    "    group_index = gf45clo_sin_neff_ng_variability['ng_freq0'].values[np.random.permutation(2000)[0]]\n",
    ")\n",
    "variation_interleaver.channel_spacing = FSR_wavelength/8\n",
    "\n",
    "variation_interleaver.phase_shift_1_top = interleaver_400Ghz_result.x[3]\n",
    "\n",
    "new_dev_params = [\n",
    "    rand_dc1,\n",
    "    rand_dc2,\n",
    "    rand_dc3,\n",
    "    interleaver_400Ghz_result.x[3],\n",
    "    interleaver_400Ghz_result.x[4],\n",
    "]\n",
    "\n",
    "wav,bar_port_first_amp,cross_port_amp = variation_interleaver.calculate_spectrum(*new_dev_params)"
   ]
  },
  {
   "cell_type": "code",
   "execution_count": null,
   "id": "bf7d645c-4dee-4deb-8ebc-82e754d3365e",
   "metadata": {
    "tags": []
   },
   "outputs": [],
   "source": [
    "Channel_offset_list = [0e9, 10e9, 20e9, 30e9, 40e9, 50e9, 60e9, 70e9, 80e9]\n",
    "\n",
    "bandwidth = 1.0\n",
    "port_amp_dB = 10*np.log10(bar_port_first_amp)\n",
    "peaks, _ = find_peaks(bar_port_first_amp, height=0.5, distance = 200)\n",
    "center_index = np.argmin(np.abs(wav[peaks]-center_wavelength))\n",
    "\n",
    "fsr = np.diff(peaks)\n",
    "\n",
    "i = 0\n",
    "center_index_min = np.argwhere(wav == wav[peaks][center_index+i]).flatten()[0] - int(fsr[center_index-1+i]/2)\n",
    "center_index_max = np.argwhere(wav == wav[peaks][center_index+i]).flatten()[0] + int(fsr[center_index+i]/2)\n",
    "\n",
    "port_amp_dB_local_normalized = port_amp_dB[center_index_min:center_index_max] - np.max(port_amp_dB[center_index_min:center_index_max])\n",
    "wav_local = wav[center_index_min:center_index_max]\n",
    "\n",
    "higher_freq = c/wav_local[int(len(port_amp_dB_local_normalized)/2)+np.argmin(np.abs(port_amp_dB_local_normalized[int(len(port_amp_dB_local_normalized)/2):len(port_amp_dB_local_normalized)] + bandwidth))]\n",
    "lower_freq = c/wav_local[np.argmin(np.abs(port_amp_dB_local_normalized[0:int(len(port_amp_dB_local_normalized)/2)]+ bandwidth))]\n",
    "\n",
    "## calculating the RF signal spectrum        \n",
    "plt.figure()\n",
    "plt.plot((c/wav-(lower_freq/2 + higher_freq/2))/1e9, port_amp_dB, label=f\"Interleaver BW={np.abs(lower_freq-higher_freq)/1e9:0.1f}Ghz\", color='k')\n",
    "if i == 0:\n",
    "    for offset in Channel_offset_list:\n",
    "        diff_freq = c/wav - (lower_freq/2 + higher_freq/2) + offset\n",
    "        Tb = 1/(56e9)\n",
    "        rf_data_before_interleaver = np.array(\n",
    "            [0.5 * Tb * (np.sin(np.pi*f*Tb)/(np.pi*f*Tb))**2 for f in diff_freq])\n",
    "        rf_data_before_interleaver /= np.max(rf_data_before_interleaver)\n",
    "\n",
    "        rf_data_after_interleaver = rf_data_before_interleaver * bar_port_first_amp\n",
    "        \n",
    "\n",
    "        IL_linear = np.sum(rf_data_after_interleaver) / np.sum(rf_data_before_interleaver)\n",
    "        IL_dB = 10*np.log10(IL_linear)\n",
    "        plt.plot((c/wav-(lower_freq/2 + higher_freq/2))/1e9, 10*np.log10(rf_data_before_interleaver), label=f'Offset={offset/1e9:0.0f}Ghz, IL={IL_dB:0.2f}dB')\n",
    "plt.legend(fontsize=\"10\")\n",
    "plt.xlabel(\"Relative Freq (Ghz)\")\n",
    "plt.ylabel(\"Transmission (dB)\")\n",
    "plt.xlim([-250, 250])\n",
    "plt.ylim([-20, 0 ])"
   ]
  },
  {
   "cell_type": "code",
   "execution_count": null,
   "id": "c689e433-a6d5-4c19-9097-5e516cc68c57",
   "metadata": {
    "tags": []
   },
   "outputs": [],
   "source": [
    "interleaver_2stages_data = pd.read_csv('interleaver_2_stages.csv')\n",
    "Channel_offset_list = [0e9, 10e9, 20e9, 30e9, 40e9, 50e9, 60e9, 70e9, 80e9]\n",
    "for offset in Channel_offset_list:\n",
    "    print(f\"Ch Offset = {offset/1e9:0.0f}Ghz, Median = \", np.median(interleaver_2stages_data[f\"insertion_loss_ch_offset_{offset/1e9:0.0f}_Ghz\"].values), 'dB,1-sigma=', np.std(interleaver_2stages_data[f\"insertion_loss_ch_offset_{offset/1e9:0.0f}_Ghz\"].values),'dB, max-loss=', np.min(interleaver_3stages_data[f\"insertion_loss_ch_offset_{offset/1e9:0.0f}_Ghz\"].values),'dB')"
   ]
  },
  {
   "cell_type": "code",
   "execution_count": null,
   "id": "986da649-4511-4671-9437-5958bac984c1",
   "metadata": {},
   "outputs": [],
   "source": [
    "fsr_offset = np.array(interleaver_2stages_data['bar_port_center_wavelength_offset_ch1_Ghz'].values) - np.array(interleaver_2stages_data['bar_port_center_wavelength_offset_ch8_Ghz'].values)\n",
    "print(\"FSR offset for Bar port: min=\",np.min(fsr_offset), \"GHz, max \",np.max(fsr_offset), \"Ghz, median \", np.median(fsr_offset), \"Ghz, 3-sigma \", 3*np.std(fsr_offset),\"Ghz\")"
   ]
  },
  {
   "cell_type": "markdown",
   "id": "0e1cbb65-00db-4870-b851-c20cb9be2bc8",
   "metadata": {
    "tags": []
   },
   "source": [
    "# Interleaver 3 stages"
   ]
  },
  {
   "cell_type": "code",
   "execution_count": null,
   "id": "2631da9b-569c-420d-b055-4ad58cb782b4",
   "metadata": {
    "tags": []
   },
   "outputs": [],
   "source": [
    "# Create compound effect of the three filter stages on top of each other\n",
    "print(\"dL for 400Ghz FSR: \", dL_400Ghz_FSR)\n",
    "\n",
    "um = 1e-6\n",
    "\n",
    " #    DCSplit0    DCSplit1    DCSplit2    phi1        phi2      phi3       Cost    Loss\n",
    "# 730    0.500906    0.787646    0.821710   -0.425807   0.680199  2.290458   1081.520974, -0.3153106049818951\n",
    "\n",
    "interleaver_400Ghz_FSR = interleaver_3_stage_calc(\n",
    "    L = 350*um,\n",
    "    dL1 = dL_400Ghz_FSR,\n",
    "    dL2 = 2*dL_400Ghz_FSR,\n",
    "    dL3 = 2*dL_400Ghz_FSR,\n",
    "    dc0 = 0.5,\n",
    "    dc1 = 0.787,\n",
    "    dc2 = 0.822,\n",
    ")\n",
    "interleaver_400Ghz_FSR.channel_spacing = FSR_wavelength/8\n",
    "# interleaver_400Ghz_FSR.phase_shift_1_top = 0.890575\n",
    "# interleaver_400Ghz_FSR.phase_shift_2_top = 0.919287\n",
    "# interleaver_400Ghz_FSR.phase_shift_3_top = -0.248552\n",
    "\n",
    "interleaver_400Ghz_result = interleaver_400Ghz_FSR.minimize_cost_function(random_dc=False,random_phase=True,printy=True)\n",
    "\n",
    "wav,bar_port_amp,cross_port_amp = interleaver_400Ghz_FSR.calculate_spectrum(*interleaver_400Ghz_result.x)\n",
    "\n",
    "print(\"First stage insertion loss (dB): \", np.max(10*np.log10(bar_port_amp)))"
   ]
  },
  {
   "cell_type": "code",
   "execution_count": null,
   "id": "d3c7342c-c9cc-466d-adb3-d065f6ed5391",
   "metadata": {},
   "outputs": [],
   "source": [
    "rand_variable_dc0 = np.random.normal(0,random_variable_sigma) \n",
    "rand_variable_dc1 = np.random.normal(0,random_variable_sigma) \n",
    "rand_variable_dc2 = np.random.normal(0,random_variable_sigma) \n",
    "\n",
    "rand_dc0 = (1+rand_variable_dc0)*0.495000\n",
    "rand_dc1 = (1+rand_variable_dc1)*0.792000\n",
    "rand_dc2 = (1+rand_variable_dc2)*0.826348\n",
    "\n",
    "#Clamp values between 0 and 1\n",
    "rand_dc0 = np.clip(rand_dc0,a_min=0,a_max=1)\n",
    "rand_dc1 = np.clip(rand_dc1,a_min=0,a_max=1)\n",
    "rand_dc2 = np.clip(rand_dc2,a_min=0,a_max=1)\n",
    "\n",
    "variation_interleaver = interleaver_3_stage_calc(\n",
    "    L = 350*um,\n",
    "    dL1 = dL_400Ghz_FSR,\n",
    "    dL2 = 2*dL_400Ghz_FSR,\n",
    "    dL3 = 2*dL_400Ghz_FSR,\n",
    "    dc0 = 0.5,\n",
    "    dc1 = 0.85,\n",
    "    dc2 = 0.945,\n",
    "    effective_index = gf45clo_sin_neff_ng_variability['neff_freq0'].values[np.random.permutation(2000)[0]],\n",
    "    group_index = gf45clo_sin_neff_ng_variability['ng_freq0'].values[np.random.permutation(2000)[0]]\n",
    ")\n",
    "variation_interleaver.dc0._splitratio = rand_dc0\n",
    "variation_interleaver.dc1._splitratio = rand_dc1\n",
    "variation_interleaver.dc2._splitratio = rand_dc1\n",
    "variation_interleaver.dc3._splitratio = rand_dc2\n",
    "variation_interleaver.channel_spacing = FSR_wavelength/8\n",
    "\n",
    "variation_interleaver.phase_shift_1_top = interleaver_400Ghz_FSR.phase_shift_1_top\n",
    "variation_interleaver.phase_shift_2_top = interleaver_400Ghz_FSR.phase_shift_2_top\n",
    "variation_interleaver.phase_shift_3_top = interleaver_400Ghz_FSR.phase_shift_3_top\n",
    "\n",
    "new_dev_params = [\n",
    "    rand_dc0,\n",
    "    rand_dc1,\n",
    "    rand_dc2,\n",
    "    interleaver_400Ghz_FSR.phase_shift_1_top,\n",
    "    interleaver_400Ghz_FSR.phase_shift_2_top,\n",
    "    interleaver_400Ghz_FSR.phase_shift_3_top,\n",
    "]\n",
    "\n",
    "wav,bar_port_first_amp,cross_port_amp = variation_interleaver.calculate_spectrum(*new_dev_params)"
   ]
  },
  {
   "cell_type": "code",
   "execution_count": null,
   "id": "d2a5187f-8372-49cb-8130-ac1bbe9dd869",
   "metadata": {},
   "outputs": [],
   "source": [
    "Channel_offset_list = [0e9, 10e9, 20e9, 30e9, 40e9, 50e9, 60e9, 70e9, 80e9]\n",
    "\n",
    "bandwidth = 1.0\n",
    "port_amp_dB = 10*np.log10(bar_port_first_amp)\n",
    "peaks, _ = find_peaks(bar_port_first_amp, height=0.5, distance = 200)\n",
    "center_index = np.argmin(np.abs(wav[peaks]-center_wavelength))\n",
    "\n",
    "fsr = np.diff(peaks)\n",
    "\n",
    "i = 0\n",
    "center_index_min = np.argwhere(wav == wav[peaks][center_index+i]).flatten()[0] - int(fsr[center_index-1+i]/2)\n",
    "center_index_max = np.argwhere(wav == wav[peaks][center_index+i]).flatten()[0] + int(fsr[center_index+i]/2)\n",
    "\n",
    "port_amp_dB_local_normalized = port_amp_dB[center_index_min:center_index_max] - np.max(port_amp_dB[center_index_min:center_index_max])\n",
    "wav_local = wav[center_index_min:center_index_max]\n",
    "\n",
    "higher_freq = c/wav_local[int(len(port_amp_dB_local_normalized)/2)+np.argmin(np.abs(port_amp_dB_local_normalized[int(len(port_amp_dB_local_normalized)/2):len(port_amp_dB_local_normalized)] + bandwidth))]\n",
    "lower_freq = c/wav_local[np.argmin(np.abs(port_amp_dB_local_normalized[0:int(len(port_amp_dB_local_normalized)/2)]+ bandwidth))]\n",
    "\n",
    "## calculating the RF signal spectrum        \n",
    "plt.figure()\n",
    "plt.plot((c/wav-(lower_freq/2 + higher_freq/2))/1e9, port_amp_dB, label=f\"Interleaver BW={np.abs(lower_freq-higher_freq)/1e9:0.1f}Ghz\", color='k')\n",
    "if i == 0:\n",
    "    for offset in Channel_offset_list:\n",
    "        diff_freq = c/wav - (lower_freq/2 + higher_freq/2) + offset\n",
    "        Tb = 1/(56e9)\n",
    "        rf_data_before_interleaver = np.array(\n",
    "            [0.5 * Tb * (np.sin(np.pi*f*Tb)/(np.pi*f*Tb))**2 for f in diff_freq])\n",
    "        rf_data_before_interleaver /= np.max(rf_data_before_interleaver)\n",
    "\n",
    "        rf_data_after_interleaver = rf_data_before_interleaver * bar_port_first_amp\n",
    "        \n",
    "\n",
    "        IL_linear = np.sum(rf_data_after_interleaver) / np.sum(rf_data_before_interleaver)\n",
    "        IL_dB = 10*np.log10(IL_linear)\n",
    "        plt.plot((c/wav-(lower_freq/2 + higher_freq/2))/1e9, 10*np.log10(rf_data_before_interleaver), label=f'Offset={offset/1e9:0.0f}Ghz, IL={IL_dB:0.2f}dB')\n",
    "plt.legend(fontsize=\"10\")\n",
    "plt.xlabel(\"Relative Freq (Ghz)\")\n",
    "plt.ylabel(\"Transmission (dB)\")\n",
    "plt.xlim([-250, 250])\n",
    "plt.ylim([-20, 0 ])"
   ]
  },
  {
   "cell_type": "code",
   "execution_count": null,
   "id": "bc283674-ff7a-4d3a-8b07-019e5fb1c77b",
   "metadata": {
    "tags": []
   },
   "outputs": [],
   "source": [
    "interleaver_3stages_data = pd.read_csv('interleaver_3_stages.csv')\n",
    "Channel_offset_list = [0e9, 10e9, 20e9, 30e9, 40e9, 50e9, 60e9, 70e9, 80e9]\n",
    "for offset in Channel_offset_list:\n",
    "    print(f\"Ch Offset = {offset/1e9:0.0f}Ghz, Median = \", np.median(interleaver_3stages_data[f\"insertion_loss_ch_offset_{offset/1e9:0.0f}_Ghz\"].values), 'dB,1-sigma=', np.std(interleaver_3stages_data[f\"insertion_loss_ch_offset_{offset/1e9:0.0f}_Ghz\"].values),'dB, max-loss=', np.min(interleaver_3stages_data[f\"insertion_loss_ch_offset_{offset/1e9:0.0f}_Ghz\"].values),'dB')"
   ]
  },
  {
   "cell_type": "code",
   "execution_count": null,
   "id": "8a0091bb-b6bb-4cf1-a0f4-261b62906950",
   "metadata": {
    "tags": []
   },
   "outputs": [],
   "source": [
    "fsr_offset = np.array(interleaver_3stages_data['bar_port_center_wavelength_offset_ch1_Ghz'].values) - np.array(interleaver_3stages_data['bar_port_center_wavelength_offset_ch8_Ghz'].values)\n",
    "print(\"FSR offset for Bar port: min=\",np.min(fsr_offset), \"GHz, max \",np.max(fsr_offset), \"Ghz, median \", np.median(fsr_offset), \"Ghz, 3-sigma \", 3*np.std(fsr_offset),\"Ghz\")"
   ]
  },
  {
   "cell_type": "markdown",
   "id": "b8655ae2-a096-484f-ab29-c47231288630",
   "metadata": {},
   "source": [
    "## Plotting Ng, Neff data"
   ]
  },
  {
   "cell_type": "code",
   "execution_count": 1,
   "id": "91550c7f-62bc-4421-804d-17e750fab769",
   "metadata": {
    "tags": []
   },
   "outputs": [],
   "source": [
    "import pandas as pd\n",
    "import matplotlib.pyplot as plt\n",
    "import numpy as np\n",
    "multi_mode_2um = pd.read_csv(\"gf45clo_sin_neff_ng_variability_v4.csv\")"
   ]
  },
  {
   "cell_type": "code",
   "execution_count": 2,
   "id": "dbb704c2-9d7d-4c5e-a35c-07bca0603b72",
   "metadata": {
    "tags": []
   },
   "outputs": [
    {
     "data": {
      "text/plain": [
       "(array([ 14.,   8.,  30.,  72., 209., 249., 153.,  62.,  20.,   4.]),\n",
       " array([1.9034714 , 1.91124228, 1.91901316, 1.92678404, 1.93455492,\n",
       "        1.9423258 , 1.95009668, 1.95786756, 1.96563844, 1.97340932,\n",
       "        1.9811802 ]),\n",
       " <BarContainer object of 10 artists>)"
      ]
     },
     "execution_count": 2,
     "metadata": {},
     "output_type": "execute_result"
    },
    {
     "data": {
      "image/png": "[encoded data removed]",
      "text/plain": [
       "<Figure size 640x480 with 1 Axes>"
      ]
     },
     "metadata": {},
     "output_type": "display_data"
    }
   ],
   "source": [
    "plt.hist(multi_mode_2um['ng_freq0'])"
   ]
  },
  {
   "cell_type": "code",
   "execution_count": 3,
   "id": "f3046735-6d25-42ab-affe-f498ed850f33",
   "metadata": {
    "tags": []
   },
   "outputs": [
    {
     "data": {
      "text/plain": [
       "0.01152821258648021"
      ]
     },
     "execution_count": 3,
     "metadata": {},
     "output_type": "execute_result"
    }
   ],
   "source": [
    "np.std(multi_mode_2um['ng_freq0'])"
   ]
  },
  {
   "cell_type": "code",
   "execution_count": 4,
   "id": "947d9169-ecaa-42e7-adc4-d39af84afdba",
   "metadata": {
    "tags": []
   },
   "outputs": [
    {
     "data": {
      "text/plain": [
       "0.010893125463506478"
      ]
     },
     "execution_count": 4,
     "metadata": {},
     "output_type": "execute_result"
    }
   ],
   "source": [
    "np.std(multi_mode_2um['neff_freq0'])"
   ]
  },
  {
   "cell_type": "code",
   "execution_count": 5,
   "id": "26f5eaaa-786e-47c9-b054-0453bbfe8bb1",
   "metadata": {
    "tags": []
   },
   "outputs": [
    {
     "data": {
      "text/plain": [
       "1.9456995"
      ]
     },
     "execution_count": 5,
     "metadata": {},
     "output_type": "execute_result"
    }
   ],
   "source": [
    "np.median(multi_mode_2um['ng_freq0'])"
   ]
  },
  {
   "cell_type": "code",
   "execution_count": 6,
   "id": "d645fcec-efd0-4664-96fc-0fbb1742a4fa",
   "metadata": {
    "tags": []
   },
   "outputs": [
    {
     "data": {
      "text/plain": [
       "1.6724"
      ]
     },
     "execution_count": 6,
     "metadata": {},
     "output_type": "execute_result"
    }
   ],
   "source": [
    "np.median(multi_mode_2um['neff_freq0'])"
   ]
  },
  {
   "cell_type": "code",
   "execution_count": null,
   "id": "30800cc8-3ebf-419f-a9d7-c55e36d3099e",
   "metadata": {},
   "outputs": [],
   "source": []
  }
 ],
 "metadata": {
  "kernelspec": {
   "display_name": "Python 3 (ipykernel)",
   "language": "python",
   "name": "python3"
  },
  "language_info": {
   "codemirror_mode": {
    "name": "ipython",
    "version": 3
   },
   "file_extension": ".py",
   "mimetype": "text/x-python",
   "name": "python",
   "nbconvert_exporter": "python",
   "pygments_lexer": "ipython3",
   "version": "3.11.5"
  }
 },
 "nbformat": 4,
 "nbformat_minor": 5
}
