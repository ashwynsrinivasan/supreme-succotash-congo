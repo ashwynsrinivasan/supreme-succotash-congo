import numpy as np
import matplotlib.pyplot as plt


n1_wg = 1.6
n2_air = 1

emission_angle = 2.5


theta_deg = np.linspace(0,10, num=101)
theta_rad = theta_deg/180 * np.pi


phi_rad = np.arcsin(n1_wg * np.sin(theta_rad) / n2_air)
phi_deg = phi_rad / np.pi * 180


plt.plot(theta_deg, phi_deg - theta_deg - emission_angle)



