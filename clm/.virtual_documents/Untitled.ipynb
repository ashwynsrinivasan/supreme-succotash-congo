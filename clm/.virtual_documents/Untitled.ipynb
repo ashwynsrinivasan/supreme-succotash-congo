import numpy as np
import matplotlib.pyplot as plt


n1_wg = 1.6
n2_air = 0


theta_deg = np.linspace(0,20, num=101)
theta_rad = theta_deg/180 * np.pi


phi_rad = np.arcsin(n1_wg * np.sin(theta_rad))
phi_deg = phi_rad / np.pi * 180


plt.plot(theta_rad, phi_deg)



