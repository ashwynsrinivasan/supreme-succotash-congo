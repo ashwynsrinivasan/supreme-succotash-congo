{
 "cells": [
  {
   "cell_type": "code",
   "execution_count": 20,
   "id": "511f9b8d-8557-44ff-9006-3e04ccd68a78",
   "metadata": {
    "tags": []
   },
   "outputs": [],
   "source": [
    "import numpy as np\n",
    "import matplotlib.pyplot as plt\n",
    "from scipy.constants import c"
   ]
  },
  {
   "cell_type": "code",
   "execution_count": 9,
   "id": "ac23beec-da52-45a9-ae16-9a55e382d59a",
   "metadata": {
    "tags": []
   },
   "outputs": [],
   "source": [
    "sigma_wavelength = 5/3 # 5nm / 3"
   ]
  },
  {
   "cell_type": "code",
   "execution_count": 14,
   "id": "1b00fbe1-5aad-4252-8b6c-e68eeb987bd2",
   "metadata": {
    "tags": []
   },
   "outputs": [
    {
     "data": {
      "text/plain": [
       "(array([1., 0., 0., ..., 0., 0., 1.]),\n",
       " array([-6.52558854, -6.51278751, -6.49998649, ...,  6.26263483,\n",
       "         6.27543585,  6.28823688]),\n",
       " <BarContainer object of 1001 artists>)"
      ]
     },
     "execution_count": 14,
     "metadata": {},
     "output_type": "execute_result"
    },
    {
     "data": {
      "image/png": "[encoded data removed]",
      "text/plain": [
       "<Figure size 640x480 with 1 Axes>"
      ]
     },
     "metadata": {},
     "output_type": "display_data"
    }
   ],
   "source": [
    "offset = np.random.normal(loc = 0.0 , scale = sigma_wavelength, size=10001)\n",
    "plt.hist(offset, bins=1001)"
   ]
  },
  {
   "cell_type": "code",
   "execution_count": 16,
   "id": "39049065-c7e0-468f-b7a1-bffb44d28b1a",
   "metadata": {
    "tags": []
   },
   "outputs": [
    {
     "data": {
      "text/plain": [
       "array([ 0.6902337 , -2.16783801, -1.22380094, ..., -0.01795492,\n",
       "        1.46134529, -1.71742425])"
      ]
     },
     "execution_count": 16,
     "metadata": {},
     "output_type": "execute_result"
    }
   ],
   "source": [
    "offset"
   ]
  },
  {
   "cell_type": "code",
   "execution_count": 17,
   "id": "2163bc4c-0578-4e0c-90a0-c28e74c3bcb4",
   "metadata": {
    "tags": []
   },
   "outputs": [
    {
     "data": {
      "text/plain": [
       "10001"
      ]
     },
     "execution_count": 17,
     "metadata": {},
     "output_type": "execute_result"
    }
   ],
   "source": [
    "len(offset)"
   ]
  },
  {
   "cell_type": "code",
   "execution_count": 21,
   "id": "c66fcff6-1edf-4e36-a080-c90b6d63f46f",
   "metadata": {
    "tags": []
   },
   "outputs": [],
   "source": [
    "center_wavelength = 1310 \n",
    "\n",
    "frequency = c/center_wavelength/1e-9\n",
    "\n",
    "fsr = 400e9"
   ]
  },
  {
   "cell_type": "code",
   "execution_count": 22,
   "id": "6c128d6e-b5de-4a10-bd30-c2c71c8cfc3f",
   "metadata": {
    "tags": []
   },
   "outputs": [
    {
     "data": {
      "text/plain": [
       "228849204580152.66"
      ]
     },
     "execution_count": 22,
     "metadata": {},
     "output_type": "execute_result"
    }
   ],
   "source": [
    "frequency"
   ]
  },
  {
   "cell_type": "code",
   "execution_count": 23,
   "id": "cfd037bb-abd9-4c5c-a96d-0ba9c1070e01",
   "metadata": {
    "tags": []
   },
   "outputs": [
    {
     "data": {
      "text/plain": [
       "200000000000.0"
      ]
     },
     "execution_count": 23,
     "metadata": {},
     "output_type": "execute_result"
    }
   ],
   "source": [
    "fsr"
   ]
  },
  {
   "cell_type": "code",
   "execution_count": 29,
   "id": "b980c13c-3cec-4664-b3b3-c887b214dd67",
   "metadata": {
    "tags": []
   },
   "outputs": [],
   "source": [
    "wavelength_A = []\n",
    "wavelength_B = []\n",
    "for i in np.linspace(-3,4,8):\n",
    "    wavelength_A.append([c/(frequency - i*fsr)])\n",
    "    wavelength_B.append([c/(frequency - (i+0.5)*fsr)])"
   ]
  },
  {
   "cell_type": "code",
   "execution_count": 30,
   "id": "41f4b6c4-a7ca-4dfa-b903-d2715ceaca04",
   "metadata": {
    "tags": []
   },
   "outputs": [
    {
     "data": {
      "text/plain": [
       "[[1.3065744052090388e-06],\n",
       " [1.307714277783604e-06],\n",
       " [1.3088561409742495e-06],\n",
       " [1.3100000000000002e-06],\n",
       " [1.3111458600981408e-06],\n",
       " [1.312293726524297e-06],\n",
       " [1.3134436045525145e-06],\n",
       " [1.314595499475341e-06]]"
      ]
     },
     "execution_count": 30,
     "metadata": {},
     "output_type": "execute_result"
    }
   ],
   "source": [
    "wavelength_A"
   ]
  },
  {
   "cell_type": "code",
   "execution_count": null,
   "id": "0b4f7b13-86f3-4f47-97c9-4e4b1832e908",
   "metadata": {},
   "outputs": [],
   "source": []
  }
 ],
 "metadata": {
  "kernelspec": {
   "display_name": "Python 3 (ipykernel)",
   "language": "python",
   "name": "python3"
  },
  "language_info": {
   "codemirror_mode": {
    "name": "ipython",
    "version": 3
   },
   "file_extension": ".py",
   "mimetype": "text/x-python",
   "name": "python",
   "nbconvert_exporter": "python",
   "pygments_lexer": "ipython3",
   "version": "3.11.5"
  }
 },
 "nbformat": 4,
 "nbformat_minor": 5
}
