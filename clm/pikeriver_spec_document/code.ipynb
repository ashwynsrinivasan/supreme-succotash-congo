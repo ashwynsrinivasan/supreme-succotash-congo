{
 "cells": [
  {
   "cell_type": "code",
   "execution_count": 1,
   "metadata": {},
   "outputs": [
    {
     "name": "stdout",
     "output_type": "stream",
     "text": [
      "| Symbol   | Description                  | Size/#                   | Bare Die Version VDDIO1/VSSIO1   | Bare Die Version VDDIO2/VSSIO2   | FCSP Version VDDIO1/VSS   | FCSP Version VDDIO2/VSS   |\n",
      "|:---------|:-----------------------------|:-------------------------|:---------------------------------|:---------------------------------|:--------------------------|:--------------------------|\n",
      "| I2C-M    | I2C Master Instance          | 5                        | 3                                | 2                                | 1                         | 1                         |\n",
      "| I2C-S    | I2C Slave Instance           | 3                        | 3                                | 0                                | 3                         | 0                         |\n",
      "| I3C-M    | I3C Master Instance          | 1                        | 1                                | 0                                | 1                         | 0                         |\n",
      "| I3C-S    | I3C Slave Instance           | 1                        | 1                                | 0                                | 1                         | 0                         |\n",
      "| SPI      | SPI Master or Slave Instance | 1 (4 Slave select lines) | 1                                | 0                                | 1                         | 0                         |\n",
      "<class 'pandas.core.frame.DataFrame'>\n",
      "RangeIndex: 10 entries, 0 to 9\n",
      "Data columns (total 7 columns):\n",
      " #   Column                          Non-Null Count  Dtype \n",
      "---  ------                          --------------  ----- \n",
      " 0   Symbol                          10 non-null     object\n",
      " 1   Description                     10 non-null     object\n",
      " 2   Size/#                          10 non-null     object\n",
      " 3   Bare Die Version VDDIO1/VSSIO1  10 non-null     object\n",
      " 4   Bare Die Version VDDIO2/VSSIO2  10 non-null     object\n",
      " 5   FCSP Version VDDIO1/VSS         10 non-null     object\n",
      " 6   FCSP Version VDDIO2/VSS         10 non-null     object\n",
      "dtypes: object(7)\n",
      "memory usage: 692.0+ bytes\n",
      "None\n"
     ]
    }
   ],
   "source": [
    "import pandas as pd\n",
    "\n",
    "# Load the table into a dictionary\n",
    "data = {\n",
    "    'Symbol': ['I2C-M', 'I2C-S', 'I3C-M', 'I3C-S', 'SPI', 'UART', 'MDIO', 'GPIO', 'UC', 'FLASH'],\n",
    "    'Description': ['I2C Master Instance', 'I2C Slave Instance', 'I3C Master Instance', 'I3C Slave Instance', 'SPI Master or Slave Instance', 'UART Instance', 'MDIO Master', 'General Purpose I/O', 'Micro-controller', 'Embedded flash'],\n",
    "    'Size/#': ['5', '3', '1', '1', '1 (4 Slave select lines)', '1', '1', '32', '1', '4 MB'],\n",
    "    'Bare Die Version VDDIO1/VSSIO1': ['3', '3', '1', '1', '1', '1', '1', '24', '1', '4MB'],\n",
    "    'Bare Die Version VDDIO2/VSSIO2': ['2', '0', '0', '0', '0', '0', '0', '8', '1', '4MB'],\n",
    "    'FCSP Version VDDIO1/VSS': ['1', '3', '1', '1', '1', '1', '1', '17', '1', '4MB'],\n",
    "    'FCSP Version VDDIO2/VSS': ['1', '0', '0', '0', '0', '0', '0', '6', '1', '4MB']\n",
    "}\n",
    "\n",
    "# Convert the dictionary into a dataframe\n",
    "df = pd.DataFrame(data)\n",
    "\n",
    "# Display the first 5 rows\n",
    "print(df.head().to_markdown(index=False, numalign=\"left\", stralign=\"left\"))\n",
    "\n",
    "# Print the column names and their data types\n",
    "print(df.info())\n",
    "\n",
    "# Convert the dataframe to an Excel file\n",
    "df.to_excel('digital_peripheral_summary.xlsx', index=False)"
   ]
  },
  {
   "cell_type": "code",
   "execution_count": 2,
   "metadata": {},
   "outputs": [
    {
     "name": "stdout",
     "output_type": "stream",
     "text": [
      "| Symbol   | Description                 | #/Tile   | Total available for   | Total available for   |\n",
      "|          |                             |          | bare die              | FCCSP package         |\n",
      "|:---------|:----------------------------|:---------|:----------------------|:----------------------|\n",
      "| DAC_SET1 | 10-Bit DAC, 200mA current   | 4        | 32                    | 8                     |\n",
      "|          | sink                        |          |                       |                       |\n",
      "| DAC_SET2 | 13-Bit DAC, 65mA current    | 2        | 16                    | 8                     |\n",
      "| DAC_SET3 | 10-Bit DAC, 35mA current    | 4        | 32                    | 16                    |\n",
      "|          | source                      |          |                       |                       |\n",
      "| PD_AMP   | PD output sense amplifier   | 6        | 48                    | 16                    |\n",
      "| ADC      | ADC for Voltage Sense (10   | -        | 1                     | 1                     |\n",
      "|          | external differential input |          |                       |                       |\n",
      "|          | channels)                   |          |                       |                       |\n",
      "<class 'pandas.core.frame.DataFrame'>\n",
      "RangeIndex: 10 entries, 0 to 9\n",
      "Data columns (total 5 columns):\n",
      " #   Column                             Non-Null Count  Dtype \n",
      "---  ------                             --------------  ----- \n",
      " 0   Symbol                             10 non-null     object\n",
      " 1   Description                        10 non-null     object\n",
      " 2   #/Tile                             10 non-null     object\n",
      " 3   Total available for\n",
      "bare die       10 non-null     int64 \n",
      " 4   Total available for\n",
      "FCCSP package  10 non-null     int64 \n",
      "dtypes: int64(2), object(3)\n",
      "memory usage: 532.0+ bytes\n",
      "None\n",
      "/Users/sashwyn06/gitsrc/friendly-system-lmi/pcm/congo/clm/pikeriver_spec_document/analog_peripheral_summary.xlsx\n"
     ]
    }
   ],
   "source": [
    "import pandas as pd\n",
    "\n",
    "# Load the table data into a dictionary\n",
    "data = {\n",
    "    'Symbol': ['DAC_SET1', 'DAC_SET2', 'DAC_SET3', 'PD_AMP', 'ADC', 'TEMP_SENSE', 'CLOCK', 'POR_& BOD', 'LDOIP11', 'LDOIP18'],\n",
    "    'Description': ['10-Bit DAC, 200mA current\\nsink', '13-Bit DAC, 65mA current', '10-Bit DAC, 35mA current\\nsource', 'PD output sense amplifier', 'ADC for Voltage Sense (10\\nexternal differential input\\nchannels)', 'External Temp Diode\\nSupport', 'Internal clock generator', 'Power-ON-Reset and\\nBrown-Out-Detect', '1.1V linear regulators (for\\ninternal usage)', '1.8V linear regulators (for\\nexternal usage)'],\n",
    "    '#/Tile': [4, 2, 4, 6, '-', '-', '-', '-', '-', '-'],\n",
    "    'Total available for\\nbare die': [32, 16, 32, 48, 1, 4, 1, 1, 1, 1],\n",
    "    'Total available for\\nFCCSP package': [8, 8, 16, 16, 1, 4, 1, 1, 1, 1]\n",
    "}\n",
    "\n",
    "# Convert the dictionary into a dataframe\n",
    "df = pd.DataFrame(data)\n",
    "\n",
    "# Display the first 5 rows\n",
    "print(df.head().to_markdown(index=False, numalign=\"left\", stralign=\"left\"))\n",
    "\n",
    "# Print the column names and their data types\n",
    "print(df.info())\n",
    "\n",
    "# Save the dataframe to an Excel file\n",
    "df.to_excel('analog_peripheral_summary.xlsx', index=False)\n",
    "\n",
    "# Print the path of the downloaded file\n",
    "import os\n",
    "print(os.path.abspath('analog_peripheral_summary.xlsx'))"
   ]
  },
  {
   "cell_type": "code",
   "execution_count": 3,
   "metadata": {},
   "outputs": [
    {
     "name": "stdout",
     "output_type": "stream",
     "text": [
      "| Symbol                    | Parameter                   | Min   | Typ        | Max   | Units   | Notes          |\n",
      "|:--------------------------|:----------------------------|:------|:-----------|:------|:--------|:---------------|\n",
      "| VDDA_2P5,                 | 2.5V Supply Voltage         | 2.42  | 2.5        | 2.58  | V       | At IC bump, if |\n",
      "| VDD_2P5,                  |                             |       |            |       |         | supplied       |\n",
      "| VDDA_2P5_ADC,             |                             |       |            |       |         | externally     |\n",
      "| VDDA_2P5_LDO              |                             |       |            |       |         |                |\n",
      "| VDDIO1,                   | Digital I/O Supply Voltage  | -7%   | 3.3 or 2.5 | +5%   | V       | At IC bump, if |\n",
      "| VDDIO2                    |                             |       |            |       |         | supplied       |\n",
      "|                           |                             |       |            |       |         | externally     |\n",
      "| VDD_OP9                   | Digital Core Supply Voltage | 0.99  | 1.1        | 1.21  | V       | At IC bump, if |\n",
      "|                           |                             |       |            |       |         | supplied       |\n",
      "|                           |                             |       |            |       |         | externally     |\n",
      "| V(pp)dyn(2p5vol, 1(v)out) | Dynamic Noise on 1.1V,      |       |            | 30    | mVpp    | At IC bump, if |\n",
      "|                           | 2.5V and VDDIO supply       |       |            |       |         | supplied       |\n",
      "|                           |                             |       |            |       |         | externally     |\n",
      "| F(pp)dyn(2p5vol, 33vol)   | Dynamic Noise frequency     | 50    |            | 100   | Hz      | At IC bump, if |\n",
      "|                           | on 1.1V, 2.5V and VDDIO     |       |            |       |         | supplied       |\n",
      "|                           | supply                      |       |            |       |         | externally     |\n",
      "<class 'pandas.core.frame.DataFrame'>\n",
      "RangeIndex: 10 entries, 0 to 9\n",
      "Data columns (total 7 columns):\n",
      " #   Column     Non-Null Count  Dtype \n",
      "---  ------     --------------  ----- \n",
      " 0   Symbol     10 non-null     object\n",
      " 1   Parameter  10 non-null     object\n",
      " 2   Min        8 non-null      object\n",
      " 3   Typ        4 non-null      object\n",
      " 4   Max        6 non-null      object\n",
      " 5   Units      10 non-null     object\n",
      " 6   Notes      10 non-null     object\n",
      "dtypes: object(7)\n",
      "memory usage: 692.0+ bytes\n",
      "None\n",
      "/Users/sashwyn06/gitsrc/friendly-system-lmi/pcm/congo/clm/pikeriver_spec_document/recommended_operating_conditions.xlsx\n"
     ]
    }
   ],
   "source": [
    "import pandas as pd\n",
    "\n",
    "# Load the table data into a dictionary\n",
    "data = {\n",
    "    'Symbol': ['VDDA_2P5,\\nVDD_2P5,\\nVDDA_2P5_ADC,\\nVDDA_2P5_LDO', 'VDDIO1,\\nVDDIO2', 'VDD_OP9', 'V(pp)dyn(2p5vol, 1(v)out)', 'F(pp)dyn(2p5vol, 33vol)', 'VDD33ramp', 'VDD_2P5_ramp', 'VDDop9ramp', 'TA', 'TJ'],\n",
    "    'Parameter': ['2.5V Supply Voltage', 'Digital I/O Supply Voltage', 'Digital Core Supply Voltage', 'Dynamic Noise on 1.1V,\\n2.5V and VDDIO supply', 'Dynamic Noise frequency\\non 1.1V, 2.5V and VDDIO\\nsupply', '3.3V supply ramp-up time', '2.5V supply ramp-up time', '1.1V supply ramp-up time', 'Operating temperature', 'Junction Temperature'],\n",
    "    'Min': [2.42, '-7%', 0.99, None, 50, 1, 1, 1, -40, None],\n",
    "    'Typ': [2.5, '3.3 or 2.5', 1.1, None, None, None, None, None, None, 125],\n",
    "    'Max': [2.58, '+5%', 1.21, 30, 100, None, None, None, 100, None],\n",
    "    'Units': ['V', 'V', 'V', 'mVpp', 'Hz', 'mS', 'mS', 'mS', '°C', '°C'],\n",
    "    'Notes': ['At IC bump', 'At IC bump, if\\nsupplied\\nexternally', 'At IC bump, if\\nsupplied\\nexternally', 'See Note', None, None, None, 'If supplied\\nexternally', None, 'Performance is measured under this condition'][2]\n",
    "}\n",
    "\n",
    "# Convert the dictionary into a dataframe\n",
    "df = pd.DataFrame(data)\n",
    "\n",
    "# Display the first 5 rows\n",
    "print(df.head().to_markdown(index=False, numalign=\"left\", stralign=\"left\"))\n",
    "\n",
    "# Print the column names and their data types\n",
    "print(df.info())\n",
    "\n",
    "# Save the dataframe to an Excel file\n",
    "df.to_excel('recommended_operating_conditions.xlsx', index=False)\n",
    "\n",
    "# Print the path of the downloaded file\n",
    "import os\n",
    "print(os.path.abspath('recommended_operating_conditions.xlsx'))"
   ]
  },
  {
   "cell_type": "code",
   "execution_count": 4,
   "metadata": {},
   "outputs": [
    {
     "name": "stdout",
     "output_type": "stream",
     "text": [
      "| Symbol         | Parameter                   | Min   | Max     | Units   |\n",
      "|:---------------|:----------------------------|:------|:--------|:--------|\n",
      "| VDDA_2P5,      | 2.5V Supply Voltage         | -0.3  | 2.75    | V       |\n",
      "| VDD_2P5,       |                             |       |         |         |\n",
      "| VDDA_2P5_ADC,  |                             |       |         |         |\n",
      "| VDD_2P5_LDO    |                             |       |         |         |\n",
      "| VDDIO1, VDDIO2 | Digital I/O Supply Voltage  | -0.3  | 3.6     | V       |\n",
      "| VDD_0P9(2)     | Digital Core Supply Voltage | -0.3  | 1.21    | V       |\n",
      "| VPP(3)         | Flash power supply          | -0.3  | 5.6     | V       |\n",
      "| VANA           | Analog I/O pins             | -0.3  | VDD*(4) | V       |\n",
      "| VDIG           | Digital I/O pins            | -0.3  | VDD*(4) | V       |\n",
      "| VHBM           | ESD HBM on each pin         | nan   | 2000(5) | V       |\n",
      "| VCDM           | ESD CDM on each pin         | nan   | 200(5)  | V       |\n",
      "| VSTORAGE       | Storage Temperature         | -40   | 125     | °C      |\n"
     ]
    }
   ],
   "source": [
    "import pandas as pd\n",
    "\n",
    "data = {\n",
    "    'Symbol': ['VDDA_2P5,\\nVDD_2P5,\\nVDDA_2P5_ADC,\\nVDD_2P5_LDO', 'VDDIO1, VDDIO2', 'VDD_0P9(2)', 'VPP(3)', 'VANA', 'VDIG', 'VHBM', 'VCDM', 'VSTORAGE'],\n",
    "    'Parameter': ['2.5V Supply Voltage', 'Digital I/O Supply Voltage', 'Digital Core Supply Voltage', 'Flash power supply', 'Analog I/O pins', 'Digital I/O pins', 'ESD HBM on each pin', 'ESD CDM on each pin', 'Storage Temperature'],\n",
    "    'Min': [-0.3, -0.3, -0.3, -0.3, -0.3, -0.3, None, None, -40],\n",
    "    'Max': [2.75, 3.6, 1.21, 5.6, 'VDD*(4)', 'VDD*(4)', '2000(5)', '200(5)', 125],\n",
    "    'Units': ['V', 'V', 'V', 'V', 'V', 'V', 'V', 'V', '°C']\n",
    "}\n",
    "\n",
    "df = pd.DataFrame(data)\n",
    "\n",
    "# Save to Excel\n",
    "df.to_excel(\"absolute_maximum_ratings.xlsx\", index=False)\n",
    "\n",
    "print(df.to_markdown(index=False, numalign=\"left\", stralign=\"left\"))"
   ]
  },
  {
   "cell_type": "code",
   "execution_count": 5,
   "metadata": {},
   "outputs": [
    {
     "name": "stdout",
     "output_type": "stream",
     "text": [
      "| Symbol   | Parameter                             | Min   | Typ   | Max      | Units   | Notes                       |\n",
      "|:---------|:--------------------------------------|:------|:------|:---------|:--------|:----------------------------|\n",
      "| VIH      | Input HIGH level, input, and I/O pins | 2.0   |       | VDDIO1/2 | V       | Guaranteed logic HIGH level |\n",
      "| VIL      | Input LOW level, input, and I/O pins  | VSS   |       | 0.8      | V       | Guaranteed logic LOW level  |\n",
      "| VOH      | Output HIGH voltage                   | 2.4   |       | VDDIO1/2 | V       | VDD_0P9 = minimum,          |\n",
      "|          |                                       |       |       |          |         | VDDIO1/2 = minimum,         |\n",
      "|          |                                       |       |       |          |         | IOH = -2mA, -4mA,           |\n",
      "|          |                                       |       |       |          |         | -8 mA, and -12mA            |\n",
      "| VOL      | Output LOW voltage                    | VSS   |       | 0.4      | V       | VDD_0P9 = minimum,          |\n",
      "|          |                                       |       |       |          |         | VDDIO1/2 = minimum,         |\n",
      "|          |                                       |       |       |          |         | IOL = 2mA, 4mA, 8mA,        |\n",
      "|          |                                       |       |       |          |         | and 12mA                    |\n"
     ]
    }
   ],
   "source": [
    "import pandas as pd\n",
    "\n",
    "data = {\n",
    "    'Symbol': ['VIH', 'VIL', 'VOH', 'VOL'],\n",
    "    'Parameter': ['Input HIGH level, input, and I/O pins', 'Input LOW level, input, and I/O pins', 'Output HIGH voltage', 'Output LOW voltage'],\n",
    "    'Min': [2.0, 'VSS', 2.4, 'VSS'],\n",
    "    'Typ': [None, None, None, None],\n",
    "    'Max': ['VDDIO1/2', 0.8, 'VDDIO1/2', 0.4],\n",
    "    'Units': ['V', 'V', 'V', 'V'],\n",
    "    'Notes': ['Guaranteed logic HIGH level', 'Guaranteed logic LOW level', 'VDD_0P9 = minimum,\\nVDDIO1/2 = minimum,\\nIOH = -2mA, -4mA,\\n-8 mA, and -12mA', 'VDD_0P9 = minimum,\\nVDDIO1/2 = minimum,\\nIOL = 2mA, 4mA, 8mA,\\nand 12mA']\n",
    "}\n",
    "\n",
    "df = pd.DataFrame(data)\n",
    "df.to_excel(\"dc_electrical_characteristics.xlsx\", index=False)\n",
    "\n",
    "print(df.to_markdown(index=False, numalign=\"left\", stralign=\"left\"))"
   ]
  },
  {
   "cell_type": "code",
   "execution_count": 6,
   "metadata": {},
   "outputs": [
    {
     "name": "stdout",
     "output_type": "stream",
     "text": [
      "| Symbol    | Parameter                  | Condition                             | Min   | Typ   | Max   | Units   |\n",
      "|:----------|:---------------------------|:--------------------------------------|:------|:------|:------|:--------|\n",
      "| BIT       | Resolution                 |                                       | nan   |       | 10    | Bits    |\n",
      "| DNL       | Differential Nonlinearity  | Excludes +/-10% of min/max codes      | nan   | ±0.2  | ±0.5  | LSB     |\n",
      "| INL       | Integral Nonlinearity      | Excludes +/-10% of min/max codes      | nan   | ±2    | ±5    | LSB     |\n",
      "| VLD_DR    | Dynamic Range              | DAC code = 0                          | 0.8   | 200   | 166   | mA      |\n",
      "|           |                            | DAC code = 0x3FF, FS trim=0x0         |       |       |       |         |\n",
      "|           |                            | DAC code = 0x3FF, FS trim=0x1         |       |       |       |         |\n",
      "|           |                            | DAC code = 0x3FF, FS trim=0x2         |       |       |       |         |\n",
      "|           |                            | DAC code = 0x3FF, FS trim=0x3         |       |       |       |         |\n",
      "| VDAC      | Voltage across DAC         |                                       | 0.4   |       | 2.5   | V       |\n",
      "| VLD_noise | Noise laser driver current | DAC Programmed to 0xFF (BW = 0~2MHz). | nan   |       | 200   | μArms   |\n",
      "| Tsettling | Output settling time       | 95% of target current                 | 2     |       | 20    | μS      |\n",
      "| I_LD      | Current Consumption        | Excludes output DAC current           | nan   | 650   |       | μA      |\n"
     ]
    }
   ],
   "source": [
    "import pandas as pd\n",
    "\n",
    "data = {\n",
    "    'Symbol': ['BIT', 'DNL', 'INL', 'VLD_DR', 'VDAC', 'VLD_noise', 'Tsettling', 'I_LD'],\n",
    "    'Parameter': ['Resolution', 'Differential Nonlinearity', 'Integral Nonlinearity', 'Dynamic Range', 'Voltage across DAC', 'Noise laser driver current', 'Output settling time', 'Current Consumption'],\n",
    "    'Condition': [None, 'Excludes +/-10% of min/max codes', 'Excludes +/-10% of min/max codes', 'DAC code = 0\\nDAC code = 0x3FF, FS trim=0x0\\nDAC code = 0x3FF, FS trim=0x1\\nDAC code = 0x3FF, FS trim=0x2\\nDAC code = 0x3FF, FS trim=0x3', None, 'DAC Programmed to 0xFF (BW = 0~2MHz).', '95% of target current', 'Excludes output DAC current'],\n",
    "    'Min': [None, None, None, 0.8, 0.4, None, 2, None],\n",
    "    'Typ': [None, '±0.2', '±2', 200, None, None, None, 650],\n",
    "    'Max': [10, '±0.5', '±5', 166, 2.5, 200, 20, None],\n",
    "    'Units': ['Bits', 'LSB', 'LSB', 'mA', 'V', 'μArms', 'μS', 'μA']\n",
    "}\n",
    "\n",
    "df = pd.DataFrame(data)\n",
    "df.to_excel(\"dac_set_1_characteristics.xlsx\", index=False)\n",
    "\n",
    "print(df.to_markdown(index=False, numalign=\"left\", stralign=\"left\"))"
   ]
  },
  {
   "cell_type": "code",
   "execution_count": 7,
   "metadata": {},
   "outputs": [
    {
     "name": "stdout",
     "output_type": "stream",
     "text": [
      "| Symbol    | Parameter                  | Condition                                      | Min   | Typ   | Max   | Units   |\n",
      "|:----------|:---------------------------|:-----------------------------------------------|:------|:------|:------|:--------|\n",
      "| BIT       | Resolution                 |                                                | nan   |       | 13    | Bits    |\n",
      "| DNL       | Differential Nonlinearity  | Excludes +/-10% of min/max codes               | nan   | ±0.2  | ±0.5  | LSB     |\n",
      "| INL       | Integral Nonlinearity      | Excludes +/-10% of min/max codes               | nan   | ±2    | ±5    | LSB     |\n",
      "| VRH_DR    | Dynamic Range              | DAC code = 0                                   | 0.8   | 65    | 54    | mA      |\n",
      "|           |                            | DAC code = 0x1FFF, FS trim=0x0                 |       |       |       |         |\n",
      "|           |                            | DAC code = 0x1FFF, FS trim=0x1                 |       |       |       |         |\n",
      "|           |                            | DAC code = 0x1FFF, FS trim=0x2                 |       |       |       |         |\n",
      "|           |                            | DAC code = 0x1FFF, FS trim=0x3                 |       |       |       |         |\n",
      "| VDAC      | Voltage across DAC         |                                                | 0.4   |       | 2.5   | V       |\n",
      "| Tsettling | Output settling time       | 95% of target current                          | 2     |       | 20    | μS      |\n",
      "| VRH_noise | Noise laser driver current | DAC programmed to 0xFF (BW = 0~2MHz).          | nan   |       | 4     | μArms   |\n",
      "| I_RH      | Current Consumption        | Excludes output DAC current (From 2.5V supply) | nan   |       | 1.5   | mA      |\n"
     ]
    }
   ],
   "source": [
    "import pandas as pd\n",
    "\n",
    "data = {\n",
    "    'Symbol': ['BIT', 'DNL', 'INL', 'VRH_DR', 'VDAC', 'Tsettling', 'VRH_noise', 'I_RH'],\n",
    "    'Parameter': ['Resolution', 'Differential Nonlinearity', 'Integral Nonlinearity', 'Dynamic Range', 'Voltage across DAC', 'Output settling time', 'Noise laser driver current', 'Current Consumption'],\n",
    "    'Condition': [None, 'Excludes +/-10% of min/max codes', 'Excludes +/-10% of min/max codes', 'DAC code = 0\\nDAC code = 0x1FFF, FS trim=0x0\\nDAC code = 0x1FFF, FS trim=0x1\\nDAC code = 0x1FFF, FS trim=0x2\\nDAC code = 0x1FFF, FS trim=0x3', None, '95% of target current', 'DAC programmed to 0xFF (BW = 0~2MHz).', 'Excludes output DAC current (From 2.5V supply)'],\n",
    "    'Min': [None, None, None, 0.8, 0.4, 2, None, None],\n",
    "    'Typ': [None, '±0.2', '±2', 65, None, None, None, None],\n",
    "    'Max': [13, '±0.5', '±5', 54, 2.5, 20, 4, 1.5],\n",
    "    'Units': ['Bits', 'LSB', 'LSB', 'mA', 'V', 'μS', 'μArms', 'mA']\n",
    "}\n",
    "\n",
    "df = pd.DataFrame(data)\n",
    "df.to_excel(\"dac_set_2_characteristics.xlsx\", index=False)\n",
    "\n",
    "print(df.to_markdown(index=False, numalign=\"left\", stralign=\"left\"))"
   ]
  },
  {
   "cell_type": "code",
   "execution_count": 8,
   "metadata": {},
   "outputs": [
    {
     "name": "stdout",
     "output_type": "stream",
     "text": [
      "| Symbol    | Parameter                           | Condition                                      | Min   | Typ   | Max   | Units   |\n",
      "|:----------|:------------------------------------|:-----------------------------------------------|:------|:------|:------|:--------|\n",
      "| BIT       | Resolution                          |                                                | nan   |       | 10    | Bits    |\n",
      "| DNL       | Differential Nonlinearity           | Excludes +/-10% of min/max codes               | nan   | ±0.2  | ±0.5  | LSB     |\n",
      "| INL       | Integral Nonlinearity               | Excludes +/-10% of min/max codes               | nan   | ±2    | ±5    | LSB     |\n",
      "| VQB_DR    | Dynamic Range                       | DAC code = 0                                   | 0.8   | 35    | 29    | mA      |\n",
      "|           |                                     | DAC code = 0x3FF, FS trim=0x0                  |       |       |       |         |\n",
      "|           |                                     | DAC code = 0x3FF, FS trim=0x1                  |       |       |       |         |\n",
      "|           |                                     | DAC code = 0x3FF, FS trim=0x2                  |       |       |       |         |\n",
      "|           |                                     | DAC code = 0x3FF, FS trim=0x3                  |       |       |       |         |\n",
      "| VDAC      | Voltage across DAC output to ground |                                                | nan   |       | 1.7   | V       |\n",
      "| Tsettling | Output settling time                | 95% of target current                          | 2     |       | 20    | μS      |\n",
      "| VQB_noise | Noise laser driver current          | DAC Programmed to 0xFF (BW=0~2MHz).            | nan   |       | 30    | μArms   |\n",
      "| I_QB      | Current Consumption                 | Excludes output DAC current (From 2.5V supply) | nan   |       | 0.8   | mA      |\n"
     ]
    }
   ],
   "source": [
    "import pandas as pd\n",
    "\n",
    "data = {\n",
    "    'Symbol': ['BIT', 'DNL', 'INL', 'VQB_DR', 'VDAC', 'Tsettling', 'VQB_noise', 'I_QB'],\n",
    "    'Parameter': ['Resolution', 'Differential Nonlinearity', 'Integral Nonlinearity', 'Dynamic Range', 'Voltage across DAC output to ground', 'Output settling time', 'Noise laser driver current', 'Current Consumption'],\n",
    "    'Condition': [None, 'Excludes +/-10% of min/max codes', 'Excludes +/-10% of min/max codes', 'DAC code = 0\\nDAC code = 0x3FF, FS trim=0x0\\nDAC code = 0x3FF, FS trim=0x1\\nDAC code = 0x3FF, FS trim=0x2\\nDAC code = 0x3FF, FS trim=0x3', None, '95% of target current', 'DAC Programmed to 0xFF (BW=0~2MHz).', 'Excludes output DAC current (From 2.5V supply)'],\n",
    "    'Min': [None, None, None, 0.8, None, 2, None, None],\n",
    "    'Typ': [None, '±0.2', '±2', 35, None, None, None, None],\n",
    "    'Max': [10, '±0.5', '±5', 29, 1.7, 20, 30, 0.8],\n",
    "    'Units': ['Bits', 'LSB', 'LSB', 'mA', 'V', 'μS', 'μArms', 'mA']\n",
    "}\n",
    "\n",
    "df = pd.DataFrame(data)\n",
    "df.to_excel(\"dac_set_3_characteristics.xlsx\", index=False)\n",
    "\n",
    "print(df.to_markdown(index=False, numalign=\"left\", stralign=\"left\"))"
   ]
  },
  {
   "cell_type": "code",
   "execution_count": 9,
   "metadata": {},
   "outputs": [
    {
     "name": "stdout",
     "output_type": "stream",
     "text": [
      "| Symbol     | Parameter                                   | Condition                           | Min   | Typ   | Max   | Units   |\n",
      "|:-----------|:--------------------------------------------|:------------------------------------|:------|:------|:------|:--------|\n",
      "| Iin        | Input current                               | For switch setting 11               | 10    | 53    | 80    | μA      |\n",
      "|            |                                             | For switch setting 10               |       |       |       |         |\n",
      "|            |                                             | For switch setting 01               |       |       |       |         |\n",
      "|            |                                             | For switch setting 00               |       |       |       |         |\n",
      "| RTERM      | Termination resistance                      | Gain setting 11                     | 1223  | 3670  | 611.6 | Ohms    |\n",
      "|            |                                             | Gain setting 10                     |       |       |       |         |\n",
      "|            |                                             | Gain setting 01                     |       |       |       |         |\n",
      "|            |                                             | Gain setting 00                     |       |       |       |         |\n",
      "| Vin_cm     | Amplifier input voltage range = Iin x RTERM | Any switch setting                  | 50    | nan   | 350   | mV      |\n",
      "| GAIN       | Fixed gain of the non-inverting amplifier   | Any switch setting                  | 4     | nan   | nan   | V/V     |\n",
      "| Vout       | Output voltage for monitoring through ADC   | Any switch setting                  | 100   | nan   | 1400  | mV      |\n",
      "| Vnoise     | Amplifier output noise voltage              | Integrated across BW 0.5 Hz to 2MHz | 103   | nan   | 155   | uVrms   |\n",
      "| BW         | Bandwidth                                   | Any setting                         | 0.5   | nan   | 2     | MHz     |\n",
      "| VIN_OFFSET | Input-referred offset                       | 3 sigma                             | -3    | nan   | 3     | mV      |\n",
      "| I_PD       | Current Consumption                         | From 2.5V supply                    | nan   | 1.9   | nan   | mA      |\n"
     ]
    }
   ],
   "source": [
    "import pandas as pd\n",
    "\n",
    "data = {\n",
    "    'Symbol': ['Iin', 'RTERM', 'Vin_cm', 'GAIN', 'Vout', 'Vnoise', 'BW', 'VIN_OFFSET', 'I_PD'],\n",
    "    'Parameter': ['Input current', 'Termination resistance', 'Amplifier input voltage range = Iin x RTERM', 'Fixed gain of the non-inverting amplifier', 'Output voltage for monitoring through ADC', 'Amplifier output noise voltage', 'Bandwidth', 'Input-referred offset', 'Current Consumption'],\n",
    "    'Condition': ['For switch setting 11\\nFor switch setting 10\\nFor switch setting 01\\nFor switch setting 00', 'Gain setting 11\\nGain setting 10\\nGain setting 01\\nGain setting 00', 'Any switch setting', 'Any switch setting', 'Any switch setting', 'Integrated across BW 0.5 Hz to 2MHz', 'Any setting', '3 sigma', 'From 2.5V supply'],\n",
    "    'Min': [10, 1223, 50, 4, 100, 103, 0.5, -3, None],\n",
    "    'Typ': [53, 3670, None, None, None, None, None, None, 1.9],\n",
    "    'Max': [80, 611.6, 350, None, 1400, 155, 2, 3, None],\n",
    "    'Units': ['μA', 'Ohms', 'mV', 'V/V', 'mV', 'uVrms', 'MHz', 'mV', 'mA']\n",
    "}\n",
    "\n",
    "df = pd.DataFrame(data)\n",
    "df.to_excel(\"amplifier_characteristics.xlsx\", index=False)\n",
    "\n",
    "print(df.to_markdown(index=False, numalign=\"left\", stralign=\"left\"))"
   ]
  },
  {
   "cell_type": "code",
   "execution_count": 10,
   "metadata": {},
   "outputs": [
    {
     "name": "stdout",
     "output_type": "stream",
     "text": [
      "| Symbol      | Parameter                                      | Condition                        | Min   | Typ   | Max   | Units   |\n",
      "|:------------|:-----------------------------------------------|:---------------------------------|:------|:------|:------|:--------|\n",
      "| BIT         | Resolution                                     |                                  | nan   | 12    |       | bits    |\n",
      "| VFS         | Peak Single ended input signal                 | Referenced to ground             | nan   | 1.8   |       | V       |\n",
      "| FCLK        | ADC clock frequency                            |                                  | 50    |       |       | MHz     |\n",
      "| FRATE       | Conversion rate                                |                                  | 3.125 |       |       | MSPS    |\n",
      "| DNL         | Differential Nonlinearity                      | Excludes +/-10% of min/max codes | nan   | 1     |       | LSB     |\n",
      "| INL         | Integral Nonlinearity                          | Excludes +/-10% of min/max codes | nan   | 2     |       | LSB     |\n",
      "| OFFS_ERROR  | Offset error                                   |                                  | nan   | 6     |       | LSB     |\n",
      "| GAIN_ERROR  | Gain error                                     |                                  | nan   | 6     |       | LSB     |\n",
      "| TOTAL_ERROR | Total unadjusted error                         |                                  | nan   | 14    |       | LSB     |\n",
      "| EXT_CHANNEL | External channel for signal monitoring Latency |                                  | nan   |       |       |         |\n",
      "|             | Current Consumption                            | 2.5V supply                      | nan   | 2     |       | mA      |\n"
     ]
    }
   ],
   "source": [
    "import pandas as pd\n",
    "\n",
    "data = {\n",
    "    'Symbol': ['BIT', 'VFS', 'FCLK', 'FRATE', 'DNL', 'INL', 'OFFS_ERROR', 'GAIN_ERROR', 'TOTAL_ERROR', 'EXT_CHANNEL', None],\n",
    "    'Parameter': ['Resolution', 'Peak Single ended input signal', 'ADC clock frequency', 'Conversion rate', 'Differential Nonlinearity', 'Integral Nonlinearity', 'Offset error', 'Gain error', 'Total unadjusted error', 'External channel for signal monitoring Latency', 'Current Consumption'],\n",
    "    'Condition': [None, 'Referenced to ground', None, None, 'Excludes +/-10% of min/max codes', 'Excludes +/-10% of min/max codes', None, None, None, None, '2.5V supply'],\n",
    "    'Min': [None, None, 50, 3.125, None, None, None, None, None, None, None],\n",
    "    'Typ': [12, 1.8, None, None, '+1', '+2', '+6', '+6', '+14', None, 2],\n",
    "    'Max': [None, None, None, None, None, None, None, None, None, None, None],\n",
    "    'Units': ['bits', 'V', 'MHz', 'MSPS', 'LSB', 'LSB', 'LSB', 'LSB', 'LSB', None, 'mA']\n",
    "}\n",
    "\n",
    "df = pd.DataFrame(data)\n",
    "df.to_excel(\"adc_and_mux_characteristics.xlsx\", index=False)\n",
    "\n",
    "print(df.to_markdown(index=False, numalign=\"left\", stralign=\"left\"))"
   ]
  },
  {
   "cell_type": "code",
   "execution_count": 11,
   "metadata": {},
   "outputs": [
    {
     "name": "stdout",
     "output_type": "stream",
     "text": [
      "| Symbol     | Parameter                               | Condition                       | Min   | Typ   | Max   | Units   |\n",
      "|:-----------|:----------------------------------------|:--------------------------------|:------|:------|:------|:--------|\n",
      "| OSC_FULL   | Oscillator frequency before trimming(2) |                                 | 150   | 200   | 250   | MHz     |\n",
      "| OSC_FULL_T | Oscillator frequency after trimming(2)  |                                 | 190   | 200   | 210   | MHz     |\n",
      "| OSC_HALF   | Oscillator frequency before trimming(3) |                                 | 75    | 100   | 125   | MHz     |\n",
      "| OSC_HALF_T | Oscillator frequency after trimming(3)  |                                 | 95    | 100   | 105   | MHz     |\n",
      "| DC_T       | Duty Cycle after trimming               |                                 | 45    | nan   | 55    | %       |\n",
      "| TJ         | Pk-pk period jitter after trimming      | At specified power supply noise | nan   | nan   | 5     | %       |\n",
      "| Tsett      | Clock settling after trim code change   |                                 | nan   | nan   | 1     | mS      |\n",
      "| ICLK       | Supply current                          |                                 | nan   | 1     | nan   | mA      |\n"
     ]
    }
   ],
   "source": [
    "import pandas as pd\n",
    "\n",
    "data = {\n",
    "    'Symbol': ['OSC_FULL', 'OSC_FULL_T', 'OSC_HALF', 'OSC_HALF_T', 'DC_T', 'TJ', 'Tsett', 'ICLK'],\n",
    "    'Parameter': ['Oscillator frequency before trimming(2)', 'Oscillator frequency after trimming(2)', 'Oscillator frequency before trimming(3)', 'Oscillator frequency after trimming(3)', 'Duty Cycle after trimming', 'Pk-pk period jitter after trimming', 'Clock settling after trim code change', 'Supply current'],\n",
    "    'Condition': [None, None, None, None, None, 'At specified power supply noise', None, None],\n",
    "    'Min': [150, 190, 75, 95, 45, None, None, None],\n",
    "    'Typ': [200, 200, 100, 100, None, None, None, 1],\n",
    "    'Max': [250, 210, 125, 105, 55, 5, 1, None],\n",
    "    'Units': ['MHz', 'MHz', 'MHz', 'MHz', '%', '%', 'mS', 'mA']\n",
    "}\n",
    "\n",
    "df = pd.DataFrame(data)\n",
    "df.to_excel(\"oscillator_characteristics.xlsx\", index=False)\n",
    "\n",
    "print(df.to_markdown(index=False, numalign=\"left\", stralign=\"left\"))"
   ]
  },
  {
   "cell_type": "code",
   "execution_count": 12,
   "metadata": {},
   "outputs": [
    {
     "name": "stdout",
     "output_type": "stream",
     "text": [
      "| Symbol   | Parameter                                | Condition    | Min   | Typ   | Max   | Units   |\n",
      "|:---------|:-----------------------------------------|:-------------|:------|:------|:------|:--------|\n",
      "| VSUP     | Supply voltage for the LDO               | VDDA_2P5_LDO | nan   | nan   | nan   | V       |\n",
      "| VOUT_PRE | Output voltage (pre trim)                |              | 1.05  | 1.1   | 1.2   | V       |\n",
      "| VOUT_T   | Output voltage (post trim)               |              | 1.09  | 1.1   | 1.12  | V       |\n",
      "| IOUT     | Output DC current                        |              | nan   | nan   | 200   | mA      |\n",
      "| TWAKE    | Wake-up time after supply voltage is up  |              | nan   | nan   | 200   | μs      |\n",
      "| LINE     | Line regulation (Supply = 2.25V ~ 2.75V) |              | nan   | nan   | 30    | mV      |\n",
      "| LOAD     | Load regulation                          |              | nan   | nan   | nan   |         |\n",
      "| PSRR     | Power-supply rejection ratio             |              | nan   | nan   | -15   | dB      |\n"
     ]
    }
   ],
   "source": [
    "import pandas as pd\n",
    "\n",
    "data = {\n",
    "    'Symbol': ['VSUP', 'VOUT_PRE', 'VOUT_T', 'IOUT', 'TWAKE', 'LINE', 'LOAD', 'PSRR'],\n",
    "    'Parameter': ['Supply voltage for the LDO', 'Output voltage (pre trim)', 'Output voltage (post trim)', 'Output DC current', 'Wake-up time after supply voltage is up', 'Line regulation (Supply = 2.25V ~ 2.75V)', 'Load regulation', 'Power-supply rejection ratio'],\n",
    "    'Condition': ['VDDA_2P5_LDO', None, None, None, None, None, None, None],\n",
    "    'Min': [None, 1.05, 1.09, None, None, None, None, None],\n",
    "    'Typ': [None, 1.1, 1.1, None, None, None, None, None],\n",
    "    'Max': [None, 1.2, 1.12, 200, 200, 30, None, -15],\n",
    "    'Units': ['V', 'V', 'V', 'mA', 'μs', 'mV', None, 'dB']\n",
    "}\n",
    "\n",
    "df = pd.DataFrame(data)\n",
    "df.to_excel(\"1.1v_ldo_characteristics.xlsx\", index=False)\n",
    "\n",
    "print(df.to_markdown(index=False, numalign=\"left\", stralign=\"left\"))"
   ]
  },
  {
   "cell_type": "code",
   "execution_count": 13,
   "metadata": {},
   "outputs": [
    {
     "name": "stdout",
     "output_type": "stream",
     "text": [
      "| Symbol   | Parameter                                | Condition   | Min   | Typ   | Max   | Units   |\n",
      "|:---------|:-----------------------------------------|:------------|:------|:------|:------|:--------|\n",
      "| VSUP     | Supply voltage for the LDO               | VDDA_2P5    | nan   | nan   | nan   |         |\n",
      "| VOUT_PRE | Output voltage (pre trim)                |             | 1.6   | 1.8   | 2     | V       |\n",
      "| VOUT_T   | Output voltage (post trim)               |             | 1.75  | 1.8   | 1.85  | V       |\n",
      "| IOUT     | Output DC current                        |             | nan   | nan   | 25    | mA      |\n",
      "| TWAKE    | Wake-up time after supply voltage is up  |             | nan   | nan   | 200   | μs      |\n",
      "| LINE     | Line regulation (Supply = 2.25V ~ 2.75V) |             | nan   | nan   | 30    | mV      |\n",
      "| LOAD     | Load regulation (current 0~25mA)         |             | nan   | nan   | 70    | mV      |\n",
      "| PSRR     | Power-supply rejection ratio             |             | nan   | nan   | -15   | dB      |\n"
     ]
    }
   ],
   "source": [
    "import pandas as pd\n",
    "\n",
    "data = {\n",
    "    'Symbol': ['VSUP', 'VOUT_PRE', 'VOUT_T', 'IOUT', 'TWAKE', 'LINE', 'LOAD', 'PSRR'],\n",
    "    'Parameter': ['Supply voltage for the LDO', 'Output voltage (pre trim)', 'Output voltage (post trim)', 'Output DC current', 'Wake-up time after supply voltage is up', 'Line regulation (Supply = 2.25V ~ 2.75V)', 'Load regulation (current 0~25mA)', 'Power-supply rejection ratio'],\n",
    "    'Condition': ['VDDA_2P5', None, None, None, None, None, None, None],\n",
    "    'Min': [None, 1.6, 1.75, None, None, None, None, None],\n",
    "    'Typ': [None, 1.8, 1.8, None, None, None, None, None],\n",
    "    'Max': [None, 2.0, 1.85, 25, 200, 30, 70, -15],\n",
    "    'Units': [None, 'V', 'V', 'mA', 'μs', 'mV', 'mV', 'dB']\n",
    "}\n",
    "\n",
    "df = pd.DataFrame(data)\n",
    "df.to_excel(\"1.8v_ldo_characteristics.xlsx\", index=False)\n",
    "\n",
    "print(df.to_markdown(index=False, numalign=\"left\", stralign=\"left\"))"
   ]
  },
  {
   "cell_type": "code",
   "execution_count": 14,
   "metadata": {},
   "outputs": [
    {
     "name": "stdout",
     "output_type": "stream",
     "text": [
      "| ITEM   | Component       | Refractive Index (@1310nm)   | Thickness (mm)   |\n",
      "|:-------|:----------------|:-----------------------------|:-----------------|\n",
      "| 1      | 0° Polarizer    | 1.508                        | 0.2              |\n",
      "| 2      | Faraday Rotator | 2.37                         | 0.32             |\n",
      "| 3      | 45° Polarizer   | 1.508                        | 0.2              |\n",
      "| 4      | waveplate       | 1.53                         | 0.076            |\n"
     ]
    }
   ],
   "source": [
    "import pandas as pd\n",
    "\n",
    "data = [\n",
    "    {\"ITEM\": 1, \"Component\": \"0° Polarizer\", \"Refractive Index (@1310nm)\": 1.508, \"Thickness (mm)\": 0.2},\n",
    "    {\"ITEM\": 2, \"Component\": \"Faraday Rotator\", \"Refractive Index (@1310nm)\": 2.37, \"Thickness (mm)\": 0.32},\n",
    "    {\"ITEM\": 3, \"Component\": \"45° Polarizer\", \"Refractive Index (@1310nm)\": 1.508, \"Thickness (mm)\": 0.2},\n",
    "    {\"ITEM\": 4, \"Component\": \"waveplate\", \"Refractive Index (@1310nm)\": 1.53, \"Thickness (mm)\": 0.076},\n",
    "]\n",
    "\n",
    "df = pd.DataFrame(data)\n",
    "df.to_excel(\"isolate_design.xlsx\", index=False)\n",
    "\n",
    "print(df.to_markdown(index=False, numalign=\"left\", stralign=\"left\"))"
   ]
  },
  {
   "cell_type": "code",
   "execution_count": 15,
   "metadata": {},
   "outputs": [
    {
     "name": "stdout",
     "output_type": "stream",
     "text": [
      "    32CH FAU CHANNEL  LC/APC LABEL (ATTACHED TO LC)\n",
      "0                  1       1                   J2.1\n",
      "1                  2       2                   J2.3\n",
      "2                  3       3                   J2.5\n",
      "3                  4       4                   J2.7\n",
      "4                  5       5                   J2.9\n",
      "5                  6       6                  J2.11\n",
      "6                  7       7                  J2.13\n",
      "7                  8       8                  J2.15\n",
      "8                  9       9                  J2.17\n",
      "9                 10      10                  J2.19\n",
      "10                11      11                  J2.21\n",
      "11                12      12                  J2.23\n",
      "12                13      13                  J2.25\n",
      "13                14      14                  J2.27\n",
      "14                15      15                  J2.29\n",
      "15                16      16                  J2.31\n",
      "16                17      17                   J2.0\n",
      "17                18      18                   J2.2\n",
      "18                19      19                   J2.4\n",
      "19                20      20                   J2.6\n",
      "20                21      21                   J2.8\n",
      "21                22      22                  J2.10\n",
      "22                23      23                  J2.12\n",
      "23                24      24                  J2.14\n",
      "24                25      25                  J2.16\n",
      "25                26      26                  J2.18\n",
      "26                28      28                  J2.20\n",
      "27                28      28                  J2.22\n",
      "28                29      29                  J2.24\n",
      "29                30      30                  J2.26\n",
      "30                31      31                  J2.28\n",
      "31                32      32                  J2.30\n",
      "\n",
      "First 5 rows:\n",
      "   32CH FAU CHANNEL  LC/APC LABEL (ATTACHED TO LC)\n",
      "0                 1       1                   J2.1\n",
      "1                 2       2                   J2.3\n",
      "2                 3       3                   J2.5\n",
      "3                 4       4                   J2.7\n",
      "4                 5       5                   J2.9\n",
      "\n",
      "Data types:\n",
      "32CH FAU CHANNEL           int64\n",
      "LC/APC                     int64\n",
      "LABEL (ATTACHED TO LC)    object\n",
      "dtype: object\n"
     ]
    }
   ],
   "source": [
    "import pandas as pd\n",
    "\n",
    "data = {\n",
    "    '32CH FAU CHANNEL': [1, 2, 3, 4, 5, 6, 7, 8, 9, 10, 11, 12, 13, 14, 15, 16, 17, 18, 19, 20, 21, 22, 23, 24, 25, 26, 28, 28, 29, 30, 31, 32],\n",
    "    'LC/APC': [1, 2, 3, 4, 5, 6, 7, 8, 9, 10, 11, 12, 13, 14, 15, 16, 17, 18, 19, 20, 21, 22, 23, 24, 25, 26, 28, 28, 29, 30, 31, 32],\n",
    "    'LABEL (ATTACHED TO LC)': ['J2.1', 'J2.3', 'J2.5', 'J2.7', 'J2.9', 'J2.11', 'J2.13', 'J2.15', 'J2.17', 'J2.19', 'J2.21', 'J2.23', 'J2.25', 'J2.27', 'J2.29', 'J2.31', 'J2.0', 'J2.2', 'J2.4', 'J2.6', 'J2.8', 'J2.10', 'J2.12', 'J2.14', 'J2.16', 'J2.18', 'J2.20', 'J2.22', 'J2.24', 'J2.26', 'J2.28', 'J2.30']\n",
    "}\n",
    "\n",
    "df = pd.DataFrame(data)\n",
    "\n",
    "# Option 1: Print to console (for quick viewing)\n",
    "print(df)\n",
    "\n",
    "# Option 2: Save to CSV file\n",
    "df.to_csv(\"data.csv\", index=False)  # index=False prevents writing row numbers\n",
    "\n",
    "# Option 3: Save to Excel file (requires openpyxl or xlsxwriter)\n",
    "# Install: pip install openpyxl\n",
    "df.to_excel(\"port_assignment.xlsx\", index=False)\n",
    "\n",
    "# Option 4: Save to other formats (e.g., JSON, HTML)\n",
    "# df.to_json(\"data.json\")\n",
    "# df.to_html(\"data.html\")\n",
    "\n",
    "\n",
    "# Display the first few rows (optional)\n",
    "print(\"\\nFirst 5 rows:\")\n",
    "print(df.head())\n",
    "\n",
    "# Display data types of each column (optional)\n",
    "print(\"\\nData types:\")\n",
    "print(df.dtypes)"
   ]
  },
  {
   "cell_type": "code",
   "execution_count": 1,
   "metadata": {},
   "outputs": [
    {
     "name": "stdout",
     "output_type": "stream",
     "text": [
      "Data saved to power_estimate_data.xlsx\n"
     ]
    }
   ],
   "source": [
    "import pandas as pd\n",
    "\n",
    "data = {\n",
    "    'Section': [\n",
    "        'DAC Set 1 (used for a set of Laser Diode Bias)',\n",
    "        'DAC Set 3',\n",
    "        'Transimpedance Amplifier',\n",
    "        'I3C',\n",
    "        'SPI',\n",
    "        'UART',\n",
    "        'MDIO',\n",
    "        'GPIO',\n",
    "        'ADC',\n",
    "        'LDO_OUT_1P8'\n",
    "    ],\n",
    "    'Total Use #': [16, 16, 32, 1, 1, 1, 1, 7, 1, 1],\n",
    "    'Remarks for Power Estimate': [\n",
    "        'P=lout*Laser supply voltage should be added separately (See note)',\n",
    "        'P=lout*2.5 is included (Assumed 35mA/DAC output)',\n",
    "        'Included',\n",
    "        'I1_SCK_I3C/I1_SDA_I3C - Included',\n",
    "        'MISO/MOSI/SCLK/SS0/SS1 - Included',\n",
    "        'UART_Rx/UART_Tx - Included',\n",
    "        'CLK/DATA - Included',\n",
    "        'Included',\n",
    "        'Included',\n",
    "        'P=2.5*lout should be added separately (VDDA_2P5)'\n",
    "    ]\n",
    "}\n",
    "\n",
    "df = pd.DataFrame(data)\n",
    "\n",
    "# Save to Excel file (requires openpyxl or xlsxwriter)\n",
    "# Install: pip install openpyxl  (or pip install xlsxwriter)\n",
    "df.to_excel(\"power_estimate_data.xlsx\", index=False)\n",
    "\n",
    "print(\"Data saved to power_estimate_data.xlsx\")\n",
    "\n",
    "\n",
    "# Optional: Display the DataFrame in the console\n",
    "# print(df)"
   ]
  },
  {
   "cell_type": "code",
   "execution_count": 3,
   "metadata": {},
   "outputs": [
    {
     "name": "stdout",
     "output_type": "stream",
     "text": [
      "Data saved to rail_data_phase1_ips_clm_usecase.xlsx\n"
     ]
    }
   ],
   "source": [
    "import pandas as pd\n",
    "\n",
    "data = {\n",
    "    'Rail': [\n",
    "        'VDDA_2P5',\n",
    "        'VDD_2P5_LDO',\n",
    "        'VDDA_2P5_ADC',\n",
    "        'VDD_2P5',\n",
    "        'VDDIO1',\n",
    "        'VDDIO2',\n",
    "        'VSSA*',\n",
    "        'VSSD',\n",
    "        'VSSIO'\n",
    "    ],\n",
    "    'Typ (mA)': [650, 55, 6, 6, 55, 5, 3380, 65, 60],\n",
    "    'Max (mA)': [705, 75, 10, 10, 75, 10, 3500, 90, 85]\n",
    "}\n",
    "\n",
    "df = pd.DataFrame(data)\n",
    "\n",
    "# Save to Excel file (requires openpyxl or xlsxwriter)\n",
    "# Install: pip install openpyxl  (or pip install xlsxwriter)\n",
    "df.to_excel(\"rail_data_phase1_ips_clm_usecase.xlsx\", index=False)\n",
    "\n",
    "print(\"Data saved to rail_data_phase1_ips_clm_usecase.xlsx\")\n",
    "\n",
    "# Optional: Display the DataFrame in the console\n",
    "# print(df)"
   ]
  },
  {
   "cell_type": "code",
   "execution_count": null,
   "metadata": {},
   "outputs": [],
   "source": []
  }
 ],
 "metadata": {
  "kernelspec": {
   "display_name": "lmpython",
   "language": "python",
   "name": "python3"
  },
  "language_info": {
   "codemirror_mode": {
    "name": "ipython",
    "version": 3
   },
   "file_extension": ".py",
   "mimetype": "text/x-python",
   "name": "python",
   "nbconvert_exporter": "python",
   "pygments_lexer": "ipython3",
   "version": "3.12.4"
  }
 },
 "nbformat": 4,
 "nbformat_minor": 2
}
