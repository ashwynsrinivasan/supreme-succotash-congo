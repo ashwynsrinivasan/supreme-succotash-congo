{
 "cells": [
  {
   "cell_type": "code",
   "execution_count": 1,
   "metadata": {},
   "outputs": [],
   "source": [
    "import numpy as np\n",
    "import matplotlib.pyplot as plt\n",
    "import warnings\n",
    "import time\n",
    "import copy\n",
    "# from lmphoton.simulation import current_simulation as sim\n",
    "import pandas as pd\n",
    "from itertools import product\n",
    "from tqdm import tqdm\n",
    "from copy import deepcopy\n",
    "import xarray as xr\n",
    "\n",
    "import sys\n",
    "sys.path.append(\"../\")\n",
    "\n",
    "# SPPD optical elements\n",
    "from src.sppd_clm_optics import SPPDCLMOPTICS_LAMBDA_AB\n",
    "\n",
    "# PMIC drivers\n",
    "from src.pikeriver_pmic import PMIC\n",
    "\n",
    "# Calibration and control\n",
    "from src.sppd_clm import CONTROLLER\n",
    "from src.laser_control.pid import pid as PID\n",
    "\n",
    "plt.style.use(\"plot_style.mplstyle\")\n",
    "warnings.filterwarnings(\"ignore\")"
   ]
  },
  {
   "cell_type": "code",
   "execution_count": 2,
   "metadata": {},
   "outputs": [],
   "source": [
    "enablence_mux_bw_lambda = np.array([20])/17*0.1e-9\n",
    "enablence_mux_3sigma = np.array([17])/17*0.1e-9\n",
    "sppd_laser_3sigma = np.array([38])/17*0.1e-9\n",
    "no_mux = np.array([0])\n",
    "wpe_slope_3sigma = np.array([0.15])\n",
    "lin_sweep_val_range = np.array([0.1,0.2,0.3])\n",
    "mpd_current_clamp_range = np.array([40e-3])\n",
    "\n",
    "\n",
    "no_lasers = 16\n",
    "no_iterations = 1001"
   ]
  },
  {
   "cell_type": "code",
   "execution_count": 3,
   "metadata": {},
   "outputs": [],
   "source": [
    "enablence_mux_mc = np.zeros((no_iterations, no_lasers, len(enablence_mux_3sigma)))\n",
    "sppd_laser_mc = np.zeros((no_iterations, no_lasers, len(sppd_laser_3sigma)))\n",
    "wpe_slope_factor_mc = np.zeros((no_iterations, no_lasers, len(wpe_slope_3sigma)))\n",
    "\n",
    "for idd_iter in range(no_iterations):\n",
    "  for idd_eb in range(len(enablence_mux_3sigma)):\n",
    "      enablence_mux_mc[idd_iter, :, idd_eb] = np.random.normal(0, enablence_mux_3sigma[idd_eb]/3) * np.ones(no_lasers)\n",
    "  for idd_laser in range(no_lasers):\n",
    "    for idd_sppd in range(len(sppd_laser_3sigma)):\n",
    "      sppd_laser_mc[idd_iter, idd_laser, idd_sppd] = np.random.normal(0, sppd_laser_3sigma[idd_sppd]/3)\n",
    "    for idd_wpe in range(len(wpe_slope_3sigma)):\n",
    "      wpe_slope_factor_mc[idd_iter, idd_laser, idd_wpe] = np.random.normal(1.0, wpe_slope_3sigma[idd_wpe]/3)"
   ]
  },
  {
   "cell_type": "code",
   "execution_count": 4,
   "metadata": {},
   "outputs": [],
   "source": [
    "target_grid_array = np.array([\n",
    "  1301.47, 1302.60, 1303.73, 1304.87,\n",
    "  1306.01, 1307.14, 1308.28, 1309.43,\n",
    "  1310.57, 1311.72, 1312.87, 1314.02,\n",
    "  1315.17, 1316.33, 1317.48, 1318.64\n",
    "  ])*1e-9 \n",
    "\n",
    "wavelength_fabrication = np.array([\n",
    "  1301.47, 1302.60, 1303.73, 1304.87,\n",
    "  1306.01, 1307.14, 1308.28, 1309.43,\n",
    "  1310.57, 1311.72, 1312.87, 1314.02,\n",
    "  1315.17, 1316.33, 1317.48, 1318.64\n",
    "  ])*1e-9"
   ]
  },
  {
   "cell_type": "code",
   "execution_count": 5,
   "metadata": {},
   "outputs": [
    {
     "name": "stderr",
     "output_type": "stream",
     "text": [
      "100%|██████████| 3003/3003 [18:02:16<00:00, 21.62s/it]  \n"
     ]
    }
   ],
   "source": [
    "data_statistics_lists = []\n",
    "\n",
    "for idd_mux, idd_iter, idd_eb, idd_sppd, idd_bw_lambda, idd_wpe, idd_lin_sweep in tqdm(product(range(len(no_mux)), range(no_iterations), range(len(enablence_mux_3sigma)), range(len(sppd_laser_3sigma)), range(len(enablence_mux_bw_lambda)), range(len(wpe_slope_3sigma)), range(len(lin_sweep_val_range))), total=no_iterations*len(enablence_mux_bw_lambda)*len(sppd_laser_3sigma)*len(enablence_mux_3sigma)*len(no_mux)*len(wpe_slope_3sigma)*len(lin_sweep_val_range)):\n",
    "  enablence_grid = target_grid_array + enablence_mux_mc[idd_iter, :, idd_eb]\n",
    "  sppd_grid = target_grid_array + sppd_laser_mc[idd_iter, :, idd_sppd] - 0.5e-9\n",
    "  wpe_slope_factor = wpe_slope_factor_mc[idd_iter, :, idd_wpe]\n",
    "\n",
    "  # Create the SPPD DFB laser\n",
    "  _sppd_clm_optics_mc = SPPDCLMOPTICS_LAMBDA_AB(\n",
    "    current = 0.133,\n",
    "    wavelength_fabrication=sppd_grid,\n",
    "    target_grid_array=enablence_grid,\n",
    "    bw_lambda = enablence_mux_bw_lambda[idd_bw_lambda],\n",
    "    nominal_junction_temperature=273+44.5,\n",
    "    wpe_slope_factor = wpe_slope_factor,\n",
    "    name = \"SPPDCLMOPTICS_AB_2\",\n",
    "    no_mux = idd_mux + 1\n",
    "  )\n",
    "\n",
    "  _sppd_clm_optics_mc.update(tc = 273+42.5, i_array=np.ones(16) * 0.133)\n",
    "\n",
    "  _pk_pmic = PMIC()\n",
    "\n",
    "  dt = 10e-3\n",
    "  _pid_tec = pid_tec = PID(kp=0.5, ki=10*dt, kd=10*dt, dt=dt, umax=3, umin=-3)\n",
    "  _pid_idrive = [PID(kp=1/1000, ki=1/1000, kd=1/1000, dt=dt, umax = 1024, umin=-1024) for __ in range(len(wavelength_fabrication))]\n",
    "\n",
    "  controller = CONTROLLER(\n",
    "    sppd_clm_optics = _sppd_clm_optics_mc,\n",
    "    pmic = _pk_pmic,\n",
    "    pid_tec = _pid_tec,\n",
    "    pid_idrive = _pid_idrive,\n",
    "    dt = dt,\n",
    "    drive_current_array = np.ones(16) * 0.133,\n",
    "  )\n",
    "\n",
    "  controller._tend = 15\n",
    "  controller._tdither = 5\n",
    "  controller._tagg_1 = 14.0\n",
    "  controller._tagg_2 = 14.5\n",
    "  controller._agg_1_amp = 0\n",
    "  controller._agg_2_amp = 0\n",
    "\n",
    "  controller.calibrate(\n",
    "    tc=273+35,\n",
    "    temperature_array = np.linspace(30, 50, 201)+273, \n",
    "    drive_current_array= np.linspace(0.1, 0.2, 101),\n",
    "    power_wavelength_calibration=True,\n",
    "    tec_temperature_tuning=True,\n",
    "    drive_current_tuning=False,\n",
    "  )\n",
    "\n",
    "  controller.control(\n",
    "    lin_sweep_range=lin_sweep_val_range[idd_lin_sweep],\n",
    "    output_power_clamp_bool = False, \n",
    "    output_power_clamp = 0.04\n",
    "  )\n",
    "  \n",
    "  controller_statistics = controller._time_step_statistics\n",
    "  idd_value = 0\n",
    "  for key, values in controller_statistics.items():\n",
    "    idd_value_2 = 0\n",
    "    idd_value += 1\n",
    "    for key_2, values_2 in values.items():\n",
    "      idd_value_2 += 1\n",
    "      data_statistics_lists += [controller_statistics[key][key_2].tolist()]\n"
   ]
  },
  {
   "cell_type": "code",
   "execution_count": 6,
   "metadata": {},
   "outputs": [],
   "source": [
    "data_statistics_array = np.array(deepcopy(data_statistics_lists)).reshape((len(no_mux), no_iterations, len(enablence_mux_3sigma), len(sppd_laser_3sigma), len(enablence_mux_bw_lambda), len(wpe_slope_3sigma), len(lin_sweep_val_range), 5, 4*4, no_lasers))"
   ]
  },
  {
   "cell_type": "code",
   "execution_count": null,
   "metadata": {},
   "outputs": [],
   "source": [
    "data_export = xr.Dataset(\n",
    "  data_vars = dict(\n",
    "    enablence_mux_mc = ([\"idd_iter\", \"idd_laser\", \"idd_eb\"], enablence_mux_mc),\n",
    "    sppd_laser_mc = ([\"idd_iter\", \"idd_laser\", \"idd_sppd\"], sppd_laser_mc),\n",
    "    wpe_slope_factor_mc = ([\"idd_iter\", \"idd_laser\", \"idd_wpe\"], wpe_slope_factor_mc),\n",
    "    data_statistics_array = ([\"idd_mux\", \"idd_iter\", \"idd_eb\", \"idd_sppd\", \"idd_bw_lambda\", \"idd_wpe\", \"lin_sweep_range\", \"controller_observable\", \"observable_stat\", \"idd_laser\"], data_statistics_array)\n",
    "    ),\n",
    "  coords = dict(\n",
    "    idd_mux = no_mux,\n",
    "    idd_iter = range(no_iterations),\n",
    "    idd_eb = range(len(enablence_mux_3sigma)),\n",
    "    idd_sppd = range(len(sppd_laser_3sigma)),\n",
    "    idd_bw_lambda = range(len(enablence_mux_bw_lambda)),\n",
    "    idd_laser = range(no_lasers),\n",
    "    idd_wpe = range(len(wpe_slope_3sigma)),\n",
    "    lin_sweep_range = lin_sweep_val_range,\n",
    "    controller_observable = [\"drive_current\", \"enablence_output_power\", \"enablence_output_lambda\", \"sppd_pout\", \"sppd_laser_junction_temperature\"],\n",
    "    observable_stat = [\"std\", \"mean\", \" max\", \"min\",\"std_no_agg\", \"mean_no_agg\", \"max_no_agg\", \"min_no_agg\", \"std_agg_1\", \"mean_agg_1\", \"max_agg_1\", \"min_agg_1\", \"std_agg_2\", \"mean_agg_2\", \"max_agg_2\", \"min_agg_2\"], \n",
    "  ),\n",
    "  attrs=dict(description = \"SPPD CLM Controller Monte Carlo Simulation simulations - dated: 2024-04-24\")\n",
    ")\n",
    "\n",
    "data_export.to_netcdf(\"../simulation_data/sppd_clm_controller_1_mux_tec_tuning_output_power_clamp_false_mc_20240430_v0p1.nc\")"
   ]
  },
  {
   "cell_type": "code",
   "execution_count": null,
   "metadata": {},
   "outputs": [],
   "source": []
  }
 ],
 "metadata": {
  "kernelspec": {
   "display_name": "Python 3 (ipykernel)",
   "language": "python",
   "name": "python3"
  },
  "language_info": {
   "codemirror_mode": {
    "name": "ipython",
    "version": 3
   },
   "file_extension": ".py",
   "mimetype": "text/x-python",
   "name": "python",
   "nbconvert_exporter": "python",
   "pygments_lexer": "ipython3",
   "version": "3.11.7"
  }
 },
 "nbformat": 4,
 "nbformat_minor": 4
}
