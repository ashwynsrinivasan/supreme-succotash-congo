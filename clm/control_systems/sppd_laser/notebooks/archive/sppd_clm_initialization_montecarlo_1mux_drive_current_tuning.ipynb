{
 "cells": [
  {
   "cell_type": "code",
   "execution_count": 1,
   "metadata": {},
   "outputs": [],
   "source": [
    "import numpy as np\n",
    "from tqdm import tqdm\n",
    "import xarray as xr\n",
    "import matplotlib.pyplot as plt\n",
    "import warnings\n",
    "from itertools import product\n",
    "# from lmphoton.simulation import current_simulation as sim\n",
    "from scipy.optimize import minimize\n",
    "from scipy.constants import constants\n",
    "import pandas as pd\n",
    "import seaborn as sns\n",
    "\n",
    "import sys\n",
    "sys.path.append(\"../\")\n",
    "\n",
    "# SPPD optical elements\n",
    "from src.sppd_dfb_laser import SPPDDFB, SPPDCLMPIC\n",
    "from src.enablence_mux import EBMUX\n",
    "from src.sppd_clm_optics import SPPDCLMOPTICS, SPPDCLMOPTICS_LAMBDA_AB\n",
    "# PMIC drivers\n",
    "from src.pikeriver_pmic import ADC, DAC, TIA, PMIC\n",
    "# Calibration and control\n",
    "from sppd_clm_calibration import SPPDCLMCAL2\n",
    "from src.sppd_clm import CONTROLLER\n",
    "\n",
    "plt.style.use(\"plot_style.mplstyle\")\n",
    "warnings.filterwarnings(\"ignore\")"
   ]
  },
  {
   "cell_type": "code",
   "execution_count": 2,
   "metadata": {},
   "outputs": [],
   "source": [
    "enablence_mux_bw_lambda = np.array([20])/17*0.1e-9\n",
    "enablence_mux_3sigma = np.array([0.1])/17*0.1e-9\n",
    "sppd_laser_3sigma = np.array([38])/17*0.1e-9\n",
    "no_mux = np.array([0])\n",
    "wpe_slope_3sigma = np.array([0.01, 0.15, 0.3])\n",
    "\n",
    "no_lasers = 16\n",
    "no_iterations = 5120"
   ]
  },
  {
   "cell_type": "code",
   "execution_count": 3,
   "metadata": {},
   "outputs": [],
   "source": [
    "enablence_mux_mc = np.zeros((no_iterations, no_lasers, len(enablence_mux_3sigma)))\n",
    "sppd_laser_mc = np.zeros((no_iterations, no_lasers, len(sppd_laser_3sigma)))\n",
    "wpe_slope_factor_mc = np.zeros((no_iterations, no_lasers, len(wpe_slope_3sigma)))\n",
    "\n",
    "for idd_iter in range(no_iterations):\n",
    "  for idd_eb in range(len(enablence_mux_3sigma)):\n",
    "      enablence_mux_mc[idd_iter, :, idd_eb] = np.random.normal(0, enablence_mux_3sigma[idd_eb]/3) * np.ones(no_lasers)\n",
    "  for idd_laser in range(no_lasers):\n",
    "    for idd_sppd in range(len(sppd_laser_3sigma)):\n",
    "      sppd_laser_mc[idd_iter, idd_laser, idd_sppd] = np.random.normal(0, sppd_laser_3sigma[idd_sppd]/3)\n",
    "    for idd_wpe in range(len(wpe_slope_3sigma)):\n",
    "      wpe_slope_factor_mc[idd_iter, idd_laser, idd_wpe] = np.random.normal(1.0, wpe_slope_3sigma[idd_wpe]/3)"
   ]
  },
  {
   "cell_type": "code",
   "execution_count": 4,
   "metadata": {},
   "outputs": [],
   "source": [
    "target_grid_array = np.array([\n",
    "  1301.47, 1302.60, 1303.73, 1304.87,\n",
    "  1306.01, 1307.14, 1308.28, 1309.43,\n",
    "  1310.57, 1311.72, 1312.87, 1314.02,\n",
    "  1315.17, 1316.33, 1317.48, 1318.64\n",
    "  ])*1e-9 \n",
    "\n",
    "wavelength_fabrication = np.array([\n",
    "  1301.47, 1302.60, 1303.73, 1304.87,\n",
    "  1306.01, 1307.14, 1308.28, 1309.43,\n",
    "  1310.57, 1311.72, 1312.87, 1314.02,\n",
    "  1315.17, 1316.33, 1317.48, 1318.64\n",
    "  ])*1e-9"
   ]
  },
  {
   "cell_type": "code",
   "execution_count": 5,
   "metadata": {},
   "outputs": [
    {
     "name": "stderr",
     "output_type": "stream",
     "text": [
      "100%|██████████| 15360/15360 [22:25:57<00:00,  5.26s/it]  \n"
     ]
    }
   ],
   "source": [
    "nom_temp_list, tec_set_point_temperature_list, mux_current_list, peak_current_list, output_power_list, output_lambda_list, current_list, cal_temperature_list, drive_current_list, warning_flag_list, junction_temperature_list = [], [], [], [], [], [], [], [], [], [], []\n",
    "\n",
    "for idd_mux, idd_iter, idd_eb, idd_sppd, idd_bw_lambda, idd_wpe in tqdm(product(range(len(no_mux)), range(no_iterations), range(len(enablence_mux_3sigma)), range(len(sppd_laser_3sigma)), range(len(enablence_mux_bw_lambda)), range(len(wpe_slope_3sigma))), total=no_iterations*len(enablence_mux_bw_lambda)*len(sppd_laser_3sigma)*len(enablence_mux_3sigma)*len(no_mux)*len(wpe_slope_3sigma)):\n",
    "  enablence_grid = target_grid_array + enablence_mux_mc[idd_iter, :, idd_eb]\n",
    "  sppd_grid = target_grid_array + sppd_laser_mc[idd_iter, :, idd_sppd] - 0.5e-9\n",
    "  wpe_slope_factor = wpe_slope_factor_mc[idd_iter, :, idd_wpe]\n",
    "\n",
    "  # Create the SPPD DFB laser\n",
    "  _sppd_clm_optics_mc = SPPDCLMOPTICS_LAMBDA_AB(\n",
    "    current = 0.133,\n",
    "    wavelength_fabrication=sppd_grid,\n",
    "    target_grid_array=enablence_grid,\n",
    "    bw_lambda = enablence_mux_bw_lambda[idd_bw_lambda],\n",
    "    nominal_junction_temperature=273+44.5,\n",
    "    wpe_slope_factor = wpe_slope_factor,\n",
    "    name = \"SPPDCLMOPTICS_AB_2\",\n",
    "    no_mux = idd_mux + 1\n",
    "  )\n",
    "\n",
    "  _sppd_clm_optics_mc.update(tc = 273+42.5, i_array=np.ones(16) * 0.133)\n",
    "\n",
    "  _pk_pmic = PMIC()\n",
    "\n",
    "  controller = CONTROLLER(\n",
    "    sppd_clm_optics=_sppd_clm_optics_mc,\n",
    "    pmic = _pk_pmic,\n",
    "    drive_current_array = np.ones(16) * 0.133,\n",
    "  )\n",
    "\n",
    "  controller.calibrate(tc=273+35,\n",
    "    temperature_array = np.linspace(30, 50, 51)+273, \n",
    "    drive_current_array= np.linspace(0.1, 0.2, 41),\n",
    "    power_wavelength_calibration=True,\n",
    "    tec_temperature_tuning=True,\n",
    "    drive_current_tuning=True,\n",
    "    percent_range = np.linspace(0.5, 1.5, 41)\n",
    "  )\n",
    "\n",
    "  nom_temp_list += controller._nominal_temperature_array.tolist()\n",
    "  tec_set_point_temperature_list += [controller._tec_set_point_temperature]\n",
    "  warning_flag_list += [controller._warning_flag]\n",
    "  peak_current_list += controller._pmic_adc_enablence_mux_mpd_peak_current_array.tolist()\n",
    "  output_power_list += controller._enablence_output_power_array.tolist()\n",
    "  output_lambda_list += controller._lambda_array.tolist()\n",
    "  drive_current_list += controller._pmic._dac_laser_drive_current_array.tolist()\n",
    "  junction_temperature_list += controller._laser_junction_temperature_array.tolist()\n",
    "  "
   ]
  },
  {
   "cell_type": "code",
   "execution_count": 6,
   "metadata": {},
   "outputs": [],
   "source": [
    "nom_temp_array = np.array(nom_temp_list).reshape(len(no_mux), no_iterations, len(enablence_mux_3sigma), len(sppd_laser_3sigma), len(enablence_mux_bw_lambda), len(wpe_slope_3sigma), no_lasers)\n",
    "tec_set_point_temperature = np.array(tec_set_point_temperature_list).reshape(len(no_mux), no_iterations, len(enablence_mux_3sigma), len(sppd_laser_3sigma), len(enablence_mux_bw_lambda), len(wpe_slope_3sigma))\n",
    "warning_flag = np.array(warning_flag_list).reshape(len(no_mux), no_iterations, len(enablence_mux_3sigma), len(sppd_laser_3sigma), len(enablence_mux_bw_lambda), len(wpe_slope_3sigma))\n",
    "peak_current_array = np.array(peak_current_list).reshape(len(no_mux), no_iterations, len(enablence_mux_3sigma), len(sppd_laser_3sigma), len(enablence_mux_bw_lambda), len(wpe_slope_3sigma), no_lasers)\n",
    "output_power_array = np.array(output_power_list).reshape(len(no_mux), no_iterations, len(enablence_mux_3sigma), len(sppd_laser_3sigma), len(enablence_mux_bw_lambda), len(wpe_slope_3sigma), no_lasers)\n",
    "output_lambda_array = np.array(output_lambda_list).reshape(len(no_mux), no_iterations, len(enablence_mux_3sigma), len(sppd_laser_3sigma), len(enablence_mux_bw_lambda), len(wpe_slope_3sigma), no_lasers)\n",
    "drive_current_array = np.array(drive_current_list).reshape(len(no_mux), no_iterations, len(enablence_mux_3sigma), len(sppd_laser_3sigma), len(enablence_mux_bw_lambda), len(wpe_slope_3sigma), no_lasers)\n",
    "junction_temperature_array = np.array(drive_current_list).reshape(len(no_mux), no_iterations, len(enablence_mux_3sigma), len(sppd_laser_3sigma), len(enablence_mux_bw_lambda), len(wpe_slope_3sigma), no_lasers)\n",
    "data = xr.Dataset(\n",
    "  data_vars = dict(\n",
    "    nom_temp_array = ([\"idd_mux\", \"idd_iter\", \"idd_eb\", \"idd_sppd\", \"idd_bw_lambda\", \"idd_wpe\",  \"idd_laser\"], nom_temp_array),\n",
    "    tec_set_point_temperature = ([\"idd_mux\",\"idd_iter\", \"idd_eb\", \"idd_sppd\", \"idd_bw_lambda\",\"idd_wpe\"], tec_set_point_temperature),\n",
    "    warning_flag = ([\"idd_mux\",\"idd_iter\", \"idd_eb\", \"idd_sppd\", \"idd_bw_lambda\", \"idd_wpe\"], warning_flag),\n",
    "    peak_current_array = ([\"idd_mux\",\"idd_iter\", \"idd_eb\", \"idd_sppd\", \"idd_bw_lambda\", \"idd_wpe\", \"idd_laser\"], peak_current_array),\n",
    "    output_power_array = ([\"idd_mux\",\"idd_iter\", \"idd_eb\", \"idd_sppd\", \"idd_bw_lambda\", \"idd_wpe\", \"idd_laser\"], output_power_array),\n",
    "    output_lambda_array = ([\"idd_mux\",\"idd_iter\", \"idd_eb\", \"idd_sppd\", \"idd_bw_lambda\", \"idd_wpe\", \"idd_laser\"], output_lambda_array),\n",
    "    drive_current_array = ([\"idd_mux\",\"idd_iter\", \"idd_eb\", \"idd_sppd\", \"idd_bw_lambda\", \"idd_wpe\", \"idd_laser\"], drive_current_array),\n",
    "    enablence_mux_mc = ([\"idd_iter\", \"idd_laser\", \"idd_eb\"], enablence_mux_mc),\n",
    "    sppd_laser_mc = ([\"idd_iter\", \"idd_laser\", \"idd_sppd\"], sppd_laser_mc),\n",
    "    wpe_slope_factor_mc = ([\"idd_iter\", \"idd_laser\", \"idd_wpe\"], wpe_slope_factor_mc),\n",
    "    junction_temperature_mc = ([\"idd_mux\",\"idd_iter\", \"idd_eb\", \"idd_sppd\", \"idd_bw_lambda\", \"idd_wpe\", \"idd_laser\"], junction_temperature_array)\n",
    "   ),\n",
    "  coords=dict(\n",
    "    idd_mux = np.array([0]),\n",
    "    idd_iter = range(no_iterations),\n",
    "    idd_eb = range(len(enablence_mux_3sigma)),\n",
    "    idd_sppd = range(len(sppd_laser_3sigma)),\n",
    "    idd_bw_lambda = range(len(enablence_mux_bw_lambda)),\n",
    "    idd_laser = range(no_lasers),\n",
    "    idd_wpe = range(len(wpe_slope_3sigma))\n",
    "  ),\n",
    "  attrs = dict(description = \"SPPD CLM Calibration data for Monte Carlo simulations - dated: 2024-03-09\")\n",
    ")"
   ]
  },
  {
   "cell_type": "code",
   "execution_count": 7,
   "metadata": {},
   "outputs": [],
   "source": [
    "data.to_netcdf(\"../simulation_data/sppd_clm_calibration_1_mux_drive_current_tuning_calibration_mc_20240309_v0p2.nc\")"
   ]
  },
  {
   "cell_type": "code",
   "execution_count": null,
   "metadata": {},
   "outputs": [],
   "source": []
  }
 ],
 "metadata": {
  "kernelspec": {
   "display_name": "lmphoton",
   "language": "python",
   "name": "python3"
  },
  "language_info": {
   "codemirror_mode": {
    "name": "ipython",
    "version": 3
   },
   "file_extension": ".py",
   "mimetype": "text/x-python",
   "name": "python",
   "nbconvert_exporter": "python",
   "pygments_lexer": "ipython3",
   "version": "3.11.7"
  }
 },
 "nbformat": 4,
 "nbformat_minor": 2
}
