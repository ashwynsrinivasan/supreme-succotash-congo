{
 "cells": [
  {
   "cell_type": "code",
   "execution_count": 1,
   "id": "0bcf3c29-3f56-44ba-9f84-271e760f7d9e",
   "metadata": {},
   "outputs": [],
   "source": [
    "import numpy as np"
   ]
  },
  {
   "cell_type": "code",
   "execution_count": 2,
   "id": "21de105a-67b3-4bd6-aee5-22a3972cd896",
   "metadata": {},
   "outputs": [],
   "source": [
    "import pandas as pd\n",
    "\n",
    "df = pd.read_excel(r\"EBMUX_LD_and_mPD.xlsx\")"
   ]
  },
  {
   "cell_type": "code",
   "execution_count": 3,
   "id": "04ddc52c-9d8c-4a3f-bbf0-829fc5f167bc",
   "metadata": {},
   "outputs": [],
   "source": [
    "max_lc_ch_5 = np.max(df['LD ch 5'])\n",
    "max_mpd_ch_5 = np.max(df['mPDch 5'])"
   ]
  },
  {
   "cell_type": "code",
   "execution_count": 4,
   "id": "c1e1bfcd-3d7a-4866-a675-57b3da25be68",
   "metadata": {},
   "outputs": [],
   "source": [
    "arg_max_lc_ch_5 = np.argmax(df['LD ch 5'])\n",
    "arg_max_mpd_ch_5 = np.argmax(df['mPDch 5'])\n",
    "\n",
    "arg_min_1_lc_ch_5 = np.argmin(np.abs(df['LD ch 5'].values[0:arg_max_lc_ch_5]+1.0-max_lc_ch_5))\n",
    "arg_min_1_mpd_ch_5 = np.argmin(np.abs(df['mPDch 5'].values[0:arg_max_lc_ch_5]+1.0-max_mpd_ch_5))\n",
    "arg_min_2_lc_ch_5 = np.argmin(np.abs(df['LD ch 5'].values[arg_max_lc_ch_5::]+1.0-max_lc_ch_5))+arg_max_lc_ch_5\n",
    "arg_min_2_mpd_ch_5 = np.argmin(np.abs(df['mPDch 5'].values[arg_max_lc_ch_5::]+1.0-max_mpd_ch_5))+arg_max_lc_ch_5\n",
    "\n",
    "bw_ebmux = (df['wavelength'].values[arg_min_2_lc_ch_5] - df['wavelength'].values[arg_min_1_lc_ch_5])*0.5e-9\n",
    "bw_ebmux_mpd = (df['wavelength'].values[arg_min_2_mpd_ch_5] - df['wavelength'].values[arg_min_1_mpd_ch_5])*0.5e-9\n",
    "\n",
    "il_ebmux = max_lc_ch_5\n",
    "il_ebmux_mpd = max_mpd_ch_5"
   ]
  },
  {
   "cell_type": "code",
   "execution_count": 5,
   "id": "3f496b74-c173-4bc2-a999-b8d1e0b38714",
   "metadata": {},
   "outputs": [
    {
     "name": "stdout",
     "output_type": "stream",
     "text": [
      "-1.68434042988738 -18.1491388318753 3.6136136135996826e-10 1.5215215215505396e-10\n"
     ]
    }
   ],
   "source": [
    "print(il_ebmux, il_ebmux_mpd, bw_ebmux, bw_ebmux_mpd)"
   ]
  }
 ],
 "metadata": {
  "kernelspec": {
   "display_name": "Python 3 (ipykernel)",
   "language": "python",
   "name": "python3"
  },
  "language_info": {
   "codemirror_mode": {
    "name": "ipython",
    "version": 3
   },
   "file_extension": ".py",
   "mimetype": "text/x-python",
   "name": "python",
   "nbconvert_exporter": "python",
   "pygments_lexer": "ipython3",
   "version": "3.11.7"
  }
 },
 "nbformat": 4,
 "nbformat_minor": 5
}
