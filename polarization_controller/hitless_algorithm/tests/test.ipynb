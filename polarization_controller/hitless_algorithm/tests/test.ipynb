{
 "cells": [
  {
   "cell_type": "code",
   "execution_count": 1,
   "metadata": {},
   "outputs": [],
   "source": [
    "import numpy as np\n",
    "import scipy.constants as const\n",
    "import matplotlib.pyplot as plt\n",
    "\n",
    "import warnings\n",
    "warnings.filterwarnings(\"ignore\")"
   ]
  },
  {
   "cell_type": "code",
   "execution_count": 27,
   "metadata": {},
   "outputs": [],
   "source": [
    "wavelength = np.linspace(1.27, 1.33, 1001) * 1e-6\n",
    "theta_sweep = np.linspace(0.0, np.pi, 11)\n",
    "\n",
    "pol_frac = np.linspace(0.0, 1.0, 11)\n",
    "reshaped_pol_frac = np.ones((1, 1, len(wavelength), len(theta_sweep), len(pol_frac)))\n",
    "\n",
    "for idd_pol_frac in range(len(pol_frac)):\n",
    "              reshaped_pol_frac[:, :, :, :, idd_pol_frac] = pol_frac[idd_pol_frac]\n",
    "\n",
    "delay = 0.5e-12 # 250 fs delay"
   ]
  },
  {
   "cell_type": "code",
   "execution_count": 5,
   "metadata": {},
   "outputs": [],
   "source": [
    "def directional_coupler(splitratio  = 0.5):\n",
    "  a = np.sqrt(1-splitratio)\n",
    "  b = 1j*np.sqrt(splitratio)\n",
    "  dc_t_matrix = np.zeros((2,2,len(wavelength), len(theta_sweep), len(pol_frac)), dtype=complex)\n",
    "  dc_t_matrix[0,0,:,:,:] = a\n",
    "  dc_t_matrix[0,1,:,:,:] = b\n",
    "  dc_t_matrix[1,0,:,:,:] = b\n",
    "  dc_t_matrix[1,1,:,:,:] = a\n",
    "  return dc_t_matrix\n",
    "\n",
    "def phase_shift(phi):\n",
    "  phase_shift_t_matrix = np.zeros((2,2, len(wavelength), len(phi), len(pol_frac)), dtype=complex)\n",
    "  for idd_phi, phi_val in enumerate(phi):\n",
    "    phase_shift_t_matrix[0,0,:,idd_phi,:] = np.exp(-1j*phi_val)\n",
    "    phase_shift_t_matrix[1,1,:,idd_phi,:] = np.exp(1j*phi_val)\n",
    "  return phase_shift_t_matrix\n",
    "\n",
    "def mzi(phi):\n",
    "  return directional_coupler(0.5) @ phase_shift(phi) @ directional_coupler(0.5)\n",
    "\n",
    "# input signal top element is TM and bottom is TE\n",
    "def psr(delay, wavelength):\n",
    "  psr_t_matrix = np.zeros((2,2,len(wavelength), len(theta_sweep), len(pol_frac)), dtype=complex)\n",
    "  for idd_wavelength, wavelength_val in enumerate(wavelength):\n",
    "    phase_1 = 2*np.pi/wavelength_val * delay * const.c\n",
    "    psr_t_matrix[0,0,idd_wavelength, :, :] = np.exp(-1j*phase_1)\n",
    "    psr_t_matrix[1,1,idd_wavelength, :, :] = 1\n",
    "  return psr_t_matrix"
   ]
  },
  {
   "cell_type": "code",
   "execution_count": 13,
   "metadata": {},
   "outputs": [],
   "source": [
    "wavelength = np.linspace(1.27, 1.33, 1001) * 1e-6\n",
    "pol_frac = np.linspace(0, 1, num=11)\n",
    "theta_sweep = np.linspace(0.0, np.pi, 11)\n",
    "delay = 0.5e-12 # 250 fs delay\n",
    "\n",
    "psr_tm = psr(delay, wavelength)\n",
    "psr_tm.shape\n",
    "\n",
    "phase_shifter_tm = phase_shift(theta_sweep)\n",
    "phase_shifter_pi = phase_shift(np.ones(len(theta_sweep))*np.pi)\n",
    "phase_shifter_pi_by_2 = phase_shift(np.ones(len(theta_sweep))*np.pi/2)\n",
    "phase_shifter_0 = phase_shift(np.ones(len(theta_sweep)))\n",
    "\n",
    "directional_coupler_50_50 = directional_coupler(0.5)"
   ]
  },
  {
   "cell_type": "code",
   "execution_count": 14,
   "metadata": {},
   "outputs": [
    {
     "name": "stdout",
     "output_type": "stream",
     "text": [
      "(2, 2, 1001, 11, 11)\n",
      "(2, 2, 1001, 11, 11)\n",
      "(2, 2, 1001, 11, 11)\n",
      "(2, 2, 1001, 11, 11)\n",
      "(2, 2, 1001, 11, 11)\n",
      "(2, 2, 1001, 11, 11)\n"
     ]
    }
   ],
   "source": [
    "print(directional_coupler_50_50.shape)\n",
    "print(psr_tm.shape)\n",
    "print(phase_shifter_tm.shape)\n",
    "print(phase_shifter_pi.shape)\n",
    "print(phase_shifter_pi_by_2.shape)\n",
    "print(phase_shifter_0.shape)"
   ]
  },
  {
   "cell_type": "code",
   "execution_count": 23,
   "metadata": {},
   "outputs": [],
   "source": [
    "\n",
    "output_signal_psrc_port1 = directional_coupler_50_50 @ phase_shifter_tm @ directional_coupler_50_50 @ phase_shifter_pi @ directional_coupler_50_50 @ phase_shifter_pi @ directional_coupler_50_50 @ phase_shifter_0 @ psr_tm"
   ]
  },
  {
   "cell_type": "code",
   "execution_count": 24,
   "metadata": {},
   "outputs": [
    {
     "data": {
      "text/plain": [
       "(2, 2, 1001, 11, 11)"
      ]
     },
     "execution_count": 24,
     "metadata": {},
     "output_type": "execute_result"
    }
   ],
   "source": [
    "output_signal_psrc_port1.shape"
   ]
  },
  {
   "cell_type": "code",
   "execution_count": 34,
   "metadata": {},
   "outputs": [
    {
     "data": {
      "text/plain": [
       "(2, 2, 1001, 11, 1)"
      ]
     },
     "execution_count": 34,
     "metadata": {},
     "output_type": "execute_result"
    }
   ],
   "source": [
    "final = output_signal_psrc_port1 @ pol_frac.reshape(len(pol_frac),1)\n",
    "final.shape"
   ]
  },
  {
   "cell_type": "code",
   "execution_count": 18,
   "metadata": {},
   "outputs": [
    {
     "data": {
      "text/plain": [
       "array([[[[[0. , 0.1, 0.2, 0.3, 0.4, 0.5, 0.6, 0.7, 0.8, 0.9, 1. ]]]]])"
      ]
     },
     "execution_count": 18,
     "metadata": {},
     "output_type": "execute_result"
    }
   ],
   "source": [
    "pol_frac.reshape(1,1,1,1,11)"
   ]
  },
  {
   "cell_type": "code",
   "execution_count": null,
   "metadata": {},
   "outputs": [],
   "source": [
    "output_signal_psrc_port1 = np.zeros((len(wavelength), len(pol_frac), len(theta_sweep)))\n",
    "output_signal_psrc_port0 = np.zeros((len(wavelength), len(pol_frac), len(theta_sweep)))\n",
    "\n",
    "for idd_theta, theta_val in enumerate(theta_sweep):\n",
    "  for idd_pol_frac, pol_frac_val in enumerate(pol_frac):\n",
    "    input_state = np.array([[pol_frac_val],[1-pol_frac_val]])/np.sqrt(pol_frac_val**2 + (1-pol_frac_val)**2)\n",
    "    for idd_wavelength, wavelength_val in enumerate(wavelength):\n",
    "      response_value = directional_coupler(0.5) @ phase_shift(theta_val) @ directional_coupler(0.5) @ phase_shift(np.pi) @ directional_coupler(0.5) @ phase_shift(np.pi) @ directional_coupler(0.5) @ phase_shift(0.001) @ psr(delay, wavelength_val) @ input_state\n",
    "      output_signal_psrc_port1[idd_wavelength][idd_pol_frac][idd_theta] = np.abs(response_value[0])\n",
    "      output_signal_psrc_port0[idd_wavelength][idd_pol_frac][idd_theta] = np.abs(response_value[1])\n",
    "max_signal_psrc_port1 = np.max(output_signal_psrc_port1, axis=0)\n",
    "max_signal_psrc_port0 = np.max(output_signal_psrc_port0, axis=0)\n",
    "min_signal_psrc_port1 = np.min(output_signal_psrc_port1, axis=0)\n",
    "min_signal_psrc_port0 = np.min(output_signal_psrc_port0, axis=0)\n",
    "plt.figure(figsize=(30,3.5))\n",
    "for idd_pol_frac, pol_frac_val in enumerate(pol_frac):\n",
    "  plt.subplot(1,2,1)\n",
    "  plt.plot(theta_sweep/np.pi, 10*np.log10(max_signal_psrc_port1[idd_pol_frac,:]), label=f\"TE fraction = {pol_frac_val*100:0.0f}%\")\n",
    "  plt.ylim([-20,0])\n",
    "  plt.title(\"PSRC output port 1\")\n",
    "  plt.xlabel(r\"$\\theta$ [$\\pi$]\")\n",
    "  plt.ylabel(\"Min Loss [dB]\")\n",
    "  plt.legend()\n",
    "  plt.subplot(1,2,2)\n",
    "  plt.plot(theta_sweep/np.pi, 10*np.log10(min_signal_psrc_port1[idd_pol_frac,:]), label=f\"TE fraction = {pol_frac_val*100:0.0f}%\")\n",
    "  plt.legend()\n",
    "  plt.ylim([-20,0])\n",
    "  plt.title(\"PSRC output port 1\")\n",
    "  plt.xlabel(r\"$\\theta$ [$\\pi$]\")\n",
    "  plt.ylabel(\"Max Loss [dB]\")\n",
    "plt.tight_layout()\n",
    "plt.show()\n",
    "plt.figure(figsize=(30,7))\n",
    "for idd_theta, theta_val in enumerate(theta_sweep):\n",
    "  plt.subplot(2,int(len(theta_sweep)/2),idd_theta+1)\n",
    "  for idd_pol_frac, pol_frac_val in enumerate(pol_frac):\n",
    "    plt.plot(wavelength, 10*np.log10(output_signal_psrc_port1[:,idd_pol_frac,idd_theta]), label=f\"TE fraction = {pol_frac_val*100:0.2f}%\")\n",
    "    plt.title(f\"PSRC output port 1 \\n theta={theta_val/np.pi:0.1f} [pi]\")\n",
    "    plt.xlabel(r\"Wavelength [$\\mu$m]\")\n",
    "    plt.ylabel(\"Min Loss [dB]\")\n",
    "    plt.ylim([-20,0])\n",
    "    plt.legend()\n",
    "plt.tight_layout()\n",
    "plt.show()"
   ]
  },
  {
   "cell_type": "code",
   "execution_count": null,
   "metadata": {},
   "outputs": [],
   "source": []
  },
  {
   "cell_type": "code",
   "execution_count": null,
   "metadata": {},
   "outputs": [],
   "source": [
    "plt.figure(figsize=(20,5))\n",
    "plt.subplot(1,2,1)\n",
    "plt.contourf(theta_sweep/np.pi, pol_frac, 10*np.log10(max_signal_psrc_port1), levels=100)\n",
    "plt.colorbar()\n",
    "plt.subplot(1,2,2)\n",
    "plt.contourf(theta_sweep/np.pi, pol_frac, 10*np.log10(min_signal_psrc_port1), levels=100)\n",
    "plt.colorbar()"
   ]
  },
  {
   "cell_type": "code",
   "execution_count": null,
   "metadata": {},
   "outputs": [],
   "source": [
    "output_signal_psrc_port1 = np.zeros((len(wavelength), len(pol_frac), len(theta_sweep)))\n",
    "output_signal_psrc_port0 = np.zeros((len(wavelength), len(pol_frac), len(theta_sweep)))\n",
    "\n",
    "for idd_theta, theta_val in enumerate(theta_sweep):\n",
    "  for idd_pol_frac, pol_frac_val in enumerate(pol_frac):\n",
    "    input_state = np.array([[pol_frac_val],[1-pol_frac_val]])/np.sqrt(pol_frac_val**2 + (1-pol_frac_val)**2)\n",
    "    for idd_wavelength, wavelength_val in enumerate(wavelength):\n",
    "      response_value = directional_coupler(0.05) @ phase_shift(theta_val) @ directional_coupler(0.5) @ phase_shift(np.pi) @ directional_coupler(0.5) @ phase_shift(np.pi) @ directional_coupler(0.5) @ phase_shift(0.001) @ psr(delay, wavelength_val) @ input_state\n",
    "      output_signal_psrc_port1[idd_wavelength][idd_pol_frac][idd_theta] = np.abs(response_value[0])\n",
    "      output_signal_psrc_port0[idd_wavelength][idd_pol_frac][idd_theta] = np.abs(response_value[1])\n",
    "max_signal_psrc_port1 = np.max(output_signal_psrc_port1, axis=0)\n",
    "max_signal_psrc_port0 = np.max(output_signal_psrc_port0, axis=0)\n",
    "min_signal_psrc_port1 = np.min(output_signal_psrc_port1, axis=0)\n",
    "min_signal_psrc_port0 = np.min(output_signal_psrc_port0, axis=0)\n",
    "plt.figure(figsize=(30,3.5))\n",
    "for idd_pol_frac, pol_frac_val in enumerate(pol_frac):\n",
    "  plt.subplot(1,2,1)\n",
    "  plt.plot(theta_sweep/np.pi, 10*np.log10(max_signal_psrc_port1[idd_pol_frac,:]), label=f\"TE fraction = {pol_frac_val*100:0.0f}%\")\n",
    "  plt.ylim([-20,0])\n",
    "  plt.title(\"PSRC output port 1\")\n",
    "  plt.xlabel(r\"$\\theta$ [$\\pi$]\")\n",
    "  plt.ylabel(\"Min Loss [dB]\")\n",
    "  plt.legend()\n",
    "  plt.subplot(1,2,2)\n",
    "  plt.plot(theta_sweep/np.pi, 10*np.log10(min_signal_psrc_port1[idd_pol_frac,:]), label=f\"TE fraction = {pol_frac_val*100:0.0f}%\")\n",
    "  plt.legend()\n",
    "  plt.ylim([-20,0])\n",
    "  plt.title(\"PSRC output port 1\")\n",
    "  plt.xlabel(r\"$\\theta$ [$\\pi$]\")\n",
    "  plt.ylabel(\"Max Loss [dB]\")\n",
    "plt.tight_layout()\n",
    "plt.show()\n",
    "plt.figure(figsize=(30,7))\n",
    "for idd_theta, theta_val in enumerate(theta_sweep):\n",
    "  plt.subplot(2,int(len(theta_sweep)/2),idd_theta+1)\n",
    "  for idd_pol_frac, pol_frac_val in enumerate(pol_frac):\n",
    "    plt.plot(wavelength, 10*np.log10(output_signal_psrc_port1[:,idd_pol_frac,idd_theta]), label=f\"TE fraction = {pol_frac_val*100:0.2f}%\")\n",
    "    plt.title(f\"PSRC output port 1 \\n theta={theta_val/np.pi:0.1f} [pi]\")\n",
    "    plt.xlabel(r\"Wavelength [$\\mu$m]\")\n",
    "    plt.ylabel(\"Min Loss [dB]\")\n",
    "    plt.ylim([-20,0])\n",
    "    plt.legend()\n",
    "plt.tight_layout()\n",
    "plt.show()"
   ]
  },
  {
   "cell_type": "code",
   "execution_count": null,
   "metadata": {},
   "outputs": [],
   "source": [
    "plt.figure(figsize=(20,5))\n",
    "plt.subplot(1,2,1)\n",
    "plt.contourf(theta_sweep/np.pi, pol_frac, 10*np.log10(max_signal_psrc_port1), levels=100)\n",
    "plt.colorbar()\n",
    "plt.subplot(1,2,2)\n",
    "plt.contourf(theta_sweep/np.pi, pol_frac, 10*np.log10(min_signal_psrc_port1), levels=100)\n",
    "plt.colorbar()"
   ]
  }
 ],
 "metadata": {
  "kernelspec": {
   "display_name": "lmpython",
   "language": "python",
   "name": "python3"
  },
  "language_info": {
   "codemirror_mode": {
    "name": "ipython",
    "version": 3
   },
   "file_extension": ".py",
   "mimetype": "text/x-python",
   "name": "python",
   "nbconvert_exporter": "python",
   "pygments_lexer": "ipython3",
   "version": "3.12.4"
  }
 },
 "nbformat": 4,
 "nbformat_minor": 2
}
