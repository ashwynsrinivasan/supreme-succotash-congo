{
 "cells": [
  {
   "cell_type": "code",
   "execution_count": 1,
   "metadata": {},
   "outputs": [],
   "source": [
    "import numpy as np\n",
    "import scipy.constants as const\n",
    "import matplotlib.pyplot as plt\n",
    "\n",
    "import warnings\n",
    "warnings.filterwarnings(\"ignore\")"
   ]
  },
  {
   "cell_type": "code",
   "execution_count": 2,
   "metadata": {},
   "outputs": [],
   "source": [
    "def directional_coupler(splitratio  = 0.5):\n",
    "              a = np.sqrt(1-splitratio)\n",
    "              b = 1j*np.sqrt(splitratio)\n",
    "              return [[a, b,], [b, a]]\n",
    "\n",
    "def phase_shift(phi):\n",
    "              return np.array([[np.exp(-1j*phi/2), 0], [0, np.exp(1j*phi/2)]])\n",
    "\n",
    "def mzi(phi):\n",
    "              return directional_coupler(0.5) @ phase_shift(phi) @ directional_coupler(0.5)\n",
    "\n",
    "# input signal top element is TM and bottom is TE\n",
    "def psr(delay, wavelength):\n",
    "              phase_1 = 2*np.pi/wavelength * delay * const.c\n",
    "              return np.array([[np.exp(-1j*phase_1), 0], [0, 1]])"
   ]
  },
  {
   "cell_type": "code",
   "execution_count": null,
   "metadata": {},
   "outputs": [],
   "source": [
    "wavelength = np.linspace(1.3, 1.32, num=101) * 1e-6\n",
    "pol_frac = np.linspace(0, 1, num=11)\n",
    "directioanal_coupler_split_ratio = np.linspace(0, 1, num=11)\n",
    "delay = 1e-12 # 250 fs delay\n",
    "output_signal_psrc_port1 = np.zeros((len(wavelength), len(pol_frac), len(directioanal_coupler_split_ratio), len(directioanal_coupler_split_ratio)))\n",
    "output_signal_psrc_port0 = np.zeros((len(wavelength), len(pol_frac), len(directioanal_coupler_split_ratio), len(directioanal_coupler_split_ratio)))\n",
    "\n",
    "for idd_dc1, dc1 in enumerate(directioanal_coupler_split_ratio):\n",
    "              for idd_dc2, dc2 in enumerate(directioanal_coupler_split_ratio):\n",
    "                            for idd_pol, pol_val in enumerate(pol_frac):\n",
    "                                          for idd_wav, wavelength in enumerate(wavelength):\n",
    "                                                        "
   ]
  }
 ],
 "metadata": {
  "kernelspec": {
   "display_name": "lmpython",
   "language": "python",
   "name": "python3"
  },
  "language_info": {
   "codemirror_mode": {
    "name": "ipython",
    "version": 3
   },
   "file_extension": ".py",
   "mimetype": "text/x-python",
   "name": "python",
   "nbconvert_exporter": "python",
   "pygments_lexer": "ipython3",
   "version": "3.12.4"
  }
 },
 "nbformat": 4,
 "nbformat_minor": 2
}
