{
 "cells": [
  {
   "cell_type": "code",
   "execution_count": 1,
   "metadata": {},
   "outputs": [],
   "source": [
    "import numpy as np\n",
    "from tqdm import tqdm\n",
    "import xarray as xr\n",
    "import matplotlib.pyplot as plt\n",
    "import warnings\n",
    "from itertools import product\n",
    "from polarization_controller import optical_fiber, polarization_splitter_rotator, mzi, phase_aligner, polarization_controller\n",
    "from scipy.optimize import minimize\n",
    "warnings.filterwarnings(\"ignore\")\n",
    "plt.style.use(\"plot_style.mplstyle\")"
   ]
  },
  {
   "cell_type": "markdown",
   "metadata": {},
   "source": [
    "# "
   ]
  },
  {
   "cell_type": "code",
   "execution_count": 2,
   "metadata": {},
   "outputs": [],
   "source": [
    "p_bidi = polarization_controller(tx_num_mzi_stages = 1)"
   ]
  },
  {
   "cell_type": "code",
   "execution_count": 3,
   "metadata": {},
   "outputs": [],
   "source": [
    "sample_points = 201\n",
    "\n",
    "phase_shifts = np.linspace(-np.pi, np.pi, sample_points)\n",
    "\n",
    "rotation_rx = phase_shifts[np.random.permutation(sample_points)]\n",
    "rotation_ry = phase_shifts[np.random.permutation(sample_points)]\n",
    "rotation_rz = phase_shifts[np.random.permutation(sample_points)]\n",
    "rotation_delta = phase_shifts[np.random.permutation(sample_points)]\n",
    "\n",
    "p_bidi.fiber_1._rotation = (rotation_rx[0], rotation_ry[0], rotation_rz[0], rotation_delta[0])\n",
    "p_bidi.fiber_2._rotation = (rotation_rx[1], rotation_ry[1], rotation_rz[1], rotation_delta[1])\n",
    "p_bidi.fiber_3._rotation = (rotation_rx[2], rotation_ry[2], rotation_rz[2], rotation_delta[2])\n",
    "p_bidi.fiber_4._rotation = (rotation_rx[3], rotation_ry[3], rotation_rz[3], rotation_delta[3])\n",
    "p_bidi.fiber_5._rotation = (rotation_rx[4], rotation_ry[4], rotation_rz[4], rotation_delta[4])\n",
    "p_bidi.fiber_6._rotation = (rotation_rx[5], rotation_ry[5], rotation_rz[5], rotation_delta[5])\n",
    "p_bidi.fiber_7._rotation = (rotation_rx[6], rotation_ry[6], rotation_rz[6], rotation_delta[6])\n",
    "\n",
    "p_bidi.oc_1._return_loss = -35\n",
    "p_bidi.oc_2._return_loss = -35\n",
    "p_bidi.oc_3._return_loss = -35\n",
    "p_bidi.oc_4._return_loss = -35\n",
    "p_bidi.oc_5._return_loss = -35\n",
    "p_bidi.oc_6._return_loss = -35\n",
    "\n",
    "p_bidi.recursive_update()"
   ]
  },
  {
   "cell_type": "code",
   "execution_count": 4,
   "metadata": {},
   "outputs": [
    {
     "name": "stderr",
     "output_type": "stream",
     "text": [
      "100%|██████████| 3721/3721 [00:02<00:00, 1661.81it/s]\n"
     ]
    }
   ],
   "source": [
    "no_sweep = 61\n",
    "voltages = np.linspace(-3.0, 3.0, no_sweep)\n",
    "\n",
    "transmit_tm_forward = []\n",
    "transmit_te_forward  = []\n",
    "reflect_te_forward = []\n",
    "reflect_tm_forward = []\n",
    "\n",
    "transmit_tm_reverse = []\n",
    "transmit_te_reverse  = []\n",
    "reflect_te_reverse = []\n",
    "reflect_tm_reverse = []\n",
    "\n",
    "input_state_forward = np.array([1, 0, 0, 0])\n",
    "input_state_reverse = np.array([0, 0, 1, 0])\n",
    "\n",
    "for tx_pa_voltage, tx_mzi_voltage in tqdm(product(voltages, voltages), total=no_sweep**2):\n",
    "  p_bidi.bidi_tx.pa.XPS1.heater_voltage = 0.0\n",
    "  p_bidi.bidi_tx.pa.XPS2.heater_voltage = 0.0\n",
    "  if tx_pa_voltage > 0.0:\n",
    "    p_bidi.bidi_tx.pa.XPS1.heater_voltage = tx_pa_voltage\n",
    "  if tx_pa_voltage < 0.0:\n",
    "    p_bidi.bidi_tx.pa.XPS2.heater_voltage = -tx_pa_voltage\n",
    "\n",
    "\n",
    "  p_bidi.bidi_tx.mzi_1.XPS1.heater_voltage = 0.0\n",
    "  p_bidi.bidi_tx.mzi_1.XPS2.heater_voltage = 0.0\n",
    "  if tx_mzi_voltage > 0.0:\n",
    "    p_bidi.bidi_tx.mzi_1.XPS1.heater_voltage = tx_mzi_voltage\n",
    "  if tx_mzi_voltage < 0.0:\n",
    "    p_bidi.bidi_tx.mzi_1.XPS2.heater_voltage = -tx_mzi_voltage\n",
    "    \n",
    "  p_bidi.recursive_update()\n",
    "\n",
    "  output_state_forward = p_bidi.smatrix @ input_state_forward\n",
    "  \n",
    "  transmit_te_forward.append(np.abs(output_state_forward[2])**2)\n",
    "  transmit_tm_forward.append(np.abs(output_state_forward[3])**2)\n",
    "  reflect_te_forward.append(np.abs(output_state_forward[0])**2)\n",
    "  reflect_tm_forward.append(np.abs(output_state_forward[1])**2)\n",
    "\n",
    "  output_state_reverse = p_bidi.smatrix @ input_state_reverse\n",
    "  \n",
    "  transmit_te_reverse.append(np.abs(output_state_reverse[0])**2)\n",
    "  transmit_tm_reverse.append(np.abs(output_state_reverse[1])**2)\n",
    "  reflect_te_reverse.append(np.abs(output_state_reverse[2])**2)\n",
    "  reflect_tm_reverse.append(np.abs(output_state_reverse[3])**2)"
   ]
  },
  {
   "cell_type": "code",
   "execution_count": 5,
   "metadata": {},
   "outputs": [
    {
     "name": "stdout",
     "output_type": "stream",
     "text": [
      "-1.9 -2.4\n"
     ]
    }
   ],
   "source": [
    "index_mzi = np.argmax(transmit_tm_forward)%no_sweep\n",
    "index_pa = int(np.argmax(transmit_tm_forward)/no_sweep)\n",
    "print(voltages[index_mzi], voltages[index_pa])"
   ]
  },
  {
   "cell_type": "code",
   "execution_count": 6,
   "metadata": {},
   "outputs": [],
   "source": [
    "p_bidi.bidi_tx.pa.XPS1.heater_voltage = 0.0\n",
    "p_bidi.bidi_rx.pa.XPS2.heater_voltage = 0.0\n",
    "\n",
    "if voltages[index_pa] > 0.0:\n",
    "  p_bidi.bidi_tx.pa.XPS1.heater_voltage = voltages[index_pa]\n",
    "if voltages[index_pa] < 0.0:\n",
    "  p_bidi.bidi_tx.pa.XPS2.heater_voltage = -voltages[index_pa]\n",
    "\n",
    "p_bidi.bidi_tx.mzi_1.XPS1.heater_voltage = 0.0\n",
    "p_bidi.bidi_tx.mzi_1.XPS2.heater_voltage = 0.0\n",
    "\n",
    "if voltages[index_mzi] > 0.0:\n",
    "  p_bidi.bidi_tx.mzi_1.XPS1.heater_voltage = voltages[index_mzi]\n",
    "if voltages[index_mzi] < 0.0:\n",
    "  p_bidi.bidi_tx.mzi_1.XPS2.heater_voltage = -voltages[index_mzi]\n",
    "\n",
    "p_bidi.recursive_update()"
   ]
  },
  {
   "cell_type": "code",
   "execution_count": 7,
   "metadata": {},
   "outputs": [
    {
     "name": "stdout",
     "output_type": "stream",
     "text": [
      "Output state direction:  [5.39756367e-05 1.16367698e-05 1.69432865e-04 9.44560402e-02]\n",
      "Output state direction in log:  [-42.67802226 -49.34167556 -37.71002345 -10.24770265]\n",
      "Output state reverse direction:  [1.69432865e-04 1.03385144e-01 6.94911312e-05 4.41707693e-05]\n",
      "Output state direction in log:  [-37.71002345  -9.85541864 -41.58070619 -43.54865037]\n"
     ]
    }
   ],
   "source": [
    "input_state_forward = np.array([1, 0, 0, 0])\n",
    "output_state_forward = p_bidi.smatrix @ input_state_forward\n",
    "print(\"Output state direction: \", np.abs(output_state_forward)**2)\n",
    "print(\"Output state direction in log: \", 10*np.log10(np.abs(output_state_forward)**2))\n",
    "\n",
    "input_state_reverse = np.array([0, 0, 1, 0])\n",
    "output_state_reverse = p_bidi.smatrix @ input_state_reverse\n",
    "print(\"Output state reverse direction: \", np.abs(output_state_reverse)**2)\n",
    "print(\"Output state direction in log: \", 10*np.log10(np.abs(output_state_reverse)**2))"
   ]
  }
 ],
 "metadata": {
  "kernelspec": {
   "display_name": "lmphoton",
   "language": "python",
   "name": "python3"
  },
  "language_info": {
   "codemirror_mode": {
    "name": "ipython",
    "version": 3
   },
   "file_extension": ".py",
   "mimetype": "text/x-python",
   "name": "python",
   "nbconvert_exporter": "python",
   "pygments_lexer": "ipython3",
   "version": "3.11.5"
  }
 },
 "nbformat": 4,
 "nbformat_minor": 2
}
