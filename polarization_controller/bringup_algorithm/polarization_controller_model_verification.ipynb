{
 "cells": [
  {
   "cell_type": "code",
   "execution_count": 1,
   "metadata": {},
   "outputs": [],
   "source": [
    "import numpy as np\n",
    "from tqdm import tqdm\n",
    "import xarray as xr\n",
    "import matplotlib.pyplot as plt\n",
    "import warnings\n",
    "from itertools import product\n",
    "from polarization_controller import optical_fiber, polarization_splitter_rotator, mzi, phase_aligner, polarization_bidi, polarization_bidi_double_fiber, polarization_bidi_single_fiber\n",
    "from scipy.optimize import minimize\n",
    "warnings.filterwarnings(\"ignore\")\n",
    "plt.style.use(\"plot_style.mplstyle\")"
   ]
  },
  {
   "cell_type": "code",
   "execution_count": 2,
   "metadata": {},
   "outputs": [],
   "source": [
    "p_cont = polarization_bidi(psr_bool=False, tx_num_mzi_stages=1)"
   ]
  },
  {
   "cell_type": "code",
   "execution_count": 3,
   "metadata": {},
   "outputs": [],
   "source": [
    "sample_points = 201\n",
    "\n",
    "voltages = np.linspace(0, 3, sample_points)\n",
    "phase_shifts = np.linspace(-np.pi, np.pi, sample_points)\n",
    "\n",
    "rotation_rx = phase_shifts[np.random.permutation(sample_points)]\n",
    "rotation_ry = phase_shifts[np.random.permutation(sample_points)]\n",
    "rotation_rz = phase_shifts[np.random.permutation(sample_points)]\n",
    "rotation_delta = phase_shifts[np.random.permutation(sample_points)]\n",
    "\n",
    "p_cont.fiber_1._rotation = (rotation_rx[0], rotation_ry[0], rotation_rz[0], rotation_delta[0])\n",
    "p_cont.fiber_2._rotation = (rotation_rx[1], rotation_ry[1], rotation_rz[1], rotation_delta[1])\n",
    "p_cont.fiber_3._rotation = (rotation_rx[2], rotation_ry[2], rotation_rz[2], rotation_delta[2])\n",
    "p_cont.fiber_4._rotation = (rotation_rx[3], rotation_ry[3], rotation_rz[3], rotation_delta[3])\n",
    "p_cont.fiber_5._rotation = (rotation_rx[4], rotation_ry[4], rotation_rz[4], rotation_delta[4])\n",
    "p_cont.fiber_6._rotation = (rotation_rx[5], rotation_ry[5], rotation_rz[5], rotation_delta[5])\n",
    "p_cont.fiber_7._rotation = (rotation_rx[6], rotation_ry[6], rotation_rz[6], rotation_delta[6])\n",
    "\n",
    "p_cont.recursive_update()"
   ]
  },
  {
   "cell_type": "code",
   "execution_count": 4,
   "metadata": {},
   "outputs": [
    {
     "name": "stderr",
     "output_type": "stream",
     "text": [
      "100%|██████████| 14641/14641 [00:08<00:00, 1746.11it/s]\n",
      "13343it [00:03, 3614.72it/s]\n",
      "100%|██████████| 14641/14641 [00:08<00:00, 1745.41it/s]\n",
      "14641it [00:07, 1839.85it/s]"
     ]
    },
    {
     "name": "stdout",
     "output_type": "stream",
     "text": [
      "XPS0 voltage: 3.6\n",
      "XPS1 voltage: 0.36\n",
      "XPS2 voltage: 1.44\n",
      "XPS3 voltage: 0.36\n"
     ]
    },
    {
     "name": "stderr",
     "output_type": "stream",
     "text": [
      "\n"
     ]
    }
   ],
   "source": [
    "no_sweep = 11\n",
    "voltages = np.linspace(0, 3.6, no_sweep)\n",
    "\n",
    "tap_1 = []\n",
    "tap_2 = []\n",
    "tap_3 = []\n",
    "\n",
    "input_state = np.array([0, 0, 1, 0])\n",
    "\n",
    "for xps0_voltages, xps1_voltages, xps2_voltages, xps3_voltages in tqdm(product(voltages, voltages, voltages, voltages), total=no_sweep**4):\n",
    "  p_cont.bidi_tx.pa.XPS1.heater_voltage = xps0_voltages\n",
    "  p_cont.bidi_tx.pa.XPS2.heater_voltage = xps1_voltages\n",
    "  p_cont.bidi_tx.mzi_1.XPS1.heater_voltage = xps2_voltages\n",
    "  p_cont.bidi_tx.mzi_1.XPS2.heater_voltage = xps3_voltages\n",
    "  p_cont.recursive_update()\n",
    "\n",
    "  output_state = p_cont.smatrix @ input_state\n",
    "\n",
    "  tap_1.append(np.abs(output_state[0])**2)\n",
    "\n",
    "for i, j, k, l in tqdm(product(range(no_sweep), range(no_sweep), range(no_sweep), range(no_sweep))):\n",
    "  if tap_1[i*no_sweep**3 + j*no_sweep**2 + k*no_sweep + l] == np.min(tap_1):\n",
    "    break\n",
    "\n",
    "xps0_voltage_step1 = voltages[i]\n",
    "xps1_voltage_step1 = voltages[j]\n",
    "xps2_voltage_step1 = voltages[k]\n",
    "xps3_voltage_step1 = voltages[l]\n",
    "\n",
    "if xps0_voltage_step1 == np.min(voltages):\n",
    "  index_min = 0 \n",
    "else:\n",
    "  index_min = 1\n",
    "if xps0_voltage_step1 == np.max(voltages):\n",
    "  index_max = 0\n",
    "else:\n",
    "  index_max = 1\n",
    "\n",
    "xps0_voltage_range = np.linspace(xps0_voltage_step1 - index_min*np.diff(voltages)[0], xps0_voltage_step1 + index_max*np.diff(voltages)[0], no_sweep)\n",
    "\n",
    "if xps1_voltage_step1 == np.min(voltages):\n",
    "  index_min = 0\n",
    "else:\n",
    "  index_min = 1 \n",
    "\n",
    "if xps1_voltage_step1 == np.max(voltages):\n",
    "  index_max = 0\n",
    "else:\n",
    "  index_max = 1\n",
    "\n",
    "xps1_voltage_range = np.linspace(xps1_voltage_step1 - index_min*np.diff(voltages)[0], xps1_voltage_step1 + index_max*np.diff(voltages)[0], no_sweep)\n",
    "\n",
    "if xps2_voltage_step1 == np.min(voltages):\n",
    "  index_min = 0 \n",
    "else:\n",
    "  index_min = 1\n",
    "if xps3_voltage_step1 == np.max(voltages):\n",
    "  index_max = 0\n",
    "else:\n",
    "  index_max = 1\n",
    "\n",
    "xps2_voltage_range = np.linspace(xps2_voltage_step1 - index_min*np.diff(voltages)[0], xps2_voltage_step1 + index_max*np.diff(voltages)[0], no_sweep)\n",
    "\n",
    "if xps3_voltage_step1 == np.min(voltages):\n",
    "  index_min = 0\n",
    "else:\n",
    "  index_min = 1 \n",
    "\n",
    "if xps3_voltage_step1 == np.max(voltages):\n",
    "  index_max = 0\n",
    "else:\n",
    "  index_max = 1\n",
    "\n",
    "xps3_voltage_range = np.linspace(xps3_voltage_step1 - index_min*np.diff(voltages)[0], xps3_voltage_step1 + index_max*np.diff(voltages)[0], no_sweep)\n",
    "\n",
    "for xps0_voltages, xps1_voltages, xps2_voltages, xps3_voltages in tqdm(product(xps0_voltage_range, xps1_voltage_range, xps2_voltage_range, xps3_voltage_range), total=no_sweep**4):\n",
    "  p_cont.bidi_tx.pa.XPS1.heater_voltage = xps0_voltages\n",
    "  p_cont.bidi_tx.pa.XPS2.heater_voltage = xps1_voltages\n",
    "  p_cont.bidi_tx.mzi_1.XPS1.heater_voltage = xps2_voltages\n",
    "  p_cont.bidi_tx.mzi_1.XPS2.heater_voltage = xps3_voltages\n",
    "  p_cont.recursive_update()\n",
    "\n",
    "  output_state = p_cont.smatrix @ input_state\n",
    "\n",
    "  tap_1.append(np.abs(output_state[0])**2)\n",
    "\n",
    "for i, j, k, l in tqdm(product(range(no_sweep), range(no_sweep), range(no_sweep), range(no_sweep))):\n",
    "  if tap_1[i*no_sweep**3 + j*no_sweep**2 + k*no_sweep + l] == np.min(tap_1):\n",
    "    break\n",
    "\n",
    "xps0_voltage_opt = xps0_voltage_range[i]\n",
    "xps1_voltage_opt = xps1_voltage_range[j]\n",
    "xps2_voltage_opt = xps2_voltage_range[i]\n",
    "xps3_voltage_opt = xps3_voltage_range[j]\n",
    "\n",
    "print(f\"XPS0 voltage: {xps0_voltage_opt}\")\n",
    "print(f\"XPS1 voltage: {xps1_voltage_opt}\")\n",
    "print(f\"XPS2 voltage: {xps2_voltage_opt}\")\n",
    "print(f\"XPS3 voltage: {xps3_voltage_opt}\")\n",
    "\n",
    "\n",
    "p_cont.bidi_tx.pa.XPS1.heater_voltage = xps0_voltage_opt\n",
    "p_cont.bidi_tx.pa.XPS2.heater_voltage = xps1_voltage_opt\n",
    "p_cont.bidi_tx.mzi_1.XPS1.heater_voltage = xps2_voltage_opt\n",
    "p_cont.bidi_tx.mzi_1.XPS2.heater_voltage = xps3_voltage_opt\n",
    "\n",
    "p_cont.recursive_update()\n",
    "\n"
   ]
  },
  {
   "cell_type": "code",
   "execution_count": 5,
   "metadata": {},
   "outputs": [
    {
     "name": "stdout",
     "output_type": "stream",
     "text": [
      "Output state direction:  [0.00178273 0.00070823 0.07132276 0.00126877]\n",
      "Output state reverse direction:  [0.00195863 0.07132276 0.00064078 0.00141281]\n"
     ]
    }
   ],
   "source": [
    "input_state = np.array([0, 1, 0, 0])\n",
    "output_state = p_cont.smatrix @ input_state\n",
    "print(\"Output state direction: \", np.abs(output_state)**2)\n",
    "\n",
    "input_state_reverse = np.array([0, 0, 1, 0])\n",
    "output_state_reverse = p_cont.smatrix @ input_state_reverse\n",
    "print(\"Output state reverse direction: \", np.abs(output_state_reverse)**2)"
   ]
  }
 ],
 "metadata": {
  "kernelspec": {
   "display_name": "lmphoton",
   "language": "python",
   "name": "python3"
  },
  "language_info": {
   "codemirror_mode": {
    "name": "ipython",
    "version": 3
   },
   "file_extension": ".py",
   "mimetype": "text/x-python",
   "name": "python",
   "nbconvert_exporter": "python",
   "pygments_lexer": "ipython3",
   "version": "3.11.5"
  }
 },
 "nbformat": 4,
 "nbformat_minor": 2
}
