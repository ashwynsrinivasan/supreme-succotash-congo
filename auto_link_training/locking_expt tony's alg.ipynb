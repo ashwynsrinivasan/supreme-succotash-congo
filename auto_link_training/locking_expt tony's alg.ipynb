{
 "cells": [
  {
   "cell_type": "code",
   "execution_count": 106,
   "metadata": {},
   "outputs": [],
   "source": [
    "import numpy as np\n",
    "from transitions import Machine\n",
    "\n",
    "STEP_SIZE = 10\n",
    "# Note: cooling is positive in GHz and heating is negative in GHz\n",
    "\n",
    "NUM_OF_LASERS = 8   # number of lasers and/or MRMs\n",
    "LASER_FREQ_SPACING = 400  # in GHz\n",
    "LASER_FREQ_UNCERTAINTY = 50  # ± this number in GHz\n",
    "\n",
    "MRM_FSR = 1800  # in GHz\n",
    "MRM_FREQ_SPACING = 400  # in GHz\n",
    "MRM_FREQ_UNCERTAINTY = 100  # in GHz\n",
    "INITIAL_COOLDOWN = MRM_FSR // 2  # in GHz\n",
    "\n",
    "# will track the resonances -1*FSR over, 0*FSR over, and 1*FSR over\n",
    "WHICH_RESONANCES = list(range(-10, 11, 1))\n",
    "BARREL_ROLL_SEQ = [0, 5, 1, 6, 2, 7, 3, 4]\n",
    "\n",
    "\n",
    "class Lasers(object):\n",
    "\n",
    "    def __init__(self,\n",
    "                 variations=False,\n",
    "                 corners=False,\n",
    "                 reverse=False,\n",
    "                 offset=0) -> None:\n",
    "        self._delta = None\n",
    "\n",
    "        # start by having all the laser lines 'bright'\n",
    "        # will be replaced by the MRM number that captures that laser\n",
    "        # Note: need to consider upstream vs. downstream\n",
    "        self._brightness = ['bright'] * NUM_OF_LASERS\n",
    "\n",
    "        # If reverse, the first laser line will have the highest frequency\n",
    "        self._reverse = reverse\n",
    "\n",
    "        # offset specifies the additive frequency offset from 0\n",
    "        self._offset = offset\n",
    "\n",
    "        self.populate_laser_lines(variations, corners)        \n",
    "\n",
    "    def populate_laser_lines(self, variations, corners):\n",
    "        # the first laser line is always at 0 GHz\n",
    "        laser_lines = np.arange(\n",
    "            NUM_OF_LASERS, dtype=int) * LASER_FREQ_SPACING\n",
    "\n",
    "        if self._reverse:\n",
    "            laser_lines = np.flip(laser_lines)\n",
    "        \n",
    "        laser_lines += self._offset    \n",
    "    \n",
    "        if variations:\n",
    "            if corners:  # only evaluate the corners\n",
    "                delta = np.random.randint(2, size=laser_lines.size)\n",
    "                delta = 2*delta - 1  # convert to [-1, +1] random numbers\n",
    "                delta *= LASER_FREQ_UNCERTAINTY\n",
    "            else:\n",
    "                delta = np.random.uniform(-1*LASER_FREQ_UNCERTAINTY,\n",
    "                                          LASER_FREQ_UNCERTAINTY,\n",
    "                                          laser_lines.size)\n",
    "            # round to the nearest STEP_SIZE\n",
    "            delta = np.round(delta/STEP_SIZE, decimals=0) * STEP_SIZE\n",
    "            delta = delta.astype(int)\n",
    "\n",
    "            self._delta = delta\n",
    "            laser_lines += delta\n",
    "\n",
    "        self._laser_lines = laser_lines\n",
    "\n",
    "    def capture_laser_line(self, which_laser, which_ring):\n",
    "        assert self._brightness[which_laser] == 'bright', \\\n",
    "            f\"Laser line {which_laser} (at {self._laser_lines[which_laser]} GHz) should be bright to be captured\"\n",
    "        # which_ring will modulate this laser\n",
    "        self._brightness[which_laser] = which_ring\n",
    "\n",
    "    @property\n",
    "    def laser_lines(self):\n",
    "        return self._laser_lines\n",
    "\n",
    "    @property\n",
    "    def brightness(self):\n",
    "        return self._brightness\n",
    "\n",
    "    def __str__(self) -> str:\n",
    "        return f\"Lines: {self.laser_lines}, Brightness: {self.brightness}\"\n",
    "    \n",
    "    def __repr__(self) -> str:\n",
    "        return self.__str__()\n",
    "\n",
    "\n",
    "class RingFSM(object):\n",
    "\n",
    "    states = ['idle', 'cold', 'search', 'lock']\n",
    "\n",
    "    def __init__(self,\n",
    "                 resonances,\n",
    "                 lasers,\n",
    "                 initial_loc=0,\n",
    "                 previous_ring=None,  # None if there's no previous ring, otherwise supply the ring idx\n",
    "                 cool_down_by=INITIAL_COOLDOWN,  # cool down by this amt in GHz\n",
    "                 step_size=STEP_SIZE,\n",
    "                 ) -> None:\n",
    "        self.laser_locs_seen = []\n",
    "        self.laser_brightness_seen = []\n",
    "        self.laser_indices_seen = []\n",
    "        self.loc = initial_loc  # location of the resonance\n",
    "\n",
    "        self.locked_laser_idx = None\n",
    "\n",
    "        self._initial_loc = initial_loc\n",
    "        self._previous_ring = previous_ring\n",
    "        self._initial_resonances = resonances\n",
    "        self._lasers = lasers\n",
    "\n",
    "        self._cool_down_by = cool_down_by\n",
    "        self._step_size = step_size\n",
    "        self._found_all_lines = False\n",
    "\n",
    "        self.machine = Machine(\n",
    "            model=self, states=RingFSM.states, initial='idle')\n",
    "\n",
    "        # 'start' starts the search algorithm\n",
    "        self.machine.add_transition(trigger='start',\n",
    "                                    source='idle',\n",
    "                                    dest='cold',\n",
    "                                    after='cool_step')\n",
    "\n",
    "        # once the ring has cooled, start searching\n",
    "        self.machine.add_transition(trigger='keep_searching',\n",
    "                                    source='cold',\n",
    "                                    dest='search',\n",
    "                                    after='heat_step')\n",
    "\n",
    "        # 'reset' puts the ring back to idle from any state\n",
    "        self.machine.add_transition(trigger='reset',\n",
    "                                    source='*',\n",
    "                                    dest='idle',\n",
    "                                    after='reset_resonances')\n",
    "\n",
    "        # will 'keep_searching' until we find all the laser lines\n",
    "        self.machine.add_transition(\n",
    "            trigger='keep_searching',\n",
    "            source='search',\n",
    "            dest='search',\n",
    "            after='heat_step')\n",
    "\n",
    "        # lock ring once the laser lines have been found\n",
    "        self.machine.add_transition(\n",
    "            trigger='lock_to_line',\n",
    "            source='search',\n",
    "            dest='lock',\n",
    "            after='lock_to_laser',\n",
    "            conditions=['found_all_lines'])\n",
    "\n",
    "    def reset_resonances(self):\n",
    "        # reset everything\n",
    "        self.loc = self._initial_loc\n",
    "        self.laser_locs_seen = []\n",
    "        self.laser_brightness_seen = []\n",
    "        self.laser_indices_seen = []\n",
    "        self._found_all_lines = False\n",
    "\n",
    "    def cool(self, amount):\n",
    "        self.loc += amount\n",
    "\n",
    "    def heat(self, amount):\n",
    "        self.loc -= amount\n",
    "\n",
    "    def cool_step(self):\n",
    "        # cool the resonances by the cool down by amount\n",
    "        self.cool(self._cool_down_by)\n",
    "\n",
    "    def heat_step(self):\n",
    "        # check if there's a laser signal to be found\n",
    "        found = self._check_laser_signal()\n",
    "        # found is tuple (bool, idx | None)\n",
    "        # if found: (True, laser idx), and if not found: (False, None)\n",
    "        if found[0]:\n",
    "            self.laser_locs_seen.append(self.loc)\n",
    "            self.laser_brightness_seen.append(\n",
    "                self._lasers.brightness[found[1]])\n",
    "            self.laser_indices_seen.append(found[1])\n",
    "\n",
    "        # check if we have found all lasers\n",
    "        self._check_exit_search_condition()\n",
    "\n",
    "        # move the resonance location by specified step_size\n",
    "        self.heat(self._step_size)\n",
    "\n",
    "    def lock_to_laser(self):\n",
    "        # jump to the laser signal we want to capture\n",
    "        self.loc = self.laser_locs_seen[-2]\n",
    "        # check and capture that laser signal\n",
    "        self._check_laser_signal(capture=True)\n",
    "\n",
    "    def _check_laser_signal(self, capture=False):\n",
    "        # check if there's any laser signal at this location\n",
    "        found_laser = False\n",
    "        idx = None\n",
    "        for r in self.resonances:\n",
    "            if (r in self._lasers.laser_lines):\n",
    "                # get the index\n",
    "                idx = np.where(self._lasers.laser_lines == r)\n",
    "                assert len(idx) == 1\n",
    "                idx = idx[0][0]\n",
    "                if capture:\n",
    "                    if self._previous_ring is None:\n",
    "                        this_ring = 0\n",
    "                    else:\n",
    "                        this_ring = self._previous_ring + 1\n",
    "                    self._lasers.capture_laser_line(idx, this_ring)\n",
    "                    self.locked_laser_idx = idx\n",
    "                found_laser = True\n",
    "        # if there's a laser there, found_laser will return that laser's index\n",
    "        return (found_laser, idx)\n",
    "\n",
    "    def _check_exit_search_condition(self):\n",
    "        # if we have seen one dim and one bright, we have found all lines\n",
    "        if self._previous_ring is None:  # this is the first ring\n",
    "            if len(self.laser_locs_seen) >= 3:\n",
    "                self._found_all_lines = True\n",
    "        else:\n",
    "            if len(self.laser_locs_seen) >= 3:\n",
    "                if self.laser_brightness_seen[-3] != 'bright' \\\n",
    "                        and self.laser_brightness_seen[-2] == 'bright':\n",
    "                    self._found_all_lines = True\n",
    "\n",
    "    @property\n",
    "    def found_all_lines(self):\n",
    "        return self._found_all_lines\n",
    "\n",
    "    @property\n",
    "    def resonances(self):\n",
    "        return self.loc + self._initial_resonances"
   ]
  },
  {
   "cell_type": "code",
   "execution_count": 107,
   "metadata": {},
   "outputs": [],
   "source": [
    "from collections import deque\n",
    "import copy\n",
    "\n",
    "\n",
    "def populate_mrm_resonances(global_variations=False,\n",
    "                            variations=False,\n",
    "                            corners=False):\n",
    "\n",
    "    mrm_lines = np.arange(NUM_OF_LASERS, dtype=np.int64) * MRM_FREQ_SPACING\n",
    "    mrm_lines = np.vstack([mrm_lines] * len(WHICH_RESONANCES)).T\n",
    "\n",
    "    fsr_shifts = np.array(WHICH_RESONANCES) * MRM_FSR\n",
    "    mrm_lines += fsr_shifts\n",
    "\n",
    "    if variations:  # assume we keep the FSR to be the same\n",
    "        if corners:  # only evaluate the corners\n",
    "            delta = np.random.randint(2, size=NUM_OF_LASERS)\n",
    "            delta = 2*delta - 1  # convert to [-1, +1] random numbers\n",
    "            delta *= MRM_FREQ_UNCERTAINTY\n",
    "        else:\n",
    "            delta = np.random.uniform(-1*MRM_FREQ_UNCERTAINTY,\n",
    "                                      MRM_FREQ_UNCERTAINTY,\n",
    "                                      NUM_OF_LASERS)\n",
    "        # round to the nearest STEP_SIZE\n",
    "        delta = np.round(delta/STEP_SIZE, decimals=0) * STEP_SIZE\n",
    "\n",
    "        delta = delta.astype(int)\n",
    "        delta = delta[:, np.newaxis]\n",
    "        mrm_lines += delta\n",
    "\n",
    "    if global_variations:  # the global variation can be as much as ±1 FSR\n",
    "        global_delta = np.random.uniform(-1*MRM_FSR, MRM_FSR)\n",
    "        global_delta = np.round(global_delta/STEP_SIZE, decimals=0) * STEP_SIZE\n",
    "        global_delta = global_delta.astype(int)\n",
    "        mrm_lines += global_delta\n",
    "\n",
    "    return mrm_lines\n",
    "\n",
    "\n",
    "def check_barrel_roll(list1, list2):\n",
    "    # check for barrel roll in sequence or reverse sequence\n",
    "    assert len(list1) == len(list2)\n",
    "\n",
    "    def check_equivalent(list1, list2):\n",
    "        d1 = deque(list1)\n",
    "        d2 = deque(list2)\n",
    "\n",
    "        equivalent = d1 == d2\n",
    "\n",
    "        for _ in range(len(list1)):\n",
    "            d1.rotate(1)\n",
    "            if d1 == d2:\n",
    "                equivalent = True\n",
    "\n",
    "        return equivalent\n",
    "    \n",
    "    list1_ = copy.deepcopy(list1)\n",
    "    equivalent = check_equivalent(list1_, list2)\n",
    "    list1_.reverse()\n",
    "    equivalent = equivalent or check_equivalent(list1_, list2)\n",
    "    return equivalent"
   ]
  },
  {
   "cell_type": "code",
   "execution_count": 108,
   "metadata": {},
   "outputs": [
    {
     "name": "stdout",
     "output_type": "stream",
     "text": [
      "Locked to laser # 6\n",
      "['bright', 'bright', 'bright', 'bright', 'bright', 'bright', 0, 'bright']\n",
      "Locked to laser # 2\n",
      "['bright', 'bright', 1, 'bright', 'bright', 'bright', 0, 'bright']\n",
      "Locked to laser # 7\n",
      "['bright', 'bright', 1, 'bright', 'bright', 'bright', 0, 2]\n",
      "Locked to laser # 3\n",
      "['bright', 'bright', 1, 3, 'bright', 'bright', 0, 2]\n",
      "Locked to laser # 4\n",
      "['bright', 'bright', 1, 3, 4, 'bright', 0, 2]\n",
      "Locked to laser # 0\n",
      "[5, 'bright', 1, 3, 4, 'bright', 0, 2]\n",
      "Locked to laser # 5\n",
      "[5, 'bright', 1, 3, 4, 6, 0, 2]\n",
      "Locked to laser # 1\n",
      "[5, 7, 1, 3, 4, 6, 0, 2]\n",
      "Barrel roll check? True\n",
      "Amount of heat applied: [750, 250, -350, -950, 50, -650, 550, -150]\n"
     ]
    }
   ],
   "source": [
    "# Try out the algorithm with a single try\n",
    "lasers = Lasers(variations=True, corners=True, reverse=True, offset=-8*LASER_FREQ_SPACING)\n",
    "all_ring_resonances = populate_mrm_resonances(variations=True, corners=True)\n",
    "\n",
    "all_rings = []\n",
    "\n",
    "for idx in range(NUM_OF_LASERS):\n",
    "    if idx == 0:\n",
    "        mrm = RingFSM(resonances=all_ring_resonances[idx], lasers=lasers)\n",
    "    else:\n",
    "        mrm = RingFSM(resonances=all_ring_resonances[idx], lasers=lasers, previous_ring=idx-1)\n",
    "    mrm.start()\n",
    "\n",
    "    while not mrm.found_all_lines:\n",
    "        mrm.keep_searching()\n",
    "\n",
    "    mrm.lock_to_line()\n",
    "    all_rings.append(mrm)\n",
    "\n",
    "    print(f\"Locked to laser # {mrm.locked_laser_idx}\")\n",
    "    print(lasers.brightness)\n",
    "\n",
    "lasers_locked_to = [int(m.locked_laser_idx) for m in all_rings]\n",
    "\n",
    "# check for barrel roll in sequence or reverse sequence\n",
    "print(\"Barrel roll check?\", check_barrel_roll(lasers_locked_to, BARREL_ROLL_SEQ))\n",
    "\n",
    "amt_heat_applied = [m.loc for m in all_rings]\n",
    "print(f\"Amount of heat applied: {amt_heat_applied}\")"
   ]
  },
  {
   "cell_type": "code",
   "execution_count": 115,
   "metadata": {},
   "outputs": [],
   "source": [
    "# Run Monte Carlo and get distribution\n",
    "\n",
    "import pandas as pd\n",
    "import copy\n",
    "\n",
    "eval_corners = False\n",
    "\n",
    "# cycling_freqs = [-k * MRM_FSR // 9 for k in range(9)]  # change in frequency due to cycling\n",
    "cycling_freqs = [0]\n",
    "\n",
    "num_trials = 50\n",
    "trial_results = []\n",
    "\n",
    "for _ in range(num_trials):\n",
    "    lasers = Lasers(variations=True, corners=eval_corners, reverse=True, offset=-8*LASER_FREQ_SPACING)\n",
    "    all_ring_resonances = populate_mrm_resonances(global_variations=True,\n",
    "                                                  variations=True,\n",
    "                                                  corners=eval_corners)\n",
    "\n",
    "    for ctry, cfreq in enumerate(cycling_freqs):\n",
    "\n",
    "        lasers_ = copy.deepcopy(lasers)\n",
    "        all_rings = []\n",
    "\n",
    "        for idx in range(NUM_OF_LASERS):\n",
    "            if idx == 0:  # the first ring\n",
    "                mrm = RingFSM(resonances=all_ring_resonances[idx],\n",
    "                              lasers=lasers_,\n",
    "                              initial_loc=cfreq)\n",
    "            else:\n",
    "                mrm = RingFSM(resonances=all_ring_resonances[idx],\n",
    "                              lasers=lasers_,\n",
    "                              initial_loc=cfreq,\n",
    "                              previous_ring=idx-1)\n",
    "            # Run the search algorithm for each MRM\n",
    "            mrm.start()\n",
    "\n",
    "            while not mrm.found_all_lines:\n",
    "                mrm.keep_searching()\n",
    "\n",
    "            mrm.lock_to_line()\n",
    "            all_rings.append(mrm)\n",
    "\n",
    "        laser_sequence = [int(m.locked_laser_idx) for m in all_rings]\n",
    "        amt_heat_applied = [m.loc for m in all_rings]\n",
    "        colder = [n for n in amt_heat_applied if n >= 0]\n",
    "        hotter = [n for n in amt_heat_applied if n <= 0]\n",
    "\n",
    "        max_cool = max(colder) if len(colder) > 0 else 0\n",
    "        max_heat = min(hotter) if len(hotter) > 0 else 0\n",
    "        \n",
    "        max_diff = max_cool - max_heat\n",
    "\n",
    "        # if True, cycle; else, success and no need for cycling\n",
    "        cycling_condition = abs(max_heat) > MRM_FSR // 2\n",
    "        if not cycling_condition:\n",
    "            break\n",
    "\n",
    "    result = {'laser_sequence': laser_sequence,\n",
    "              'barrel_roll': check_barrel_roll(laser_sequence, BARREL_ROLL_SEQ), # check if barrel roll equivalent\n",
    "              'max_cool': max_cool,\n",
    "              'max_heat': max_heat,\n",
    "              'max_diff': max_diff,\n",
    "              'cycling_trial': ctry,\n",
    "              'successful_lock': not cycling_condition  # check if we were able to lock with < 1/2 * FSR of heat\n",
    "              }\n",
    "    \n",
    "    ring_numbers = list(range(NUM_OF_LASERS))\n",
    "    heat_result = dict(zip(ring_numbers, amt_heat_applied))  # (-) value is heat and (+) value is cool\n",
    "    result.update(heat_result)\n",
    "\n",
    "    trial_results.append(result)\n",
    "\n",
    "trial_results = pd.DataFrame(trial_results)\n",
    "\n"
   ]
  },
  {
   "cell_type": "code",
   "execution_count": 116,
   "metadata": {},
   "outputs": [
    {
     "data": {
      "application/vnd.plotly.v1+json": {
       "config": {
        "plotlyServerURL": "https://plot.ly"
       },
       "data": [
        {
         "alignmentgroup": "True",
         "bingroup": "x",
         "hovertemplate": "variable=0<br>value=%{x}<br>count=%{y}<extra></extra>",
         "legendgroup": "0",
         "marker": {
          "color": "#636efa",
          "pattern": {
           "shape": ""
          }
         },
         "name": "0",
         "offsetgroup": "0",
         "orientation": "v",
         "showlegend": true,
         "type": "histogram",
         "x": [
          500,
          -10,
          -560,
          600,
          -240,
          -910,
          490,
          -310,
          590,
          130,
          -490,
          610,
          -60,
          -750,
          480,
          -80,
          560,
          0,
          -680,
          620,
          30,
          -550,
          350,
          -190,
          570,
          -60,
          -540,
          560,
          10,
          -780,
          430,
          -130,
          560,
          70,
          -550,
          590,
          -130,
          -620,
          480,
          -50,
          650,
          -10,
          -610,
          420,
          -210,
          -730,
          310,
          -180,
          250,
          -370,
          -860,
          180,
          -350,
          -910,
          310,
          -290,
          560,
          20,
          -650,
          700,
          40,
          -570,
          -1090,
          -190,
          700,
          190,
          -520,
          -1250,
          -130,
          -730,
          550,
          -80,
          490,
          -40,
          -710,
          530,
          -240,
          -920,
          260,
          -300,
          530,
          -180,
          -1030,
          160,
          -250,
          -970,
          190,
          -510,
          640,
          -10,
          -520,
          -1140,
          -50,
          -600,
          410,
          -30,
          600,
          30,
          -510,
          640,
          -140,
          -740,
          510,
          -150,
          490,
          -140,
          -600,
          430,
          -260,
          -910,
          300,
          -350,
          460,
          -20,
          -580,
          570,
          0,
          -650,
          700,
          -320,
          640,
          130,
          -710,
          460,
          -170,
          -720,
          540,
          -10,
          560,
          20,
          -510,
          550,
          -210,
          -900,
          360,
          -280,
          540,
          -30,
          -880,
          340,
          -270,
          -950,
          330,
          -330,
          490,
          -40,
          -780,
          320,
          -210,
          -830,
          420,
          -380,
          650,
          230,
          -380,
          -900,
          40,
          -640,
          570,
          -90,
          570,
          -160,
          -730,
          570,
          -10,
          -840,
          490,
          -230,
          590,
          -20,
          -530,
          650,
          40,
          -670,
          710,
          -200,
          570,
          -10,
          -620,
          550,
          -80,
          -850,
          280,
          -280,
          350,
          -310,
          -930,
          210,
          -340,
          -980,
          210,
          -270,
          640,
          -370,
          -820,
          450,
          -220,
          -800,
          260,
          -250,
          600,
          -60,
          -540,
          600,
          10,
          -910,
          500,
          -210,
          700,
          -120,
          -820,
          590,
          -20,
          -800,
          460,
          -180,
          590,
          -80,
          -690,
          490,
          -120,
          -710,
          530,
          -180,
          280,
          -270,
          -750,
          440,
          -80,
          -810,
          480,
          -210,
          510,
          -120,
          -760,
          420,
          -270,
          -900,
          330,
          -110,
          630,
          -150,
          -620,
          480,
          -120,
          -590,
          470,
          -100,
          560,
          -50,
          -890,
          280,
          -410,
          -850,
          150,
          -430,
          670,
          160,
          -500,
          670,
          -110,
          -780,
          470,
          -80,
          670,
          40,
          -550,
          500,
          -70,
          -630,
          530,
          -20,
          460,
          -90,
          -720,
          540,
          -130,
          -780,
          540,
          -300,
          350,
          -190,
          -810,
          410,
          -230,
          -980,
          460,
          -560,
          460,
          -140,
          -760,
          660,
          20,
          -690,
          490,
          -230,
          570,
          20,
          -750,
          470,
          -100,
          -680,
          500,
          -160,
          520,
          -210,
          -700,
          510,
          -210,
          -690,
          500,
          -170,
          650,
          -140,
          -740,
          480,
          -30,
          -590,
          450,
          -110,
          590,
          -60,
          -660,
          570,
          -150,
          -670,
          290,
          -220,
          610,
          -20,
          -570,
          710,
          -70,
          -690,
          640,
          -90,
          560,
          -50,
          -650,
          630,
          170,
          -500,
          -1310,
          -130,
          520,
          -110,
          -670,
          580,
          -250,
          -880,
          400,
          -220,
          680,
          120,
          -540,
          630,
          -20,
          -620,
          390,
          -190,
          330,
          -410,
          -970,
          310,
          -240,
          -840,
          450,
          -370,
          510,
          -80,
          -810,
          510,
          40,
          -710,
          510,
          -300,
          650,
          -20,
          -500,
          -1110,
          -80,
          -660,
          410,
          -60,
          510,
          -170,
          -780,
          530,
          -120,
          -690,
          200,
          -250,
          570,
          -20,
          -720,
          570,
          0,
          -630,
          510,
          -220
         ],
         "xaxis": "x",
         "xbins": {
          "size": 100
         },
         "yaxis": "y"
        }
       ],
       "layout": {
        "barmode": "relative",
        "legend": {
         "title": {
          "text": "variable"
         },
         "tracegroupgap": 0
        },
        "margin": {
         "t": 60
        },
        "showlegend": false,
        "template": {
         "data": {
          "bar": [
           {
            "error_x": {
             "color": "#2a3f5f"
            },
            "error_y": {
             "color": "#2a3f5f"
            },
            "marker": {
             "line": {
              "color": "#E5ECF6",
              "width": 0.5
             },
             "pattern": {
              "fillmode": "overlay",
              "size": 10,
              "solidity": 0.2
             }
            },
            "type": "bar"
           }
          ],
          "barpolar": [
           {
            "marker": {
             "line": {
              "color": "#E5ECF6",
              "width": 0.5
             },
             "pattern": {
              "fillmode": "overlay",
              "size": 10,
              "solidity": 0.2
             }
            },
            "type": "barpolar"
           }
          ],
          "carpet": [
           {
            "aaxis": {
             "endlinecolor": "#2a3f5f",
             "gridcolor": "white",
             "linecolor": "white",
             "minorgridcolor": "white",
             "startlinecolor": "#2a3f5f"
            },
            "baxis": {
             "endlinecolor": "#2a3f5f",
             "gridcolor": "white",
             "linecolor": "white",
             "minorgridcolor": "white",
             "startlinecolor": "#2a3f5f"
            },
            "type": "carpet"
           }
          ],
          "choropleth": [
           {
            "colorbar": {
             "outlinewidth": 0,
             "ticks": ""
            },
            "type": "choropleth"
           }
          ],
          "contour": [
           {
            "colorbar": {
             "outlinewidth": 0,
             "ticks": ""
            },
            "colorscale": [
             [
              0,
              "#0d0887"
             ],
             [
              0.1111111111111111,
              "#46039f"
             ],
             [
              0.2222222222222222,
              "#7201a8"
             ],
             [
              0.3333333333333333,
              "#9c179e"
             ],
             [
              0.4444444444444444,
              "#bd3786"
             ],
             [
              0.5555555555555556,
              "#d8576b"
             ],
             [
              0.6666666666666666,
              "#ed7953"
             ],
             [
              0.7777777777777778,
              "#fb9f3a"
             ],
             [
              0.8888888888888888,
              "#fdca26"
             ],
             [
              1,
              "#f0f921"
             ]
            ],
            "type": "contour"
           }
          ],
          "contourcarpet": [
           {
            "colorbar": {
             "outlinewidth": 0,
             "ticks": ""
            },
            "type": "contourcarpet"
           }
          ],
          "heatmap": [
           {
            "colorbar": {
             "outlinewidth": 0,
             "ticks": ""
            },
            "colorscale": [
             [
              0,
              "#0d0887"
             ],
             [
              0.1111111111111111,
              "#46039f"
             ],
             [
              0.2222222222222222,
              "#7201a8"
             ],
             [
              0.3333333333333333,
              "#9c179e"
             ],
             [
              0.4444444444444444,
              "#bd3786"
             ],
             [
              0.5555555555555556,
              "#d8576b"
             ],
             [
              0.6666666666666666,
              "#ed7953"
             ],
             [
              0.7777777777777778,
              "#fb9f3a"
             ],
             [
              0.8888888888888888,
              "#fdca26"
             ],
             [
              1,
              "#f0f921"
             ]
            ],
            "type": "heatmap"
           }
          ],
          "heatmapgl": [
           {
            "colorbar": {
             "outlinewidth": 0,
             "ticks": ""
            },
            "colorscale": [
             [
              0,
              "#0d0887"
             ],
             [
              0.1111111111111111,
              "#46039f"
             ],
             [
              0.2222222222222222,
              "#7201a8"
             ],
             [
              0.3333333333333333,
              "#9c179e"
             ],
             [
              0.4444444444444444,
              "#bd3786"
             ],
             [
              0.5555555555555556,
              "#d8576b"
             ],
             [
              0.6666666666666666,
              "#ed7953"
             ],
             [
              0.7777777777777778,
              "#fb9f3a"
             ],
             [
              0.8888888888888888,
              "#fdca26"
             ],
             [
              1,
              "#f0f921"
             ]
            ],
            "type": "heatmapgl"
           }
          ],
          "histogram": [
           {
            "marker": {
             "pattern": {
              "fillmode": "overlay",
              "size": 10,
              "solidity": 0.2
             }
            },
            "type": "histogram"
           }
          ],
          "histogram2d": [
           {
            "colorbar": {
             "outlinewidth": 0,
             "ticks": ""
            },
            "colorscale": [
             [
              0,
              "#0d0887"
             ],
             [
              0.1111111111111111,
              "#46039f"
             ],
             [
              0.2222222222222222,
              "#7201a8"
             ],
             [
              0.3333333333333333,
              "#9c179e"
             ],
             [
              0.4444444444444444,
              "#bd3786"
             ],
             [
              0.5555555555555556,
              "#d8576b"
             ],
             [
              0.6666666666666666,
              "#ed7953"
             ],
             [
              0.7777777777777778,
              "#fb9f3a"
             ],
             [
              0.8888888888888888,
              "#fdca26"
             ],
             [
              1,
              "#f0f921"
             ]
            ],
            "type": "histogram2d"
           }
          ],
          "histogram2dcontour": [
           {
            "colorbar": {
             "outlinewidth": 0,
             "ticks": ""
            },
            "colorscale": [
             [
              0,
              "#0d0887"
             ],
             [
              0.1111111111111111,
              "#46039f"
             ],
             [
              0.2222222222222222,
              "#7201a8"
             ],
             [
              0.3333333333333333,
              "#9c179e"
             ],
             [
              0.4444444444444444,
              "#bd3786"
             ],
             [
              0.5555555555555556,
              "#d8576b"
             ],
             [
              0.6666666666666666,
              "#ed7953"
             ],
             [
              0.7777777777777778,
              "#fb9f3a"
             ],
             [
              0.8888888888888888,
              "#fdca26"
             ],
             [
              1,
              "#f0f921"
             ]
            ],
            "type": "histogram2dcontour"
           }
          ],
          "mesh3d": [
           {
            "colorbar": {
             "outlinewidth": 0,
             "ticks": ""
            },
            "type": "mesh3d"
           }
          ],
          "parcoords": [
           {
            "line": {
             "colorbar": {
              "outlinewidth": 0,
              "ticks": ""
             }
            },
            "type": "parcoords"
           }
          ],
          "pie": [
           {
            "automargin": true,
            "type": "pie"
           }
          ],
          "scatter": [
           {
            "fillpattern": {
             "fillmode": "overlay",
             "size": 10,
             "solidity": 0.2
            },
            "type": "scatter"
           }
          ],
          "scatter3d": [
           {
            "line": {
             "colorbar": {
              "outlinewidth": 0,
              "ticks": ""
             }
            },
            "marker": {
             "colorbar": {
              "outlinewidth": 0,
              "ticks": ""
             }
            },
            "type": "scatter3d"
           }
          ],
          "scattercarpet": [
           {
            "marker": {
             "colorbar": {
              "outlinewidth": 0,
              "ticks": ""
             }
            },
            "type": "scattercarpet"
           }
          ],
          "scattergeo": [
           {
            "marker": {
             "colorbar": {
              "outlinewidth": 0,
              "ticks": ""
             }
            },
            "type": "scattergeo"
           }
          ],
          "scattergl": [
           {
            "marker": {
             "colorbar": {
              "outlinewidth": 0,
              "ticks": ""
             }
            },
            "type": "scattergl"
           }
          ],
          "scattermapbox": [
           {
            "marker": {
             "colorbar": {
              "outlinewidth": 0,
              "ticks": ""
             }
            },
            "type": "scattermapbox"
           }
          ],
          "scatterpolar": [
           {
            "marker": {
             "colorbar": {
              "outlinewidth": 0,
              "ticks": ""
             }
            },
            "type": "scatterpolar"
           }
          ],
          "scatterpolargl": [
           {
            "marker": {
             "colorbar": {
              "outlinewidth": 0,
              "ticks": ""
             }
            },
            "type": "scatterpolargl"
           }
          ],
          "scatterternary": [
           {
            "marker": {
             "colorbar": {
              "outlinewidth": 0,
              "ticks": ""
             }
            },
            "type": "scatterternary"
           }
          ],
          "surface": [
           {
            "colorbar": {
             "outlinewidth": 0,
             "ticks": ""
            },
            "colorscale": [
             [
              0,
              "#0d0887"
             ],
             [
              0.1111111111111111,
              "#46039f"
             ],
             [
              0.2222222222222222,
              "#7201a8"
             ],
             [
              0.3333333333333333,
              "#9c179e"
             ],
             [
              0.4444444444444444,
              "#bd3786"
             ],
             [
              0.5555555555555556,
              "#d8576b"
             ],
             [
              0.6666666666666666,
              "#ed7953"
             ],
             [
              0.7777777777777778,
              "#fb9f3a"
             ],
             [
              0.8888888888888888,
              "#fdca26"
             ],
             [
              1,
              "#f0f921"
             ]
            ],
            "type": "surface"
           }
          ],
          "table": [
           {
            "cells": {
             "fill": {
              "color": "#EBF0F8"
             },
             "line": {
              "color": "white"
             }
            },
            "header": {
             "fill": {
              "color": "#C8D4E3"
             },
             "line": {
              "color": "white"
             }
            },
            "type": "table"
           }
          ]
         },
         "layout": {
          "annotationdefaults": {
           "arrowcolor": "#2a3f5f",
           "arrowhead": 0,
           "arrowwidth": 1
          },
          "autotypenumbers": "strict",
          "coloraxis": {
           "colorbar": {
            "outlinewidth": 0,
            "ticks": ""
           }
          },
          "colorscale": {
           "diverging": [
            [
             0,
             "#8e0152"
            ],
            [
             0.1,
             "#c51b7d"
            ],
            [
             0.2,
             "#de77ae"
            ],
            [
             0.3,
             "#f1b6da"
            ],
            [
             0.4,
             "#fde0ef"
            ],
            [
             0.5,
             "#f7f7f7"
            ],
            [
             0.6,
             "#e6f5d0"
            ],
            [
             0.7,
             "#b8e186"
            ],
            [
             0.8,
             "#7fbc41"
            ],
            [
             0.9,
             "#4d9221"
            ],
            [
             1,
             "#276419"
            ]
           ],
           "sequential": [
            [
             0,
             "#0d0887"
            ],
            [
             0.1111111111111111,
             "#46039f"
            ],
            [
             0.2222222222222222,
             "#7201a8"
            ],
            [
             0.3333333333333333,
             "#9c179e"
            ],
            [
             0.4444444444444444,
             "#bd3786"
            ],
            [
             0.5555555555555556,
             "#d8576b"
            ],
            [
             0.6666666666666666,
             "#ed7953"
            ],
            [
             0.7777777777777778,
             "#fb9f3a"
            ],
            [
             0.8888888888888888,
             "#fdca26"
            ],
            [
             1,
             "#f0f921"
            ]
           ],
           "sequentialminus": [
            [
             0,
             "#0d0887"
            ],
            [
             0.1111111111111111,
             "#46039f"
            ],
            [
             0.2222222222222222,
             "#7201a8"
            ],
            [
             0.3333333333333333,
             "#9c179e"
            ],
            [
             0.4444444444444444,
             "#bd3786"
            ],
            [
             0.5555555555555556,
             "#d8576b"
            ],
            [
             0.6666666666666666,
             "#ed7953"
            ],
            [
             0.7777777777777778,
             "#fb9f3a"
            ],
            [
             0.8888888888888888,
             "#fdca26"
            ],
            [
             1,
             "#f0f921"
            ]
           ]
          },
          "colorway": [
           "#636efa",
           "#EF553B",
           "#00cc96",
           "#ab63fa",
           "#FFA15A",
           "#19d3f3",
           "#FF6692",
           "#B6E880",
           "#FF97FF",
           "#FECB52"
          ],
          "font": {
           "color": "#2a3f5f"
          },
          "geo": {
           "bgcolor": "white",
           "lakecolor": "white",
           "landcolor": "#E5ECF6",
           "showlakes": true,
           "showland": true,
           "subunitcolor": "white"
          },
          "hoverlabel": {
           "align": "left"
          },
          "hovermode": "closest",
          "mapbox": {
           "style": "light"
          },
          "paper_bgcolor": "white",
          "plot_bgcolor": "#E5ECF6",
          "polar": {
           "angularaxis": {
            "gridcolor": "white",
            "linecolor": "white",
            "ticks": ""
           },
           "bgcolor": "#E5ECF6",
           "radialaxis": {
            "gridcolor": "white",
            "linecolor": "white",
            "ticks": ""
           }
          },
          "scene": {
           "xaxis": {
            "backgroundcolor": "#E5ECF6",
            "gridcolor": "white",
            "gridwidth": 2,
            "linecolor": "white",
            "showbackground": true,
            "ticks": "",
            "zerolinecolor": "white"
           },
           "yaxis": {
            "backgroundcolor": "#E5ECF6",
            "gridcolor": "white",
            "gridwidth": 2,
            "linecolor": "white",
            "showbackground": true,
            "ticks": "",
            "zerolinecolor": "white"
           },
           "zaxis": {
            "backgroundcolor": "#E5ECF6",
            "gridcolor": "white",
            "gridwidth": 2,
            "linecolor": "white",
            "showbackground": true,
            "ticks": "",
            "zerolinecolor": "white"
           }
          },
          "shapedefaults": {
           "line": {
            "color": "#2a3f5f"
           }
          },
          "ternary": {
           "aaxis": {
            "gridcolor": "white",
            "linecolor": "white",
            "ticks": ""
           },
           "baxis": {
            "gridcolor": "white",
            "linecolor": "white",
            "ticks": ""
           },
           "bgcolor": "#E5ECF6",
           "caxis": {
            "gridcolor": "white",
            "linecolor": "white",
            "ticks": ""
           }
          },
          "title": {
           "x": 0.05
          },
          "xaxis": {
           "automargin": true,
           "gridcolor": "white",
           "linecolor": "white",
           "ticks": "",
           "title": {
            "standoff": 15
           },
           "zerolinecolor": "white",
           "zerolinewidth": 2
          },
          "yaxis": {
           "automargin": true,
           "gridcolor": "white",
           "linecolor": "white",
           "ticks": "",
           "title": {
            "standoff": 15
           },
           "zerolinecolor": "white",
           "zerolinewidth": 2
          }
         }
        },
        "xaxis": {
         "anchor": "y",
         "domain": [
          0,
          1
         ],
         "tickmode": "array",
         "tickvals": [
          -1800,
          -1700,
          -1600,
          -1500,
          -1400,
          -1300,
          -1200,
          -1100,
          -1000,
          -900,
          -800,
          -700,
          -600,
          -500,
          -400,
          -300,
          -200,
          -100,
          0,
          100,
          200,
          300,
          400,
          500,
          600,
          700,
          800,
          900,
          1000,
          1100,
          1200,
          1300,
          1400,
          1500,
          1600,
          1700,
          1800
         ],
         "title": {
          "text": "Heat (-) & Cool (+) amount (GHz)"
         }
        },
        "yaxis": {
         "anchor": "x",
         "domain": [
          0,
          1
         ],
         "title": {
          "text": "Count"
         }
        }
       }
      }
     },
     "metadata": {},
     "output_type": "display_data"
    },
    {
     "data": {
      "application/vnd.plotly.v1+json": {
       "config": {
        "plotlyServerURL": "https://plot.ly"
       },
       "data": [
        {
         "alignmentgroup": "True",
         "bingroup": "x",
         "hovertemplate": "max_diff=%{x}<br>count=%{y}<extra></extra>",
         "legendgroup": "",
         "marker": {
          "color": "#636efa",
          "pattern": {
           "shape": ""
          }
         },
         "name": "",
         "offsetgroup": "",
         "orientation": "v",
         "showlegend": false,
         "type": "histogram",
         "x": [
          1510,
          1360,
          1300,
          1350,
          1210,
          1380,
          1220,
          1790,
          1950,
          1450,
          1560,
          1780,
          1380,
          1400,
          1350,
          1360,
          1460,
          1490,
          1320,
          1550,
          1410,
          1380,
          1420,
          1330,
          1460,
          1510,
          1520,
          1300,
          1290,
          1410,
          1250,
          1450,
          1450,
          1300,
          1320,
          1440,
          1420,
          1320,
          1220,
          1390,
          1260,
          1400,
          1940,
          1460,
          1300,
          1420,
          1320,
          1760,
          1310,
          1290
         ],
         "xaxis": "x",
         "xbins": {
          "size": 100
         },
         "yaxis": "y"
        }
       ],
       "layout": {
        "barmode": "relative",
        "legend": {
         "tracegroupgap": 0
        },
        "margin": {
         "t": 60
        },
        "showlegend": false,
        "template": {
         "data": {
          "bar": [
           {
            "error_x": {
             "color": "#2a3f5f"
            },
            "error_y": {
             "color": "#2a3f5f"
            },
            "marker": {
             "line": {
              "color": "#E5ECF6",
              "width": 0.5
             },
             "pattern": {
              "fillmode": "overlay",
              "size": 10,
              "solidity": 0.2
             }
            },
            "type": "bar"
           }
          ],
          "barpolar": [
           {
            "marker": {
             "line": {
              "color": "#E5ECF6",
              "width": 0.5
             },
             "pattern": {
              "fillmode": "overlay",
              "size": 10,
              "solidity": 0.2
             }
            },
            "type": "barpolar"
           }
          ],
          "carpet": [
           {
            "aaxis": {
             "endlinecolor": "#2a3f5f",
             "gridcolor": "white",
             "linecolor": "white",
             "minorgridcolor": "white",
             "startlinecolor": "#2a3f5f"
            },
            "baxis": {
             "endlinecolor": "#2a3f5f",
             "gridcolor": "white",
             "linecolor": "white",
             "minorgridcolor": "white",
             "startlinecolor": "#2a3f5f"
            },
            "type": "carpet"
           }
          ],
          "choropleth": [
           {
            "colorbar": {
             "outlinewidth": 0,
             "ticks": ""
            },
            "type": "choropleth"
           }
          ],
          "contour": [
           {
            "colorbar": {
             "outlinewidth": 0,
             "ticks": ""
            },
            "colorscale": [
             [
              0,
              "#0d0887"
             ],
             [
              0.1111111111111111,
              "#46039f"
             ],
             [
              0.2222222222222222,
              "#7201a8"
             ],
             [
              0.3333333333333333,
              "#9c179e"
             ],
             [
              0.4444444444444444,
              "#bd3786"
             ],
             [
              0.5555555555555556,
              "#d8576b"
             ],
             [
              0.6666666666666666,
              "#ed7953"
             ],
             [
              0.7777777777777778,
              "#fb9f3a"
             ],
             [
              0.8888888888888888,
              "#fdca26"
             ],
             [
              1,
              "#f0f921"
             ]
            ],
            "type": "contour"
           }
          ],
          "contourcarpet": [
           {
            "colorbar": {
             "outlinewidth": 0,
             "ticks": ""
            },
            "type": "contourcarpet"
           }
          ],
          "heatmap": [
           {
            "colorbar": {
             "outlinewidth": 0,
             "ticks": ""
            },
            "colorscale": [
             [
              0,
              "#0d0887"
             ],
             [
              0.1111111111111111,
              "#46039f"
             ],
             [
              0.2222222222222222,
              "#7201a8"
             ],
             [
              0.3333333333333333,
              "#9c179e"
             ],
             [
              0.4444444444444444,
              "#bd3786"
             ],
             [
              0.5555555555555556,
              "#d8576b"
             ],
             [
              0.6666666666666666,
              "#ed7953"
             ],
             [
              0.7777777777777778,
              "#fb9f3a"
             ],
             [
              0.8888888888888888,
              "#fdca26"
             ],
             [
              1,
              "#f0f921"
             ]
            ],
            "type": "heatmap"
           }
          ],
          "heatmapgl": [
           {
            "colorbar": {
             "outlinewidth": 0,
             "ticks": ""
            },
            "colorscale": [
             [
              0,
              "#0d0887"
             ],
             [
              0.1111111111111111,
              "#46039f"
             ],
             [
              0.2222222222222222,
              "#7201a8"
             ],
             [
              0.3333333333333333,
              "#9c179e"
             ],
             [
              0.4444444444444444,
              "#bd3786"
             ],
             [
              0.5555555555555556,
              "#d8576b"
             ],
             [
              0.6666666666666666,
              "#ed7953"
             ],
             [
              0.7777777777777778,
              "#fb9f3a"
             ],
             [
              0.8888888888888888,
              "#fdca26"
             ],
             [
              1,
              "#f0f921"
             ]
            ],
            "type": "heatmapgl"
           }
          ],
          "histogram": [
           {
            "marker": {
             "pattern": {
              "fillmode": "overlay",
              "size": 10,
              "solidity": 0.2
             }
            },
            "type": "histogram"
           }
          ],
          "histogram2d": [
           {
            "colorbar": {
             "outlinewidth": 0,
             "ticks": ""
            },
            "colorscale": [
             [
              0,
              "#0d0887"
             ],
             [
              0.1111111111111111,
              "#46039f"
             ],
             [
              0.2222222222222222,
              "#7201a8"
             ],
             [
              0.3333333333333333,
              "#9c179e"
             ],
             [
              0.4444444444444444,
              "#bd3786"
             ],
             [
              0.5555555555555556,
              "#d8576b"
             ],
             [
              0.6666666666666666,
              "#ed7953"
             ],
             [
              0.7777777777777778,
              "#fb9f3a"
             ],
             [
              0.8888888888888888,
              "#fdca26"
             ],
             [
              1,
              "#f0f921"
             ]
            ],
            "type": "histogram2d"
           }
          ],
          "histogram2dcontour": [
           {
            "colorbar": {
             "outlinewidth": 0,
             "ticks": ""
            },
            "colorscale": [
             [
              0,
              "#0d0887"
             ],
             [
              0.1111111111111111,
              "#46039f"
             ],
             [
              0.2222222222222222,
              "#7201a8"
             ],
             [
              0.3333333333333333,
              "#9c179e"
             ],
             [
              0.4444444444444444,
              "#bd3786"
             ],
             [
              0.5555555555555556,
              "#d8576b"
             ],
             [
              0.6666666666666666,
              "#ed7953"
             ],
             [
              0.7777777777777778,
              "#fb9f3a"
             ],
             [
              0.8888888888888888,
              "#fdca26"
             ],
             [
              1,
              "#f0f921"
             ]
            ],
            "type": "histogram2dcontour"
           }
          ],
          "mesh3d": [
           {
            "colorbar": {
             "outlinewidth": 0,
             "ticks": ""
            },
            "type": "mesh3d"
           }
          ],
          "parcoords": [
           {
            "line": {
             "colorbar": {
              "outlinewidth": 0,
              "ticks": ""
             }
            },
            "type": "parcoords"
           }
          ],
          "pie": [
           {
            "automargin": true,
            "type": "pie"
           }
          ],
          "scatter": [
           {
            "fillpattern": {
             "fillmode": "overlay",
             "size": 10,
             "solidity": 0.2
            },
            "type": "scatter"
           }
          ],
          "scatter3d": [
           {
            "line": {
             "colorbar": {
              "outlinewidth": 0,
              "ticks": ""
             }
            },
            "marker": {
             "colorbar": {
              "outlinewidth": 0,
              "ticks": ""
             }
            },
            "type": "scatter3d"
           }
          ],
          "scattercarpet": [
           {
            "marker": {
             "colorbar": {
              "outlinewidth": 0,
              "ticks": ""
             }
            },
            "type": "scattercarpet"
           }
          ],
          "scattergeo": [
           {
            "marker": {
             "colorbar": {
              "outlinewidth": 0,
              "ticks": ""
             }
            },
            "type": "scattergeo"
           }
          ],
          "scattergl": [
           {
            "marker": {
             "colorbar": {
              "outlinewidth": 0,
              "ticks": ""
             }
            },
            "type": "scattergl"
           }
          ],
          "scattermapbox": [
           {
            "marker": {
             "colorbar": {
              "outlinewidth": 0,
              "ticks": ""
             }
            },
            "type": "scattermapbox"
           }
          ],
          "scatterpolar": [
           {
            "marker": {
             "colorbar": {
              "outlinewidth": 0,
              "ticks": ""
             }
            },
            "type": "scatterpolar"
           }
          ],
          "scatterpolargl": [
           {
            "marker": {
             "colorbar": {
              "outlinewidth": 0,
              "ticks": ""
             }
            },
            "type": "scatterpolargl"
           }
          ],
          "scatterternary": [
           {
            "marker": {
             "colorbar": {
              "outlinewidth": 0,
              "ticks": ""
             }
            },
            "type": "scatterternary"
           }
          ],
          "surface": [
           {
            "colorbar": {
             "outlinewidth": 0,
             "ticks": ""
            },
            "colorscale": [
             [
              0,
              "#0d0887"
             ],
             [
              0.1111111111111111,
              "#46039f"
             ],
             [
              0.2222222222222222,
              "#7201a8"
             ],
             [
              0.3333333333333333,
              "#9c179e"
             ],
             [
              0.4444444444444444,
              "#bd3786"
             ],
             [
              0.5555555555555556,
              "#d8576b"
             ],
             [
              0.6666666666666666,
              "#ed7953"
             ],
             [
              0.7777777777777778,
              "#fb9f3a"
             ],
             [
              0.8888888888888888,
              "#fdca26"
             ],
             [
              1,
              "#f0f921"
             ]
            ],
            "type": "surface"
           }
          ],
          "table": [
           {
            "cells": {
             "fill": {
              "color": "#EBF0F8"
             },
             "line": {
              "color": "white"
             }
            },
            "header": {
             "fill": {
              "color": "#C8D4E3"
             },
             "line": {
              "color": "white"
             }
            },
            "type": "table"
           }
          ]
         },
         "layout": {
          "annotationdefaults": {
           "arrowcolor": "#2a3f5f",
           "arrowhead": 0,
           "arrowwidth": 1
          },
          "autotypenumbers": "strict",
          "coloraxis": {
           "colorbar": {
            "outlinewidth": 0,
            "ticks": ""
           }
          },
          "colorscale": {
           "diverging": [
            [
             0,
             "#8e0152"
            ],
            [
             0.1,
             "#c51b7d"
            ],
            [
             0.2,
             "#de77ae"
            ],
            [
             0.3,
             "#f1b6da"
            ],
            [
             0.4,
             "#fde0ef"
            ],
            [
             0.5,
             "#f7f7f7"
            ],
            [
             0.6,
             "#e6f5d0"
            ],
            [
             0.7,
             "#b8e186"
            ],
            [
             0.8,
             "#7fbc41"
            ],
            [
             0.9,
             "#4d9221"
            ],
            [
             1,
             "#276419"
            ]
           ],
           "sequential": [
            [
             0,
             "#0d0887"
            ],
            [
             0.1111111111111111,
             "#46039f"
            ],
            [
             0.2222222222222222,
             "#7201a8"
            ],
            [
             0.3333333333333333,
             "#9c179e"
            ],
            [
             0.4444444444444444,
             "#bd3786"
            ],
            [
             0.5555555555555556,
             "#d8576b"
            ],
            [
             0.6666666666666666,
             "#ed7953"
            ],
            [
             0.7777777777777778,
             "#fb9f3a"
            ],
            [
             0.8888888888888888,
             "#fdca26"
            ],
            [
             1,
             "#f0f921"
            ]
           ],
           "sequentialminus": [
            [
             0,
             "#0d0887"
            ],
            [
             0.1111111111111111,
             "#46039f"
            ],
            [
             0.2222222222222222,
             "#7201a8"
            ],
            [
             0.3333333333333333,
             "#9c179e"
            ],
            [
             0.4444444444444444,
             "#bd3786"
            ],
            [
             0.5555555555555556,
             "#d8576b"
            ],
            [
             0.6666666666666666,
             "#ed7953"
            ],
            [
             0.7777777777777778,
             "#fb9f3a"
            ],
            [
             0.8888888888888888,
             "#fdca26"
            ],
            [
             1,
             "#f0f921"
            ]
           ]
          },
          "colorway": [
           "#636efa",
           "#EF553B",
           "#00cc96",
           "#ab63fa",
           "#FFA15A",
           "#19d3f3",
           "#FF6692",
           "#B6E880",
           "#FF97FF",
           "#FECB52"
          ],
          "font": {
           "color": "#2a3f5f"
          },
          "geo": {
           "bgcolor": "white",
           "lakecolor": "white",
           "landcolor": "#E5ECF6",
           "showlakes": true,
           "showland": true,
           "subunitcolor": "white"
          },
          "hoverlabel": {
           "align": "left"
          },
          "hovermode": "closest",
          "mapbox": {
           "style": "light"
          },
          "paper_bgcolor": "white",
          "plot_bgcolor": "#E5ECF6",
          "polar": {
           "angularaxis": {
            "gridcolor": "white",
            "linecolor": "white",
            "ticks": ""
           },
           "bgcolor": "#E5ECF6",
           "radialaxis": {
            "gridcolor": "white",
            "linecolor": "white",
            "ticks": ""
           }
          },
          "scene": {
           "xaxis": {
            "backgroundcolor": "#E5ECF6",
            "gridcolor": "white",
            "gridwidth": 2,
            "linecolor": "white",
            "showbackground": true,
            "ticks": "",
            "zerolinecolor": "white"
           },
           "yaxis": {
            "backgroundcolor": "#E5ECF6",
            "gridcolor": "white",
            "gridwidth": 2,
            "linecolor": "white",
            "showbackground": true,
            "ticks": "",
            "zerolinecolor": "white"
           },
           "zaxis": {
            "backgroundcolor": "#E5ECF6",
            "gridcolor": "white",
            "gridwidth": 2,
            "linecolor": "white",
            "showbackground": true,
            "ticks": "",
            "zerolinecolor": "white"
           }
          },
          "shapedefaults": {
           "line": {
            "color": "#2a3f5f"
           }
          },
          "ternary": {
           "aaxis": {
            "gridcolor": "white",
            "linecolor": "white",
            "ticks": ""
           },
           "baxis": {
            "gridcolor": "white",
            "linecolor": "white",
            "ticks": ""
           },
           "bgcolor": "#E5ECF6",
           "caxis": {
            "gridcolor": "white",
            "linecolor": "white",
            "ticks": ""
           }
          },
          "title": {
           "x": 0.05
          },
          "xaxis": {
           "automargin": true,
           "gridcolor": "white",
           "linecolor": "white",
           "ticks": "",
           "title": {
            "standoff": 15
           },
           "zerolinecolor": "white",
           "zerolinewidth": 2
          },
          "yaxis": {
           "automargin": true,
           "gridcolor": "white",
           "linecolor": "white",
           "ticks": "",
           "title": {
            "standoff": 15
           },
           "zerolinecolor": "white",
           "zerolinewidth": 2
          }
         }
        },
        "xaxis": {
         "anchor": "y",
         "domain": [
          0,
          1
         ],
         "tickmode": "array",
         "tickvals": [
          0,
          100,
          200,
          300,
          400,
          500,
          600,
          700,
          800,
          900,
          1000,
          1100,
          1200,
          1300,
          1400,
          1500,
          1600,
          1700,
          1800,
          1900,
          2000,
          2100,
          2200,
          2300,
          2400,
          2500,
          2600,
          2700,
          2800,
          2900,
          3000,
          3100,
          3200,
          3300,
          3400,
          3500,
          3600
         ],
         "title": {
          "text": "Heat amount difference between rings (GHz)"
         }
        },
        "yaxis": {
         "anchor": "x",
         "domain": [
          0,
          1
         ],
         "title": {
          "text": "Count"
         }
        }
       }
      }
     },
     "metadata": {},
     "output_type": "display_data"
    }
   ],
   "source": [
    "# Now plot the results of the Monte Carlo runs\n",
    "import plotly.express as px\n",
    "\n",
    "# Heat and cool amount\n",
    "fig = px.histogram(np.array(trial_results[range(NUM_OF_LASERS)]).reshape(-1))  # turn into a vector to wash out the ring number\n",
    "fig.update_traces(xbins_size = 100)\n",
    "fig.update_layout(xaxis_title=\"Heat (-) & Cool (+) amount (GHz)\", yaxis_title=\"Count\", showlegend=False)\n",
    "tick_size = 100\n",
    "fig.update_layout(\n",
    "    xaxis = dict(\n",
    "        tickmode = 'array',\n",
    "        tickvals = list(range(-MRM_FSR, MRM_FSR+tick_size, tick_size))\n",
    "    )\n",
    ")\n",
    "fig.show()\n",
    "\n",
    "# Plot the maximum differences\n",
    "fig = px.histogram(trial_results, x=\"max_diff\")  # turn into a vector to wash out the ring number\n",
    "fig.update_traces(xbins_size = 100)\n",
    "fig.update_layout(xaxis_title=\"Heat amount difference between rings (GHz)\", yaxis_title=\"Count\", showlegend=False)\n",
    "tick_size = 100\n",
    "fig.update_layout(\n",
    "    xaxis = dict(\n",
    "        tickmode = 'array',\n",
    "        tickvals = list(range(0, 2*MRM_FSR+tick_size, tick_size))\n",
    "    )\n",
    ")\n",
    "fig.show()"
   ]
  },
  {
   "cell_type": "code",
   "execution_count": 117,
   "metadata": {},
   "outputs": [
    {
     "name": "stdout",
     "output_type": "stream",
     "text": [
      "All in barrel-roll sequence?  True\n"
     ]
    }
   ],
   "source": [
    "# check if all the results in barrel-roll sequence\n",
    "\n",
    "print(\"All in barrel-roll sequence? \", trial_results['barrel_roll'].all())\n"
   ]
  },
  {
   "cell_type": "code",
   "execution_count": 118,
   "metadata": {},
   "outputs": [
    {
     "data": {
      "text/markdown": [
       "|    | laser_sequence           | barrel_roll   |   max_cool |   max_heat |   max_diff |   cycling_trial | successful_lock   |   0 |    1 |     2 |     3 |    4 |    5 |     6 |    7 |\n",
       "|---:|:-------------------------|:--------------|-----------:|-----------:|-----------:|----------------:|:------------------|----:|-----:|------:|------:|-----:|-----:|------:|-----:|\n",
       "|  0 | [6, 2, 7, 3, 4, 0, 5, 1] | True          |        600 |       -910 |       1510 |               0 | False             | 500 |  -10 |  -560 |   600 | -240 | -910 |   490 | -310 |\n",
       "|  1 | [1, 6, 2, 7, 3, 4, 0, 5] | True          |        610 |       -750 |       1360 |               0 | True              | 590 |  130 |  -490 |   610 |  -60 | -750 |   480 |  -80 |\n",
       "|  2 | [5, 1, 6, 2, 7, 3, 4, 0] | True          |        620 |       -680 |       1300 |               0 | True              | 560 |    0 |  -680 |   620 |   30 | -550 |   350 | -190 |\n",
       "|  3 | [1, 6, 2, 7, 3, 4, 0, 5] | True          |        570 |       -780 |       1350 |               0 | True              | 570 |  -60 |  -540 |   560 |   10 | -780 |   430 | -130 |\n",
       "|  4 | [6, 2, 7, 3, 4, 0, 5, 1] | True          |        590 |       -620 |       1210 |               0 | True              | 560 |   70 |  -550 |   590 | -130 | -620 |   480 |  -50 |\n",
       "|  5 | [2, 7, 3, 4, 0, 5, 1, 6] | True          |        650 |       -730 |       1380 |               0 | True              | 650 |  -10 |  -610 |   420 | -210 | -730 |   310 | -180 |\n",
       "|  6 | [4, 0, 5, 1, 6, 2, 7, 3] | True          |        310 |       -910 |       1220 |               0 | False             | 250 | -370 |  -860 |   180 | -350 | -910 |   310 | -290 |\n",
       "|  7 | [0, 5, 1, 6, 2, 7, 3, 4] | True          |        700 |      -1090 |       1790 |               0 | False             | 560 |   20 |  -650 |   700 |   40 | -570 | -1090 | -190 |\n",
       "|  8 | [2, 7, 3, 4, 0, 5, 1, 6] | True          |        700 |      -1250 |       1950 |               0 | False             | 700 |  190 |  -520 | -1250 | -130 | -730 |   550 |  -80 |\n",
       "|  9 | [1, 6, 2, 7, 3, 4, 0, 5] | True          |        530 |       -920 |       1450 |               0 | False             | 490 |  -40 |  -710 |   530 | -240 | -920 |   260 | -300 |\n",
       "| 10 | [7, 3, 4, 0, 5, 1, 6, 2] | True          |        530 |      -1030 |       1560 |               0 | False             | 530 | -180 | -1030 |   160 | -250 | -970 |   190 | -510 |\n",
       "| 11 | [5, 1, 6, 2, 7, 3, 4, 0] | True          |        640 |      -1140 |       1780 |               0 | False             | 640 |  -10 |  -520 | -1140 |  -50 | -600 |   410 |  -30 |\n",
       "| 12 | [6, 2, 7, 3, 4, 0, 5, 1] | True          |        640 |       -740 |       1380 |               0 | True              | 600 |   30 |  -510 |   640 | -140 | -740 |   510 | -150 |\n",
       "| 13 | [1, 6, 2, 7, 3, 4, 0, 5] | True          |        490 |       -910 |       1400 |               0 | False             | 490 | -140 |  -600 |   430 | -260 | -910 |   300 | -350 |\n",
       "| 14 | [0, 5, 1, 6, 2, 7, 3, 4] | True          |        700 |       -650 |       1350 |               0 | True              | 460 |  -20 |  -580 |   570 |    0 | -650 |   700 | -320 |\n",
       "| 15 | [7, 3, 4, 0, 5, 1, 6, 2] | True          |        640 |       -720 |       1360 |               0 | True              | 640 |  130 |  -710 |   460 | -170 | -720 |   540 |  -10 |\n",
       "| 16 | [6, 2, 7, 3, 4, 0, 5, 1] | True          |        560 |       -900 |       1460 |               0 | True              | 560 |   20 |  -510 |   550 | -210 | -900 |   360 | -280 |\n",
       "| 17 | [7, 3, 4, 0, 5, 1, 6, 2] | True          |        540 |       -950 |       1490 |               0 | False             | 540 |  -30 |  -880 |   340 | -270 | -950 |   330 | -330 |\n",
       "| 18 | [7, 3, 4, 0, 5, 1, 6, 2] | True          |        490 |       -830 |       1320 |               0 | True              | 490 |  -40 |  -780 |   320 | -210 | -830 |   420 | -380 |\n",
       "| 19 | [6, 2, 7, 3, 4, 0, 5, 1] | True          |        650 |       -900 |       1550 |               0 | True              | 650 |  230 |  -380 |  -900 |   40 | -640 |   570 |  -90 |\n",
       "| 20 | [3, 4, 0, 5, 1, 6, 2, 7] | True          |        570 |       -840 |       1410 |               0 | True              | 570 | -160 |  -730 |   570 |  -10 | -840 |   490 | -230 |\n",
       "| 21 | [0, 5, 1, 6, 2, 7, 3, 4] | True          |        710 |       -670 |       1380 |               0 | True              | 590 |  -20 |  -530 |   650 |   40 | -670 |   710 | -200 |\n",
       "| 22 | [1, 6, 2, 7, 3, 4, 0, 5] | True          |        570 |       -850 |       1420 |               0 | True              | 570 |  -10 |  -620 |   550 |  -80 | -850 |   280 | -280 |\n",
       "| 23 | [4, 0, 5, 1, 6, 2, 7, 3] | True          |        350 |       -980 |       1330 |               0 | False             | 350 | -310 |  -930 |   210 | -340 | -980 |   210 | -270 |\n",
       "| 24 | [3, 4, 0, 5, 1, 6, 2, 7] | True          |        640 |       -820 |       1460 |               0 | True              | 640 | -370 |  -820 |   450 | -220 | -800 |   260 | -250 |\n",
       "| 25 | [1, 6, 2, 7, 3, 4, 0, 5] | True          |        600 |       -910 |       1510 |               0 | False             | 600 |  -60 |  -540 |   600 |   10 | -910 |   500 | -210 |\n",
       "| 26 | [3, 4, 0, 5, 1, 6, 2, 7] | True          |        700 |       -820 |       1520 |               0 | True              | 700 | -120 |  -820 |   590 |  -20 | -800 |   460 | -180 |\n",
       "| 27 | [3, 4, 0, 5, 1, 6, 2, 7] | True          |        590 |       -710 |       1300 |               0 | True              | 590 |  -80 |  -690 |   490 | -120 | -710 |   530 | -180 |\n",
       "| 28 | [4, 0, 5, 1, 6, 2, 7, 3] | True          |        480 |       -810 |       1290 |               0 | True              | 280 | -270 |  -750 |   440 |  -80 | -810 |   480 | -210 |\n",
       "| 29 | [4, 0, 5, 1, 6, 2, 7, 3] | True          |        510 |       -900 |       1410 |               0 | True              | 510 | -120 |  -760 |   420 | -270 | -900 |   330 | -110 |\n",
       "| 30 | [3, 4, 0, 5, 1, 6, 2, 7] | True          |        630 |       -620 |       1250 |               0 | True              | 630 | -150 |  -620 |   480 | -120 | -590 |   470 | -100 |\n",
       "| 31 | [7, 3, 4, 0, 5, 1, 6, 2] | True          |        560 |       -890 |       1450 |               0 | True              | 560 |  -50 |  -890 |   280 | -410 | -850 |   150 | -430 |\n",
       "| 32 | [6, 2, 7, 3, 4, 0, 5, 1] | True          |        670 |       -780 |       1450 |               0 | True              | 670 |  160 |  -500 |   670 | -110 | -780 |   470 |  -80 |\n",
       "| 33 | [3, 4, 0, 5, 1, 6, 2, 7] | True          |        670 |       -630 |       1300 |               0 | True              | 670 |   40 |  -550 |   500 |  -70 | -630 |   530 |  -20 |\n",
       "| 34 | [0, 5, 1, 6, 2, 7, 3, 4] | True          |        540 |       -780 |       1320 |               0 | True              | 460 |  -90 |  -720 |   540 | -130 | -780 |   540 | -300 |\n",
       "| 35 | [0, 5, 1, 6, 2, 7, 3, 4] | True          |        460 |       -980 |       1440 |               0 | False             | 350 | -190 |  -810 |   410 | -230 | -980 |   460 | -560 |\n",
       "| 36 | [0, 5, 1, 6, 2, 7, 3, 4] | True          |        660 |       -760 |       1420 |               0 | True              | 460 | -140 |  -760 |   660 |   20 | -690 |   490 | -230 |\n",
       "| 37 | [3, 4, 0, 5, 1, 6, 2, 7] | True          |        570 |       -750 |       1320 |               0 | True              | 570 |   20 |  -750 |   470 | -100 | -680 |   500 | -160 |\n",
       "| 38 | [4, 0, 5, 1, 6, 2, 7, 3] | True          |        520 |       -700 |       1220 |               0 | True              | 520 | -210 |  -700 |   510 | -210 | -690 |   500 | -170 |\n",
       "| 39 | [3, 4, 0, 5, 1, 6, 2, 7] | True          |        650 |       -740 |       1390 |               0 | True              | 650 | -140 |  -740 |   480 |  -30 | -590 |   450 | -110 |\n",
       "| 40 | [5, 1, 6, 2, 7, 3, 4, 0] | True          |        590 |       -670 |       1260 |               0 | True              | 590 |  -60 |  -660 |   570 | -150 | -670 |   290 | -220 |\n",
       "| 41 | [0, 5, 1, 6, 2, 7, 3, 4] | True          |        710 |       -690 |       1400 |               0 | True              | 610 |  -20 |  -570 |   710 |  -70 | -690 |   640 |  -90 |\n",
       "| 42 | [5, 1, 6, 2, 7, 3, 4, 0] | True          |        630 |      -1310 |       1940 |               0 | False             | 560 |  -50 |  -650 |   630 |  170 | -500 | -1310 | -130 |\n",
       "| 43 | [6, 2, 7, 3, 4, 0, 5, 1] | True          |        580 |       -880 |       1460 |               0 | True              | 520 | -110 |  -670 |   580 | -250 | -880 |   400 | -220 |\n",
       "| 44 | [5, 1, 6, 2, 7, 3, 4, 0] | True          |        680 |       -620 |       1300 |               0 | True              | 680 |  120 |  -540 |   630 |  -20 | -620 |   390 | -190 |\n",
       "| 45 | [0, 5, 1, 6, 2, 7, 3, 4] | True          |        450 |       -970 |       1420 |               0 | False             | 330 | -410 |  -970 |   310 | -240 | -840 |   450 | -370 |\n",
       "| 46 | [0, 5, 1, 6, 2, 7, 3, 4] | True          |        510 |       -810 |       1320 |               0 | True              | 510 |  -80 |  -810 |   510 |   40 | -710 |   510 | -300 |\n",
       "| 47 | [6, 2, 7, 3, 4, 0, 5, 1] | True          |        650 |      -1110 |       1760 |               0 | False             | 650 |  -20 |  -500 | -1110 |  -80 | -660 |   410 |  -60 |\n",
       "| 48 | [5, 1, 6, 2, 7, 3, 4, 0] | True          |        530 |       -780 |       1310 |               0 | True              | 510 | -170 |  -780 |   530 | -120 | -690 |   200 | -250 |\n",
       "| 49 | [0, 5, 1, 6, 2, 7, 3, 4] | True          |        570 |       -720 |       1290 |               0 | True              | 570 |  -20 |  -720 |   570 |    0 | -630 |   510 | -220 |"
      ],
      "text/plain": [
       "<IPython.core.display.Markdown object>"
      ]
     },
     "metadata": {},
     "output_type": "display_data"
    }
   ],
   "source": [
    "# display all the trial results in a markdown table\n",
    "from IPython.display import display, Markdown\n",
    "display(Markdown(trial_results.to_markdown()))"
   ]
  }
 ],
 "metadata": {
  "kernelspec": {
   "display_name": "passage",
   "language": "python",
   "name": "python3"
  },
  "language_info": {
   "codemirror_mode": {
    "name": "ipython",
    "version": 3
   },
   "file_extension": ".py",
   "mimetype": "text/x-python",
   "name": "python",
   "nbconvert_exporter": "python",
   "pygments_lexer": "ipython3",
   "version": "3.11.1"
  }
 },
 "nbformat": 4,
 "nbformat_minor": 2
}
