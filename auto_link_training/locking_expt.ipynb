{
 "cells": [
  {
   "cell_type": "code",
   "execution_count": 27,
   "metadata": {},
   "outputs": [],
   "source": [
    "import numpy as np\n",
    "from transitions import Machine\n",
    "\n",
    "STEP_SIZE = 10\n",
    "# Note: cooling is positive in GHz and heating is negative in GHz\n",
    "\n",
    "NUM_OF_LASERS = 8   # number of lasers and/or MRMs\n",
    "LASER_FREQ_SPACING = 400  # in GHz\n",
    "LASER_FREQ_UNCERTAINTY = 50  # ± this number in GHz\n",
    "\n",
    "MRM_FSR = 1800  # in GHz\n",
    "MRM_FREQ_SPACING = 400  # in GHz\n",
    "MRM_FREQ_UNCERTAINTY = 100  # in GHz\n",
    "INITIAL_COOLDOWN = MRM_FSR // 2  # in GHz\n",
    "\n",
    "# will track the resonances -1*FSR over, 0*FSR over, and 1*FSR over\n",
    "WHICH_RESONANCES = list(range(-10, 11, 1))\n",
    "BARREL_ROLL_SEQ = [0, 5, 1, 6, 2, 7, 3, 4]\n",
    "\n",
    "\n",
    "class Lasers(object):\n",
    "\n",
    "    def __init__(self,\n",
    "                 variations=False,\n",
    "                 corners=False,\n",
    "                 reverse=False,\n",
    "                 offset=0) -> None:\n",
    "        self._delta = None\n",
    "\n",
    "        # start by having all the laser lines 'bright'\n",
    "        # will be replaced by the MRM number that captures that laser\n",
    "        # Note: need to consider upstream vs. downstream\n",
    "        self._brightness = ['bright'] * NUM_OF_LASERS\n",
    "\n",
    "        # If reverse, the first laser line will have the highest frequency\n",
    "        self._reverse = reverse\n",
    "\n",
    "        # offset specifies the additive frequency offset from 0\n",
    "        self._offset = offset\n",
    "\n",
    "        self.populate_laser_lines(variations, corners)        \n",
    "\n",
    "    def populate_laser_lines(self, variations, corners):\n",
    "        # the first laser line is always at 0 GHz\n",
    "        laser_lines = np.arange(\n",
    "            NUM_OF_LASERS, dtype=int) * LASER_FREQ_SPACING\n",
    "\n",
    "        if self._reverse:\n",
    "            laser_lines = np.flip(laser_lines)\n",
    "        \n",
    "        laser_lines += self._offset    \n",
    "    \n",
    "        if variations:\n",
    "            if corners:  # only evaluate the corners\n",
    "                delta = np.random.randint(2, size=laser_lines.size)\n",
    "                delta = 2*delta - 1  # convert to [-1, +1] random numbers\n",
    "                delta *= LASER_FREQ_UNCERTAINTY\n",
    "            else:\n",
    "                delta = np.random.uniform(-1*LASER_FREQ_UNCERTAINTY,\n",
    "                                          LASER_FREQ_UNCERTAINTY,\n",
    "                                          laser_lines.size)\n",
    "            # round to the nearest STEP_SIZE\n",
    "            delta = np.round(delta/STEP_SIZE, decimals=0) * STEP_SIZE\n",
    "            delta = delta.astype(int)\n",
    "\n",
    "            self._delta = delta\n",
    "            laser_lines += delta\n",
    "\n",
    "        self._laser_lines = laser_lines\n",
    "\n",
    "    def capture_laser_line(self, which_laser, which_ring):\n",
    "        assert self._brightness[which_laser] == 'bright', \\\n",
    "            f\"Laser line {which_laser} (at {self._laser_lines[which_laser]} GHz) should be bright to be captured\"\n",
    "        # which_ring will modulate this laser\n",
    "        self._brightness[which_laser] = which_ring\n",
    "\n",
    "    @property\n",
    "    def laser_lines(self):\n",
    "        return self._laser_lines\n",
    "\n",
    "    @property\n",
    "    def brightness(self):\n",
    "        return self._brightness\n",
    "\n",
    "    def __str__(self) -> str:\n",
    "        return f\"Lines: {self.laser_lines}, Brightness: {self.brightness}\"\n",
    "    \n",
    "    def __repr__(self) -> str:\n",
    "        return self.__str__()\n",
    "\n",
    "\n",
    "class RingFSM(object):\n",
    "\n",
    "    states = ['idle', 'cold', 'search', 'lock']\n",
    "\n",
    "    def __init__(self,\n",
    "                 resonances,\n",
    "                 lasers,\n",
    "                 initial_loc=0,\n",
    "                 previous_ring=None,  # None if there's no previous ring, otherwise supply the ring idx\n",
    "                 cool_down_by=INITIAL_COOLDOWN,  # cool down by this amt in GHz\n",
    "                 step_size=STEP_SIZE,\n",
    "                 ) -> None:\n",
    "        self.laser_locs_seen = []\n",
    "        self.laser_brightness_seen = []\n",
    "        self.laser_indices_seen = []\n",
    "        self.loc = initial_loc  # location of the resonance\n",
    "\n",
    "        self.locked_laser_idx = None\n",
    "\n",
    "        self._initial_loc = initial_loc\n",
    "        self._previous_ring = previous_ring\n",
    "        self._initial_resonances = resonances\n",
    "        self._lasers = lasers\n",
    "\n",
    "        self._cool_down_by = cool_down_by\n",
    "        self._step_size = step_size\n",
    "        self._found_all_lines = False\n",
    "\n",
    "        self.machine = Machine(\n",
    "            model=self, states=RingFSM.states, initial='idle')\n",
    "\n",
    "        # 'start' starts the search algorithm\n",
    "        self.machine.add_transition(trigger='start',\n",
    "                                    source='idle',\n",
    "                                    dest='cold',\n",
    "                                    after='cool_step')\n",
    "\n",
    "        # once the ring has cooled, start searching\n",
    "        self.machine.add_transition(trigger='keep_searching',\n",
    "                                    source='cold',\n",
    "                                    dest='search',\n",
    "                                    after='heat_step')\n",
    "\n",
    "        # 'reset' puts the ring back to idle from any state\n",
    "        self.machine.add_transition(trigger='reset',\n",
    "                                    source='*',\n",
    "                                    dest='idle',\n",
    "                                    after='reset_resonances')\n",
    "\n",
    "        # will 'keep_searching' until we find all the laser lines\n",
    "        self.machine.add_transition(\n",
    "            trigger='keep_searching',\n",
    "            source='search',\n",
    "            dest='search',\n",
    "            after='heat_step')\n",
    "\n",
    "        # lock ring once the laser lines have been found\n",
    "        self.machine.add_transition(\n",
    "            trigger='lock_to_line',\n",
    "            source='search',\n",
    "            dest='lock',\n",
    "            after='lock_to_laser',\n",
    "            conditions=['found_all_lines'])\n",
    "\n",
    "    def reset_resonances(self):\n",
    "        # reset everything\n",
    "        self.loc = self._initial_loc\n",
    "        self.laser_locs_seen = []\n",
    "        self.laser_brightness_seen = []\n",
    "        self.laser_indices_seen = []\n",
    "        self._found_all_lines = False\n",
    "\n",
    "    def cool(self, amount):\n",
    "        self.loc += amount\n",
    "\n",
    "    def heat(self, amount):\n",
    "        self.loc -= amount\n",
    "\n",
    "    def cool_step(self):\n",
    "        # cool the resonances by the cool down by amount\n",
    "        self.cool(self._cool_down_by)\n",
    "\n",
    "    def heat_step(self):\n",
    "        # check if there's a laser signal to be found\n",
    "        found = self._check_laser_signal()\n",
    "        # found is tuple (bool, idx | None)\n",
    "        # if found: (True, laser idx), and if not found: (False, None)\n",
    "        if found[0]:\n",
    "            self.laser_locs_seen.append(self.loc)\n",
    "            self.laser_brightness_seen.append(\n",
    "                self._lasers.brightness[found[1]])\n",
    "            self.laser_indices_seen.append(found[1])\n",
    "\n",
    "        # check if we have found all lasers\n",
    "        self._check_exit_search_condition()\n",
    "\n",
    "        # move the resonance location by specified step_size\n",
    "        self.heat(self._step_size)\n",
    "\n",
    "    def lock_to_laser(self):\n",
    "        # jump to the laser signal we want to capture\n",
    "        self.loc = self.laser_locs_seen[-1]\n",
    "        # check and capture that laser signal\n",
    "        self._check_laser_signal(capture=True)\n",
    "\n",
    "    def _check_laser_signal(self, capture=False):\n",
    "        # check if there's any laser signal at this location\n",
    "        found_laser = False\n",
    "        idx = None\n",
    "        for r in self.resonances:\n",
    "            if (r in self._lasers.laser_lines):\n",
    "                # get the index\n",
    "                idx = np.where(self._lasers.laser_lines == r)\n",
    "                assert len(idx) == 1\n",
    "                idx = idx[0][0]\n",
    "                if capture:\n",
    "                    if self._previous_ring is None:\n",
    "                        this_ring = 0\n",
    "                    else:\n",
    "                        this_ring = self._previous_ring + 1\n",
    "                    self._lasers.capture_laser_line(idx, this_ring)\n",
    "                    self.locked_laser_idx = idx\n",
    "                found_laser = True\n",
    "        # if there's a laser there, found_laser will return that laser's index\n",
    "        return (found_laser, idx)\n",
    "\n",
    "    def _check_exit_search_condition(self):\n",
    "        # if we have seen one dim and one bright, we have found all lines\n",
    "        if self._previous_ring is None:  # this is the first ring\n",
    "            if len(self.laser_locs_seen) >= 1:\n",
    "                self._found_all_lines = True\n",
    "        else:\n",
    "            if len(self.laser_locs_seen) >= 2:\n",
    "                if self.laser_brightness_seen[-2] == self._previous_ring \\\n",
    "                        and self.laser_brightness_seen[-1] == 'bright':\n",
    "                    self._found_all_lines = True\n",
    "\n",
    "    @property\n",
    "    def found_all_lines(self):\n",
    "        return self._found_all_lines\n",
    "\n",
    "    @property\n",
    "    def resonances(self):\n",
    "        return self.loc + self._initial_resonances"
   ]
  },
  {
   "cell_type": "code",
   "execution_count": 28,
   "metadata": {},
   "outputs": [],
   "source": [
    "from collections import deque\n",
    "import copy\n",
    "\n",
    "\n",
    "def populate_mrm_resonances(global_variations=False,\n",
    "                            variations=False,\n",
    "                            corners=False):\n",
    "\n",
    "    mrm_lines = np.arange(NUM_OF_LASERS, dtype=np.int64) * MRM_FREQ_SPACING\n",
    "    mrm_lines = np.vstack([mrm_lines] * len(WHICH_RESONANCES)).T\n",
    "\n",
    "    fsr_shifts = np.array(WHICH_RESONANCES) * MRM_FSR\n",
    "    mrm_lines += fsr_shifts\n",
    "\n",
    "    if variations:  # assume we keep the FSR to be the same\n",
    "        if corners:  # only evaluate the corners\n",
    "            delta = np.random.randint(2, size=NUM_OF_LASERS)\n",
    "            delta = 2*delta - 1  # convert to [-1, +1] random numbers\n",
    "            delta *= MRM_FREQ_UNCERTAINTY\n",
    "        else:\n",
    "            delta = np.random.uniform(-1*MRM_FREQ_UNCERTAINTY,\n",
    "                                      MRM_FREQ_UNCERTAINTY,\n",
    "                                      NUM_OF_LASERS)\n",
    "        # round to the nearest STEP_SIZE\n",
    "        delta = np.round(delta/STEP_SIZE, decimals=0) * STEP_SIZE\n",
    "\n",
    "        delta = delta.astype(int)\n",
    "        delta = delta[:, np.newaxis]\n",
    "        mrm_lines += delta\n",
    "\n",
    "    if global_variations:  # the global variation can be as much as ±1 FSR\n",
    "        global_delta = np.random.uniform(-1*MRM_FSR, MRM_FSR)\n",
    "        global_delta = np.round(global_delta/STEP_SIZE, decimals=0) * STEP_SIZE\n",
    "        global_delta = global_delta.astype(int)\n",
    "        mrm_lines += global_delta\n",
    "\n",
    "    return mrm_lines\n",
    "\n",
    "\n",
    "def check_barrel_roll(list1, list2):\n",
    "    # check for barrel roll in sequence or reverse sequence\n",
    "    assert len(list1) == len(list2)\n",
    "\n",
    "    def check_equivalent(list1, list2):\n",
    "        d1 = deque(list1)\n",
    "        d2 = deque(list2)\n",
    "\n",
    "        equivalent = d1 == d2\n",
    "\n",
    "        for _ in range(len(list1)):\n",
    "            d1.rotate(1)\n",
    "            if d1 == d2:\n",
    "                equivalent = True\n",
    "\n",
    "        return equivalent\n",
    "    \n",
    "    list1_ = copy.deepcopy(list1)\n",
    "    equivalent = check_equivalent(list1_, list2)\n",
    "    list1_.reverse()\n",
    "    equivalent = equivalent or check_equivalent(list1_, list2)\n",
    "    return equivalent"
   ]
  },
  {
   "cell_type": "code",
   "execution_count": 29,
   "metadata": {},
   "outputs": [
    {
     "name": "stdout",
     "output_type": "stream",
     "text": [
      "Locked to laser # 4\n",
      "['bright', 'bright', 'bright', 'bright', 0, 'bright', 'bright', 'bright']\n",
      "Locked to laser # 0\n",
      "[1, 'bright', 'bright', 'bright', 0, 'bright', 'bright', 'bright']\n",
      "Locked to laser # 5\n",
      "[1, 'bright', 'bright', 'bright', 0, 2, 'bright', 'bright']\n",
      "Locked to laser # 1\n",
      "[1, 3, 'bright', 'bright', 0, 2, 'bright', 'bright']\n",
      "Locked to laser # 6\n",
      "[1, 3, 'bright', 'bright', 0, 2, 4, 'bright']\n",
      "Locked to laser # 2\n",
      "[1, 3, 5, 'bright', 0, 2, 4, 'bright']\n",
      "Locked to laser # 7\n",
      "[1, 3, 5, 'bright', 0, 2, 4, 6]\n",
      "Locked to laser # 3\n",
      "[1, 3, 5, 7, 0, 2, 4, 6]\n",
      "Barrel roll check? True\n",
      "Amount of heat applied: [-50, -850, -1350, -250, -650, -1350, -350, -950]\n"
     ]
    }
   ],
   "source": [
    "# Try out the algorithm with a single try\n",
    "lasers = Lasers(variations=True, corners=True, reverse=True, offset=-8*LASER_FREQ_SPACING)\n",
    "all_ring_resonances = populate_mrm_resonances(variations=True, corners=True)\n",
    "\n",
    "all_rings = []\n",
    "\n",
    "for idx in range(NUM_OF_LASERS):\n",
    "    if idx == 0:\n",
    "        mrm = RingFSM(resonances=all_ring_resonances[idx], lasers=lasers)\n",
    "    else:\n",
    "        mrm = RingFSM(resonances=all_ring_resonances[idx], lasers=lasers, previous_ring=idx-1)\n",
    "    mrm.start()\n",
    "\n",
    "    while not mrm.found_all_lines:\n",
    "        mrm.keep_searching()\n",
    "\n",
    "    mrm.lock_to_line()\n",
    "    all_rings.append(mrm)\n",
    "\n",
    "    print(f\"Locked to laser # {mrm.locked_laser_idx}\")\n",
    "    print(lasers.brightness)\n",
    "\n",
    "lasers_locked_to = [int(m.locked_laser_idx) for m in all_rings]\n",
    "\n",
    "# check for barrel roll in sequence or reverse sequence\n",
    "print(\"Barrel roll check?\", check_barrel_roll(lasers_locked_to, BARREL_ROLL_SEQ))\n",
    "\n",
    "amt_heat_applied = [m.loc for m in all_rings]\n",
    "print(f\"Amount of heat applied: {amt_heat_applied}\")"
   ]
  },
  {
   "cell_type": "code",
   "execution_count": 30,
   "metadata": {},
   "outputs": [],
   "source": [
    "# Run Monte Carlo and get distribution\n",
    "\n",
    "import pandas as pd\n",
    "import copy\n",
    "\n",
    "eval_corners = False\n",
    "\n",
    "# cycling_freqs = [-k * MRM_FSR // 9 for k in range(9)]  # change in frequency due to cycling\n",
    "cycling_freqs = [0]\n",
    "\n",
    "num_trials = 100\n",
    "trial_results = []\n",
    "\n",
    "for _ in range(num_trials):\n",
    "    lasers = Lasers(variations=True, corners=eval_corners, reverse=True, offset=8*LASER_FREQ_SPACING)\n",
    "    all_ring_resonances = populate_mrm_resonances(global_variations=True,\n",
    "                                                  variations=True,\n",
    "                                                  corners=eval_corners)\n",
    "\n",
    "    for ctry, cfreq in enumerate(cycling_freqs):\n",
    "\n",
    "        lasers_ = copy.deepcopy(lasers)\n",
    "        all_rings = []\n",
    "\n",
    "        for idx in range(NUM_OF_LASERS):\n",
    "            if idx == 0:  # the first ring\n",
    "                mrm = RingFSM(resonances=all_ring_resonances[idx],\n",
    "                              lasers=lasers_,\n",
    "                              initial_loc=cfreq)\n",
    "            else:\n",
    "                mrm = RingFSM(resonances=all_ring_resonances[idx],\n",
    "                              lasers=lasers_,\n",
    "                              initial_loc=cfreq,\n",
    "                              previous_ring=idx-1)\n",
    "            # Run the search algorithm for each MRM\n",
    "            mrm.start()\n",
    "\n",
    "            while not mrm.found_all_lines:\n",
    "                mrm.keep_searching()\n",
    "\n",
    "            mrm.lock_to_line()\n",
    "            all_rings.append(mrm)\n",
    "\n",
    "        laser_sequence = [int(m.locked_laser_idx) for m in all_rings]\n",
    "        amt_heat_applied = [m.loc for m in all_rings]\n",
    "        colder = [n for n in amt_heat_applied if n >= 0]\n",
    "        hotter = [n for n in amt_heat_applied if n <= 0]\n",
    "\n",
    "        max_cool = max(colder) if len(colder) > 0 else 0\n",
    "        max_heat = min(hotter) if len(hotter) > 0 else 0\n",
    "        \n",
    "        max_diff = max_cool - max_heat\n",
    "\n",
    "        # if True, cycle; else, success and no need for cycling\n",
    "        cycling_condition = abs(max_heat) > MRM_FSR // 2\n",
    "        if not cycling_condition:\n",
    "            break\n",
    "\n",
    "    result = {'laser_sequence': laser_sequence,\n",
    "              'barrel_roll': check_barrel_roll(laser_sequence, BARREL_ROLL_SEQ), # check if barrel roll equivalent\n",
    "              'max_cool': max_cool,\n",
    "              'max_heat': max_heat,\n",
    "              'max_diff': max_diff,\n",
    "              'cycling_trial': ctry,\n",
    "              'successful_lock': not cycling_condition  # check if we were able to lock with < 1/2 * FSR of heat\n",
    "              }\n",
    "    \n",
    "    ring_numbers = list(range(NUM_OF_LASERS))\n",
    "    heat_result = dict(zip(ring_numbers, amt_heat_applied))  # (-) value is heat and (+) value is cool\n",
    "    result.update(heat_result)\n",
    "\n",
    "    trial_results.append(result)\n",
    "\n",
    "trial_results = pd.DataFrame(trial_results)\n",
    "\n"
   ]
  },
  {
   "cell_type": "code",
   "execution_count": 31,
   "metadata": {},
   "outputs": [
    {
     "data": {
      "application/vnd.plotly.v1+json": {
       "config": {
        "plotlyServerURL": "https://plot.ly"
       },
       "data": [
        {
         "alignmentgroup": "True",
         "bingroup": "x",
         "hovertemplate": "variable=0<br>value=%{x}<br>count=%{y}<extra></extra>",
         "legendgroup": "0",
         "marker": {
          "color": "#636efa",
          "pattern": {
           "shape": ""
          }
         },
         "name": "0",
         "offsetgroup": "0",
         "orientation": "v",
         "showlegend": true,
         "type": "histogram",
         "x": [
          40,
          -630,
          -1300,
          -1870,
          -820,
          -1450,
          -380,
          -860,
          50,
          -500,
          -1330,
          -1850,
          -670,
          -1400,
          -140,
          -760,
          -120,
          -700,
          -1420,
          -290,
          -810,
          -1470,
          -160,
          -870,
          -240,
          -680,
          -1290,
          -1940,
          -610,
          -1270,
          -100,
          -800,
          50,
          -400,
          -1170,
          -1640,
          -570,
          -1250,
          -150,
          -690,
          -120,
          -800,
          -1480,
          -410,
          -1020,
          -1460,
          -410,
          -960,
          60,
          -360,
          -1120,
          -1730,
          -430,
          -1160,
          -2000,
          -710,
          -70,
          -610,
          -1370,
          -1950,
          -750,
          -1350,
          -170,
          -1000,
          60,
          -600,
          -1260,
          -1760,
          -580,
          -1280,
          -2000,
          -690,
          -50,
          -570,
          -1070,
          -1720,
          -570,
          -1510,
          -360,
          -740,
          30,
          -640,
          -1400,
          -220,
          -930,
          -1530,
          -170,
          -890,
          60,
          -820,
          -1490,
          -90,
          -810,
          -1310,
          -1900,
          -760,
          -40,
          -550,
          -1110,
          -2030,
          -740,
          -1540,
          -170,
          -860,
          30,
          -490,
          -1110,
          -1580,
          -500,
          -1060,
          -1810,
          -590,
          -10,
          -560,
          -1150,
          -1890,
          -780,
          -1350,
          -100,
          -700,
          -90,
          -710,
          -1430,
          -220,
          -960,
          -1560,
          -160,
          -840,
          50,
          -510,
          -1270,
          -1960,
          -850,
          -1290,
          -310,
          -930,
          -140,
          -600,
          -1380,
          -80,
          -650,
          -1440,
          -290,
          -780,
          -90,
          -730,
          -1230,
          -160,
          -690,
          -1250,
          -70,
          -580,
          -60,
          -670,
          -1320,
          -1850,
          -820,
          -1330,
          -210,
          -820,
          90,
          -470,
          -1310,
          -1850,
          -780,
          -1180,
          -1870,
          -750,
          10,
          -710,
          -1370,
          -90,
          -640,
          -1330,
          -1950,
          -770,
          50,
          -570,
          -1320,
          -1830,
          -640,
          -1180,
          -2070,
          -950,
          20,
          -470,
          -1180,
          -1890,
          -720,
          -1340,
          -80,
          -750,
          60,
          -600,
          -1200,
          -1780,
          -690,
          -1140,
          -1790,
          -600,
          -60,
          -570,
          -1110,
          -1800,
          -570,
          -1340,
          -130,
          -840,
          -40,
          -710,
          -1170,
          -110,
          -700,
          -1240,
          -140,
          -570,
          0,
          -770,
          -1300,
          -1890,
          -640,
          -1220,
          -1920,
          -680,
          -130,
          -580,
          -1310,
          -180,
          -770,
          -1370,
          -210,
          -840,
          -30,
          -470,
          -1060,
          -1650,
          -460,
          -1210,
          -1940,
          -770,
          50,
          -560,
          -1250,
          -1820,
          -460,
          -1070,
          -1840,
          -520,
          -40,
          -730,
          -1630,
          -400,
          -1070,
          -1480,
          -380,
          -880,
          80,
          -400,
          -1120,
          -1640,
          -670,
          -1120,
          -1830,
          -680,
          -80,
          -620,
          -1460,
          -200,
          -940,
          -1560,
          -190,
          -790,
          20,
          -840,
          -1400,
          -210,
          -790,
          -1520,
          -140,
          -900,
          -10,
          -540,
          -1150,
          -1630,
          -590,
          -1100,
          -1970,
          -630,
          -40,
          -660,
          -1400,
          -170,
          -650,
          -1490,
          -160,
          -760,
          90,
          -400,
          -940,
          -1580,
          -630,
          -1250,
          -1670,
          -630,
          -150,
          -690,
          -1350,
          -170,
          -700,
          -1330,
          -1890,
          -680,
          50,
          -420,
          -1070,
          -1870,
          -740,
          -1270,
          -130,
          -620,
          90,
          -530,
          -1290,
          -1880,
          -560,
          -1300,
          -1800,
          -780,
          -10,
          -370,
          -1150,
          -1720,
          -510,
          -1150,
          -1810,
          -430,
          -20,
          -740,
          -1310,
          -1880,
          -720,
          -1420,
          -310,
          -930,
          20,
          -480,
          -1140,
          -1630,
          -470,
          -1120,
          -1810,
          -820,
          -160,
          -660,
          -1290,
          -240,
          -640,
          -1190,
          -1820,
          -650,
          10,
          -570,
          -1260,
          -70,
          -690,
          -1210,
          -2040,
          -820,
          -20,
          -610,
          -1100,
          -1770,
          -540,
          -1410,
          -110,
          -720,
          -210,
          -680,
          -1350,
          -190,
          -770,
          -1310,
          -1870,
          -710,
          -80,
          -770,
          -1410,
          -180,
          -640,
          -1300,
          -1830,
          -760,
          100,
          -420,
          -1020,
          -1460,
          -670,
          -1200,
          -120,
          -490,
          100,
          -770,
          -1330,
          -1730,
          -630,
          -1100,
          -1710,
          -710,
          90,
          -570,
          -1190,
          -1790,
          -680,
          -1290,
          -1850,
          -680,
          -130,
          -850,
          -1430,
          -200,
          -710,
          -1290,
          -110,
          -850,
          -290,
          -810,
          -1470,
          -180,
          -750,
          -1380,
          -190,
          -770,
          -120,
          -680,
          -1340,
          -150,
          -610,
          -1360,
          -1780,
          -700,
          30,
          -760,
          -1440,
          -220,
          -930,
          -1360,
          -210,
          -880,
          -150,
          -770,
          -1510,
          -250,
          -830,
          -1280,
          -110,
          -1060,
          40,
          -450,
          -1000,
          -1670,
          -450,
          -1090,
          -1740,
          -510,
          -30,
          -600,
          -1250,
          -1850,
          -640,
          -1360,
          -180,
          -780,
          -30,
          -630,
          -1150,
          -1740,
          -490,
          -1280,
          -130,
          -620,
          60,
          -520,
          -1090,
          -1730,
          -610,
          -1260,
          -1950,
          -750,
          -260,
          -770,
          -1280,
          -140,
          -850,
          -1490,
          -320,
          -710,
          -160,
          -650,
          -1330,
          -230,
          -660,
          -1220,
          -220,
          -690,
          -30,
          -760,
          -1330,
          -290,
          -700,
          -1280,
          -160,
          -830,
          -20,
          -700,
          -1130,
          -1940,
          -580,
          -1490,
          -210,
          -800,
          -210,
          -1010,
          -1560,
          -300,
          -890,
          -1450,
          -370,
          -830,
          -30,
          -690,
          -1330,
          -170,
          -800,
          -1280,
          -2150,
          -940,
          30,
          -520,
          -1340,
          -110,
          -760,
          -1520,
          -290,
          -770,
          70,
          -530,
          -1190,
          -1630,
          -540,
          -1070,
          -1850,
          -780,
          40,
          -710,
          -1210,
          -1830,
          -820,
          -1470,
          -210,
          -860,
          -90,
          -470,
          -1180,
          -1710,
          -660,
          -1250,
          -1980,
          -870,
          50,
          -470,
          -930,
          -1640,
          -570,
          -1260,
          -1780,
          -680,
          -30,
          -820,
          -1550,
          -150,
          -890,
          -1430,
          -190,
          -920,
          -40,
          -780,
          -1300,
          -100,
          -870,
          -1540,
          -350,
          -920,
          90,
          -420,
          -930,
          -1640,
          -420,
          -1110,
          -1700,
          -610,
          40,
          -580,
          -1250,
          -290,
          -860,
          -1490,
          -270,
          -760,
          20,
          -590,
          -1060,
          -1680,
          -540,
          -1380,
          -260,
          -710,
          50,
          -690,
          -1510,
          -250,
          -880,
          -1480,
          -170,
          -870,
          80,
          -350,
          -1000,
          -1650,
          -650,
          -1150,
          -1840,
          -630,
          80,
          -530,
          -1200,
          -1780,
          -480,
          -1450,
          -230,
          -720,
          -50,
          -890,
          -1530,
          -320,
          -910,
          -1450,
          -330,
          -890,
          100,
          -500,
          -1300,
          -1750,
          -870,
          -1390,
          -300,
          -780,
          10,
          -620,
          -1210,
          -1850,
          -680,
          -1230,
          -1910,
          -600,
          -10,
          -670,
          -1260,
          -1860,
          -620,
          -1230,
          -1780,
          -710,
          0,
          -510,
          -1270,
          -1900,
          -530,
          -1340,
          -210,
          -830,
          90,
          -580,
          -1140,
          -1850,
          -680,
          -1180,
          -1780,
          -590,
          90,
          -550,
          -1220,
          -1690,
          -840,
          -1510,
          -140,
          -680,
          -110,
          -850,
          -1500,
          -370,
          -1040,
          -1500,
          -320,
          -920,
          70,
          -930,
          -1420,
          -200,
          -810,
          -1420,
          -200,
          -860,
          90,
          -750,
          -1170,
          -1740,
          -680,
          -1170,
          -1770,
          -660,
          -70,
          -770,
          -1450,
          -190,
          -820,
          -1400,
          -1850,
          -680,
          100,
          -440,
          -920,
          -1690,
          -630,
          -1220,
          -170,
          -640,
          10,
          -860,
          -1210,
          -1920,
          -890,
          -1500,
          -380,
          -920,
          -40,
          -810,
          -1310,
          -1850,
          -810,
          -1520,
          -450,
          -870,
          -150,
          -730,
          -1380,
          -100,
          -660,
          -1270,
          -230,
          -610,
          -70,
          -540,
          -1180,
          -1700,
          -670,
          -1280,
          -1880,
          -600,
          40,
          -630,
          -1320,
          -80,
          -590,
          -1170,
          -330,
          -850,
          -10,
          -670,
          -1190,
          -1730,
          -660,
          -1260,
          -1730,
          -660,
          20,
          -410,
          -1060,
          -1730,
          -440,
          -1290,
          -200,
          -660,
          30,
          -460,
          -1190,
          -1840,
          -650,
          -1150,
          -1680,
          -420
         ],
         "xaxis": "x",
         "xbins": {
          "size": 75
         },
         "yaxis": "y"
        }
       ],
       "layout": {
        "barmode": "relative",
        "legend": {
         "title": {
          "text": "variable"
         },
         "tracegroupgap": 0
        },
        "margin": {
         "t": 60
        },
        "showlegend": false,
        "template": {
         "data": {
          "bar": [
           {
            "error_x": {
             "color": "#2a3f5f"
            },
            "error_y": {
             "color": "#2a3f5f"
            },
            "marker": {
             "line": {
              "color": "#E5ECF6",
              "width": 0.5
             },
             "pattern": {
              "fillmode": "overlay",
              "size": 10,
              "solidity": 0.2
             }
            },
            "type": "bar"
           }
          ],
          "barpolar": [
           {
            "marker": {
             "line": {
              "color": "#E5ECF6",
              "width": 0.5
             },
             "pattern": {
              "fillmode": "overlay",
              "size": 10,
              "solidity": 0.2
             }
            },
            "type": "barpolar"
           }
          ],
          "carpet": [
           {
            "aaxis": {
             "endlinecolor": "#2a3f5f",
             "gridcolor": "white",
             "linecolor": "white",
             "minorgridcolor": "white",
             "startlinecolor": "#2a3f5f"
            },
            "baxis": {
             "endlinecolor": "#2a3f5f",
             "gridcolor": "white",
             "linecolor": "white",
             "minorgridcolor": "white",
             "startlinecolor": "#2a3f5f"
            },
            "type": "carpet"
           }
          ],
          "choropleth": [
           {
            "colorbar": {
             "outlinewidth": 0,
             "ticks": ""
            },
            "type": "choropleth"
           }
          ],
          "contour": [
           {
            "colorbar": {
             "outlinewidth": 0,
             "ticks": ""
            },
            "colorscale": [
             [
              0,
              "#0d0887"
             ],
             [
              0.1111111111111111,
              "#46039f"
             ],
             [
              0.2222222222222222,
              "#7201a8"
             ],
             [
              0.3333333333333333,
              "#9c179e"
             ],
             [
              0.4444444444444444,
              "#bd3786"
             ],
             [
              0.5555555555555556,
              "#d8576b"
             ],
             [
              0.6666666666666666,
              "#ed7953"
             ],
             [
              0.7777777777777778,
              "#fb9f3a"
             ],
             [
              0.8888888888888888,
              "#fdca26"
             ],
             [
              1,
              "#f0f921"
             ]
            ],
            "type": "contour"
           }
          ],
          "contourcarpet": [
           {
            "colorbar": {
             "outlinewidth": 0,
             "ticks": ""
            },
            "type": "contourcarpet"
           }
          ],
          "heatmap": [
           {
            "colorbar": {
             "outlinewidth": 0,
             "ticks": ""
            },
            "colorscale": [
             [
              0,
              "#0d0887"
             ],
             [
              0.1111111111111111,
              "#46039f"
             ],
             [
              0.2222222222222222,
              "#7201a8"
             ],
             [
              0.3333333333333333,
              "#9c179e"
             ],
             [
              0.4444444444444444,
              "#bd3786"
             ],
             [
              0.5555555555555556,
              "#d8576b"
             ],
             [
              0.6666666666666666,
              "#ed7953"
             ],
             [
              0.7777777777777778,
              "#fb9f3a"
             ],
             [
              0.8888888888888888,
              "#fdca26"
             ],
             [
              1,
              "#f0f921"
             ]
            ],
            "type": "heatmap"
           }
          ],
          "heatmapgl": [
           {
            "colorbar": {
             "outlinewidth": 0,
             "ticks": ""
            },
            "colorscale": [
             [
              0,
              "#0d0887"
             ],
             [
              0.1111111111111111,
              "#46039f"
             ],
             [
              0.2222222222222222,
              "#7201a8"
             ],
             [
              0.3333333333333333,
              "#9c179e"
             ],
             [
              0.4444444444444444,
              "#bd3786"
             ],
             [
              0.5555555555555556,
              "#d8576b"
             ],
             [
              0.6666666666666666,
              "#ed7953"
             ],
             [
              0.7777777777777778,
              "#fb9f3a"
             ],
             [
              0.8888888888888888,
              "#fdca26"
             ],
             [
              1,
              "#f0f921"
             ]
            ],
            "type": "heatmapgl"
           }
          ],
          "histogram": [
           {
            "marker": {
             "pattern": {
              "fillmode": "overlay",
              "size": 10,
              "solidity": 0.2
             }
            },
            "type": "histogram"
           }
          ],
          "histogram2d": [
           {
            "colorbar": {
             "outlinewidth": 0,
             "ticks": ""
            },
            "colorscale": [
             [
              0,
              "#0d0887"
             ],
             [
              0.1111111111111111,
              "#46039f"
             ],
             [
              0.2222222222222222,
              "#7201a8"
             ],
             [
              0.3333333333333333,
              "#9c179e"
             ],
             [
              0.4444444444444444,
              "#bd3786"
             ],
             [
              0.5555555555555556,
              "#d8576b"
             ],
             [
              0.6666666666666666,
              "#ed7953"
             ],
             [
              0.7777777777777778,
              "#fb9f3a"
             ],
             [
              0.8888888888888888,
              "#fdca26"
             ],
             [
              1,
              "#f0f921"
             ]
            ],
            "type": "histogram2d"
           }
          ],
          "histogram2dcontour": [
           {
            "colorbar": {
             "outlinewidth": 0,
             "ticks": ""
            },
            "colorscale": [
             [
              0,
              "#0d0887"
             ],
             [
              0.1111111111111111,
              "#46039f"
             ],
             [
              0.2222222222222222,
              "#7201a8"
             ],
             [
              0.3333333333333333,
              "#9c179e"
             ],
             [
              0.4444444444444444,
              "#bd3786"
             ],
             [
              0.5555555555555556,
              "#d8576b"
             ],
             [
              0.6666666666666666,
              "#ed7953"
             ],
             [
              0.7777777777777778,
              "#fb9f3a"
             ],
             [
              0.8888888888888888,
              "#fdca26"
             ],
             [
              1,
              "#f0f921"
             ]
            ],
            "type": "histogram2dcontour"
           }
          ],
          "mesh3d": [
           {
            "colorbar": {
             "outlinewidth": 0,
             "ticks": ""
            },
            "type": "mesh3d"
           }
          ],
          "parcoords": [
           {
            "line": {
             "colorbar": {
              "outlinewidth": 0,
              "ticks": ""
             }
            },
            "type": "parcoords"
           }
          ],
          "pie": [
           {
            "automargin": true,
            "type": "pie"
           }
          ],
          "scatter": [
           {
            "fillpattern": {
             "fillmode": "overlay",
             "size": 10,
             "solidity": 0.2
            },
            "type": "scatter"
           }
          ],
          "scatter3d": [
           {
            "line": {
             "colorbar": {
              "outlinewidth": 0,
              "ticks": ""
             }
            },
            "marker": {
             "colorbar": {
              "outlinewidth": 0,
              "ticks": ""
             }
            },
            "type": "scatter3d"
           }
          ],
          "scattercarpet": [
           {
            "marker": {
             "colorbar": {
              "outlinewidth": 0,
              "ticks": ""
             }
            },
            "type": "scattercarpet"
           }
          ],
          "scattergeo": [
           {
            "marker": {
             "colorbar": {
              "outlinewidth": 0,
              "ticks": ""
             }
            },
            "type": "scattergeo"
           }
          ],
          "scattergl": [
           {
            "marker": {
             "colorbar": {
              "outlinewidth": 0,
              "ticks": ""
             }
            },
            "type": "scattergl"
           }
          ],
          "scattermapbox": [
           {
            "marker": {
             "colorbar": {
              "outlinewidth": 0,
              "ticks": ""
             }
            },
            "type": "scattermapbox"
           }
          ],
          "scatterpolar": [
           {
            "marker": {
             "colorbar": {
              "outlinewidth": 0,
              "ticks": ""
             }
            },
            "type": "scatterpolar"
           }
          ],
          "scatterpolargl": [
           {
            "marker": {
             "colorbar": {
              "outlinewidth": 0,
              "ticks": ""
             }
            },
            "type": "scatterpolargl"
           }
          ],
          "scatterternary": [
           {
            "marker": {
             "colorbar": {
              "outlinewidth": 0,
              "ticks": ""
             }
            },
            "type": "scatterternary"
           }
          ],
          "surface": [
           {
            "colorbar": {
             "outlinewidth": 0,
             "ticks": ""
            },
            "colorscale": [
             [
              0,
              "#0d0887"
             ],
             [
              0.1111111111111111,
              "#46039f"
             ],
             [
              0.2222222222222222,
              "#7201a8"
             ],
             [
              0.3333333333333333,
              "#9c179e"
             ],
             [
              0.4444444444444444,
              "#bd3786"
             ],
             [
              0.5555555555555556,
              "#d8576b"
             ],
             [
              0.6666666666666666,
              "#ed7953"
             ],
             [
              0.7777777777777778,
              "#fb9f3a"
             ],
             [
              0.8888888888888888,
              "#fdca26"
             ],
             [
              1,
              "#f0f921"
             ]
            ],
            "type": "surface"
           }
          ],
          "table": [
           {
            "cells": {
             "fill": {
              "color": "#EBF0F8"
             },
             "line": {
              "color": "white"
             }
            },
            "header": {
             "fill": {
              "color": "#C8D4E3"
             },
             "line": {
              "color": "white"
             }
            },
            "type": "table"
           }
          ]
         },
         "layout": {
          "annotationdefaults": {
           "arrowcolor": "#2a3f5f",
           "arrowhead": 0,
           "arrowwidth": 1
          },
          "autotypenumbers": "strict",
          "coloraxis": {
           "colorbar": {
            "outlinewidth": 0,
            "ticks": ""
           }
          },
          "colorscale": {
           "diverging": [
            [
             0,
             "#8e0152"
            ],
            [
             0.1,
             "#c51b7d"
            ],
            [
             0.2,
             "#de77ae"
            ],
            [
             0.3,
             "#f1b6da"
            ],
            [
             0.4,
             "#fde0ef"
            ],
            [
             0.5,
             "#f7f7f7"
            ],
            [
             0.6,
             "#e6f5d0"
            ],
            [
             0.7,
             "#b8e186"
            ],
            [
             0.8,
             "#7fbc41"
            ],
            [
             0.9,
             "#4d9221"
            ],
            [
             1,
             "#276419"
            ]
           ],
           "sequential": [
            [
             0,
             "#0d0887"
            ],
            [
             0.1111111111111111,
             "#46039f"
            ],
            [
             0.2222222222222222,
             "#7201a8"
            ],
            [
             0.3333333333333333,
             "#9c179e"
            ],
            [
             0.4444444444444444,
             "#bd3786"
            ],
            [
             0.5555555555555556,
             "#d8576b"
            ],
            [
             0.6666666666666666,
             "#ed7953"
            ],
            [
             0.7777777777777778,
             "#fb9f3a"
            ],
            [
             0.8888888888888888,
             "#fdca26"
            ],
            [
             1,
             "#f0f921"
            ]
           ],
           "sequentialminus": [
            [
             0,
             "#0d0887"
            ],
            [
             0.1111111111111111,
             "#46039f"
            ],
            [
             0.2222222222222222,
             "#7201a8"
            ],
            [
             0.3333333333333333,
             "#9c179e"
            ],
            [
             0.4444444444444444,
             "#bd3786"
            ],
            [
             0.5555555555555556,
             "#d8576b"
            ],
            [
             0.6666666666666666,
             "#ed7953"
            ],
            [
             0.7777777777777778,
             "#fb9f3a"
            ],
            [
             0.8888888888888888,
             "#fdca26"
            ],
            [
             1,
             "#f0f921"
            ]
           ]
          },
          "colorway": [
           "#636efa",
           "#EF553B",
           "#00cc96",
           "#ab63fa",
           "#FFA15A",
           "#19d3f3",
           "#FF6692",
           "#B6E880",
           "#FF97FF",
           "#FECB52"
          ],
          "font": {
           "color": "#2a3f5f"
          },
          "geo": {
           "bgcolor": "white",
           "lakecolor": "white",
           "landcolor": "#E5ECF6",
           "showlakes": true,
           "showland": true,
           "subunitcolor": "white"
          },
          "hoverlabel": {
           "align": "left"
          },
          "hovermode": "closest",
          "mapbox": {
           "style": "light"
          },
          "paper_bgcolor": "white",
          "plot_bgcolor": "#E5ECF6",
          "polar": {
           "angularaxis": {
            "gridcolor": "white",
            "linecolor": "white",
            "ticks": ""
           },
           "bgcolor": "#E5ECF6",
           "radialaxis": {
            "gridcolor": "white",
            "linecolor": "white",
            "ticks": ""
           }
          },
          "scene": {
           "xaxis": {
            "backgroundcolor": "#E5ECF6",
            "gridcolor": "white",
            "gridwidth": 2,
            "linecolor": "white",
            "showbackground": true,
            "ticks": "",
            "zerolinecolor": "white"
           },
           "yaxis": {
            "backgroundcolor": "#E5ECF6",
            "gridcolor": "white",
            "gridwidth": 2,
            "linecolor": "white",
            "showbackground": true,
            "ticks": "",
            "zerolinecolor": "white"
           },
           "zaxis": {
            "backgroundcolor": "#E5ECF6",
            "gridcolor": "white",
            "gridwidth": 2,
            "linecolor": "white",
            "showbackground": true,
            "ticks": "",
            "zerolinecolor": "white"
           }
          },
          "shapedefaults": {
           "line": {
            "color": "#2a3f5f"
           }
          },
          "ternary": {
           "aaxis": {
            "gridcolor": "white",
            "linecolor": "white",
            "ticks": ""
           },
           "baxis": {
            "gridcolor": "white",
            "linecolor": "white",
            "ticks": ""
           },
           "bgcolor": "#E5ECF6",
           "caxis": {
            "gridcolor": "white",
            "linecolor": "white",
            "ticks": ""
           }
          },
          "title": {
           "x": 0.05
          },
          "xaxis": {
           "automargin": true,
           "gridcolor": "white",
           "linecolor": "white",
           "ticks": "",
           "title": {
            "standoff": 15
           },
           "zerolinecolor": "white",
           "zerolinewidth": 2
          },
          "yaxis": {
           "automargin": true,
           "gridcolor": "white",
           "linecolor": "white",
           "ticks": "",
           "title": {
            "standoff": 15
           },
           "zerolinecolor": "white",
           "zerolinewidth": 2
          }
         }
        },
        "xaxis": {
         "anchor": "y",
         "domain": [
          0,
          1
         ],
         "tickmode": "array",
         "tickvals": [
          -1800,
          -1700,
          -1600,
          -1500,
          -1400,
          -1300,
          -1200,
          -1100,
          -1000,
          -900,
          -800,
          -700,
          -600,
          -500,
          -400,
          -300,
          -200,
          -100,
          0,
          100,
          200,
          300,
          400,
          500,
          600,
          700,
          800,
          900,
          1000,
          1100,
          1200,
          1300,
          1400,
          1500,
          1600,
          1700,
          1800
         ],
         "title": {
          "text": "Heat (-) & Cool (+) amount (GHz)"
         }
        },
        "yaxis": {
         "anchor": "x",
         "domain": [
          0,
          1
         ],
         "title": {
          "text": "Count"
         }
        }
       }
      }
     },
     "metadata": {},
     "output_type": "display_data"
    },
    {
     "data": {
      "application/vnd.plotly.v1+json": {
       "config": {
        "plotlyServerURL": "https://plot.ly"
       },
       "data": [
        {
         "alignmentgroup": "True",
         "bingroup": "x",
         "hovertemplate": "max_diff=%{x}<br>count=%{y}<extra></extra>",
         "legendgroup": "",
         "marker": {
          "color": "#636efa",
          "pattern": {
           "shape": ""
          }
         },
         "name": "",
         "offsetgroup": "",
         "orientation": "v",
         "showlegend": false,
         "type": "histogram",
         "x": [
          1910,
          1900,
          1470,
          1940,
          1690,
          1480,
          2060,
          1950,
          2060,
          1720,
          1560,
          1960,
          2030,
          1840,
          1890,
          1560,
          2010,
          1440,
          1250,
          1850,
          1960,
          1960,
          2120,
          1910,
          1850,
          1800,
          1240,
          1920,
          1370,
          1940,
          1890,
          1630,
          1910,
          1560,
          1540,
          1970,
          1490,
          1760,
          1890,
          1920,
          1970,
          1810,
          1880,
          1830,
          1820,
          2050,
          1770,
          1870,
          1830,
          1560,
          1830,
          1940,
          1430,
          1470,
          1780,
          1470,
          1510,
          1780,
          1850,
          1740,
          2010,
          1490,
          1330,
          1330,
          1940,
          1560,
          2150,
          1550,
          1920,
          1870,
          1980,
          1830,
          1550,
          1540,
          1790,
          1530,
          1700,
          1560,
          1920,
          1860,
          1530,
          1850,
          1920,
          1860,
          1900,
          1940,
          1780,
          1500,
          1490,
          1860,
          1850,
          1790,
          1930,
          1850,
          1380,
          1880,
          1360,
          1730,
          1750,
          1870
         ],
         "xaxis": "x",
         "xbins": {
          "size": 75
         },
         "yaxis": "y"
        }
       ],
       "layout": {
        "barmode": "relative",
        "legend": {
         "tracegroupgap": 0
        },
        "margin": {
         "t": 60
        },
        "showlegend": false,
        "template": {
         "data": {
          "bar": [
           {
            "error_x": {
             "color": "#2a3f5f"
            },
            "error_y": {
             "color": "#2a3f5f"
            },
            "marker": {
             "line": {
              "color": "#E5ECF6",
              "width": 0.5
             },
             "pattern": {
              "fillmode": "overlay",
              "size": 10,
              "solidity": 0.2
             }
            },
            "type": "bar"
           }
          ],
          "barpolar": [
           {
            "marker": {
             "line": {
              "color": "#E5ECF6",
              "width": 0.5
             },
             "pattern": {
              "fillmode": "overlay",
              "size": 10,
              "solidity": 0.2
             }
            },
            "type": "barpolar"
           }
          ],
          "carpet": [
           {
            "aaxis": {
             "endlinecolor": "#2a3f5f",
             "gridcolor": "white",
             "linecolor": "white",
             "minorgridcolor": "white",
             "startlinecolor": "#2a3f5f"
            },
            "baxis": {
             "endlinecolor": "#2a3f5f",
             "gridcolor": "white",
             "linecolor": "white",
             "minorgridcolor": "white",
             "startlinecolor": "#2a3f5f"
            },
            "type": "carpet"
           }
          ],
          "choropleth": [
           {
            "colorbar": {
             "outlinewidth": 0,
             "ticks": ""
            },
            "type": "choropleth"
           }
          ],
          "contour": [
           {
            "colorbar": {
             "outlinewidth": 0,
             "ticks": ""
            },
            "colorscale": [
             [
              0,
              "#0d0887"
             ],
             [
              0.1111111111111111,
              "#46039f"
             ],
             [
              0.2222222222222222,
              "#7201a8"
             ],
             [
              0.3333333333333333,
              "#9c179e"
             ],
             [
              0.4444444444444444,
              "#bd3786"
             ],
             [
              0.5555555555555556,
              "#d8576b"
             ],
             [
              0.6666666666666666,
              "#ed7953"
             ],
             [
              0.7777777777777778,
              "#fb9f3a"
             ],
             [
              0.8888888888888888,
              "#fdca26"
             ],
             [
              1,
              "#f0f921"
             ]
            ],
            "type": "contour"
           }
          ],
          "contourcarpet": [
           {
            "colorbar": {
             "outlinewidth": 0,
             "ticks": ""
            },
            "type": "contourcarpet"
           }
          ],
          "heatmap": [
           {
            "colorbar": {
             "outlinewidth": 0,
             "ticks": ""
            },
            "colorscale": [
             [
              0,
              "#0d0887"
             ],
             [
              0.1111111111111111,
              "#46039f"
             ],
             [
              0.2222222222222222,
              "#7201a8"
             ],
             [
              0.3333333333333333,
              "#9c179e"
             ],
             [
              0.4444444444444444,
              "#bd3786"
             ],
             [
              0.5555555555555556,
              "#d8576b"
             ],
             [
              0.6666666666666666,
              "#ed7953"
             ],
             [
              0.7777777777777778,
              "#fb9f3a"
             ],
             [
              0.8888888888888888,
              "#fdca26"
             ],
             [
              1,
              "#f0f921"
             ]
            ],
            "type": "heatmap"
           }
          ],
          "heatmapgl": [
           {
            "colorbar": {
             "outlinewidth": 0,
             "ticks": ""
            },
            "colorscale": [
             [
              0,
              "#0d0887"
             ],
             [
              0.1111111111111111,
              "#46039f"
             ],
             [
              0.2222222222222222,
              "#7201a8"
             ],
             [
              0.3333333333333333,
              "#9c179e"
             ],
             [
              0.4444444444444444,
              "#bd3786"
             ],
             [
              0.5555555555555556,
              "#d8576b"
             ],
             [
              0.6666666666666666,
              "#ed7953"
             ],
             [
              0.7777777777777778,
              "#fb9f3a"
             ],
             [
              0.8888888888888888,
              "#fdca26"
             ],
             [
              1,
              "#f0f921"
             ]
            ],
            "type": "heatmapgl"
           }
          ],
          "histogram": [
           {
            "marker": {
             "pattern": {
              "fillmode": "overlay",
              "size": 10,
              "solidity": 0.2
             }
            },
            "type": "histogram"
           }
          ],
          "histogram2d": [
           {
            "colorbar": {
             "outlinewidth": 0,
             "ticks": ""
            },
            "colorscale": [
             [
              0,
              "#0d0887"
             ],
             [
              0.1111111111111111,
              "#46039f"
             ],
             [
              0.2222222222222222,
              "#7201a8"
             ],
             [
              0.3333333333333333,
              "#9c179e"
             ],
             [
              0.4444444444444444,
              "#bd3786"
             ],
             [
              0.5555555555555556,
              "#d8576b"
             ],
             [
              0.6666666666666666,
              "#ed7953"
             ],
             [
              0.7777777777777778,
              "#fb9f3a"
             ],
             [
              0.8888888888888888,
              "#fdca26"
             ],
             [
              1,
              "#f0f921"
             ]
            ],
            "type": "histogram2d"
           }
          ],
          "histogram2dcontour": [
           {
            "colorbar": {
             "outlinewidth": 0,
             "ticks": ""
            },
            "colorscale": [
             [
              0,
              "#0d0887"
             ],
             [
              0.1111111111111111,
              "#46039f"
             ],
             [
              0.2222222222222222,
              "#7201a8"
             ],
             [
              0.3333333333333333,
              "#9c179e"
             ],
             [
              0.4444444444444444,
              "#bd3786"
             ],
             [
              0.5555555555555556,
              "#d8576b"
             ],
             [
              0.6666666666666666,
              "#ed7953"
             ],
             [
              0.7777777777777778,
              "#fb9f3a"
             ],
             [
              0.8888888888888888,
              "#fdca26"
             ],
             [
              1,
              "#f0f921"
             ]
            ],
            "type": "histogram2dcontour"
           }
          ],
          "mesh3d": [
           {
            "colorbar": {
             "outlinewidth": 0,
             "ticks": ""
            },
            "type": "mesh3d"
           }
          ],
          "parcoords": [
           {
            "line": {
             "colorbar": {
              "outlinewidth": 0,
              "ticks": ""
             }
            },
            "type": "parcoords"
           }
          ],
          "pie": [
           {
            "automargin": true,
            "type": "pie"
           }
          ],
          "scatter": [
           {
            "fillpattern": {
             "fillmode": "overlay",
             "size": 10,
             "solidity": 0.2
            },
            "type": "scatter"
           }
          ],
          "scatter3d": [
           {
            "line": {
             "colorbar": {
              "outlinewidth": 0,
              "ticks": ""
             }
            },
            "marker": {
             "colorbar": {
              "outlinewidth": 0,
              "ticks": ""
             }
            },
            "type": "scatter3d"
           }
          ],
          "scattercarpet": [
           {
            "marker": {
             "colorbar": {
              "outlinewidth": 0,
              "ticks": ""
             }
            },
            "type": "scattercarpet"
           }
          ],
          "scattergeo": [
           {
            "marker": {
             "colorbar": {
              "outlinewidth": 0,
              "ticks": ""
             }
            },
            "type": "scattergeo"
           }
          ],
          "scattergl": [
           {
            "marker": {
             "colorbar": {
              "outlinewidth": 0,
              "ticks": ""
             }
            },
            "type": "scattergl"
           }
          ],
          "scattermapbox": [
           {
            "marker": {
             "colorbar": {
              "outlinewidth": 0,
              "ticks": ""
             }
            },
            "type": "scattermapbox"
           }
          ],
          "scatterpolar": [
           {
            "marker": {
             "colorbar": {
              "outlinewidth": 0,
              "ticks": ""
             }
            },
            "type": "scatterpolar"
           }
          ],
          "scatterpolargl": [
           {
            "marker": {
             "colorbar": {
              "outlinewidth": 0,
              "ticks": ""
             }
            },
            "type": "scatterpolargl"
           }
          ],
          "scatterternary": [
           {
            "marker": {
             "colorbar": {
              "outlinewidth": 0,
              "ticks": ""
             }
            },
            "type": "scatterternary"
           }
          ],
          "surface": [
           {
            "colorbar": {
             "outlinewidth": 0,
             "ticks": ""
            },
            "colorscale": [
             [
              0,
              "#0d0887"
             ],
             [
              0.1111111111111111,
              "#46039f"
             ],
             [
              0.2222222222222222,
              "#7201a8"
             ],
             [
              0.3333333333333333,
              "#9c179e"
             ],
             [
              0.4444444444444444,
              "#bd3786"
             ],
             [
              0.5555555555555556,
              "#d8576b"
             ],
             [
              0.6666666666666666,
              "#ed7953"
             ],
             [
              0.7777777777777778,
              "#fb9f3a"
             ],
             [
              0.8888888888888888,
              "#fdca26"
             ],
             [
              1,
              "#f0f921"
             ]
            ],
            "type": "surface"
           }
          ],
          "table": [
           {
            "cells": {
             "fill": {
              "color": "#EBF0F8"
             },
             "line": {
              "color": "white"
             }
            },
            "header": {
             "fill": {
              "color": "#C8D4E3"
             },
             "line": {
              "color": "white"
             }
            },
            "type": "table"
           }
          ]
         },
         "layout": {
          "annotationdefaults": {
           "arrowcolor": "#2a3f5f",
           "arrowhead": 0,
           "arrowwidth": 1
          },
          "autotypenumbers": "strict",
          "coloraxis": {
           "colorbar": {
            "outlinewidth": 0,
            "ticks": ""
           }
          },
          "colorscale": {
           "diverging": [
            [
             0,
             "#8e0152"
            ],
            [
             0.1,
             "#c51b7d"
            ],
            [
             0.2,
             "#de77ae"
            ],
            [
             0.3,
             "#f1b6da"
            ],
            [
             0.4,
             "#fde0ef"
            ],
            [
             0.5,
             "#f7f7f7"
            ],
            [
             0.6,
             "#e6f5d0"
            ],
            [
             0.7,
             "#b8e186"
            ],
            [
             0.8,
             "#7fbc41"
            ],
            [
             0.9,
             "#4d9221"
            ],
            [
             1,
             "#276419"
            ]
           ],
           "sequential": [
            [
             0,
             "#0d0887"
            ],
            [
             0.1111111111111111,
             "#46039f"
            ],
            [
             0.2222222222222222,
             "#7201a8"
            ],
            [
             0.3333333333333333,
             "#9c179e"
            ],
            [
             0.4444444444444444,
             "#bd3786"
            ],
            [
             0.5555555555555556,
             "#d8576b"
            ],
            [
             0.6666666666666666,
             "#ed7953"
            ],
            [
             0.7777777777777778,
             "#fb9f3a"
            ],
            [
             0.8888888888888888,
             "#fdca26"
            ],
            [
             1,
             "#f0f921"
            ]
           ],
           "sequentialminus": [
            [
             0,
             "#0d0887"
            ],
            [
             0.1111111111111111,
             "#46039f"
            ],
            [
             0.2222222222222222,
             "#7201a8"
            ],
            [
             0.3333333333333333,
             "#9c179e"
            ],
            [
             0.4444444444444444,
             "#bd3786"
            ],
            [
             0.5555555555555556,
             "#d8576b"
            ],
            [
             0.6666666666666666,
             "#ed7953"
            ],
            [
             0.7777777777777778,
             "#fb9f3a"
            ],
            [
             0.8888888888888888,
             "#fdca26"
            ],
            [
             1,
             "#f0f921"
            ]
           ]
          },
          "colorway": [
           "#636efa",
           "#EF553B",
           "#00cc96",
           "#ab63fa",
           "#FFA15A",
           "#19d3f3",
           "#FF6692",
           "#B6E880",
           "#FF97FF",
           "#FECB52"
          ],
          "font": {
           "color": "#2a3f5f"
          },
          "geo": {
           "bgcolor": "white",
           "lakecolor": "white",
           "landcolor": "#E5ECF6",
           "showlakes": true,
           "showland": true,
           "subunitcolor": "white"
          },
          "hoverlabel": {
           "align": "left"
          },
          "hovermode": "closest",
          "mapbox": {
           "style": "light"
          },
          "paper_bgcolor": "white",
          "plot_bgcolor": "#E5ECF6",
          "polar": {
           "angularaxis": {
            "gridcolor": "white",
            "linecolor": "white",
            "ticks": ""
           },
           "bgcolor": "#E5ECF6",
           "radialaxis": {
            "gridcolor": "white",
            "linecolor": "white",
            "ticks": ""
           }
          },
          "scene": {
           "xaxis": {
            "backgroundcolor": "#E5ECF6",
            "gridcolor": "white",
            "gridwidth": 2,
            "linecolor": "white",
            "showbackground": true,
            "ticks": "",
            "zerolinecolor": "white"
           },
           "yaxis": {
            "backgroundcolor": "#E5ECF6",
            "gridcolor": "white",
            "gridwidth": 2,
            "linecolor": "white",
            "showbackground": true,
            "ticks": "",
            "zerolinecolor": "white"
           },
           "zaxis": {
            "backgroundcolor": "#E5ECF6",
            "gridcolor": "white",
            "gridwidth": 2,
            "linecolor": "white",
            "showbackground": true,
            "ticks": "",
            "zerolinecolor": "white"
           }
          },
          "shapedefaults": {
           "line": {
            "color": "#2a3f5f"
           }
          },
          "ternary": {
           "aaxis": {
            "gridcolor": "white",
            "linecolor": "white",
            "ticks": ""
           },
           "baxis": {
            "gridcolor": "white",
            "linecolor": "white",
            "ticks": ""
           },
           "bgcolor": "#E5ECF6",
           "caxis": {
            "gridcolor": "white",
            "linecolor": "white",
            "ticks": ""
           }
          },
          "title": {
           "x": 0.05
          },
          "xaxis": {
           "automargin": true,
           "gridcolor": "white",
           "linecolor": "white",
           "ticks": "",
           "title": {
            "standoff": 15
           },
           "zerolinecolor": "white",
           "zerolinewidth": 2
          },
          "yaxis": {
           "automargin": true,
           "gridcolor": "white",
           "linecolor": "white",
           "ticks": "",
           "title": {
            "standoff": 15
           },
           "zerolinecolor": "white",
           "zerolinewidth": 2
          }
         }
        },
        "xaxis": {
         "anchor": "y",
         "domain": [
          0,
          1
         ],
         "tickmode": "array",
         "tickvals": [
          0,
          100,
          200,
          300,
          400,
          500,
          600,
          700,
          800,
          900,
          1000,
          1100,
          1200,
          1300,
          1400,
          1500,
          1600,
          1700,
          1800,
          1900,
          2000,
          2100,
          2200,
          2300,
          2400,
          2500,
          2600,
          2700,
          2800,
          2900,
          3000,
          3100,
          3200,
          3300,
          3400,
          3500,
          3600
         ],
         "title": {
          "text": "Heat amount difference between rings (GHz)"
         }
        },
        "yaxis": {
         "anchor": "x",
         "domain": [
          0,
          1
         ],
         "title": {
          "text": "Count"
         }
        }
       }
      }
     },
     "metadata": {},
     "output_type": "display_data"
    }
   ],
   "source": [
    "# Now plot the results of the Monte Carlo runs\n",
    "import plotly.express as px\n",
    "\n",
    "# Heat and cool amount\n",
    "fig = px.histogram(np.array(trial_results[range(NUM_OF_LASERS)]).reshape(-1))  # turn into a vector to wash out the ring number\n",
    "fig.update_traces(xbins_size = 75)\n",
    "fig.update_layout(xaxis_title=\"Heat (-) & Cool (+) amount (GHz)\", yaxis_title=\"Count\", showlegend=False)\n",
    "tick_size = 100\n",
    "fig.update_layout(\n",
    "    xaxis = dict(\n",
    "        tickmode = 'array',\n",
    "        tickvals = list(range(-MRM_FSR, MRM_FSR+tick_size, tick_size))\n",
    "    )\n",
    ")\n",
    "fig.show()\n",
    "\n",
    "# Plot the maximum differences\n",
    "fig = px.histogram(trial_results, x=\"max_diff\")  # turn into a vector to wash out the ring number\n",
    "fig.update_traces(xbins_size = 75)\n",
    "fig.update_layout(xaxis_title=\"Heat amount difference between rings (GHz)\", yaxis_title=\"Count\", showlegend=False)\n",
    "tick_size = 100\n",
    "fig.update_layout(\n",
    "    xaxis = dict(\n",
    "        tickmode = 'array',\n",
    "        tickvals = list(range(0, 2*MRM_FSR+tick_size, tick_size))\n",
    "    )\n",
    ")\n",
    "fig.show()"
   ]
  },
  {
   "cell_type": "code",
   "execution_count": 25,
   "metadata": {},
   "outputs": [
    {
     "name": "stdout",
     "output_type": "stream",
     "text": [
      "All in barrel-roll sequence?  True\n"
     ]
    }
   ],
   "source": [
    "# check if all the results in barrel-roll sequence\n",
    "\n",
    "print(\"All in barrel-roll sequence? \", trial_results['barrel_roll'].all())\n"
   ]
  },
  {
   "cell_type": "code",
   "execution_count": 26,
   "metadata": {},
   "outputs": [
    {
     "data": {
      "text/markdown": [
       "|    | laser_sequence           | barrel_roll   |   max_cool |   max_heat |   max_diff |   cycling_trial | successful_lock   |    0 |    1 |     2 |     3 |    4 |     5 |     6 |    7 |\n",
       "|---:|:-------------------------|:--------------|-----------:|-----------:|-----------:|----------------:|:------------------|-----:|-----:|------:|------:|-----:|------:|------:|-----:|\n",
       "|  0 | [4, 0, 5, 1, 6, 2, 7, 3] | True          |         10 |      -1720 |       1730 |               0 | False             |   10 | -570 | -1060 | -1720 | -510 | -1030 | -1710 | -470 |\n",
       "|  1 | [4, 0, 5, 1, 6, 2, 7, 3] | True          |        150 |      -1730 |       1880 |               0 | False             |  150 | -380 | -1110 | -1650 | -440 | -1070 | -1730 | -520 |\n",
       "|  2 | [3, 4, 0, 5, 1, 6, 2, 7] | True          |        160 |      -1670 |       1830 |               0 | False             |  160 | -620 | -1040 | -1640 | -460 | -1200 | -1670 | -580 |\n",
       "|  3 | [5, 1, 6, 2, 7, 3, 4, 0] | True          |          0 |      -1710 |       1710 |               0 | False             |  -30 | -430 | -1150 | -1710 | -630 | -1040 |  -160 | -770 |\n",
       "|  4 | [6, 2, 7, 3, 4, 0, 5, 1] | True          |        200 |      -1710 |       1910 |               0 | False             |  200 | -450 | -1100 | -1710 | -630 | -1250 |  -130 | -750 |\n",
       "|  5 | [5, 1, 6, 2, 7, 3, 4, 0] | True          |        150 |      -1980 |       2130 |               0 | False             |  150 | -520 | -1140 | -1770 | -470 | -1040 | -1980 | -780 |\n",
       "|  6 | [1, 6, 2, 7, 3, 4, 0, 5] | True          |         20 |      -1720 |       1740 |               0 | False             |   20 | -540 | -1190 | -1720 | -460 | -1210 |     0 | -830 |\n",
       "|  7 | [3, 4, 0, 5, 1, 6, 2, 7] | True          |        170 |      -1370 |       1540 |               0 | False             |  170 | -730 | -1330 |    20 | -710 | -1370 |    10 | -760 |\n",
       "|  8 | [6, 2, 7, 3, 4, 0, 5, 1] | True          |        110 |      -1500 |       1610 |               0 | False             |  110 | -610 | -1210 |    50 | -840 | -1500 |  -170 | -890 |\n",
       "|  9 | [3, 4, 0, 5, 1, 6, 2, 7] | True          |        100 |      -1380 |       1480 |               0 | False             |  100 | -590 | -1250 |   -60 | -760 | -1380 |  -100 | -760 |\n",
       "| 10 | [4, 0, 5, 1, 6, 2, 7, 3] | True          |         30 |      -1330 |       1360 |               0 | False             |   30 | -740 | -1330 |   -80 | -770 | -1240 |  -190 | -670 |\n",
       "| 11 | [7, 3, 4, 0, 5, 1, 6, 2] | True          |        170 |      -1410 |       1580 |               0 | False             |  170 | -470 | -1350 |   -60 | -630 | -1410 |  -180 | -740 |\n",
       "| 12 | [4, 0, 5, 1, 6, 2, 7, 3] | True          |         80 |      -1740 |       1820 |               0 | False             |   80 | -460 | -1100 | -1740 | -510 | -1070 | -1610 | -500 |\n",
       "| 13 | [1, 6, 2, 7, 3, 4, 0, 5] | True          |        150 |      -1510 |       1660 |               0 | False             |  150 | -300 |  -860 | -1510 | -250 | -1130 |    20 | -510 |\n",
       "| 14 | [3, 4, 0, 5, 1, 6, 2, 7] | True          |         40 |      -1400 |       1440 |               0 | False             |   40 | -760 | -1330 |   -30 | -720 | -1400 |  -120 | -690 |\n",
       "| 15 | [2, 7, 3, 4, 0, 5, 1, 6] | True          |         90 |      -1660 |       1750 |               0 | False             |   90 | -310 | -1050 | -1660 | -600 | -1220 |   -70 | -590 |\n",
       "| 16 | [4, 0, 5, 1, 6, 2, 7, 3] | True          |        130 |      -1670 |       1800 |               0 | False             |  130 | -450 | -1150 |    40 | -560 | -1200 | -1670 | -580 |\n",
       "| 17 | [2, 7, 3, 4, 0, 5, 1, 6] | True          |        140 |      -1750 |       1890 |               0 | False             |  140 | -570 | -1120 | -1750 | -590 | -1260 |  -130 | -620 |\n",
       "| 18 | [5, 1, 6, 2, 7, 3, 4, 0] | True          |        150 |      -1740 |       1890 |               0 | False             |  150 | -590 | -1170 | -1740 | -440 | -1090 |  -280 | -680 |\n",
       "| 19 | [2, 7, 3, 4, 0, 5, 1, 6] | True          |         80 |      -1880 |       1960 |               0 | False             |   80 | -480 | -1040 | -1880 | -690 | -1290 |   -30 | -640 |\n",
       "| 20 | [4, 0, 5, 1, 6, 2, 7, 3] | True          |          0 |      -1780 |       1780 |               0 | False             |  -70 | -720 | -1320 | -1780 | -740 | -1270 |   -60 | -560 |\n",
       "| 21 | [7, 3, 4, 0, 5, 1, 6, 2] | True          |        140 |      -1350 |       1490 |               0 | False             |  140 | -490 | -1350 |  -140 | -730 | -1280 |  -160 | -620 |\n",
       "| 22 | [4, 0, 5, 1, 6, 2, 7, 3] | True          |          0 |      -1420 |       1420 |               0 | False             | -140 | -770 | -1420 |  -190 | -700 | -1290 |  -150 | -870 |\n",
       "| 23 | [4, 0, 5, 1, 6, 2, 7, 3] | True          |        180 |      -1760 |       1940 |               0 | False             |  180 | -560 | -1160 | -1760 | -580 |  -930 | -1620 | -500 |\n",
       "| 24 | [4, 0, 5, 1, 6, 2, 7, 3] | True          |        110 |      -1290 |       1400 |               0 | False             |  110 | -680 | -1290 |   -70 | -650 | -1180 |    10 | -570 |\n",
       "| 25 | [5, 1, 6, 2, 7, 3, 4, 0] | True          |        160 |      -1850 |       2010 |               0 | False             |  160 | -520 | -1050 | -1660 | -530 | -1130 | -1850 | -670 |\n",
       "| 26 | [7, 3, 4, 0, 5, 1, 6, 2] | True          |        140 |      -1360 |       1500 |               0 | False             |  140 | -380 | -1360 |   -10 | -620 | -1200 |  -140 | -670 |\n",
       "| 27 | [1, 6, 2, 7, 3, 4, 0, 5] | True          |          0 |      -1390 |       1390 |               0 | False             |  -30 | -560 | -1210 |   -90 | -600 | -1390 |  -260 | -770 |\n",
       "| 28 | [4, 0, 5, 1, 6, 2, 7, 3] | True          |         40 |      -1750 |       1790 |               0 | False             |   40 | -610 | -1110 | -1750 | -670 | -1150 |  -110 | -660 |\n",
       "| 29 | [1, 6, 2, 7, 3, 4, 0, 5] | True          |        110 |      -1770 |       1880 |               0 | False             |  110 | -290 | -1020 | -1510 | -300 | -1200 | -1770 | -580 |\n",
       "| 30 | [0, 5, 1, 6, 2, 7, 3, 4] | True          |         80 |      -1710 |       1790 |               0 | False             |   80 | -500 | -1070 | -1690 | -330 | -1030 | -1710 | -600 |\n",
       "| 31 | [4, 0, 5, 1, 6, 2, 7, 3] | True          |          0 |      -1810 |       1810 |               0 | False             |  -30 | -640 | -1270 | -1810 | -710 | -1330 | -1750 | -520 |\n",
       "| 32 | [3, 4, 0, 5, 1, 6, 2, 7] | True          |        120 |      -1370 |       1490 |               0 | False             |  120 | -680 | -1200 |  -130 | -680 | -1370 |   -30 | -620 |\n",
       "| 33 | [0, 5, 1, 6, 2, 7, 3, 4] | True          |        100 |      -1750 |       1850 |               0 | False             |  100 | -620 | -1210 |   -70 | -680 | -1200 | -1750 | -820 |\n",
       "| 34 | [4, 0, 5, 1, 6, 2, 7, 3] | True          |          0 |      -1420 |       1420 |               0 | False             |  -90 | -860 | -1420 |  -180 | -840 | -1310 |  -210 | -770 |\n",
       "| 35 | [2, 7, 3, 4, 0, 5, 1, 6] | True          |        160 |      -1850 |       2010 |               0 | False             |  160 | -420 | -1020 | -1850 | -690 | -1300 |   -70 | -700 |\n",
       "| 36 | [6, 2, 7, 3, 4, 0, 5, 1] | True          |         30 |      -1730 |       1760 |               0 | False             |   30 | -550 | -1190 | -1730 | -730 | -1420 |  -120 | -690 |\n",
       "| 37 | [4, 0, 5, 1, 6, 2, 7, 3] | True          |        150 |      -1540 |       1690 |               0 | False             |  150 | -310 |  -970 | -1460 | -350 |  -990 | -1540 | -320 |\n",
       "| 38 | [0, 5, 1, 6, 2, 7, 3, 4] | True          |          0 |      -1790 |       1790 |               0 | False             |  -20 | -620 | -1160 | -1790 | -520 | -1150 |   -10 | -900 |\n",
       "| 39 | [1, 6, 2, 7, 3, 4, 0, 5] | True          |        120 |      -1710 |       1830 |               0 | False             |  120 | -540 | -1220 | -1710 | -490 | -1490 |  -240 | -690 |\n",
       "| 40 | [0, 5, 1, 6, 2, 7, 3, 4] | True          |        130 |      -1730 |       1860 |               0 | False             |  130 | -600 | -1220 | -1730 | -520 | -1110 | -1660 | -750 |\n",
       "| 41 | [7, 3, 4, 0, 5, 1, 6, 2] | True          |        180 |      -1790 |       1970 |               0 | False             |  180 | -280 | -1110 | -1790 | -500 | -1210 | -1690 | -570 |\n",
       "| 42 | [7, 3, 4, 0, 5, 1, 6, 2] | True          |        200 |      -1830 |       2030 |               0 | False             |  200 | -260 | -1070 | -1780 | -510 | -1090 | -1830 | -490 |\n",
       "| 43 | [2, 7, 3, 4, 0, 5, 1, 6] | True          |         70 |      -1850 |       1920 |               0 | False             |   70 | -530 | -1060 | -1850 | -640 | -1410 |  -220 | -740 |\n",
       "| 44 | [3, 4, 0, 5, 1, 6, 2, 7] | True          |         60 |      -1490 |       1550 |               0 | False             |   60 | -790 | -1380 |  -190 | -800 | -1490 |  -200 | -740 |\n",
       "| 45 | [7, 3, 4, 0, 5, 1, 6, 2] | True          |        190 |      -1400 |       1590 |               0 | False             |  190 | -490 | -1400 |  -190 | -730 | -1390 |   -80 | -680 |\n",
       "| 46 | [1, 6, 2, 7, 3, 4, 0, 5] | True          |         80 |      -1270 |       1350 |               0 | False             |   80 | -590 | -1150 |   -50 | -600 | -1270 |  -100 | -880 |\n",
       "| 47 | [6, 2, 7, 3, 4, 0, 5, 1] | True          |         60 |      -1720 |       1780 |               0 | False             |   60 | -630 | -1200 | -1720 | -800 | -1260 |   -10 | -780 |\n",
       "| 48 | [5, 1, 6, 2, 7, 3, 4, 0] | True          |        170 |      -1760 |       1930 |               0 | False             |  170 | -360 | -1030 | -1590 | -400 |  -930 | -1760 | -600 |\n",
       "| 49 | [6, 2, 7, 3, 4, 0, 5, 1] | True          |        190 |      -1730 |       1920 |               0 | False             |  190 | -500 |  -990 | -1730 | -660 | -1260 |   -80 | -730 |\n",
       "| 50 | [1, 6, 2, 7, 3, 4, 0, 5] | True          |        120 |      -1460 |       1580 |               0 | False             |  120 | -460 | -1080 |   -90 | -700 | -1460 |  -190 | -750 |\n",
       "| 51 | [4, 0, 5, 1, 6, 2, 7, 3] | True          |          0 |      -1580 |       1580 |               0 | False             | -210 | -960 | -1410 |  -200 | -870 | -1580 |  -130 | -900 |\n",
       "| 52 | [1, 6, 2, 7, 3, 4, 0, 5] | True          |         90 |      -1330 |       1420 |               0 | False             |   90 | -590 | -1180 |   -50 | -510 | -1330 |  -170 | -790 |\n",
       "| 53 | [0, 5, 1, 6, 2, 7, 3, 4] | True          |         90 |      -1680 |       1770 |               0 | False             |   90 | -390 |  -960 | -1680 | -340 |  -990 | -1630 | -630 |\n",
       "| 54 | [3, 4, 0, 5, 1, 6, 2, 7] | True          |         60 |      -1350 |       1410 |               0 | False             |   60 | -770 | -1350 |   -70 | -760 | -1290 |   -90 | -730 |\n",
       "| 55 | [3, 4, 0, 5, 1, 6, 2, 7] | True          |         80 |      -1380 |       1460 |               0 | False             |   80 | -740 | -1300 |  -220 | -740 | -1380 |  -230 | -790 |\n",
       "| 56 | [7, 3, 4, 0, 5, 1, 6, 2] | True          |        180 |      -1360 |       1540 |               0 | False             |  180 | -450 | -1360 |   -90 | -720 | -1170 |  -140 | -630 |\n",
       "| 57 | [4, 0, 5, 1, 6, 2, 7, 3] | True          |        200 |      -1710 |       1910 |               0 | False             |  200 | -540 | -1050 | -1670 | -440 | -1090 | -1710 | -580 |\n",
       "| 58 | [5, 1, 6, 2, 7, 3, 4, 0] | True          |        150 |      -1970 |       2120 |               0 | False             |  150 | -570 | -1160 | -1640 | -510 | -1070 | -1970 | -700 |\n",
       "| 59 | [0, 5, 1, 6, 2, 7, 3, 4] | True          |        150 |      -1700 |       1850 |               0 | False             |  150 | -430 | -1130 | -1650 | -610 | -1160 | -1700 | -570 |\n",
       "| 60 | [5, 1, 6, 2, 7, 3, 4, 0] | True          |          0 |      -1690 |       1690 |               0 | False             |  -50 | -400 | -1140 | -1690 | -490 | -1070 |  -240 | -770 |\n",
       "| 61 | [5, 1, 6, 2, 7, 3, 4, 0] | True          |         40 |      -1870 |       1910 |               0 | False             |   40 | -560 | -1230 |     0 | -610 | -1060 | -1870 | -660 |\n",
       "| 62 | [5, 1, 6, 2, 7, 3, 4, 0] | True          |         30 |      -1920 |       1950 |               0 | False             |   30 | -410 | -1090 | -1580 | -550 |  -990 | -1920 | -630 |\n",
       "| 63 | [2, 7, 3, 4, 0, 5, 1, 6] | True          |        120 |      -1820 |       1940 |               0 | False             |  120 | -400 |  -980 | -1820 | -700 | -1120 |   -30 | -520 |\n",
       "| 64 | [4, 0, 5, 1, 6, 2, 7, 3] | True          |          0 |      -1320 |       1320 |               0 | False             |  -40 | -650 | -1320 |  -110 | -730 | -1180 |   -20 | -590 |\n",
       "| 65 | [7, 3, 4, 0, 5, 1, 6, 2] | True          |        120 |      -1260 |       1380 |               0 | False             |  120 | -390 | -1260 |   -10 | -680 | -1240 |   -20 | -590 |\n",
       "| 66 | [4, 0, 5, 1, 6, 2, 7, 3] | True          |        170 |      -1580 |       1750 |               0 | False             |  170 | -400 |  -990 | -1580 | -350 |  -950 | -1570 | -470 |\n",
       "| 67 | [5, 1, 6, 2, 7, 3, 4, 0] | True          |        120 |      -1270 |       1390 |               0 | False             |  120 | -670 | -1270 |   -20 | -500 | -1190 |  -200 | -700 |\n",
       "| 68 | [4, 0, 5, 1, 6, 2, 7, 3] | True          |         30 |      -1170 |       1200 |               0 | False             |   30 | -670 | -1150 |  -140 | -740 | -1170 |   -80 | -570 |\n",
       "| 69 | [3, 4, 0, 5, 1, 6, 2, 7] | True          |        140 |      -1830 |       1970 |               0 | False             |  140 | -580 | -1110 | -1830 | -550 | -1250 |   -90 | -540 |\n",
       "| 70 | [4, 0, 5, 1, 6, 2, 7, 3] | True          |        110 |      -1700 |       1810 |               0 | False             |  110 | -530 | -1020 | -1700 | -570 | -1100 | -1670 | -480 |\n",
       "| 71 | [5, 1, 6, 2, 7, 3, 4, 0] | True          |         40 |      -1370 |       1410 |               0 | False             |   40 | -710 | -1310 |   -10 | -700 | -1370 |  -250 | -900 |\n",
       "| 72 | [3, 4, 0, 5, 1, 6, 2, 7] | True          |        190 |      -1380 |       1570 |               0 | False             |  190 | -800 | -1330 |  -140 | -780 | -1380 |  -160 | -760 |\n",
       "| 73 | [7, 3, 4, 0, 5, 1, 6, 2] | True          |        170 |      -1770 |       1940 |               0 | False             |  170 | -390 | -1150 |   -40 | -570 | -1210 | -1770 | -520 |\n",
       "| 74 | [5, 1, 6, 2, 7, 3, 4, 0] | True          |        150 |      -1830 |       1980 |               0 | False             |  150 | -470 | -1090 | -1450 | -270 |  -920 | -1830 | -640 |\n",
       "| 75 | [4, 0, 5, 1, 6, 2, 7, 3] | True          |         70 |      -1810 |       1880 |               0 | False             |   70 | -510 | -1120 | -1730 | -640 | -1200 | -1810 | -420 |\n",
       "| 76 | [7, 3, 4, 0, 5, 1, 6, 2] | True          |        140 |      -1840 |       1980 |               0 | False             |  140 | -380 | -1100 |  -120 | -740 | -1090 | -1840 | -710 |\n",
       "| 77 | [4, 0, 5, 1, 6, 2, 7, 3] | True          |         60 |      -1300 |       1360 |               0 | False             |   60 | -570 | -1300 |   -50 | -670 | -1290 |   -20 | -750 |\n",
       "| 78 | [7, 3, 4, 0, 5, 1, 6, 2] | True          |         50 |      -1560 |       1610 |               0 | False             |   50 | -720 | -1420 |  -120 | -810 | -1560 |  -140 | -720 |\n",
       "| 79 | [4, 0, 5, 1, 6, 2, 7, 3] | True          |        100 |      -1670 |       1770 |               0 | False             |  100 | -510 | -1180 | -1670 | -450 | -1250 |   -30 | -470 |\n",
       "| 80 | [4, 0, 5, 1, 6, 2, 7, 3] | True          |          0 |      -1830 |       1830 |               0 | False             |  -20 | -580 | -1340 |   -10 | -720 | -1270 | -1830 | -710 |\n",
       "| 81 | [5, 1, 6, 2, 7, 3, 4, 0] | True          |        110 |      -1760 |       1870 |               0 | False             |  110 | -630 | -1250 | -1760 | -670 | -1270 |  -200 | -930 |\n",
       "| 82 | [7, 3, 4, 0, 5, 1, 6, 2] | True          |        130 |      -1430 |       1560 |               0 | False             |  130 | -540 | -1390 |  -260 | -710 | -1430 |  -150 | -800 |\n",
       "| 83 | [0, 5, 1, 6, 2, 7, 3, 4] | True          |         30 |      -1720 |       1750 |               0 | False             |   30 | -370 | -1120 | -1690 | -420 | -1140 | -1720 | -720 |\n",
       "| 84 | [5, 1, 6, 2, 7, 3, 4, 0] | True          |        150 |      -1910 |       2060 |               0 | False             |  150 | -600 | -1170 | -1700 | -560 | -1110 | -1910 | -720 |\n",
       "| 85 | [5, 1, 6, 2, 7, 3, 4, 0] | True          |         80 |      -1920 |       2000 |               0 | False             |   80 | -630 | -1200 |  -160 | -750 | -1220 | -1920 | -860 |\n",
       "| 86 | [5, 1, 6, 2, 7, 3, 4, 0] | True          |        200 |      -1870 |       2070 |               0 | False             |  200 | -390 | -1020 | -1540 | -470 | -1050 | -1870 | -560 |\n",
       "| 87 | [2, 7, 3, 4, 0, 5, 1, 6] | True          |          0 |      -1890 |       1890 |               0 | False             |  -40 | -460 | -1210 | -1890 | -690 | -1310 |  -120 | -690 |\n",
       "| 88 | [3, 4, 0, 5, 1, 6, 2, 7] | True          |         30 |      -1310 |       1340 |               0 | False             |   30 | -750 | -1310 |  -140 | -680 | -1230 |    20 | -590 |\n",
       "| 89 | [4, 0, 5, 1, 6, 2, 7, 3] | True          |          0 |      -1470 |       1470 |               0 | False             |  -80 | -810 | -1470 |   -80 | -890 | -1470 |  -120 | -900 |\n",
       "| 90 | [0, 5, 1, 6, 2, 7, 3, 4] | True          |        160 |      -1570 |       1730 |               0 | False             |  160 | -350 | -1110 | -1550 | -540 | -1060 | -1570 | -610 |\n",
       "| 91 | [2, 7, 3, 4, 0, 5, 1, 6] | True          |         50 |      -1990 |       2040 |               0 | False             |   50 | -380 | -1110 | -1990 | -700 | -1250 |   -90 | -590 |\n",
       "| 92 | [6, 2, 7, 3, 4, 0, 5, 1] | True          |        140 |      -1630 |       1770 |               0 | False             |  140 | -350 |  -980 | -1630 | -650 | -1170 |   -70 | -530 |\n",
       "| 93 | [4, 0, 5, 1, 6, 2, 7, 3] | True          |          0 |      -1370 |       1370 |               0 | False             |  -50 | -620 | -1370 |  -120 | -610 | -1310 |   -80 | -680 |\n",
       "| 94 | [4, 0, 5, 1, 6, 2, 7, 3] | True          |         40 |      -1810 |       1850 |               0 | False             |   40 | -610 | -1320 |   -60 | -520 | -1180 | -1810 | -650 |\n",
       "| 95 | [5, 1, 6, 2, 7, 3, 4, 0] | True          |        180 |      -1780 |       1960 |               0 | False             |  180 | -310 |  -880 | -1430 | -290 |  -960 | -1780 | -460 |\n",
       "| 96 | [2, 7, 3, 4, 0, 5, 1, 6] | True          |        120 |      -1850 |       1970 |               0 | False             |  120 | -620 | -1160 | -1850 | -670 | -1390 |   -60 | -720 |\n",
       "| 97 | [1, 6, 2, 7, 3, 4, 0, 5] | True          |        180 |      -1620 |       1800 |               0 | False             |  180 | -490 | -1070 | -1620 | -610 | -1300 |  -170 | -690 |\n",
       "| 98 | [5, 1, 6, 2, 7, 3, 4, 0] | True          |        180 |      -1810 |       1990 |               0 | False             |  180 | -460 | -1170 | -1800 | -470 | -1120 | -1810 | -610 |\n",
       "| 99 | [2, 7, 3, 4, 0, 5, 1, 6] | True          |        140 |      -1820 |       1960 |               0 | False             |  140 | -480 |  -960 | -1820 | -600 | -1100 | -1820 | -700 |"
      ],
      "text/plain": [
       "<IPython.core.display.Markdown object>"
      ]
     },
     "metadata": {},
     "output_type": "display_data"
    }
   ],
   "source": [
    "# display all the trial results in a markdown table\n",
    "from IPython.display import display, Markdown\n",
    "display(Markdown(trial_results.to_markdown()))"
   ]
  }
 ],
 "metadata": {
  "kernelspec": {
   "display_name": "passage",
   "language": "python",
   "name": "python3"
  },
  "language_info": {
   "codemirror_mode": {
    "name": "ipython",
    "version": 3
   },
   "file_extension": ".py",
   "mimetype": "text/x-python",
   "name": "python",
   "nbconvert_exporter": "python",
   "pygments_lexer": "ipython3",
   "version": "3.11.1"
  }
 },
 "nbformat": 4,
 "nbformat_minor": 2
}
