{
 "cells": [
  {
   "cell_type": "code",
   "execution_count": 1,
   "metadata": {},
   "outputs": [],
   "source": [
    "import numpy as np\n",
    "from transitions import Machine\n",
    "\n",
    "STEP_SIZE = 10  # simulation/calculation step size, make sure smaller than any relevant values\n",
    "    # use the step size of the DAC setting 0.15V - 1.65V with ~200 codes.\n",
    "\n",
    "# Note: cooling is positive in GHz and heating is negative in GHz\n",
    "# Laser parameters\n",
    "NUM_OF_LASERS = 8   # number of lasers and/or MRMs\n",
    "LASER_FREQ_SPACING = 400  # in GHz\n",
    "LASER_FREQ_UNCERTAINTY = 50  # ± this number in GHz\n",
    "# MRM parameters\n",
    "MRM_FSR = 1800  # in GHz\n",
    "MRM_FREQ_SPACING = -200  # in GHz, negative freq is longer wavelength\n",
    "MRM_FREQ_UNCERTAINTY = 200  # in GHz\n",
    "# CRR parameters\n",
    "CRR_FSR = 1800  # in GHz\n",
    "CRR_FREQ_SPACING = -200  # in GHz, negative freq is longer wavelength\n",
    "CRR_FREQ_UNCERTAINTY = 100  # in GHz\n",
    "\n",
    "# will track the resonances -5*FSR over, ..., 0*FSR over, ... 4*FSR over\n",
    "# for both MRMs and CRRs.\n",
    "WHICH_RESONANCES = list(range(-5, 5, 1))\n",
    "BARREL_ROLL_SEQ = [0, 5, 1, 6, 2, 7, 3, 4]\n",
    "\n",
    "\n",
    "class Lasers(object):\n",
    "\n",
    "    \"\"\"Lasers\n",
    "    Initialize the lasers. Flags:\n",
    "    - variations (bool): whether to enable laser wavelength uncertainty\n",
    "    - corners (bool): if True, only evaluate the corners of the wavelength\n",
    "        uncertainties. Won't do anything if `variations` is `False`.\n",
    "    - reverse (bool): if True, go in decreasing frequency.\n",
    "        (higher frequnency first in the list).\n",
    "    - offest (int): specify the offset from 0. Otherwise, the lowest frequency\n",
    "        will always be 0 GHz.\n",
    "\n",
    "    The object has two important properties:\n",
    "    - `laser_lines` (list): gives us the frequency of the lasers.\n",
    "    - `brightness` (list): will say `bright` if that laser is uncaptured.\n",
    "        Capture a laser line with the function `capture_laser_line`.\n",
    "        That specific laser brightness will change to the MRM/CRR ring idx.\n",
    "    \"\"\"\n",
    "\n",
    "    def __init__(self,\n",
    "                 variations=False,\n",
    "                 corners=False,\n",
    "                 reverse=False,\n",
    "                 offset=0) -> None:\n",
    "        self._delta = None\n",
    "\n",
    "        # start by having all the laser lines 'bright'\n",
    "        # will be replaced by the MRM number that captures that laser\n",
    "        # Note: need to considerq upstream vs. downstream\n",
    "        self._brightness = ['bright'] * NUM_OF_LASERS\n",
    "\n",
    "        # If reverse, the first laser line will have the highest frequency\n",
    "        self._reverse = reverse\n",
    "\n",
    "        # offset specifies the additive frequency offset from 0\n",
    "        self._offset = offset\n",
    "\n",
    "        self.populate_laser_lines(variations, corners)\n",
    "\n",
    "    def populate_laser_lines(self, variations, corners):\n",
    "        # the first laser line is always at 0 GHz\n",
    "        laser_lines = np.arange(\n",
    "            NUM_OF_LASERS, dtype=int) * LASER_FREQ_SPACING\n",
    "\n",
    "        if self._reverse:\n",
    "            laser_lines = np.flip(laser_lines)\n",
    "\n",
    "        laser_lines += self._offset\n",
    "\n",
    "        if variations:\n",
    "            if corners:  # only evaluate the corners\n",
    "                delta = np.random.randint(2, size=laser_lines.size)\n",
    "                delta = 2*delta - 1  # convert to [-1, +1] random numbers\n",
    "                delta *= LASER_FREQ_UNCERTAINTY\n",
    "            else:\n",
    "                delta = np.random.uniform(-1*LASER_FREQ_UNCERTAINTY,\n",
    "                                          LASER_FREQ_UNCERTAINTY,\n",
    "                                          laser_lines.size)\n",
    "            # round to the nearest STEP_SIZE\n",
    "            delta = np.round(delta/STEP_SIZE, decimals=0) * STEP_SIZE\n",
    "            delta = delta.astype(int)\n",
    "\n",
    "            self._delta = delta\n",
    "            laser_lines += delta\n",
    "\n",
    "        self._laser_lines = laser_lines\n",
    "\n",
    "    def capture_laser_line(self, which_laser, which_ring, type='mrm'):\n",
    "        if type == 'mrm':\n",
    "            assert self._brightness[which_laser] == 'bright', \\\n",
    "                f\"Laser line {which_laser} (at {self._laser_lines[which_laser]} GHz) should be bright to be captured\"\n",
    "        else:  # 'crr'\n",
    "            assert self._brightness[which_laser] == which_ring, \\\n",
    "                f\"Laser line {which_laser} (at {self._laser_lines[which_laser]} GHz) should be numbered {which_ring} to be captured\"\n",
    "        # which_ring will modulate this laser\n",
    "        self._brightness[which_laser] = which_ring\n",
    "\n",
    "    @property\n",
    "    def laser_lines(self):\n",
    "        return self._laser_lines\n",
    "\n",
    "    @property\n",
    "    def brightness(self):\n",
    "        return self._brightness\n",
    "\n",
    "    def __str__(self) -> str:\n",
    "        return f\"Lines: {self.laser_lines}, Brightness: {self.brightness}\"\n",
    "\n",
    "    def __repr__(self) -> str:\n",
    "        return self.__str__()\n",
    "\n",
    "\n",
    "class RingFSM(object):\n",
    "    \"\"\"RingFSM\n",
    "    Base class for all rings: MRMs and CRRs.\n",
    "    However, they will be modified below, use MRM_FSR and CRR_FSR instead.\n",
    "    \"\"\"\n",
    "\n",
    "    states = ['idle', 'cold', 'search', 'lock']\n",
    "    INITIAL_COOLDOWN = 200  # in GHz\n",
    "    # Using this default value because it should clear laser uncertainty and\n",
    "    # the ring resonance uncertainty at ± 100 GHz.\n",
    "    DEFAULT_FSR = 1800  # in GHz\n",
    "\n",
    "    def __init__(self,\n",
    "                 resonances,\n",
    "                 lasers,\n",
    "                 initial_loc=0,\n",
    "                 this_ring=0,  # this ring's index in the bank\n",
    "                 previous_ring=None,  # None if there's no previous ring, otherwise supply the ring idx\n",
    "                 cool_down_by=INITIAL_COOLDOWN,  # cool down by this amt in GHz\n",
    "                 step_size=STEP_SIZE,\n",
    "                 heating_threshold=-1*DEFAULT_FSR,\n",
    "                 cooling_threshold=INITIAL_COOLDOWN,\n",
    "                 ring_fsr=DEFAULT_FSR,\n",
    "                 ) -> None:\n",
    "        self.laser_locs_seen = []\n",
    "        self.laser_brightness_seen = []\n",
    "        self.laser_indices_seen = []\n",
    "        self.loc = initial_loc  # location of the resonance\n",
    "\n",
    "        self.locked_laser_idx = None\n",
    "\n",
    "        self._initial_loc = initial_loc\n",
    "        self._this_ring = this_ring\n",
    "        self._previous_ring = previous_ring\n",
    "        self._initial_resonances = resonances\n",
    "        self._lasers = lasers\n",
    "\n",
    "        self._cool_down_by = cool_down_by\n",
    "        self._step_size = step_size\n",
    "        self._ring_fsr = abs(ring_fsr)\n",
    "\n",
    "        assert heating_threshold >= -1*self._ring_fsr and heating_threshold <= 0\n",
    "        self._heating_threshold = heating_threshold\n",
    "        assert cooling_threshold <= self._ring_fsr and cooling_threshold >= 0\n",
    "        self._cooling_threshold = cooling_threshold\n",
    "\n",
    "        self._found_all_lines = False\n",
    "\n",
    "        self.machine = Machine(\n",
    "            model=self, states=RingFSM.states, initial='idle')\n",
    "\n",
    "        # 'start' starts the search algorithm\n",
    "        self.machine.add_transition(trigger='start',\n",
    "                                    source='idle',\n",
    "                                    dest='cold',\n",
    "                                    after='cool_step')\n",
    "\n",
    "        # once the ring has cooled, start searching\n",
    "        self.machine.add_transition(trigger='keep_searching',\n",
    "                                    source='cold',\n",
    "                                    dest='search',\n",
    "                                    after='heat_step')\n",
    "\n",
    "        # 'reset' puts the ring back to idle from any state\n",
    "        self.machine.add_transition(trigger='reset',\n",
    "                                    source='*',\n",
    "                                    dest='idle',\n",
    "                                    after='reset_resonances')\n",
    "\n",
    "        # will 'keep_searching' until we find all the laser lines\n",
    "        self.machine.add_transition(\n",
    "            trigger='keep_searching',\n",
    "            source='search',\n",
    "            dest='search',\n",
    "            after='heat_step')\n",
    "\n",
    "        # lock ring once the laser lines have been found\n",
    "        self.machine.add_transition(\n",
    "            trigger='lock_to_line',\n",
    "            source='search',\n",
    "            dest='lock',\n",
    "            after='lock_to_laser',\n",
    "            conditions=['found_all_lines'])\n",
    "\n",
    "    def reset_resonances(self):\n",
    "        # reset everything\n",
    "        self.loc = self._initial_loc\n",
    "        self.laser_locs_seen = []\n",
    "        self.laser_brightness_seen = []\n",
    "        self.laser_indices_seen = []\n",
    "        self._found_all_lines = False\n",
    "\n",
    "    def cool(self, amount):\n",
    "        self.loc += amount\n",
    "\n",
    "    def heat(self, amount):\n",
    "        self.loc -= amount\n",
    "\n",
    "    def cool_step(self):\n",
    "        # cool the resonances by the cool down by amount\n",
    "        self.cool(self._cool_down_by)\n",
    "\n",
    "    def heat_step(self):\n",
    "        # check if there's a laser signal to be found\n",
    "        found = self._check_laser_signal()\n",
    "        # found is tuple (bool, idx | None)\n",
    "        # if found: (True, laser idx), and if not found: (False, None)\n",
    "        if found[0]:\n",
    "            self.laser_locs_seen.append(self.loc)\n",
    "            self.laser_brightness_seen.append(\n",
    "                self._lasers.brightness[found[1]])\n",
    "            self.laser_indices_seen.append(found[1])\n",
    "\n",
    "        # check if we have found all lasers\n",
    "        self._check_exit_search_condition()\n",
    "\n",
    "        # move the resonance location by specified step_size\n",
    "        self.heat(self._step_size)\n",
    "\n",
    "    def lock_to_laser(self):\n",
    "\n",
    "        # Correct the range of numbers to between [-1*FSR, cooling_threshold]\n",
    "        candidate_loc = self.laser_locs_seen[-1]\n",
    "        # bring any number beyond 0 and -1*fsr to this range\n",
    "        candidate_loc = candidate_loc % (-1*self._ring_fsr)\n",
    "        # bring any number between -1*fsr and the cooling limit to a positive value (cold)\n",
    "        cooling_limit = self._cooling_threshold - self._ring_fsr\n",
    "        if candidate_loc > (-1*self._ring_fsr) and candidate_loc <= cooling_limit:\n",
    "            candidate_loc += self._ring_fsr\n",
    "\n",
    "        # jump to the laser signal we want to capture\n",
    "        self.loc = candidate_loc\n",
    "        # check and capture that laser signal\n",
    "        self._check_laser_signal(capture=True)\n",
    "\n",
    "    def _capture_line(self, idx, ring_number):\n",
    "        return self._lasers.capture_laser_line(idx, ring_number, type='mrm')\n",
    "\n",
    "    def _check_laser_signal(self, capture=False):\n",
    "        # check if there's any laser signal at this location\n",
    "        # and, also decide to capture.\n",
    "        found_laser = False\n",
    "        idx = None\n",
    "        for r in self.resonances:\n",
    "            if (r in self._lasers.laser_lines):\n",
    "                # get the index\n",
    "                idx = np.where(self._lasers.laser_lines == r)\n",
    "                assert len(idx) == 1\n",
    "                idx = idx[0][0]\n",
    "                if capture:\n",
    "                    self._capture_line(idx, self._this_ring)\n",
    "                    self.locked_laser_idx = idx\n",
    "                found_laser = True\n",
    "        # if there's a laser there, found_laser will return that laser's index\n",
    "        return (found_laser, idx)\n",
    "\n",
    "    def _check_exit_search_condition(self):\n",
    "        # This is the crux of the search algorithm.\n",
    "        # In this case, we consider the simple algo.\n",
    "        # if we have seen one dim and one bright, we have found all lines\n",
    "        if self._previous_ring is None:  # the first ring in the bank\n",
    "            if len(self.laser_locs_seen) >= 2:\n",
    "                self._found_all_lines = True\n",
    "        else:  # all the other rings\n",
    "            if len(self.laser_locs_seen) >= 2:\n",
    "                # NB: this line is the only significant change in the simplified algorithm\n",
    "                if self.laser_brightness_seen[-2] != 'bright' and self.laser_brightness_seen[-1] == 'bright':\n",
    "                    self._found_all_lines = True\n",
    "\n",
    "    @property\n",
    "    def found_all_lines(self):\n",
    "        return self._found_all_lines\n",
    "\n",
    "    @property\n",
    "    def resonances(self):\n",
    "        return self.loc + self._initial_resonances\n",
    "\n",
    "    @property\n",
    "    def within_threshold(self):\n",
    "        # if the number is beyond the cooling and heating threshold, then it's outside of threshold\n",
    "        # otherwise, it's within threshold\n",
    "        return self.loc >= self._heating_threshold and self.loc <= self._cooling_threshold\n",
    "\n",
    "\n",
    "class MRM_FSM(RingFSM):\n",
    "\n",
    "    INITIAL_COOLDOWN = 200  # in GHz\n",
    "\n",
    "    def __init__(self,\n",
    "                 resonances,  # a list of this ring's resonances\n",
    "                 lasers,  # laser object\n",
    "                 initial_loc=0,  # initial heating/cooling in GHz\n",
    "                 this_ring=0,  # this ring's index in the bank\n",
    "                 previous_ring=None,  # None if there's no previous ring, otherwise supply the ring idx\n",
    "                 cool_down_by=INITIAL_COOLDOWN,  # cool down by this amt in GHz before searching\n",
    "                 step_size=STEP_SIZE,\n",
    "                 heating_threshold=-1*MRM_FSR,\n",
    "                 cooling_threshold=INITIAL_COOLDOWN\n",
    "                 ) -> None:\n",
    "\n",
    "        super().__init__(resonances, lasers, initial_loc, this_ring,\n",
    "                         previous_ring, cool_down_by, step_size, heating_threshold, cooling_threshold, MRM_FSR)\n",
    "\n",
    "\n",
    "class CRR_FSM(RingFSM):\n",
    "\n",
    "    INITIAL_COOLDOWN = 200  # in GHz\n",
    "\n",
    "    def __init__(self,\n",
    "                 resonances,  # a list of this ring's resonances\n",
    "                 lasers,  # laser object\n",
    "                 initial_loc=0,  # initial heating/cooling in GHz\n",
    "                 this_ring=0,  # this ring's index in the bank\n",
    "                 previous_ring=None,  # None if there's no previous ring, otherwise supply the ring idx\n",
    "                 cool_down_by=INITIAL_COOLDOWN,  # cool down by this amt in GHz before searching\n",
    "                 step_size=STEP_SIZE,\n",
    "                 heating_threshold=-1*CRR_FSR,\n",
    "                 cooling_threshold=INITIAL_COOLDOWN\n",
    "                 ) -> None:\n",
    "\n",
    "        super().__init__(resonances, lasers, initial_loc, this_ring,\n",
    "                         previous_ring, cool_down_by, step_size, heating_threshold, cooling_threshold, CRR_FSR)\n",
    "\n",
    "    def _check_exit_search_condition(self):\n",
    "        # This is the crux of the search algorithm.\n",
    "        if len(self.laser_locs_seen) >= 1:\n",
    "            # CRR needs to capture laser used by an MRM of the same idx\n",
    "            if self.laser_brightness_seen[-1] == self._this_ring:\n",
    "                self._found_all_lines = True\n",
    "\n",
    "    def _capture_line(self, idx, ring_number):\n",
    "        return self._lasers.capture_laser_line(idx, ring_number, type='crr')"
   ]
  },
  {
   "cell_type": "code",
   "execution_count": 2,
   "metadata": {},
   "outputs": [],
   "source": [
    "from collections import deque\n",
    "import copy\n",
    "\n",
    "\n",
    "def populate_resonances(freq_spacing,\n",
    "                        freq_uncertainty,\n",
    "                        fsr,\n",
    "                        global_variations=False,\n",
    "                        variations=False,\n",
    "                        corners=False):\n",
    "    \"\"\"populate_resonances (base function)\n",
    "    USE THE FUNCTIONS `populate_mrm_resonances` and `populate_crr_resonances`\n",
    "    BELOW INSTEAD.\n",
    "\n",
    "    Initialize the resonances of the rings. Flags:\n",
    "    - freq_spacing (int): frequency spacing from one ring to the other.\n",
    "    - freq_uncertainty (int): local resonance frequency uncertainty will be\n",
    "        sampled from a uniform dist between [-1*freq_uncertainty, freq_uncertainty].\n",
    "    - fsr (int): the FSR of each ring.\n",
    "    - global_variations (bool): whether to enable global resonance frequency\n",
    "        uncertainty with a uniform distribution of [-1*MRM_FSR, MRM_FSR]\n",
    "    - variations (bool): whether to enable local resonance frequency uncertainty\n",
    "    - corners (bool): if True, only evaluate the corners of the frequency\n",
    "        uncertainties. Won't do anything if `variations` is `False`.\n",
    "\n",
    "    Returns:\n",
    "    - lines (np.ndarray): A numpy 2D-array, organized where the first dim\n",
    "        corresponds to which ring in the array and the second dim\n",
    "        corresponds to which resonance frequency of that ring.\n",
    "\n",
    "        For example:\n",
    "        lines[3] will return the resonances of the 4th ring in the bank.\n",
    "        lines[3][0] will return the first resonance (lowest value in freq)\n",
    "            of the 4th ring in the bank.\n",
    "    \"\"\"\n",
    "\n",
    "    lines = np.arange(NUM_OF_LASERS, dtype=np.int64) * freq_spacing\n",
    "    lines = np.vstack([lines] * len(WHICH_RESONANCES)).T\n",
    "\n",
    "    fsr_shifts = np.array(WHICH_RESONANCES) * fsr\n",
    "    lines += fsr_shifts\n",
    "\n",
    "    if variations:  # assume we keep the FSR to be the same\n",
    "        if corners:  # only evaluate the corners\n",
    "            delta = np.random.randint(2, size=NUM_OF_LASERS)\n",
    "            delta = 2*delta - 1  # convert to [-1, +1] random numbers\n",
    "            delta *= freq_uncertainty\n",
    "        else:\n",
    "            delta = np.random.uniform(-1*freq_uncertainty,\n",
    "                                      freq_uncertainty,\n",
    "                                      NUM_OF_LASERS)\n",
    "        # round to the nearest STEP_SIZE\n",
    "        delta = np.round(delta/STEP_SIZE, decimals=0) * STEP_SIZE\n",
    "\n",
    "        delta = delta.astype(int)\n",
    "        delta = delta[:, np.newaxis]\n",
    "        lines += delta\n",
    "\n",
    "    if global_variations:  # the global variation can be as much as ±1 FSR\n",
    "        global_delta = np.random.uniform(-1*fsr, fsr)\n",
    "        global_delta = np.round(global_delta/STEP_SIZE, decimals=0) * STEP_SIZE\n",
    "        global_delta = global_delta.astype(int)\n",
    "        lines += global_delta\n",
    "\n",
    "    return lines\n",
    "\n",
    "\n",
    "def populate_mrm_resonances(global_variations=False,\n",
    "                            variations=False,\n",
    "                            corners=False):\n",
    "    return populate_resonances(MRM_FREQ_SPACING, MRM_FREQ_UNCERTAINTY, MRM_FSR,\n",
    "                               global_variations, variations, corners)\n",
    "\n",
    "\n",
    "def populate_crr_resonances(global_variations=False,\n",
    "                            variations=False,\n",
    "                            corners=False):\n",
    "    return populate_resonances(CRR_FREQ_SPACING, CRR_FREQ_UNCERTAINTY, CRR_FSR,\n",
    "                               global_variations, variations, corners)\n",
    "\n",
    "\n",
    "# HELPER FUNCTIONS\n",
    "def check_barrel_roll(list1, list2):\n",
    "    # check for barrel roll in sequence or reverse sequence\n",
    "    assert len(list1) == len(list2)\n",
    "\n",
    "    def check_equivalent(list1, list2):\n",
    "        d1 = deque(list1)\n",
    "        d2 = deque(list2)\n",
    "\n",
    "        equivalent = d1 == d2\n",
    "\n",
    "        for _ in range(len(list1)):\n",
    "            d1.rotate(1)\n",
    "            if d1 == d2:\n",
    "                equivalent = True\n",
    "\n",
    "        return equivalent\n",
    "\n",
    "    list1_ = copy.deepcopy(list1)\n",
    "    equivalent = check_equivalent(list1_, list2)\n",
    "    list1_.reverse()\n",
    "    equivalent = equivalent or check_equivalent(list1_, list2)\n",
    "    return equivalent\n",
    "\n",
    "\n",
    "def calculate_maxima(amt_heat_applied):\n",
    "    colder = [n for n in amt_heat_applied if n >= 0]\n",
    "    hotter = [n for n in amt_heat_applied if n <= 0]\n",
    "\n",
    "    max_cool = max(colder) if len(colder) > 0 else 0\n",
    "    max_heat = min(hotter) if len(hotter) > 0 else 0\n",
    "    max_diff = max_cool - max_heat\n",
    "    return max_cool, max_heat, max_diff"
   ]
  },
  {
   "cell_type": "code",
   "execution_count": 3,
   "metadata": {},
   "outputs": [
    {
     "name": "stdout",
     "output_type": "stream",
     "text": [
      "Locked to laser # 4\n",
      "['bright', 'bright', 'bright', 'bright', 0, 'bright', 'bright', 'bright']\n",
      "Locked to laser # 0\n",
      "[1, 'bright', 'bright', 'bright', 0, 'bright', 'bright', 'bright']\n",
      "Locked to laser # 5\n",
      "[1, 'bright', 'bright', 'bright', 0, 2, 'bright', 'bright']\n",
      "Locked to laser # 1\n",
      "[1, 3, 'bright', 'bright', 0, 2, 'bright', 'bright']\n",
      "Locked to laser # 6\n",
      "[1, 3, 'bright', 'bright', 0, 2, 4, 'bright']\n",
      "Locked to laser # 2\n",
      "[1, 3, 5, 'bright', 0, 2, 4, 'bright']\n",
      "Locked to laser # 7\n",
      "[1, 3, 5, 'bright', 0, 2, 4, 6]\n",
      "Locked to laser # 3\n",
      "[1, 3, 5, 7, 0, 2, 4, 6]\n",
      "Barrel roll check? True\n",
      "MRM and CRR lasers: [4, 0, 5, 1, 6, 2, 7, 3] & [4, 0, 5, 1, 6, 2, 7, 3]\n",
      "Amount of heat applied for MRM: [-400, -440, -1360, -430, -440, -400, -390, -400]\n",
      "Amount of heat applied for CRR: [-420, -390, -350, -410, -500, -340, -480, -340]\n"
     ]
    }
   ],
   "source": [
    "# Try out the algorithm with a single try\n",
    "lasers = Lasers(reverse=True, offset=-4*LASER_FREQ_SPACING, variations=True, corners=False)\n",
    "all_mrm_resonances_ = populate_mrm_resonances(variations=False, corners=False)\n",
    "all_mrm_resonances = all_mrm_resonances_\n",
    "all_mrm_resonances[2] = all_mrm_resonances_[6]\n",
    "all_mrm_resonances[6] = all_mrm_resonances_[2]\n",
    "\n",
    "all_mrms = []\n",
    "\n",
    "# Lock all the MRMs\n",
    "for idx in range(NUM_OF_LASERS):\n",
    "    previous_ring = None if idx == 0 else (idx-1)\n",
    "\n",
    "    mrm = MRM_FSM(resonances=all_mrm_resonances[idx],\n",
    "                  lasers=lasers,\n",
    "                  this_ring=idx,\n",
    "                  previous_ring=previous_ring)\n",
    "    mrm.start()\n",
    "\n",
    "    while not mrm.found_all_lines:\n",
    "        mrm.keep_searching()\n",
    "\n",
    "    mrm.lock_to_line()\n",
    "    all_mrms.append(mrm)\n",
    "\n",
    "    print(f\"Locked to laser # {mrm.locked_laser_idx}\")\n",
    "    print(lasers.brightness)\n",
    "\n",
    "all_crr_resonances = populate_crr_resonances(variations=True, corners=False)\n",
    "all_crrs = []\n",
    "\n",
    "# Now lock all the CRRs\n",
    "for idx in range(NUM_OF_LASERS):\n",
    "    import copy\n",
    "    lasers_ = copy.deepcopy(lasers)\n",
    "    previous_ring = None if idx == 0 else (idx-1)\n",
    "    crr = CRR_FSM(resonances=all_crr_resonances[idx],\n",
    "                  lasers=lasers_,\n",
    "                  this_ring=idx,\n",
    "                  previous_ring=previous_ring)\n",
    "    crr.start()\n",
    "\n",
    "    while not crr.found_all_lines:\n",
    "        crr.keep_searching()\n",
    "\n",
    "    crr.lock_to_line()\n",
    "    all_crrs.append(crr)\n",
    "\n",
    "\n",
    "mrm_lasers_locked_to = [int(m.locked_laser_idx) for m in all_mrms]\n",
    "crr_lasers_locked_to = [int(m.locked_laser_idx) for m in all_crrs]\n",
    "\n",
    "# check for barrel roll in sequence or reverse sequence\n",
    "print(\"Barrel roll check?\", check_barrel_roll(mrm_lasers_locked_to, BARREL_ROLL_SEQ))\n",
    "\n",
    "print(f\"MRM and CRR lasers: {mrm_lasers_locked_to} & {crr_lasers_locked_to}\")\n",
    "\n",
    "amt_heat_applied = [m.loc for m in all_mrms]\n",
    "print(f\"Amount of heat applied for MRM: {amt_heat_applied}\")\n",
    "amt_heat_applied = [m.loc for m in all_crrs]\n",
    "print(f\"Amount of heat applied for CRR: {amt_heat_applied}\")"
   ]
  },
  {
   "cell_type": "code",
   "execution_count": 4,
   "metadata": {},
   "outputs": [
    {
     "data": {
      "application/vnd.jupyter.widget-view+json": {
       "model_id": "69e05e82b84d47e3bd49e7034a285c0b",
       "version_major": 2,
       "version_minor": 0
      },
      "text/plain": [
       "  0%|          | 0/100 [00:00<?, ?it/s]"
      ]
     },
     "metadata": {},
     "output_type": "display_data"
    }
   ],
   "source": [
    "# Run Monte Carlo and get distribution\n",
    "\n",
    "import pandas as pd\n",
    "import copy\n",
    "from tqdm.notebook import tqdm\n",
    "\n",
    "eval_corners = False\n",
    "global_variations = True  # main difficulty\n",
    "local_variations = True\n",
    "laser_variations = True\n",
    "\n",
    "cycling_threshold_mrm = 4/9  # ratio of FSR --> 800 GHz\n",
    "cycling_threshold_crr = 6/9  # ratio of FSR\n",
    "cooling_threshold_mrm = 2/9  # ratio of FSR --> 400 GHz\n",
    "cooling_threshold_crr = 2/9  # ratio of FSR\n",
    "\n",
    "\"\"\" Note this setting will always work\n",
    "cycling_threshold_mrm = 2/9  # ratio of FSR\n",
    "cycling_threshold_crr = 7/9  # ratio of FSR\n",
    "cooling_threshold_mrm = 2/9  # ratio of FSR\n",
    "cooling_threshold_crr = 2/9  # ratio of FSR\n",
    "\"\"\"\n",
    "\n",
    "# With cycling:\n",
    "cycling_freqs = [-k * 100 for k in range(18)]\n",
    "# Without cycling: uncomment the one below for no cycling\n",
    "# cycling_freqs = [0]\n",
    "\n",
    "num_trials = 100\n",
    "trial_results_mrm = []\n",
    "trial_results_crr = []\n",
    "\n",
    "for _ in tqdm(range(num_trials)):\n",
    "    lasers = Lasers(reverse=True, offset=-4*LASER_FREQ_SPACING,\n",
    "                    variations=laser_variations, corners=eval_corners)\n",
    "    all_mrm_resonances = populate_mrm_resonances(global_variations=global_variations,\n",
    "                                                 variations=local_variations,\n",
    "                                                 corners=eval_corners)\n",
    "    all_crr_resonances = populate_crr_resonances(global_variations=global_variations,\n",
    "                                                 variations=local_variations,\n",
    "                                                 corners=eval_corners)\n",
    "\n",
    "    for ctry, cfreq in enumerate(cycling_freqs):\n",
    "        # Get all the MRMs to lock properly first\n",
    "        lasers_ = copy.deepcopy(lasers)\n",
    "        all_mrms = []\n",
    "        for idx in range(NUM_OF_LASERS):\n",
    "            previous_ring = None if idx == 0 else (idx-1)\n",
    "            mrm = MRM_FSM(resonances=all_mrm_resonances[idx],\n",
    "                            lasers=lasers_,\n",
    "                            heating_threshold=-cycling_threshold_mrm * MRM_FSR,\n",
    "                            cooling_threshold=cooling_threshold_mrm * MRM_FSR,\n",
    "                            cool_down_by=cooling_threshold_mrm * MRM_FSR,\n",
    "                            initial_loc=cfreq,\n",
    "                            this_ring=idx,\n",
    "                            previous_ring=previous_ring)\n",
    "                            \n",
    "            # Run the search algorithm for each MRM\n",
    "            mrm.start()\n",
    "            while not mrm.found_all_lines:\n",
    "                mrm.keep_searching()\n",
    "            mrm.lock_to_line()\n",
    "            all_mrms.append(mrm)\n",
    "\n",
    "        # Save all the MRM information here\n",
    "        mrm_laser_sequence = [int(m.locked_laser_idx) for m in all_mrms]\n",
    "        amt_heat_applied_mrm = [m.loc for m in all_mrms]\n",
    "        max_cool_mrm, max_heat_mrm, max_diff_mrm = \\\n",
    "            calculate_maxima(amt_heat_applied_mrm)\n",
    "\n",
    "        # Lock all the CRRs to the corresponding MRMs\n",
    "        all_crrs = []\n",
    "        for idx in range(NUM_OF_LASERS):\n",
    "            lasers__ = copy.deepcopy(lasers_)\n",
    "            previous_ring = None if idx == 0 else (idx-1)\n",
    "            crr = CRR_FSM(resonances=all_crr_resonances[idx],\n",
    "                            lasers=lasers__,\n",
    "                            this_ring=idx,\n",
    "                            previous_ring=idx-1,\n",
    "                            heating_threshold=-cycling_threshold_crr * MRM_FSR,\n",
    "                            cooling_threshold=cooling_threshold_crr * MRM_FSR,\n",
    "                            cool_down_by=cooling_threshold_crr * MRM_FSR)\n",
    "            crr.start()\n",
    "            while not crr.found_all_lines:\n",
    "                crr.keep_searching()\n",
    "            crr.lock_to_line()\n",
    "            all_crrs.append(crr)\n",
    "\n",
    "        # Save all the CRR information here\n",
    "        crr_laser_sequence = [int(m.locked_laser_idx) for m in all_crrs]\n",
    "        amt_heat_applied_crr = [m.loc for m in all_crrs]\n",
    "        max_cool_crr, max_heat_crr, max_diff_crr = calculate_maxima(\n",
    "            amt_heat_applied_crr)\n",
    "\n",
    "        # Check if cycling is needed\n",
    "        mrm_cycling_condition = abs(max_heat_mrm) > (MRM_FSR * cycling_threshold_mrm)\n",
    "        crr_cycling_condition = abs(max_heat_crr) > (MRM_FSR * cycling_threshold_crr)\n",
    "        cycling_condition = mrm_cycling_condition or crr_cycling_condition\n",
    "        # if `cycling_condition == True`: cycle, otherwise break the loop\n",
    "        if not cycling_condition:\n",
    "            break\n",
    "\n",
    "    mrm_result = {'laser_sequence': mrm_laser_sequence,\n",
    "                  # check if barrel roll equivalent\n",
    "                  'barrel_roll': check_barrel_roll(mrm_laser_sequence, BARREL_ROLL_SEQ),\n",
    "                  'max_cool': max_cool_mrm,\n",
    "                  'max_heat': max_heat_mrm,\n",
    "                  'max_diff': max_diff_mrm}\n",
    "\n",
    "    mrm_numbers = list(range(NUM_OF_LASERS))\n",
    "    # (-) value is heat and (+) value is cool\n",
    "    mrm_heat_result = dict(zip(mrm_numbers, amt_heat_applied_mrm))\n",
    "    mrm_result.update(mrm_heat_result)\n",
    "\n",
    "    # check if we were able to lock within the threshold\n",
    "    mrm_threshold = [m.within_threshold for m in all_mrms]\n",
    "    crr_threshold = [m.within_threshold for m in all_crrs]\n",
    "    successful_lock = mrm_threshold + crr_threshold\n",
    "    successful_lock = bool(np.array(successful_lock).all())\n",
    "\n",
    "    overall_result = {'cycling_trial': ctry, 'successful_lock': successful_lock}\n",
    "    mrm_result.update(overall_result)\n",
    "\n",
    "    crr_result = {'laser_sequence': crr_laser_sequence,\n",
    "                  'mrm_crr_equivalent': mrm_laser_sequence == crr_laser_sequence,\n",
    "                  'max_cool': max_cool_crr,\n",
    "                  'max_heat': max_heat_crr,\n",
    "                  'max_diff': max_diff_crr}\n",
    "\n",
    "    crr_numbers = list(range(NUM_OF_LASERS))\n",
    "    # (-) value is heat and (+) value is cool\n",
    "    heat_result = dict(zip(crr_numbers, amt_heat_applied_crr))\n",
    "    crr_result.update(heat_result)\n",
    "\n",
    "    trial_results_mrm.append(mrm_result)\n",
    "    trial_results_crr.append(crr_result)\n",
    "\n",
    "trial_results_mrm = pd.DataFrame(trial_results_mrm)\n",
    "trial_results_crr = pd.DataFrame(trial_results_crr)"
   ]
  },
  {
   "cell_type": "code",
   "execution_count": 5,
   "metadata": {},
   "outputs": [
    {
     "data": {
      "application/vnd.plotly.v1+json": {
       "config": {
        "plotlyServerURL": "https://plot.ly"
       },
       "data": [
        {
         "alignmentgroup": "True",
         "bingroup": "x",
         "hovertemplate": "variable=0<br>value=%{x}<br>count=%{y}<extra></extra>",
         "legendgroup": "0",
         "marker": {
          "color": "#636efa",
          "pattern": {
           "shape": ""
          }
         },
         "name": "0",
         "offsetgroup": "0",
         "orientation": "v",
         "showlegend": true,
         "type": "histogram",
         "x": [
          130,
          260,
          180,
          150,
          210,
          140,
          50,
          10,
          -110,
          -290,
          -220,
          -320,
          -100,
          -390,
          -330,
          -610,
          160,
          130,
          -130,
          -70,
          -120,
          -410,
          -150,
          -110,
          -150,
          -150,
          -30,
          20,
          -110,
          -130,
          -260,
          -320,
          -360,
          -530,
          -590,
          -540,
          -500,
          -570,
          -330,
          -760,
          210,
          -20,
          -140,
          -120,
          -90,
          230,
          -140,
          -230,
          -60,
          40,
          150,
          120,
          -50,
          -200,
          130,
          -210,
          -10,
          -90,
          -210,
          -480,
          -370,
          -290,
          -130,
          -200,
          -540,
          -210,
          -490,
          -440,
          -590,
          -720,
          -580,
          -540,
          -40,
          -60,
          -10,
          -260,
          -280,
          -40,
          70,
          -90,
          120,
          70,
          -20,
          -50,
          220,
          40,
          20,
          -40,
          140,
          210,
          240,
          210,
          -80,
          30,
          160,
          40,
          -570,
          -630,
          -340,
          -590,
          -400,
          -770,
          -550,
          -580,
          120,
          -180,
          -150,
          -220,
          -100,
          -240,
          -220,
          -40,
          180,
          -220,
          180,
          -60,
          -190,
          -240,
          -30,
          -180,
          10,
          -10,
          -40,
          180,
          350,
          10,
          210,
          -200,
          70,
          90,
          -140,
          20,
          -140,
          50,
          -60,
          -30,
          160,
          -40,
          -200,
          -180,
          60,
          100,
          110,
          10,
          220,
          400,
          50,
          210,
          70,
          80,
          10,
          40,
          -130,
          -90,
          20,
          -400,
          30,
          0,
          -240,
          10,
          160,
          380,
          250,
          350,
          0,
          30,
          60,
          -150,
          60,
          300,
          30,
          80,
          140,
          -50,
          10,
          -210,
          200,
          90,
          -120,
          -130,
          140,
          -70,
          -270,
          0,
          90,
          40,
          -240,
          -150,
          -120,
          -20,
          -290,
          -340,
          -190,
          -10,
          -50,
          -100,
          -330,
          -250,
          -430,
          -400,
          -280,
          -360,
          -140,
          -210,
          -350,
          -300,
          -240,
          -340,
          180,
          280,
          330,
          270,
          240,
          290,
          400,
          110,
          20,
          40,
          110,
          150,
          -30,
          -200,
          -70,
          90,
          280,
          230,
          -50,
          250,
          260,
          210,
          -220,
          -80,
          -310,
          -520,
          -570,
          -510,
          -540,
          -480,
          -290,
          -660,
          70,
          130,
          180,
          -70,
          130,
          60,
          -90,
          140,
          60,
          170,
          -130,
          -130,
          -230,
          -180,
          -60,
          -310,
          -470,
          -550,
          -200,
          -340,
          -250,
          -690,
          -760,
          -710,
          -120,
          -100,
          -220,
          -60,
          -90,
          -60,
          -300,
          80,
          150,
          30,
          -70,
          -350,
          -290,
          -30,
          -270,
          -320,
          170,
          140,
          -50,
          -240,
          -420,
          -330,
          -420,
          -300,
          70,
          -280,
          40,
          -240,
          -120,
          20,
          -170,
          -500,
          140,
          350,
          60,
          -1370,
          130,
          230,
          340,
          220,
          10,
          -90,
          350,
          -140,
          -70,
          -30,
          -130,
          60,
          -160,
          -200,
          -90,
          -410,
          -180,
          -50,
          -290,
          -220,
          150,
          50,
          -50,
          250,
          30,
          100,
          -380,
          20,
          180,
          -70,
          -310,
          -210,
          -50,
          -300,
          -70,
          -300,
          210,
          220,
          -130,
          -90,
          -30,
          -60,
          -160,
          -100,
          -670,
          -560,
          -490,
          -660,
          -390,
          -470,
          -560,
          -710,
          -500,
          -480,
          -550,
          -230,
          -510,
          -180,
          -490,
          -490,
          -160,
          -380,
          -530,
          -230,
          -170,
          -350,
          -620,
          -500,
          -380,
          -550,
          -440,
          -770,
          -610,
          -330,
          -580,
          -510,
          -30,
          -250,
          80,
          -50,
          100,
          -90,
          -110,
          -270,
          110,
          -40,
          0,
          -360,
          -310,
          -60,
          -330,
          -300,
          50,
          -80,
          60,
          270,
          270,
          30,
          160,
          -180,
          -40,
          -50,
          140,
          110,
          60,
          -60,
          -40,
          120,
          80,
          10,
          40,
          -70,
          -360,
          -340,
          -190,
          -320,
          -50,
          -100,
          -440,
          -430,
          -500,
          -580,
          -280,
          -530,
          -210,
          -250,
          -170,
          -520,
          -550,
          -450,
          -330,
          -700,
          20,
          -90,
          -100,
          -20,
          -360,
          -280,
          -260,
          -240,
          -70,
          30,
          -270,
          -170,
          -130,
          -110,
          -240,
          -280,
          -140,
          -290,
          -440,
          -100,
          -130,
          -240,
          -140,
          -320,
          140,
          200,
          80,
          190,
          270,
          90,
          -10,
          -20,
          50,
          80,
          -220,
          -320,
          -240,
          40,
          -270,
          -330,
          40,
          130,
          340,
          210,
          260,
          0,
          70,
          -40,
          210,
          -30,
          70,
          -190,
          0,
          -120,
          -310,
          -330,
          140,
          100,
          30,
          190,
          130,
          -70,
          50,
          -90,
          130,
          120,
          200,
          160,
          70,
          280,
          100,
          -70,
          90,
          240,
          180,
          180,
          320,
          300,
          -70,
          -200,
          -10,
          250,
          50,
          200,
          -120,
          50,
          0,
          30,
          30,
          -40,
          -100,
          190,
          -150,
          50,
          -40,
          -300,
          -90,
          120,
          -170,
          -100,
          -170,
          140,
          60,
          20,
          -600,
          -470,
          -270,
          -390,
          -380,
          -440,
          -700,
          -770,
          -450,
          -200,
          -300,
          -560,
          -250,
          -540,
          -510,
          -470,
          90,
          -100,
          60,
          -50,
          -80,
          -20,
          -40,
          110,
          60,
          240,
          220,
          -60,
          -70,
          -240,
          -10,
          -170,
          -60,
          -180,
          -120,
          -120,
          110,
          -100,
          0,
          -300,
          -210,
          -130,
          -140,
          50,
          0,
          160,
          -10,
          -70,
          -40,
          0,
          -80,
          270,
          -130,
          250,
          20,
          70,
          290,
          -30,
          160,
          110,
          110,
          130,
          -70,
          30,
          -80,
          -10,
          -80,
          -30,
          -110,
          -20,
          -150,
          20,
          130,
          50,
          50,
          -190,
          130,
          -20,
          -80,
          190,
          -100,
          50,
          130,
          170,
          30,
          -150,
          230,
          0,
          -120,
          -130,
          -290,
          -320,
          -180,
          -430,
          -430,
          -130,
          -350,
          -460,
          -260,
          -220,
          -380,
          -460,
          -340,
          -520,
          150,
          20,
          90,
          40,
          0,
          90,
          -80,
          -100,
          -450,
          -340,
          -340,
          -330,
          -440,
          -650,
          -370,
          -460,
          -20,
          0,
          100,
          -90,
          280,
          80,
          180,
          -90,
          -50,
          90,
          90,
          50,
          80,
          -100,
          140,
          -190,
          230,
          180,
          40,
          -90,
          60,
          210,
          -310,
          -160,
          0,
          -210,
          -10,
          -300,
          -260,
          -40,
          -270,
          -80,
          80,
          160,
          -30,
          -50,
          -40,
          80,
          -180,
          160,
          0,
          100,
          280,
          0,
          140,
          370,
          -30,
          150,
          160,
          190,
          180,
          190,
          -80,
          30,
          20,
          310,
          -10,
          370,
          50,
          110,
          320,
          240,
          20,
          -60,
          10,
          -330,
          -420,
          -630,
          -380,
          -550,
          -250,
          -250,
          190,
          330,
          220,
          -20,
          140,
          30,
          90,
          20,
          130,
          280,
          310,
          340,
          50,
          210,
          -120,
          -150,
          -90,
          -60,
          -60,
          -290,
          -260,
          -80,
          -400,
          -350,
          190,
          160,
          -170,
          20,
          120,
          -190,
          -230,
          -50,
          170,
          40,
          -120,
          120,
          10,
          40,
          40,
          -200,
          170,
          -70,
          -70,
          60,
          -90,
          -130,
          -20,
          -320,
          240,
          -50,
          220,
          270,
          -30,
          80,
          -20,
          -170,
          -350,
          -560,
          -620,
          -450,
          -550,
          -660,
          -620,
          -520,
          -120,
          180,
          -210,
          -130,
          10,
          -90,
          100,
          -320
         ],
         "xaxis": "x",
         "xbins": {
          "size": 10
         },
         "yaxis": "y"
        }
       ],
       "layout": {
        "barmode": "relative",
        "legend": {
         "title": {
          "text": "variable"
         },
         "tracegroupgap": 0
        },
        "margin": {
         "t": 60
        },
        "showlegend": false,
        "template": {
         "data": {
          "bar": [
           {
            "error_x": {
             "color": "#2a3f5f"
            },
            "error_y": {
             "color": "#2a3f5f"
            },
            "marker": {
             "line": {
              "color": "#E5ECF6",
              "width": 0.5
             },
             "pattern": {
              "fillmode": "overlay",
              "size": 10,
              "solidity": 0.2
             }
            },
            "type": "bar"
           }
          ],
          "barpolar": [
           {
            "marker": {
             "line": {
              "color": "#E5ECF6",
              "width": 0.5
             },
             "pattern": {
              "fillmode": "overlay",
              "size": 10,
              "solidity": 0.2
             }
            },
            "type": "barpolar"
           }
          ],
          "carpet": [
           {
            "aaxis": {
             "endlinecolor": "#2a3f5f",
             "gridcolor": "white",
             "linecolor": "white",
             "minorgridcolor": "white",
             "startlinecolor": "#2a3f5f"
            },
            "baxis": {
             "endlinecolor": "#2a3f5f",
             "gridcolor": "white",
             "linecolor": "white",
             "minorgridcolor": "white",
             "startlinecolor": "#2a3f5f"
            },
            "type": "carpet"
           }
          ],
          "choropleth": [
           {
            "colorbar": {
             "outlinewidth": 0,
             "ticks": ""
            },
            "type": "choropleth"
           }
          ],
          "contour": [
           {
            "colorbar": {
             "outlinewidth": 0,
             "ticks": ""
            },
            "colorscale": [
             [
              0,
              "#0d0887"
             ],
             [
              0.1111111111111111,
              "#46039f"
             ],
             [
              0.2222222222222222,
              "#7201a8"
             ],
             [
              0.3333333333333333,
              "#9c179e"
             ],
             [
              0.4444444444444444,
              "#bd3786"
             ],
             [
              0.5555555555555556,
              "#d8576b"
             ],
             [
              0.6666666666666666,
              "#ed7953"
             ],
             [
              0.7777777777777778,
              "#fb9f3a"
             ],
             [
              0.8888888888888888,
              "#fdca26"
             ],
             [
              1,
              "#f0f921"
             ]
            ],
            "type": "contour"
           }
          ],
          "contourcarpet": [
           {
            "colorbar": {
             "outlinewidth": 0,
             "ticks": ""
            },
            "type": "contourcarpet"
           }
          ],
          "heatmap": [
           {
            "colorbar": {
             "outlinewidth": 0,
             "ticks": ""
            },
            "colorscale": [
             [
              0,
              "#0d0887"
             ],
             [
              0.1111111111111111,
              "#46039f"
             ],
             [
              0.2222222222222222,
              "#7201a8"
             ],
             [
              0.3333333333333333,
              "#9c179e"
             ],
             [
              0.4444444444444444,
              "#bd3786"
             ],
             [
              0.5555555555555556,
              "#d8576b"
             ],
             [
              0.6666666666666666,
              "#ed7953"
             ],
             [
              0.7777777777777778,
              "#fb9f3a"
             ],
             [
              0.8888888888888888,
              "#fdca26"
             ],
             [
              1,
              "#f0f921"
             ]
            ],
            "type": "heatmap"
           }
          ],
          "heatmapgl": [
           {
            "colorbar": {
             "outlinewidth": 0,
             "ticks": ""
            },
            "colorscale": [
             [
              0,
              "#0d0887"
             ],
             [
              0.1111111111111111,
              "#46039f"
             ],
             [
              0.2222222222222222,
              "#7201a8"
             ],
             [
              0.3333333333333333,
              "#9c179e"
             ],
             [
              0.4444444444444444,
              "#bd3786"
             ],
             [
              0.5555555555555556,
              "#d8576b"
             ],
             [
              0.6666666666666666,
              "#ed7953"
             ],
             [
              0.7777777777777778,
              "#fb9f3a"
             ],
             [
              0.8888888888888888,
              "#fdca26"
             ],
             [
              1,
              "#f0f921"
             ]
            ],
            "type": "heatmapgl"
           }
          ],
          "histogram": [
           {
            "marker": {
             "pattern": {
              "fillmode": "overlay",
              "size": 10,
              "solidity": 0.2
             }
            },
            "type": "histogram"
           }
          ],
          "histogram2d": [
           {
            "colorbar": {
             "outlinewidth": 0,
             "ticks": ""
            },
            "colorscale": [
             [
              0,
              "#0d0887"
             ],
             [
              0.1111111111111111,
              "#46039f"
             ],
             [
              0.2222222222222222,
              "#7201a8"
             ],
             [
              0.3333333333333333,
              "#9c179e"
             ],
             [
              0.4444444444444444,
              "#bd3786"
             ],
             [
              0.5555555555555556,
              "#d8576b"
             ],
             [
              0.6666666666666666,
              "#ed7953"
             ],
             [
              0.7777777777777778,
              "#fb9f3a"
             ],
             [
              0.8888888888888888,
              "#fdca26"
             ],
             [
              1,
              "#f0f921"
             ]
            ],
            "type": "histogram2d"
           }
          ],
          "histogram2dcontour": [
           {
            "colorbar": {
             "outlinewidth": 0,
             "ticks": ""
            },
            "colorscale": [
             [
              0,
              "#0d0887"
             ],
             [
              0.1111111111111111,
              "#46039f"
             ],
             [
              0.2222222222222222,
              "#7201a8"
             ],
             [
              0.3333333333333333,
              "#9c179e"
             ],
             [
              0.4444444444444444,
              "#bd3786"
             ],
             [
              0.5555555555555556,
              "#d8576b"
             ],
             [
              0.6666666666666666,
              "#ed7953"
             ],
             [
              0.7777777777777778,
              "#fb9f3a"
             ],
             [
              0.8888888888888888,
              "#fdca26"
             ],
             [
              1,
              "#f0f921"
             ]
            ],
            "type": "histogram2dcontour"
           }
          ],
          "mesh3d": [
           {
            "colorbar": {
             "outlinewidth": 0,
             "ticks": ""
            },
            "type": "mesh3d"
           }
          ],
          "parcoords": [
           {
            "line": {
             "colorbar": {
              "outlinewidth": 0,
              "ticks": ""
             }
            },
            "type": "parcoords"
           }
          ],
          "pie": [
           {
            "automargin": true,
            "type": "pie"
           }
          ],
          "scatter": [
           {
            "fillpattern": {
             "fillmode": "overlay",
             "size": 10,
             "solidity": 0.2
            },
            "type": "scatter"
           }
          ],
          "scatter3d": [
           {
            "line": {
             "colorbar": {
              "outlinewidth": 0,
              "ticks": ""
             }
            },
            "marker": {
             "colorbar": {
              "outlinewidth": 0,
              "ticks": ""
             }
            },
            "type": "scatter3d"
           }
          ],
          "scattercarpet": [
           {
            "marker": {
             "colorbar": {
              "outlinewidth": 0,
              "ticks": ""
             }
            },
            "type": "scattercarpet"
           }
          ],
          "scattergeo": [
           {
            "marker": {
             "colorbar": {
              "outlinewidth": 0,
              "ticks": ""
             }
            },
            "type": "scattergeo"
           }
          ],
          "scattergl": [
           {
            "marker": {
             "colorbar": {
              "outlinewidth": 0,
              "ticks": ""
             }
            },
            "type": "scattergl"
           }
          ],
          "scattermapbox": [
           {
            "marker": {
             "colorbar": {
              "outlinewidth": 0,
              "ticks": ""
             }
            },
            "type": "scattermapbox"
           }
          ],
          "scatterpolar": [
           {
            "marker": {
             "colorbar": {
              "outlinewidth": 0,
              "ticks": ""
             }
            },
            "type": "scatterpolar"
           }
          ],
          "scatterpolargl": [
           {
            "marker": {
             "colorbar": {
              "outlinewidth": 0,
              "ticks": ""
             }
            },
            "type": "scatterpolargl"
           }
          ],
          "scatterternary": [
           {
            "marker": {
             "colorbar": {
              "outlinewidth": 0,
              "ticks": ""
             }
            },
            "type": "scatterternary"
           }
          ],
          "surface": [
           {
            "colorbar": {
             "outlinewidth": 0,
             "ticks": ""
            },
            "colorscale": [
             [
              0,
              "#0d0887"
             ],
             [
              0.1111111111111111,
              "#46039f"
             ],
             [
              0.2222222222222222,
              "#7201a8"
             ],
             [
              0.3333333333333333,
              "#9c179e"
             ],
             [
              0.4444444444444444,
              "#bd3786"
             ],
             [
              0.5555555555555556,
              "#d8576b"
             ],
             [
              0.6666666666666666,
              "#ed7953"
             ],
             [
              0.7777777777777778,
              "#fb9f3a"
             ],
             [
              0.8888888888888888,
              "#fdca26"
             ],
             [
              1,
              "#f0f921"
             ]
            ],
            "type": "surface"
           }
          ],
          "table": [
           {
            "cells": {
             "fill": {
              "color": "#EBF0F8"
             },
             "line": {
              "color": "white"
             }
            },
            "header": {
             "fill": {
              "color": "#C8D4E3"
             },
             "line": {
              "color": "white"
             }
            },
            "type": "table"
           }
          ]
         },
         "layout": {
          "annotationdefaults": {
           "arrowcolor": "#2a3f5f",
           "arrowhead": 0,
           "arrowwidth": 1
          },
          "autotypenumbers": "strict",
          "coloraxis": {
           "colorbar": {
            "outlinewidth": 0,
            "ticks": ""
           }
          },
          "colorscale": {
           "diverging": [
            [
             0,
             "#8e0152"
            ],
            [
             0.1,
             "#c51b7d"
            ],
            [
             0.2,
             "#de77ae"
            ],
            [
             0.3,
             "#f1b6da"
            ],
            [
             0.4,
             "#fde0ef"
            ],
            [
             0.5,
             "#f7f7f7"
            ],
            [
             0.6,
             "#e6f5d0"
            ],
            [
             0.7,
             "#b8e186"
            ],
            [
             0.8,
             "#7fbc41"
            ],
            [
             0.9,
             "#4d9221"
            ],
            [
             1,
             "#276419"
            ]
           ],
           "sequential": [
            [
             0,
             "#0d0887"
            ],
            [
             0.1111111111111111,
             "#46039f"
            ],
            [
             0.2222222222222222,
             "#7201a8"
            ],
            [
             0.3333333333333333,
             "#9c179e"
            ],
            [
             0.4444444444444444,
             "#bd3786"
            ],
            [
             0.5555555555555556,
             "#d8576b"
            ],
            [
             0.6666666666666666,
             "#ed7953"
            ],
            [
             0.7777777777777778,
             "#fb9f3a"
            ],
            [
             0.8888888888888888,
             "#fdca26"
            ],
            [
             1,
             "#f0f921"
            ]
           ],
           "sequentialminus": [
            [
             0,
             "#0d0887"
            ],
            [
             0.1111111111111111,
             "#46039f"
            ],
            [
             0.2222222222222222,
             "#7201a8"
            ],
            [
             0.3333333333333333,
             "#9c179e"
            ],
            [
             0.4444444444444444,
             "#bd3786"
            ],
            [
             0.5555555555555556,
             "#d8576b"
            ],
            [
             0.6666666666666666,
             "#ed7953"
            ],
            [
             0.7777777777777778,
             "#fb9f3a"
            ],
            [
             0.8888888888888888,
             "#fdca26"
            ],
            [
             1,
             "#f0f921"
            ]
           ]
          },
          "colorway": [
           "#636efa",
           "#EF553B",
           "#00cc96",
           "#ab63fa",
           "#FFA15A",
           "#19d3f3",
           "#FF6692",
           "#B6E880",
           "#FF97FF",
           "#FECB52"
          ],
          "font": {
           "color": "#2a3f5f"
          },
          "geo": {
           "bgcolor": "white",
           "lakecolor": "white",
           "landcolor": "#E5ECF6",
           "showlakes": true,
           "showland": true,
           "subunitcolor": "white"
          },
          "hoverlabel": {
           "align": "left"
          },
          "hovermode": "closest",
          "mapbox": {
           "style": "light"
          },
          "paper_bgcolor": "white",
          "plot_bgcolor": "#E5ECF6",
          "polar": {
           "angularaxis": {
            "gridcolor": "white",
            "linecolor": "white",
            "ticks": ""
           },
           "bgcolor": "#E5ECF6",
           "radialaxis": {
            "gridcolor": "white",
            "linecolor": "white",
            "ticks": ""
           }
          },
          "scene": {
           "xaxis": {
            "backgroundcolor": "#E5ECF6",
            "gridcolor": "white",
            "gridwidth": 2,
            "linecolor": "white",
            "showbackground": true,
            "ticks": "",
            "zerolinecolor": "white"
           },
           "yaxis": {
            "backgroundcolor": "#E5ECF6",
            "gridcolor": "white",
            "gridwidth": 2,
            "linecolor": "white",
            "showbackground": true,
            "ticks": "",
            "zerolinecolor": "white"
           },
           "zaxis": {
            "backgroundcolor": "#E5ECF6",
            "gridcolor": "white",
            "gridwidth": 2,
            "linecolor": "white",
            "showbackground": true,
            "ticks": "",
            "zerolinecolor": "white"
           }
          },
          "shapedefaults": {
           "line": {
            "color": "#2a3f5f"
           }
          },
          "ternary": {
           "aaxis": {
            "gridcolor": "white",
            "linecolor": "white",
            "ticks": ""
           },
           "baxis": {
            "gridcolor": "white",
            "linecolor": "white",
            "ticks": ""
           },
           "bgcolor": "#E5ECF6",
           "caxis": {
            "gridcolor": "white",
            "linecolor": "white",
            "ticks": ""
           }
          },
          "title": {
           "x": 0.05
          },
          "xaxis": {
           "automargin": true,
           "gridcolor": "white",
           "linecolor": "white",
           "ticks": "",
           "title": {
            "standoff": 15
           },
           "zerolinecolor": "white",
           "zerolinewidth": 2
          },
          "yaxis": {
           "automargin": true,
           "gridcolor": "white",
           "linecolor": "white",
           "ticks": "",
           "title": {
            "standoff": 15
           },
           "zerolinecolor": "white",
           "zerolinewidth": 2
          }
         }
        },
        "title": {
         "text": "MRM heating & cooling"
        },
        "xaxis": {
         "anchor": "y",
         "domain": [
          0,
          1
         ],
         "tickmode": "array",
         "tickvals": [
          -1800,
          -1700,
          -1600,
          -1500,
          -1400,
          -1300,
          -1200,
          -1100,
          -1000,
          -900,
          -800,
          -700,
          -600,
          -500,
          -400,
          -300,
          -200,
          -100,
          0,
          100,
          200,
          300,
          400,
          500,
          600,
          700,
          800,
          900,
          1000,
          1100,
          1200,
          1300,
          1400,
          1500,
          1600,
          1700,
          1800
         ],
         "title": {
          "text": "Heat (-) & Cool (+) amount (GHz)"
         }
        },
        "yaxis": {
         "anchor": "x",
         "domain": [
          0,
          1
         ],
         "title": {
          "text": "Count"
         }
        }
       }
      }
     },
     "metadata": {},
     "output_type": "display_data"
    },
    {
     "data": {
      "application/vnd.plotly.v1+json": {
       "config": {
        "plotlyServerURL": "https://plot.ly"
       },
       "data": [
        {
         "alignmentgroup": "True",
         "bingroup": "x",
         "hovertemplate": "max_diff=%{x}<br>count=%{y}<extra></extra>",
         "legendgroup": "",
         "marker": {
          "color": "#636efa",
          "pattern": {
           "shape": ""
          }
         },
         "name": "",
         "offsetgroup": "",
         "orientation": "v",
         "showlegend": false,
         "type": "histogram",
         "x": [
          260,
          610,
          570,
          340,
          760,
          460,
          360,
          480,
          720,
          350,
          270,
          320,
          770,
          360,
          420,
          550,
          230,
          360,
          400,
          430,
          530,
          510,
          470,
          430,
          430,
          360,
          400,
          350,
          500,
          660,
          270,
          480,
          760,
          380,
          500,
          590,
          570,
          1720,
          490,
          410,
          630,
          490,
          380,
          710,
          550,
          620,
          770,
          370,
          470,
          450,
          200,
          440,
          580,
          700,
          380,
          310,
          440,
          290,
          410,
          380,
          540,
          280,
          350,
          520,
          370,
          490,
          310,
          770,
          560,
          210,
          480,
          410,
          370,
          400,
          360,
          170,
          380,
          380,
          430,
          520,
          250,
          650,
          370,
          330,
          540,
          300,
          340,
          400,
          390,
          430,
          640,
          350,
          490,
          400,
          420,
          370,
          490,
          440,
          660,
          500
         ],
         "xaxis": "x",
         "xbins": {
          "size": 10
         },
         "yaxis": "y"
        }
       ],
       "layout": {
        "barmode": "relative",
        "legend": {
         "tracegroupgap": 0
        },
        "margin": {
         "t": 60
        },
        "showlegend": false,
        "template": {
         "data": {
          "bar": [
           {
            "error_x": {
             "color": "#2a3f5f"
            },
            "error_y": {
             "color": "#2a3f5f"
            },
            "marker": {
             "line": {
              "color": "#E5ECF6",
              "width": 0.5
             },
             "pattern": {
              "fillmode": "overlay",
              "size": 10,
              "solidity": 0.2
             }
            },
            "type": "bar"
           }
          ],
          "barpolar": [
           {
            "marker": {
             "line": {
              "color": "#E5ECF6",
              "width": 0.5
             },
             "pattern": {
              "fillmode": "overlay",
              "size": 10,
              "solidity": 0.2
             }
            },
            "type": "barpolar"
           }
          ],
          "carpet": [
           {
            "aaxis": {
             "endlinecolor": "#2a3f5f",
             "gridcolor": "white",
             "linecolor": "white",
             "minorgridcolor": "white",
             "startlinecolor": "#2a3f5f"
            },
            "baxis": {
             "endlinecolor": "#2a3f5f",
             "gridcolor": "white",
             "linecolor": "white",
             "minorgridcolor": "white",
             "startlinecolor": "#2a3f5f"
            },
            "type": "carpet"
           }
          ],
          "choropleth": [
           {
            "colorbar": {
             "outlinewidth": 0,
             "ticks": ""
            },
            "type": "choropleth"
           }
          ],
          "contour": [
           {
            "colorbar": {
             "outlinewidth": 0,
             "ticks": ""
            },
            "colorscale": [
             [
              0,
              "#0d0887"
             ],
             [
              0.1111111111111111,
              "#46039f"
             ],
             [
              0.2222222222222222,
              "#7201a8"
             ],
             [
              0.3333333333333333,
              "#9c179e"
             ],
             [
              0.4444444444444444,
              "#bd3786"
             ],
             [
              0.5555555555555556,
              "#d8576b"
             ],
             [
              0.6666666666666666,
              "#ed7953"
             ],
             [
              0.7777777777777778,
              "#fb9f3a"
             ],
             [
              0.8888888888888888,
              "#fdca26"
             ],
             [
              1,
              "#f0f921"
             ]
            ],
            "type": "contour"
           }
          ],
          "contourcarpet": [
           {
            "colorbar": {
             "outlinewidth": 0,
             "ticks": ""
            },
            "type": "contourcarpet"
           }
          ],
          "heatmap": [
           {
            "colorbar": {
             "outlinewidth": 0,
             "ticks": ""
            },
            "colorscale": [
             [
              0,
              "#0d0887"
             ],
             [
              0.1111111111111111,
              "#46039f"
             ],
             [
              0.2222222222222222,
              "#7201a8"
             ],
             [
              0.3333333333333333,
              "#9c179e"
             ],
             [
              0.4444444444444444,
              "#bd3786"
             ],
             [
              0.5555555555555556,
              "#d8576b"
             ],
             [
              0.6666666666666666,
              "#ed7953"
             ],
             [
              0.7777777777777778,
              "#fb9f3a"
             ],
             [
              0.8888888888888888,
              "#fdca26"
             ],
             [
              1,
              "#f0f921"
             ]
            ],
            "type": "heatmap"
           }
          ],
          "heatmapgl": [
           {
            "colorbar": {
             "outlinewidth": 0,
             "ticks": ""
            },
            "colorscale": [
             [
              0,
              "#0d0887"
             ],
             [
              0.1111111111111111,
              "#46039f"
             ],
             [
              0.2222222222222222,
              "#7201a8"
             ],
             [
              0.3333333333333333,
              "#9c179e"
             ],
             [
              0.4444444444444444,
              "#bd3786"
             ],
             [
              0.5555555555555556,
              "#d8576b"
             ],
             [
              0.6666666666666666,
              "#ed7953"
             ],
             [
              0.7777777777777778,
              "#fb9f3a"
             ],
             [
              0.8888888888888888,
              "#fdca26"
             ],
             [
              1,
              "#f0f921"
             ]
            ],
            "type": "heatmapgl"
           }
          ],
          "histogram": [
           {
            "marker": {
             "pattern": {
              "fillmode": "overlay",
              "size": 10,
              "solidity": 0.2
             }
            },
            "type": "histogram"
           }
          ],
          "histogram2d": [
           {
            "colorbar": {
             "outlinewidth": 0,
             "ticks": ""
            },
            "colorscale": [
             [
              0,
              "#0d0887"
             ],
             [
              0.1111111111111111,
              "#46039f"
             ],
             [
              0.2222222222222222,
              "#7201a8"
             ],
             [
              0.3333333333333333,
              "#9c179e"
             ],
             [
              0.4444444444444444,
              "#bd3786"
             ],
             [
              0.5555555555555556,
              "#d8576b"
             ],
             [
              0.6666666666666666,
              "#ed7953"
             ],
             [
              0.7777777777777778,
              "#fb9f3a"
             ],
             [
              0.8888888888888888,
              "#fdca26"
             ],
             [
              1,
              "#f0f921"
             ]
            ],
            "type": "histogram2d"
           }
          ],
          "histogram2dcontour": [
           {
            "colorbar": {
             "outlinewidth": 0,
             "ticks": ""
            },
            "colorscale": [
             [
              0,
              "#0d0887"
             ],
             [
              0.1111111111111111,
              "#46039f"
             ],
             [
              0.2222222222222222,
              "#7201a8"
             ],
             [
              0.3333333333333333,
              "#9c179e"
             ],
             [
              0.4444444444444444,
              "#bd3786"
             ],
             [
              0.5555555555555556,
              "#d8576b"
             ],
             [
              0.6666666666666666,
              "#ed7953"
             ],
             [
              0.7777777777777778,
              "#fb9f3a"
             ],
             [
              0.8888888888888888,
              "#fdca26"
             ],
             [
              1,
              "#f0f921"
             ]
            ],
            "type": "histogram2dcontour"
           }
          ],
          "mesh3d": [
           {
            "colorbar": {
             "outlinewidth": 0,
             "ticks": ""
            },
            "type": "mesh3d"
           }
          ],
          "parcoords": [
           {
            "line": {
             "colorbar": {
              "outlinewidth": 0,
              "ticks": ""
             }
            },
            "type": "parcoords"
           }
          ],
          "pie": [
           {
            "automargin": true,
            "type": "pie"
           }
          ],
          "scatter": [
           {
            "fillpattern": {
             "fillmode": "overlay",
             "size": 10,
             "solidity": 0.2
            },
            "type": "scatter"
           }
          ],
          "scatter3d": [
           {
            "line": {
             "colorbar": {
              "outlinewidth": 0,
              "ticks": ""
             }
            },
            "marker": {
             "colorbar": {
              "outlinewidth": 0,
              "ticks": ""
             }
            },
            "type": "scatter3d"
           }
          ],
          "scattercarpet": [
           {
            "marker": {
             "colorbar": {
              "outlinewidth": 0,
              "ticks": ""
             }
            },
            "type": "scattercarpet"
           }
          ],
          "scattergeo": [
           {
            "marker": {
             "colorbar": {
              "outlinewidth": 0,
              "ticks": ""
             }
            },
            "type": "scattergeo"
           }
          ],
          "scattergl": [
           {
            "marker": {
             "colorbar": {
              "outlinewidth": 0,
              "ticks": ""
             }
            },
            "type": "scattergl"
           }
          ],
          "scattermapbox": [
           {
            "marker": {
             "colorbar": {
              "outlinewidth": 0,
              "ticks": ""
             }
            },
            "type": "scattermapbox"
           }
          ],
          "scatterpolar": [
           {
            "marker": {
             "colorbar": {
              "outlinewidth": 0,
              "ticks": ""
             }
            },
            "type": "scatterpolar"
           }
          ],
          "scatterpolargl": [
           {
            "marker": {
             "colorbar": {
              "outlinewidth": 0,
              "ticks": ""
             }
            },
            "type": "scatterpolargl"
           }
          ],
          "scatterternary": [
           {
            "marker": {
             "colorbar": {
              "outlinewidth": 0,
              "ticks": ""
             }
            },
            "type": "scatterternary"
           }
          ],
          "surface": [
           {
            "colorbar": {
             "outlinewidth": 0,
             "ticks": ""
            },
            "colorscale": [
             [
              0,
              "#0d0887"
             ],
             [
              0.1111111111111111,
              "#46039f"
             ],
             [
              0.2222222222222222,
              "#7201a8"
             ],
             [
              0.3333333333333333,
              "#9c179e"
             ],
             [
              0.4444444444444444,
              "#bd3786"
             ],
             [
              0.5555555555555556,
              "#d8576b"
             ],
             [
              0.6666666666666666,
              "#ed7953"
             ],
             [
              0.7777777777777778,
              "#fb9f3a"
             ],
             [
              0.8888888888888888,
              "#fdca26"
             ],
             [
              1,
              "#f0f921"
             ]
            ],
            "type": "surface"
           }
          ],
          "table": [
           {
            "cells": {
             "fill": {
              "color": "#EBF0F8"
             },
             "line": {
              "color": "white"
             }
            },
            "header": {
             "fill": {
              "color": "#C8D4E3"
             },
             "line": {
              "color": "white"
             }
            },
            "type": "table"
           }
          ]
         },
         "layout": {
          "annotationdefaults": {
           "arrowcolor": "#2a3f5f",
           "arrowhead": 0,
           "arrowwidth": 1
          },
          "autotypenumbers": "strict",
          "coloraxis": {
           "colorbar": {
            "outlinewidth": 0,
            "ticks": ""
           }
          },
          "colorscale": {
           "diverging": [
            [
             0,
             "#8e0152"
            ],
            [
             0.1,
             "#c51b7d"
            ],
            [
             0.2,
             "#de77ae"
            ],
            [
             0.3,
             "#f1b6da"
            ],
            [
             0.4,
             "#fde0ef"
            ],
            [
             0.5,
             "#f7f7f7"
            ],
            [
             0.6,
             "#e6f5d0"
            ],
            [
             0.7,
             "#b8e186"
            ],
            [
             0.8,
             "#7fbc41"
            ],
            [
             0.9,
             "#4d9221"
            ],
            [
             1,
             "#276419"
            ]
           ],
           "sequential": [
            [
             0,
             "#0d0887"
            ],
            [
             0.1111111111111111,
             "#46039f"
            ],
            [
             0.2222222222222222,
             "#7201a8"
            ],
            [
             0.3333333333333333,
             "#9c179e"
            ],
            [
             0.4444444444444444,
             "#bd3786"
            ],
            [
             0.5555555555555556,
             "#d8576b"
            ],
            [
             0.6666666666666666,
             "#ed7953"
            ],
            [
             0.7777777777777778,
             "#fb9f3a"
            ],
            [
             0.8888888888888888,
             "#fdca26"
            ],
            [
             1,
             "#f0f921"
            ]
           ],
           "sequentialminus": [
            [
             0,
             "#0d0887"
            ],
            [
             0.1111111111111111,
             "#46039f"
            ],
            [
             0.2222222222222222,
             "#7201a8"
            ],
            [
             0.3333333333333333,
             "#9c179e"
            ],
            [
             0.4444444444444444,
             "#bd3786"
            ],
            [
             0.5555555555555556,
             "#d8576b"
            ],
            [
             0.6666666666666666,
             "#ed7953"
            ],
            [
             0.7777777777777778,
             "#fb9f3a"
            ],
            [
             0.8888888888888888,
             "#fdca26"
            ],
            [
             1,
             "#f0f921"
            ]
           ]
          },
          "colorway": [
           "#636efa",
           "#EF553B",
           "#00cc96",
           "#ab63fa",
           "#FFA15A",
           "#19d3f3",
           "#FF6692",
           "#B6E880",
           "#FF97FF",
           "#FECB52"
          ],
          "font": {
           "color": "#2a3f5f"
          },
          "geo": {
           "bgcolor": "white",
           "lakecolor": "white",
           "landcolor": "#E5ECF6",
           "showlakes": true,
           "showland": true,
           "subunitcolor": "white"
          },
          "hoverlabel": {
           "align": "left"
          },
          "hovermode": "closest",
          "mapbox": {
           "style": "light"
          },
          "paper_bgcolor": "white",
          "plot_bgcolor": "#E5ECF6",
          "polar": {
           "angularaxis": {
            "gridcolor": "white",
            "linecolor": "white",
            "ticks": ""
           },
           "bgcolor": "#E5ECF6",
           "radialaxis": {
            "gridcolor": "white",
            "linecolor": "white",
            "ticks": ""
           }
          },
          "scene": {
           "xaxis": {
            "backgroundcolor": "#E5ECF6",
            "gridcolor": "white",
            "gridwidth": 2,
            "linecolor": "white",
            "showbackground": true,
            "ticks": "",
            "zerolinecolor": "white"
           },
           "yaxis": {
            "backgroundcolor": "#E5ECF6",
            "gridcolor": "white",
            "gridwidth": 2,
            "linecolor": "white",
            "showbackground": true,
            "ticks": "",
            "zerolinecolor": "white"
           },
           "zaxis": {
            "backgroundcolor": "#E5ECF6",
            "gridcolor": "white",
            "gridwidth": 2,
            "linecolor": "white",
            "showbackground": true,
            "ticks": "",
            "zerolinecolor": "white"
           }
          },
          "shapedefaults": {
           "line": {
            "color": "#2a3f5f"
           }
          },
          "ternary": {
           "aaxis": {
            "gridcolor": "white",
            "linecolor": "white",
            "ticks": ""
           },
           "baxis": {
            "gridcolor": "white",
            "linecolor": "white",
            "ticks": ""
           },
           "bgcolor": "#E5ECF6",
           "caxis": {
            "gridcolor": "white",
            "linecolor": "white",
            "ticks": ""
           }
          },
          "title": {
           "x": 0.05
          },
          "xaxis": {
           "automargin": true,
           "gridcolor": "white",
           "linecolor": "white",
           "ticks": "",
           "title": {
            "standoff": 15
           },
           "zerolinecolor": "white",
           "zerolinewidth": 2
          },
          "yaxis": {
           "automargin": true,
           "gridcolor": "white",
           "linecolor": "white",
           "ticks": "",
           "title": {
            "standoff": 15
           },
           "zerolinecolor": "white",
           "zerolinewidth": 2
          }
         }
        },
        "title": {
         "text": "MRM max diff between rings"
        },
        "xaxis": {
         "anchor": "y",
         "domain": [
          0,
          1
         ],
         "tickmode": "array",
         "tickvals": [
          0,
          100,
          200,
          300,
          400,
          500,
          600,
          700,
          800,
          900,
          1000,
          1100,
          1200,
          1300,
          1400,
          1500,
          1600,
          1700,
          1800,
          1900,
          2000,
          2100,
          2200,
          2300,
          2400,
          2500,
          2600,
          2700,
          2800,
          2900,
          3000,
          3100,
          3200,
          3300,
          3400,
          3500,
          3600
         ],
         "title": {
          "text": "Heat amount difference between rings (GHz)"
         }
        },
        "yaxis": {
         "anchor": "x",
         "domain": [
          0,
          1
         ],
         "title": {
          "text": "Count"
         }
        }
       }
      }
     },
     "metadata": {},
     "output_type": "display_data"
    },
    {
     "data": {
      "application/vnd.plotly.v1+json": {
       "config": {
        "plotlyServerURL": "https://plot.ly"
       },
       "data": [
        {
         "alignmentgroup": "True",
         "bingroup": "x",
         "hovertemplate": "variable=0<br>value=%{x}<br>count=%{y}<extra></extra>",
         "legendgroup": "0",
         "marker": {
          "color": "#636efa",
          "pattern": {
           "shape": ""
          }
         },
         "name": "0",
         "offsetgroup": "0",
         "orientation": "v",
         "showlegend": true,
         "type": "histogram",
         "x": [
          -300,
          -300,
          -350,
          -290,
          -530,
          -530,
          -360,
          -520,
          270,
          370,
          210,
          260,
          280,
          100,
          50,
          30,
          -740,
          -770,
          -820,
          -1110,
          -1150,
          -1020,
          -980,
          -1000,
          -120,
          20,
          -50,
          -50,
          -40,
          -120,
          -80,
          -300,
          40,
          240,
          120,
          90,
          70,
          60,
          40,
          -10,
          -890,
          -820,
          -920,
          -860,
          -750,
          -920,
          -1160,
          -1160,
          220,
          260,
          240,
          290,
          140,
          -100,
          110,
          30,
          320,
          310,
          110,
          40,
          -10,
          30,
          10,
          190,
          280,
          120,
          160,
          -90,
          40,
          -30,
          -10,
          -10,
          -610,
          -620,
          -640,
          -550,
          -710,
          -680,
          -580,
          -650,
          -650,
          -510,
          -520,
          -560,
          -410,
          -380,
          -790,
          -670,
          -600,
          -730,
          -600,
          -690,
          -910,
          -850,
          -940,
          -880,
          250,
          260,
          170,
          210,
          270,
          160,
          100,
          -10,
          320,
          180,
          230,
          250,
          250,
          80,
          320,
          160,
          -320,
          -430,
          -430,
          -340,
          -690,
          -520,
          -450,
          -510,
          -1010,
          -890,
          -1090,
          -910,
          -890,
          -1070,
          -950,
          -1130,
          280,
          190,
          50,
          -20,
          -40,
          -50,
          0,
          -40,
          180,
          -40,
          -120,
          10,
          30,
          20,
          70,
          110,
          -230,
          -170,
          -130,
          -130,
          -200,
          -280,
          -160,
          -490,
          -470,
          -520,
          -750,
          -730,
          -600,
          -720,
          -690,
          -590,
          -620,
          -540,
          -490,
          -540,
          -570,
          -540,
          -770,
          -700,
          -690,
          -500,
          -670,
          -500,
          -590,
          -870,
          -790,
          -710,
          -910,
          -920,
          -830,
          -940,
          -1030,
          -1080,
          -1170,
          -1040,
          -310,
          -450,
          -430,
          -370,
          -330,
          -300,
          -580,
          -610,
          150,
          180,
          200,
          100,
          230,
          -30,
          80,
          -60,
          260,
          200,
          240,
          20,
          80,
          150,
          30,
          50,
          -90,
          -180,
          -140,
          -170,
          -230,
          -260,
          -250,
          -300,
          170,
          10,
          10,
          30,
          -140,
          -90,
          -140,
          -120,
          -740,
          -940,
          -840,
          -770,
          -870,
          -830,
          -1000,
          -1170,
          150,
          160,
          160,
          220,
          180,
          160,
          310,
          -80,
          -870,
          -1180,
          -1150,
          -1100,
          -1050,
          -1120,
          -1070,
          -1140,
          -770,
          -890,
          -890,
          -1100,
          -980,
          -910,
          -990,
          -1000,
          160,
          40,
          130,
          20,
          240,
          -100,
          -120,
          -30,
          -810,
          -600,
          -750,
          -640,
          -660,
          -720,
          -630,
          -740,
          130,
          120,
          20,
          -80,
          -140,
          -60,
          -50,
          -40,
          -150,
          -140,
          -310,
          -360,
          -500,
          -440,
          -430,
          -430,
          -560,
          -630,
          -700,
          -700,
          -670,
          -580,
          -910,
          -850,
          -960,
          -850,
          -950,
          -900,
          -780,
          -970,
          -820,
          -960,
          20,
          -190,
          -130,
          -230,
          -260,
          -260,
          -270,
          -280,
          -230,
          -370,
          -200,
          -400,
          -430,
          -210,
          -430,
          -370,
          -360,
          -210,
          -330,
          -210,
          -200,
          -380,
          -580,
          -560,
          90,
          60,
          -240,
          -250,
          -240,
          -140,
          -270,
          -290,
          230,
          240,
          130,
          70,
          -10,
          10,
          130,
          120,
          160,
          60,
          220,
          160,
          70,
          170,
          -190,
          -170,
          120,
          170,
          150,
          190,
          180,
          130,
          110,
          250,
          170,
          220,
          240,
          220,
          270,
          200,
          -70,
          10,
          310,
          290,
          390,
          130,
          130,
          180,
          130,
          140,
          -210,
          -230,
          -140,
          -150,
          -150,
          -200,
          -230,
          -360,
          -190,
          -220,
          -200,
          -400,
          -420,
          -540,
          -350,
          -470,
          -580,
          -620,
          -500,
          -600,
          -600,
          -650,
          -610,
          -620,
          20,
          150,
          200,
          230,
          -10,
          -120,
          -30,
          -30,
          -590,
          -600,
          -500,
          -710,
          -640,
          -740,
          -720,
          -650,
          260,
          150,
          190,
          110,
          -30,
          -10,
          0,
          -30,
          160,
          240,
          250,
          310,
          270,
          190,
          190,
          0,
          -100,
          -210,
          -130,
          -260,
          -450,
          -350,
          -290,
          -360,
          -50,
          80,
          -150,
          0,
          -30,
          -80,
          -60,
          -130,
          -920,
          -880,
          -780,
          -780,
          -1010,
          -970,
          -830,
          -840,
          -720,
          -850,
          -990,
          -910,
          -930,
          -940,
          -890,
          -920,
          -800,
          -760,
          -1000,
          -1100,
          -1020,
          -1100,
          -1120,
          -970,
          -730,
          -780,
          -860,
          -800,
          -710,
          -950,
          -980,
          -1110,
          -330,
          -710,
          -630,
          -770,
          -730,
          -730,
          -780,
          -600,
          -850,
          -780,
          -850,
          -970,
          -900,
          -860,
          -920,
          -780,
          170,
          -20,
          -30,
          -10,
          -40,
          -60,
          -20,
          50,
          50,
          50,
          120,
          -70,
          -10,
          30,
          -120,
          -240,
          270,
          320,
          350,
          170,
          -30,
          70,
          -30,
          20,
          20,
          140,
          20,
          70,
          110,
          -40,
          -160,
          -230,
          -100,
          -10,
          70,
          -50,
          -100,
          0,
          -90,
          -20,
          50,
          90,
          220,
          160,
          180,
          160,
          -230,
          -30,
          20,
          60,
          50,
          130,
          -10,
          30,
          90,
          90,
          160,
          -180,
          -80,
          -200,
          -40,
          -180,
          10,
          -20,
          -490,
          -380,
          -340,
          -350,
          -720,
          -660,
          -740,
          -720,
          -790,
          -730,
          -820,
          -760,
          -790,
          -850,
          -900,
          -890,
          -20,
          10,
          30,
          0,
          0,
          100,
          0,
          -60,
          -100,
          -60,
          -190,
          -90,
          -120,
          -60,
          -50,
          -60,
          -690,
          -820,
          -850,
          -870,
          -740,
          -1020,
          -1120,
          -970,
          -240,
          -320,
          -160,
          -260,
          -310,
          -260,
          -320,
          -390,
          200,
          100,
          200,
          70,
          60,
          -20,
          -150,
          30,
          -510,
          -460,
          -450,
          -600,
          -500,
          -500,
          -460,
          -730,
          -210,
          -120,
          -160,
          -170,
          -230,
          -200,
          -230,
          -210,
          350,
          350,
          280,
          120,
          250,
          0,
          -10,
          70,
          -580,
          -570,
          -640,
          -640,
          -650,
          -620,
          -680,
          -880,
          220,
          290,
          280,
          260,
          -20,
          -20,
          60,
          -80,
          -580,
          -690,
          -760,
          -750,
          -550,
          -680,
          -550,
          -860,
          -190,
          -150,
          -120,
          -170,
          -140,
          -230,
          -160,
          -430,
          170,
          90,
          150,
          80,
          220,
          200,
          -40,
          20,
          -930,
          -1040,
          -920,
          -880,
          -1070,
          -990,
          -850,
          -820,
          -410,
          -440,
          -390,
          -420,
          -530,
          -750,
          -650,
          -710,
          40,
          -80,
          -80,
          30,
          20,
          -10,
          -140,
          -240,
          -200,
          -120,
          -190,
          -440,
          -330,
          -360,
          -420,
          -400,
          -660,
          -660,
          -570,
          -540,
          -490,
          -620,
          -540,
          -810,
          -290,
          -270,
          -570,
          -510,
          -540,
          -600,
          -460,
          -480,
          -480,
          -480,
          -530,
          -670,
          -840,
          -690,
          -880,
          -770,
          -50,
          -190,
          -20,
          -40,
          -180,
          -240,
          -190,
          -210,
          80,
          250,
          210,
          200,
          150,
          210,
          -150,
          -10,
          160,
          100,
          110,
          70,
          -60,
          10,
          -80,
          -180,
          -480,
          -650,
          -560,
          -480,
          -600,
          -510,
          -630,
          -850,
          -50,
          -90,
          60,
          -80,
          0,
          -90,
          -100,
          -290,
          -590,
          -800,
          -770,
          -620,
          -940,
          -930,
          -870,
          -830,
          400,
          400,
          260,
          320,
          390,
          210,
          280,
          50,
          20,
          130,
          100,
          210,
          30,
          210,
          70,
          10
         ],
         "xaxis": "x",
         "xbins": {
          "size": 10
         },
         "yaxis": "y"
        }
       ],
       "layout": {
        "barmode": "relative",
        "legend": {
         "title": {
          "text": "variable"
         },
         "tracegroupgap": 0
        },
        "margin": {
         "t": 60
        },
        "showlegend": false,
        "template": {
         "data": {
          "bar": [
           {
            "error_x": {
             "color": "#2a3f5f"
            },
            "error_y": {
             "color": "#2a3f5f"
            },
            "marker": {
             "line": {
              "color": "#E5ECF6",
              "width": 0.5
             },
             "pattern": {
              "fillmode": "overlay",
              "size": 10,
              "solidity": 0.2
             }
            },
            "type": "bar"
           }
          ],
          "barpolar": [
           {
            "marker": {
             "line": {
              "color": "#E5ECF6",
              "width": 0.5
             },
             "pattern": {
              "fillmode": "overlay",
              "size": 10,
              "solidity": 0.2
             }
            },
            "type": "barpolar"
           }
          ],
          "carpet": [
           {
            "aaxis": {
             "endlinecolor": "#2a3f5f",
             "gridcolor": "white",
             "linecolor": "white",
             "minorgridcolor": "white",
             "startlinecolor": "#2a3f5f"
            },
            "baxis": {
             "endlinecolor": "#2a3f5f",
             "gridcolor": "white",
             "linecolor": "white",
             "minorgridcolor": "white",
             "startlinecolor": "#2a3f5f"
            },
            "type": "carpet"
           }
          ],
          "choropleth": [
           {
            "colorbar": {
             "outlinewidth": 0,
             "ticks": ""
            },
            "type": "choropleth"
           }
          ],
          "contour": [
           {
            "colorbar": {
             "outlinewidth": 0,
             "ticks": ""
            },
            "colorscale": [
             [
              0,
              "#0d0887"
             ],
             [
              0.1111111111111111,
              "#46039f"
             ],
             [
              0.2222222222222222,
              "#7201a8"
             ],
             [
              0.3333333333333333,
              "#9c179e"
             ],
             [
              0.4444444444444444,
              "#bd3786"
             ],
             [
              0.5555555555555556,
              "#d8576b"
             ],
             [
              0.6666666666666666,
              "#ed7953"
             ],
             [
              0.7777777777777778,
              "#fb9f3a"
             ],
             [
              0.8888888888888888,
              "#fdca26"
             ],
             [
              1,
              "#f0f921"
             ]
            ],
            "type": "contour"
           }
          ],
          "contourcarpet": [
           {
            "colorbar": {
             "outlinewidth": 0,
             "ticks": ""
            },
            "type": "contourcarpet"
           }
          ],
          "heatmap": [
           {
            "colorbar": {
             "outlinewidth": 0,
             "ticks": ""
            },
            "colorscale": [
             [
              0,
              "#0d0887"
             ],
             [
              0.1111111111111111,
              "#46039f"
             ],
             [
              0.2222222222222222,
              "#7201a8"
             ],
             [
              0.3333333333333333,
              "#9c179e"
             ],
             [
              0.4444444444444444,
              "#bd3786"
             ],
             [
              0.5555555555555556,
              "#d8576b"
             ],
             [
              0.6666666666666666,
              "#ed7953"
             ],
             [
              0.7777777777777778,
              "#fb9f3a"
             ],
             [
              0.8888888888888888,
              "#fdca26"
             ],
             [
              1,
              "#f0f921"
             ]
            ],
            "type": "heatmap"
           }
          ],
          "heatmapgl": [
           {
            "colorbar": {
             "outlinewidth": 0,
             "ticks": ""
            },
            "colorscale": [
             [
              0,
              "#0d0887"
             ],
             [
              0.1111111111111111,
              "#46039f"
             ],
             [
              0.2222222222222222,
              "#7201a8"
             ],
             [
              0.3333333333333333,
              "#9c179e"
             ],
             [
              0.4444444444444444,
              "#bd3786"
             ],
             [
              0.5555555555555556,
              "#d8576b"
             ],
             [
              0.6666666666666666,
              "#ed7953"
             ],
             [
              0.7777777777777778,
              "#fb9f3a"
             ],
             [
              0.8888888888888888,
              "#fdca26"
             ],
             [
              1,
              "#f0f921"
             ]
            ],
            "type": "heatmapgl"
           }
          ],
          "histogram": [
           {
            "marker": {
             "pattern": {
              "fillmode": "overlay",
              "size": 10,
              "solidity": 0.2
             }
            },
            "type": "histogram"
           }
          ],
          "histogram2d": [
           {
            "colorbar": {
             "outlinewidth": 0,
             "ticks": ""
            },
            "colorscale": [
             [
              0,
              "#0d0887"
             ],
             [
              0.1111111111111111,
              "#46039f"
             ],
             [
              0.2222222222222222,
              "#7201a8"
             ],
             [
              0.3333333333333333,
              "#9c179e"
             ],
             [
              0.4444444444444444,
              "#bd3786"
             ],
             [
              0.5555555555555556,
              "#d8576b"
             ],
             [
              0.6666666666666666,
              "#ed7953"
             ],
             [
              0.7777777777777778,
              "#fb9f3a"
             ],
             [
              0.8888888888888888,
              "#fdca26"
             ],
             [
              1,
              "#f0f921"
             ]
            ],
            "type": "histogram2d"
           }
          ],
          "histogram2dcontour": [
           {
            "colorbar": {
             "outlinewidth": 0,
             "ticks": ""
            },
            "colorscale": [
             [
              0,
              "#0d0887"
             ],
             [
              0.1111111111111111,
              "#46039f"
             ],
             [
              0.2222222222222222,
              "#7201a8"
             ],
             [
              0.3333333333333333,
              "#9c179e"
             ],
             [
              0.4444444444444444,
              "#bd3786"
             ],
             [
              0.5555555555555556,
              "#d8576b"
             ],
             [
              0.6666666666666666,
              "#ed7953"
             ],
             [
              0.7777777777777778,
              "#fb9f3a"
             ],
             [
              0.8888888888888888,
              "#fdca26"
             ],
             [
              1,
              "#f0f921"
             ]
            ],
            "type": "histogram2dcontour"
           }
          ],
          "mesh3d": [
           {
            "colorbar": {
             "outlinewidth": 0,
             "ticks": ""
            },
            "type": "mesh3d"
           }
          ],
          "parcoords": [
           {
            "line": {
             "colorbar": {
              "outlinewidth": 0,
              "ticks": ""
             }
            },
            "type": "parcoords"
           }
          ],
          "pie": [
           {
            "automargin": true,
            "type": "pie"
           }
          ],
          "scatter": [
           {
            "fillpattern": {
             "fillmode": "overlay",
             "size": 10,
             "solidity": 0.2
            },
            "type": "scatter"
           }
          ],
          "scatter3d": [
           {
            "line": {
             "colorbar": {
              "outlinewidth": 0,
              "ticks": ""
             }
            },
            "marker": {
             "colorbar": {
              "outlinewidth": 0,
              "ticks": ""
             }
            },
            "type": "scatter3d"
           }
          ],
          "scattercarpet": [
           {
            "marker": {
             "colorbar": {
              "outlinewidth": 0,
              "ticks": ""
             }
            },
            "type": "scattercarpet"
           }
          ],
          "scattergeo": [
           {
            "marker": {
             "colorbar": {
              "outlinewidth": 0,
              "ticks": ""
             }
            },
            "type": "scattergeo"
           }
          ],
          "scattergl": [
           {
            "marker": {
             "colorbar": {
              "outlinewidth": 0,
              "ticks": ""
             }
            },
            "type": "scattergl"
           }
          ],
          "scattermapbox": [
           {
            "marker": {
             "colorbar": {
              "outlinewidth": 0,
              "ticks": ""
             }
            },
            "type": "scattermapbox"
           }
          ],
          "scatterpolar": [
           {
            "marker": {
             "colorbar": {
              "outlinewidth": 0,
              "ticks": ""
             }
            },
            "type": "scatterpolar"
           }
          ],
          "scatterpolargl": [
           {
            "marker": {
             "colorbar": {
              "outlinewidth": 0,
              "ticks": ""
             }
            },
            "type": "scatterpolargl"
           }
          ],
          "scatterternary": [
           {
            "marker": {
             "colorbar": {
              "outlinewidth": 0,
              "ticks": ""
             }
            },
            "type": "scatterternary"
           }
          ],
          "surface": [
           {
            "colorbar": {
             "outlinewidth": 0,
             "ticks": ""
            },
            "colorscale": [
             [
              0,
              "#0d0887"
             ],
             [
              0.1111111111111111,
              "#46039f"
             ],
             [
              0.2222222222222222,
              "#7201a8"
             ],
             [
              0.3333333333333333,
              "#9c179e"
             ],
             [
              0.4444444444444444,
              "#bd3786"
             ],
             [
              0.5555555555555556,
              "#d8576b"
             ],
             [
              0.6666666666666666,
              "#ed7953"
             ],
             [
              0.7777777777777778,
              "#fb9f3a"
             ],
             [
              0.8888888888888888,
              "#fdca26"
             ],
             [
              1,
              "#f0f921"
             ]
            ],
            "type": "surface"
           }
          ],
          "table": [
           {
            "cells": {
             "fill": {
              "color": "#EBF0F8"
             },
             "line": {
              "color": "white"
             }
            },
            "header": {
             "fill": {
              "color": "#C8D4E3"
             },
             "line": {
              "color": "white"
             }
            },
            "type": "table"
           }
          ]
         },
         "layout": {
          "annotationdefaults": {
           "arrowcolor": "#2a3f5f",
           "arrowhead": 0,
           "arrowwidth": 1
          },
          "autotypenumbers": "strict",
          "coloraxis": {
           "colorbar": {
            "outlinewidth": 0,
            "ticks": ""
           }
          },
          "colorscale": {
           "diverging": [
            [
             0,
             "#8e0152"
            ],
            [
             0.1,
             "#c51b7d"
            ],
            [
             0.2,
             "#de77ae"
            ],
            [
             0.3,
             "#f1b6da"
            ],
            [
             0.4,
             "#fde0ef"
            ],
            [
             0.5,
             "#f7f7f7"
            ],
            [
             0.6,
             "#e6f5d0"
            ],
            [
             0.7,
             "#b8e186"
            ],
            [
             0.8,
             "#7fbc41"
            ],
            [
             0.9,
             "#4d9221"
            ],
            [
             1,
             "#276419"
            ]
           ],
           "sequential": [
            [
             0,
             "#0d0887"
            ],
            [
             0.1111111111111111,
             "#46039f"
            ],
            [
             0.2222222222222222,
             "#7201a8"
            ],
            [
             0.3333333333333333,
             "#9c179e"
            ],
            [
             0.4444444444444444,
             "#bd3786"
            ],
            [
             0.5555555555555556,
             "#d8576b"
            ],
            [
             0.6666666666666666,
             "#ed7953"
            ],
            [
             0.7777777777777778,
             "#fb9f3a"
            ],
            [
             0.8888888888888888,
             "#fdca26"
            ],
            [
             1,
             "#f0f921"
            ]
           ],
           "sequentialminus": [
            [
             0,
             "#0d0887"
            ],
            [
             0.1111111111111111,
             "#46039f"
            ],
            [
             0.2222222222222222,
             "#7201a8"
            ],
            [
             0.3333333333333333,
             "#9c179e"
            ],
            [
             0.4444444444444444,
             "#bd3786"
            ],
            [
             0.5555555555555556,
             "#d8576b"
            ],
            [
             0.6666666666666666,
             "#ed7953"
            ],
            [
             0.7777777777777778,
             "#fb9f3a"
            ],
            [
             0.8888888888888888,
             "#fdca26"
            ],
            [
             1,
             "#f0f921"
            ]
           ]
          },
          "colorway": [
           "#636efa",
           "#EF553B",
           "#00cc96",
           "#ab63fa",
           "#FFA15A",
           "#19d3f3",
           "#FF6692",
           "#B6E880",
           "#FF97FF",
           "#FECB52"
          ],
          "font": {
           "color": "#2a3f5f"
          },
          "geo": {
           "bgcolor": "white",
           "lakecolor": "white",
           "landcolor": "#E5ECF6",
           "showlakes": true,
           "showland": true,
           "subunitcolor": "white"
          },
          "hoverlabel": {
           "align": "left"
          },
          "hovermode": "closest",
          "mapbox": {
           "style": "light"
          },
          "paper_bgcolor": "white",
          "plot_bgcolor": "#E5ECF6",
          "polar": {
           "angularaxis": {
            "gridcolor": "white",
            "linecolor": "white",
            "ticks": ""
           },
           "bgcolor": "#E5ECF6",
           "radialaxis": {
            "gridcolor": "white",
            "linecolor": "white",
            "ticks": ""
           }
          },
          "scene": {
           "xaxis": {
            "backgroundcolor": "#E5ECF6",
            "gridcolor": "white",
            "gridwidth": 2,
            "linecolor": "white",
            "showbackground": true,
            "ticks": "",
            "zerolinecolor": "white"
           },
           "yaxis": {
            "backgroundcolor": "#E5ECF6",
            "gridcolor": "white",
            "gridwidth": 2,
            "linecolor": "white",
            "showbackground": true,
            "ticks": "",
            "zerolinecolor": "white"
           },
           "zaxis": {
            "backgroundcolor": "#E5ECF6",
            "gridcolor": "white",
            "gridwidth": 2,
            "linecolor": "white",
            "showbackground": true,
            "ticks": "",
            "zerolinecolor": "white"
           }
          },
          "shapedefaults": {
           "line": {
            "color": "#2a3f5f"
           }
          },
          "ternary": {
           "aaxis": {
            "gridcolor": "white",
            "linecolor": "white",
            "ticks": ""
           },
           "baxis": {
            "gridcolor": "white",
            "linecolor": "white",
            "ticks": ""
           },
           "bgcolor": "#E5ECF6",
           "caxis": {
            "gridcolor": "white",
            "linecolor": "white",
            "ticks": ""
           }
          },
          "title": {
           "x": 0.05
          },
          "xaxis": {
           "automargin": true,
           "gridcolor": "white",
           "linecolor": "white",
           "ticks": "",
           "title": {
            "standoff": 15
           },
           "zerolinecolor": "white",
           "zerolinewidth": 2
          },
          "yaxis": {
           "automargin": true,
           "gridcolor": "white",
           "linecolor": "white",
           "ticks": "",
           "title": {
            "standoff": 15
           },
           "zerolinecolor": "white",
           "zerolinewidth": 2
          }
         }
        },
        "title": {
         "text": "CRR heating & cooling"
        },
        "xaxis": {
         "anchor": "y",
         "domain": [
          0,
          1
         ],
         "tickmode": "array",
         "tickvals": [
          -1800,
          -1700,
          -1600,
          -1500,
          -1400,
          -1300,
          -1200,
          -1100,
          -1000,
          -900,
          -800,
          -700,
          -600,
          -500,
          -400,
          -300,
          -200,
          -100,
          0,
          100,
          200,
          300,
          400,
          500,
          600,
          700,
          800,
          900,
          1000,
          1100,
          1200,
          1300,
          1400,
          1500,
          1600,
          1700,
          1800
         ],
         "title": {
          "text": "Heat (-) & Cool (+) amount (GHz)"
         }
        },
        "yaxis": {
         "anchor": "x",
         "domain": [
          0,
          1
         ],
         "title": {
          "text": "Count"
         }
        }
       }
      }
     },
     "metadata": {},
     "output_type": "display_data"
    },
    {
     "data": {
      "application/vnd.plotly.v1+json": {
       "config": {
        "plotlyServerURL": "https://plot.ly"
       },
       "data": [
        {
         "alignmentgroup": "True",
         "bingroup": "x",
         "hovertemplate": "max_diff=%{x}<br>count=%{y}<extra></extra>",
         "legendgroup": "",
         "marker": {
          "color": "#636efa",
          "pattern": {
           "shape": ""
          }
         },
         "name": "",
         "offsetgroup": "",
         "orientation": "v",
         "showlegend": false,
         "type": "histogram",
         "x": [
          530,
          370,
          1150,
          320,
          250,
          1160,
          390,
          330,
          370,
          710,
          790,
          940,
          280,
          320,
          690,
          1130,
          330,
          300,
          490,
          750,
          770,
          870,
          1170,
          610,
          290,
          260,
          300,
          310,
          1170,
          390,
          1180,
          1100,
          360,
          810,
          270,
          500,
          910,
          970,
          300,
          430,
          580,
          380,
          250,
          410,
          250,
          340,
          390,
          360,
          540,
          650,
          350,
          740,
          290,
          310,
          450,
          230,
          1010,
          990,
          1120,
          1110,
          780,
          970,
          230,
          360,
          380,
          370,
          170,
          450,
          140,
          360,
          740,
          900,
          160,
          190,
          1120,
          390,
          350,
          730,
          230,
          360,
          880,
          370,
          860,
          430,
          260,
          1070,
          750,
          280,
          440,
          810,
          600,
          880,
          240,
          400,
          340,
          850,
          350,
          940,
          400,
          210
         ],
         "xaxis": "x",
         "xbins": {
          "size": 10
         },
         "yaxis": "y"
        }
       ],
       "layout": {
        "barmode": "relative",
        "legend": {
         "tracegroupgap": 0
        },
        "margin": {
         "t": 60
        },
        "showlegend": false,
        "template": {
         "data": {
          "bar": [
           {
            "error_x": {
             "color": "#2a3f5f"
            },
            "error_y": {
             "color": "#2a3f5f"
            },
            "marker": {
             "line": {
              "color": "#E5ECF6",
              "width": 0.5
             },
             "pattern": {
              "fillmode": "overlay",
              "size": 10,
              "solidity": 0.2
             }
            },
            "type": "bar"
           }
          ],
          "barpolar": [
           {
            "marker": {
             "line": {
              "color": "#E5ECF6",
              "width": 0.5
             },
             "pattern": {
              "fillmode": "overlay",
              "size": 10,
              "solidity": 0.2
             }
            },
            "type": "barpolar"
           }
          ],
          "carpet": [
           {
            "aaxis": {
             "endlinecolor": "#2a3f5f",
             "gridcolor": "white",
             "linecolor": "white",
             "minorgridcolor": "white",
             "startlinecolor": "#2a3f5f"
            },
            "baxis": {
             "endlinecolor": "#2a3f5f",
             "gridcolor": "white",
             "linecolor": "white",
             "minorgridcolor": "white",
             "startlinecolor": "#2a3f5f"
            },
            "type": "carpet"
           }
          ],
          "choropleth": [
           {
            "colorbar": {
             "outlinewidth": 0,
             "ticks": ""
            },
            "type": "choropleth"
           }
          ],
          "contour": [
           {
            "colorbar": {
             "outlinewidth": 0,
             "ticks": ""
            },
            "colorscale": [
             [
              0,
              "#0d0887"
             ],
             [
              0.1111111111111111,
              "#46039f"
             ],
             [
              0.2222222222222222,
              "#7201a8"
             ],
             [
              0.3333333333333333,
              "#9c179e"
             ],
             [
              0.4444444444444444,
              "#bd3786"
             ],
             [
              0.5555555555555556,
              "#d8576b"
             ],
             [
              0.6666666666666666,
              "#ed7953"
             ],
             [
              0.7777777777777778,
              "#fb9f3a"
             ],
             [
              0.8888888888888888,
              "#fdca26"
             ],
             [
              1,
              "#f0f921"
             ]
            ],
            "type": "contour"
           }
          ],
          "contourcarpet": [
           {
            "colorbar": {
             "outlinewidth": 0,
             "ticks": ""
            },
            "type": "contourcarpet"
           }
          ],
          "heatmap": [
           {
            "colorbar": {
             "outlinewidth": 0,
             "ticks": ""
            },
            "colorscale": [
             [
              0,
              "#0d0887"
             ],
             [
              0.1111111111111111,
              "#46039f"
             ],
             [
              0.2222222222222222,
              "#7201a8"
             ],
             [
              0.3333333333333333,
              "#9c179e"
             ],
             [
              0.4444444444444444,
              "#bd3786"
             ],
             [
              0.5555555555555556,
              "#d8576b"
             ],
             [
              0.6666666666666666,
              "#ed7953"
             ],
             [
              0.7777777777777778,
              "#fb9f3a"
             ],
             [
              0.8888888888888888,
              "#fdca26"
             ],
             [
              1,
              "#f0f921"
             ]
            ],
            "type": "heatmap"
           }
          ],
          "heatmapgl": [
           {
            "colorbar": {
             "outlinewidth": 0,
             "ticks": ""
            },
            "colorscale": [
             [
              0,
              "#0d0887"
             ],
             [
              0.1111111111111111,
              "#46039f"
             ],
             [
              0.2222222222222222,
              "#7201a8"
             ],
             [
              0.3333333333333333,
              "#9c179e"
             ],
             [
              0.4444444444444444,
              "#bd3786"
             ],
             [
              0.5555555555555556,
              "#d8576b"
             ],
             [
              0.6666666666666666,
              "#ed7953"
             ],
             [
              0.7777777777777778,
              "#fb9f3a"
             ],
             [
              0.8888888888888888,
              "#fdca26"
             ],
             [
              1,
              "#f0f921"
             ]
            ],
            "type": "heatmapgl"
           }
          ],
          "histogram": [
           {
            "marker": {
             "pattern": {
              "fillmode": "overlay",
              "size": 10,
              "solidity": 0.2
             }
            },
            "type": "histogram"
           }
          ],
          "histogram2d": [
           {
            "colorbar": {
             "outlinewidth": 0,
             "ticks": ""
            },
            "colorscale": [
             [
              0,
              "#0d0887"
             ],
             [
              0.1111111111111111,
              "#46039f"
             ],
             [
              0.2222222222222222,
              "#7201a8"
             ],
             [
              0.3333333333333333,
              "#9c179e"
             ],
             [
              0.4444444444444444,
              "#bd3786"
             ],
             [
              0.5555555555555556,
              "#d8576b"
             ],
             [
              0.6666666666666666,
              "#ed7953"
             ],
             [
              0.7777777777777778,
              "#fb9f3a"
             ],
             [
              0.8888888888888888,
              "#fdca26"
             ],
             [
              1,
              "#f0f921"
             ]
            ],
            "type": "histogram2d"
           }
          ],
          "histogram2dcontour": [
           {
            "colorbar": {
             "outlinewidth": 0,
             "ticks": ""
            },
            "colorscale": [
             [
              0,
              "#0d0887"
             ],
             [
              0.1111111111111111,
              "#46039f"
             ],
             [
              0.2222222222222222,
              "#7201a8"
             ],
             [
              0.3333333333333333,
              "#9c179e"
             ],
             [
              0.4444444444444444,
              "#bd3786"
             ],
             [
              0.5555555555555556,
              "#d8576b"
             ],
             [
              0.6666666666666666,
              "#ed7953"
             ],
             [
              0.7777777777777778,
              "#fb9f3a"
             ],
             [
              0.8888888888888888,
              "#fdca26"
             ],
             [
              1,
              "#f0f921"
             ]
            ],
            "type": "histogram2dcontour"
           }
          ],
          "mesh3d": [
           {
            "colorbar": {
             "outlinewidth": 0,
             "ticks": ""
            },
            "type": "mesh3d"
           }
          ],
          "parcoords": [
           {
            "line": {
             "colorbar": {
              "outlinewidth": 0,
              "ticks": ""
             }
            },
            "type": "parcoords"
           }
          ],
          "pie": [
           {
            "automargin": true,
            "type": "pie"
           }
          ],
          "scatter": [
           {
            "fillpattern": {
             "fillmode": "overlay",
             "size": 10,
             "solidity": 0.2
            },
            "type": "scatter"
           }
          ],
          "scatter3d": [
           {
            "line": {
             "colorbar": {
              "outlinewidth": 0,
              "ticks": ""
             }
            },
            "marker": {
             "colorbar": {
              "outlinewidth": 0,
              "ticks": ""
             }
            },
            "type": "scatter3d"
           }
          ],
          "scattercarpet": [
           {
            "marker": {
             "colorbar": {
              "outlinewidth": 0,
              "ticks": ""
             }
            },
            "type": "scattercarpet"
           }
          ],
          "scattergeo": [
           {
            "marker": {
             "colorbar": {
              "outlinewidth": 0,
              "ticks": ""
             }
            },
            "type": "scattergeo"
           }
          ],
          "scattergl": [
           {
            "marker": {
             "colorbar": {
              "outlinewidth": 0,
              "ticks": ""
             }
            },
            "type": "scattergl"
           }
          ],
          "scattermapbox": [
           {
            "marker": {
             "colorbar": {
              "outlinewidth": 0,
              "ticks": ""
             }
            },
            "type": "scattermapbox"
           }
          ],
          "scatterpolar": [
           {
            "marker": {
             "colorbar": {
              "outlinewidth": 0,
              "ticks": ""
             }
            },
            "type": "scatterpolar"
           }
          ],
          "scatterpolargl": [
           {
            "marker": {
             "colorbar": {
              "outlinewidth": 0,
              "ticks": ""
             }
            },
            "type": "scatterpolargl"
           }
          ],
          "scatterternary": [
           {
            "marker": {
             "colorbar": {
              "outlinewidth": 0,
              "ticks": ""
             }
            },
            "type": "scatterternary"
           }
          ],
          "surface": [
           {
            "colorbar": {
             "outlinewidth": 0,
             "ticks": ""
            },
            "colorscale": [
             [
              0,
              "#0d0887"
             ],
             [
              0.1111111111111111,
              "#46039f"
             ],
             [
              0.2222222222222222,
              "#7201a8"
             ],
             [
              0.3333333333333333,
              "#9c179e"
             ],
             [
              0.4444444444444444,
              "#bd3786"
             ],
             [
              0.5555555555555556,
              "#d8576b"
             ],
             [
              0.6666666666666666,
              "#ed7953"
             ],
             [
              0.7777777777777778,
              "#fb9f3a"
             ],
             [
              0.8888888888888888,
              "#fdca26"
             ],
             [
              1,
              "#f0f921"
             ]
            ],
            "type": "surface"
           }
          ],
          "table": [
           {
            "cells": {
             "fill": {
              "color": "#EBF0F8"
             },
             "line": {
              "color": "white"
             }
            },
            "header": {
             "fill": {
              "color": "#C8D4E3"
             },
             "line": {
              "color": "white"
             }
            },
            "type": "table"
           }
          ]
         },
         "layout": {
          "annotationdefaults": {
           "arrowcolor": "#2a3f5f",
           "arrowhead": 0,
           "arrowwidth": 1
          },
          "autotypenumbers": "strict",
          "coloraxis": {
           "colorbar": {
            "outlinewidth": 0,
            "ticks": ""
           }
          },
          "colorscale": {
           "diverging": [
            [
             0,
             "#8e0152"
            ],
            [
             0.1,
             "#c51b7d"
            ],
            [
             0.2,
             "#de77ae"
            ],
            [
             0.3,
             "#f1b6da"
            ],
            [
             0.4,
             "#fde0ef"
            ],
            [
             0.5,
             "#f7f7f7"
            ],
            [
             0.6,
             "#e6f5d0"
            ],
            [
             0.7,
             "#b8e186"
            ],
            [
             0.8,
             "#7fbc41"
            ],
            [
             0.9,
             "#4d9221"
            ],
            [
             1,
             "#276419"
            ]
           ],
           "sequential": [
            [
             0,
             "#0d0887"
            ],
            [
             0.1111111111111111,
             "#46039f"
            ],
            [
             0.2222222222222222,
             "#7201a8"
            ],
            [
             0.3333333333333333,
             "#9c179e"
            ],
            [
             0.4444444444444444,
             "#bd3786"
            ],
            [
             0.5555555555555556,
             "#d8576b"
            ],
            [
             0.6666666666666666,
             "#ed7953"
            ],
            [
             0.7777777777777778,
             "#fb9f3a"
            ],
            [
             0.8888888888888888,
             "#fdca26"
            ],
            [
             1,
             "#f0f921"
            ]
           ],
           "sequentialminus": [
            [
             0,
             "#0d0887"
            ],
            [
             0.1111111111111111,
             "#46039f"
            ],
            [
             0.2222222222222222,
             "#7201a8"
            ],
            [
             0.3333333333333333,
             "#9c179e"
            ],
            [
             0.4444444444444444,
             "#bd3786"
            ],
            [
             0.5555555555555556,
             "#d8576b"
            ],
            [
             0.6666666666666666,
             "#ed7953"
            ],
            [
             0.7777777777777778,
             "#fb9f3a"
            ],
            [
             0.8888888888888888,
             "#fdca26"
            ],
            [
             1,
             "#f0f921"
            ]
           ]
          },
          "colorway": [
           "#636efa",
           "#EF553B",
           "#00cc96",
           "#ab63fa",
           "#FFA15A",
           "#19d3f3",
           "#FF6692",
           "#B6E880",
           "#FF97FF",
           "#FECB52"
          ],
          "font": {
           "color": "#2a3f5f"
          },
          "geo": {
           "bgcolor": "white",
           "lakecolor": "white",
           "landcolor": "#E5ECF6",
           "showlakes": true,
           "showland": true,
           "subunitcolor": "white"
          },
          "hoverlabel": {
           "align": "left"
          },
          "hovermode": "closest",
          "mapbox": {
           "style": "light"
          },
          "paper_bgcolor": "white",
          "plot_bgcolor": "#E5ECF6",
          "polar": {
           "angularaxis": {
            "gridcolor": "white",
            "linecolor": "white",
            "ticks": ""
           },
           "bgcolor": "#E5ECF6",
           "radialaxis": {
            "gridcolor": "white",
            "linecolor": "white",
            "ticks": ""
           }
          },
          "scene": {
           "xaxis": {
            "backgroundcolor": "#E5ECF6",
            "gridcolor": "white",
            "gridwidth": 2,
            "linecolor": "white",
            "showbackground": true,
            "ticks": "",
            "zerolinecolor": "white"
           },
           "yaxis": {
            "backgroundcolor": "#E5ECF6",
            "gridcolor": "white",
            "gridwidth": 2,
            "linecolor": "white",
            "showbackground": true,
            "ticks": "",
            "zerolinecolor": "white"
           },
           "zaxis": {
            "backgroundcolor": "#E5ECF6",
            "gridcolor": "white",
            "gridwidth": 2,
            "linecolor": "white",
            "showbackground": true,
            "ticks": "",
            "zerolinecolor": "white"
           }
          },
          "shapedefaults": {
           "line": {
            "color": "#2a3f5f"
           }
          },
          "ternary": {
           "aaxis": {
            "gridcolor": "white",
            "linecolor": "white",
            "ticks": ""
           },
           "baxis": {
            "gridcolor": "white",
            "linecolor": "white",
            "ticks": ""
           },
           "bgcolor": "#E5ECF6",
           "caxis": {
            "gridcolor": "white",
            "linecolor": "white",
            "ticks": ""
           }
          },
          "title": {
           "x": 0.05
          },
          "xaxis": {
           "automargin": true,
           "gridcolor": "white",
           "linecolor": "white",
           "ticks": "",
           "title": {
            "standoff": 15
           },
           "zerolinecolor": "white",
           "zerolinewidth": 2
          },
          "yaxis": {
           "automargin": true,
           "gridcolor": "white",
           "linecolor": "white",
           "ticks": "",
           "title": {
            "standoff": 15
           },
           "zerolinecolor": "white",
           "zerolinewidth": 2
          }
         }
        },
        "title": {
         "text": "CRR max diff between rings"
        },
        "xaxis": {
         "anchor": "y",
         "domain": [
          0,
          1
         ],
         "tickmode": "array",
         "tickvals": [
          0,
          100,
          200,
          300,
          400,
          500,
          600,
          700,
          800,
          900,
          1000,
          1100,
          1200,
          1300,
          1400,
          1500,
          1600,
          1700,
          1800,
          1900,
          2000,
          2100,
          2200,
          2300,
          2400,
          2500,
          2600,
          2700,
          2800,
          2900,
          3000,
          3100,
          3200,
          3300,
          3400,
          3500,
          3600
         ],
         "title": {
          "text": "Heat amount difference between rings (GHz)"
         }
        },
        "yaxis": {
         "anchor": "x",
         "domain": [
          0,
          1
         ],
         "title": {
          "text": "Count"
         }
        }
       }
      }
     },
     "metadata": {},
     "output_type": "display_data"
    }
   ],
   "source": [
    "# Now plot the results of the Monte Carlo runs\n",
    "import plotly.express as px\n",
    "\n",
    "# Plot MRM\n",
    "# Heat and cool amount\n",
    "fig = px.histogram(np.array(trial_results_mrm[range(NUM_OF_LASERS)]).reshape(-1))  # turn into a vector to wash out the ring number\n",
    "fig.update_traces(xbins_size = STEP_SIZE)\n",
    "fig.update_layout(xaxis_title=\"Heat (-) & Cool (+) amount (GHz)\", yaxis_title=\"Count\", title=\"MRM heating & cooling\", showlegend=False)\n",
    "tick_size = 100\n",
    "fig.update_layout(\n",
    "    xaxis = dict(\n",
    "        tickmode = 'array',\n",
    "        tickvals = list(range(-MRM_FSR, MRM_FSR+tick_size, tick_size))\n",
    "    )\n",
    ")\n",
    "fig.show()\n",
    "fig.write_image(f\"mrm_heating_{MRM_FREQ_UNCERTAINTY}GHz.png\", height=450, width=1089)\n",
    "\n",
    "# Plot the maximum differences\n",
    "fig = px.histogram(trial_results_mrm, x=\"max_diff\")  # turn into a vector to wash out the ring number\n",
    "fig.update_traces(xbins_size = STEP_SIZE)\n",
    "fig.update_layout(xaxis_title=\"Heat amount difference between rings (GHz)\", yaxis_title=\"Count\", title=\"MRM max diff between rings\", showlegend=False)\n",
    "tick_size = 100\n",
    "fig.update_layout(\n",
    "    xaxis = dict(\n",
    "        tickmode = 'array',\n",
    "        tickvals = list(range(0, 2*MRM_FSR+tick_size, tick_size))\n",
    "    )\n",
    ")\n",
    "fig.show()\n",
    "fig.write_image(f\"mrm_diff_{MRM_FREQ_UNCERTAINTY}GHz.png\", height=450, width=1089)\n",
    "\n",
    "# Plot CRR\n",
    "# Heat and cool amount\n",
    "fig = px.histogram(np.array(trial_results_crr[range(NUM_OF_LASERS)]).reshape(-1))  # turn into a vector to wash out the ring number\n",
    "fig.update_traces(xbins_size = STEP_SIZE)\n",
    "fig.update_layout(xaxis_title=\"Heat (-) & Cool (+) amount (GHz)\", yaxis_title=\"Count\", title=\"CRR heating & cooling\", showlegend=False)\n",
    "tick_size = 100\n",
    "fig.update_layout(\n",
    "    xaxis = dict(\n",
    "        tickmode = 'array',\n",
    "        tickvals = list(range(-CRR_FSR, CRR_FSR+tick_size, tick_size))\n",
    "    )\n",
    ")\n",
    "fig.show()\n",
    "fig.write_image(f\"crr_heating_{CRR_FREQ_UNCERTAINTY}GHz.png\", height=450, width=1089)\n",
    "\n",
    "# Plot the maximum differences\n",
    "fig = px.histogram(trial_results_crr, x=\"max_diff\")  # turn into a vector to wash out the ring number\n",
    "fig.update_traces(xbins_size = STEP_SIZE)\n",
    "fig.update_layout(xaxis_title=\"Heat amount difference between rings (GHz)\", yaxis_title=\"Count\", title=\"CRR max diff between rings\", showlegend=False)\n",
    "tick_size = 100\n",
    "fig.update_layout(\n",
    "    xaxis = dict(\n",
    "        tickmode = 'array',\n",
    "        tickvals = list(range(0, 2*CRR_FSR+tick_size, tick_size))\n",
    "    )\n",
    ")\n",
    "fig.show()\n",
    "fig.write_image(f\"crr_diff_{CRR_FREQ_UNCERTAINTY}GHz.png\", height=450, width=1089)"
   ]
  },
  {
   "cell_type": "code",
   "execution_count": 6,
   "metadata": {},
   "outputs": [
    {
     "name": "stdout",
     "output_type": "stream",
     "text": [
      "All in barrel-roll sequence?  True\n",
      "All locked within the heating limit? False\n"
     ]
    },
    {
     "data": {
      "text/markdown": [
       "# MRM results"
      ],
      "text/plain": [
       "<IPython.core.display.Markdown object>"
      ]
     },
     "metadata": {},
     "output_type": "display_data"
    },
    {
     "data": {
      "text/markdown": [
       "|    | laser_sequence           | barrel_roll   |   max_cool |   max_heat |   max_diff |    0 |    1 |    2 |     3 |    4 |    5 |    6 |    7 |   cycling_trial | successful_lock   |\n",
       "|---:|:-------------------------|:--------------|-----------:|-----------:|-----------:|-----:|-----:|-----:|------:|-----:|-----:|-----:|-----:|----------------:|:------------------|\n",
       "|  0 | [6, 2, 7, 3, 4, 0, 5, 1] | True          |        260 |          0 |        260 |  130 |  260 |  180 |   150 |  210 |  140 |   50 |   10 |               0 | True              |\n",
       "|  1 | [1, 6, 2, 7, 3, 4, 0, 5] | True          |          0 |       -610 |        610 | -110 | -290 | -220 |  -320 | -100 | -390 | -330 | -610 |               1 | True              |\n",
       "|  2 | [2, 7, 3, 4, 0, 5, 1, 6] | True          |        160 |       -410 |        570 |  160 |  130 | -130 |   -70 | -120 | -410 | -150 | -110 |               0 | True              |\n",
       "|  3 | [0, 5, 1, 6, 2, 7, 3, 4] | True          |         20 |       -320 |        340 | -150 | -150 |  -30 |    20 | -110 | -130 | -260 | -320 |               0 | True              |\n",
       "|  4 | [0, 5, 1, 6, 2, 7, 3, 4] | True          |          0 |       -760 |        760 | -360 | -530 | -590 |  -540 | -500 | -570 | -330 | -760 |               2 | True              |\n",
       "|  5 | [5, 1, 6, 2, 7, 3, 4, 0] | True          |        230 |       -230 |        460 |  210 |  -20 | -140 |  -120 |  -90 |  230 | -140 | -230 |               0 | True              |\n",
       "|  6 | [1, 6, 2, 7, 3, 4, 0, 5] | True          |        150 |       -210 |        360 |  -60 |   40 |  150 |   120 |  -50 | -200 |  130 | -210 |               1 | True              |\n",
       "|  7 | [7, 3, 4, 0, 5, 1, 6, 2] | True          |          0 |       -480 |        480 |  -10 |  -90 | -210 |  -480 | -370 | -290 | -130 | -200 |               0 | True              |\n",
       "|  8 | [2, 7, 3, 4, 0, 5, 1, 6] | True          |          0 |       -720 |        720 | -540 | -210 | -490 |  -440 | -590 | -720 | -580 | -540 |               5 | True              |\n",
       "|  9 | [4, 0, 5, 1, 6, 2, 7, 3] | True          |         70 |       -280 |        350 |  -40 |  -60 |  -10 |  -260 | -280 |  -40 |   70 |  -90 |               0 | True              |\n",
       "| 10 | [5, 1, 6, 2, 7, 3, 4, 0] | True          |        220 |        -50 |        270 |  120 |   70 |  -20 |   -50 |  220 |   40 |   20 |  -40 |               0 | True              |\n",
       "| 11 | [6, 2, 7, 3, 4, 0, 5, 1] | True          |        240 |        -80 |        320 |  140 |  210 |  240 |   210 |  -80 |   30 |  160 |   40 |               0 | True              |\n",
       "| 12 | [1, 6, 2, 7, 3, 4, 0, 5] | True          |          0 |       -770 |        770 | -570 | -630 | -340 |  -590 | -400 | -770 | -550 | -580 |               7 | True              |\n",
       "| 13 | [3, 4, 0, 5, 1, 6, 2, 7] | True          |        120 |       -240 |        360 |  120 | -180 | -150 |  -220 | -100 | -240 | -220 |  -40 |               0 | True              |\n",
       "| 14 | [6, 2, 7, 3, 4, 0, 5, 1] | True          |        180 |       -240 |        420 |  180 | -220 |  180 |   -60 | -190 | -240 |  -30 | -180 |               0 | True              |\n",
       "| 15 | [0, 5, 1, 6, 2, 7, 3, 4] | True          |        350 |       -200 |        550 |   10 |  -10 |  -40 |   180 |  350 |   10 |  210 | -200 |               0 | True              |\n",
       "| 16 | [7, 3, 4, 0, 5, 1, 6, 2] | True          |         90 |       -140 |        230 |   70 |   90 | -140 |    20 | -140 |   50 |  -60 |  -30 |               0 | True              |\n",
       "| 17 | [3, 4, 0, 5, 1, 6, 2, 7] | True          |        160 |       -200 |        360 |  160 |  -40 | -200 |  -180 |   60 |  100 |  110 |   10 |               0 | True              |\n",
       "| 18 | [0, 5, 1, 6, 2, 7, 3, 4] | True          |        400 |          0 |        400 |  220 |  400 |   50 |   210 |   70 |   80 |   10 |   40 |               0 | True              |\n",
       "| 19 | [7, 3, 4, 0, 5, 1, 6, 2] | True          |         30 |       -400 |        430 | -130 |  -90 |   20 |  -400 |   30 |   -0 | -240 |   10 |               1 | True              |\n",
       "| 20 | [5, 1, 6, 2, 7, 3, 4, 0] | True          |        380 |       -150 |        530 |  160 |  380 |  250 |   350 |   -0 |   30 |   60 | -150 |               0 | True              |\n",
       "| 21 | [1, 6, 2, 7, 3, 4, 0, 5] | True          |        300 |       -210 |        510 |   60 |  300 |   30 |    80 |  140 |  -50 |   10 | -210 |               0 | True              |\n",
       "| 22 | [5, 1, 6, 2, 7, 3, 4, 0] | True          |        200 |       -270 |        470 |  200 |   90 | -120 |  -130 |  140 |  -70 | -270 |   -0 |              17 | True              |\n",
       "| 23 | [5, 1, 6, 2, 7, 3, 4, 0] | True          |         90 |       -340 |        430 |   90 |   40 | -240 |  -150 | -120 |  -20 | -290 | -340 |               0 | True              |\n",
       "| 24 | [1, 6, 2, 7, 3, 4, 0, 5] | True          |          0 |       -430 |        430 | -190 |  -10 |  -50 |  -100 | -330 | -250 | -430 | -400 |               3 | True              |\n",
       "| 25 | [2, 7, 3, 4, 0, 5, 1, 6] | True          |          0 |       -360 |        360 | -280 | -360 | -140 |  -210 | -350 | -300 | -240 | -340 |               3 | True              |\n",
       "| 26 | [0, 5, 1, 6, 2, 7, 3, 4] | True          |        400 |          0 |        400 |  180 |  280 |  330 |   270 |  240 |  290 |  400 |  110 |               0 | True              |\n",
       "| 27 | [6, 2, 7, 3, 4, 0, 5, 1] | True          |        150 |       -200 |        350 |   20 |   40 |  110 |   150 |  -30 | -200 |  -70 |   90 |               1 | True              |\n",
       "| 28 | [5, 1, 6, 2, 7, 3, 4, 0] | True          |        280 |       -220 |        500 |  280 |  230 |  -50 |   250 |  260 |  210 | -220 |  -80 |              16 | True              |\n",
       "| 29 | [0, 5, 1, 6, 2, 7, 3, 4] | True          |          0 |       -660 |        660 | -310 | -520 | -570 |  -510 | -540 | -480 | -290 | -660 |               1 | True              |\n",
       "| 30 | [3, 4, 0, 5, 1, 6, 2, 7] | True          |        180 |        -90 |        270 |   70 |  130 |  180 |   -70 |  130 |   60 |  -90 |  140 |               0 | True              |\n",
       "| 31 | [2, 7, 3, 4, 0, 5, 1, 6] | True          |        170 |       -310 |        480 |   60 |  170 | -130 |  -130 | -230 | -180 |  -60 | -310 |               0 | True              |\n",
       "| 32 | [1, 6, 2, 7, 3, 4, 0, 5] | True          |          0 |       -760 |        760 | -470 | -550 | -200 |  -340 | -250 | -690 | -760 | -710 |               5 | True              |\n",
       "| 33 | [4, 0, 5, 1, 6, 2, 7, 3] | True          |         80 |       -300 |        380 | -120 | -100 | -220 |   -60 |  -90 |  -60 | -300 |   80 |               0 | True              |\n",
       "| 34 | [2, 7, 3, 4, 0, 5, 1, 6] | True          |        150 |       -350 |        500 |  150 |   30 |  -70 |  -350 | -290 |  -30 | -270 | -320 |               0 | True              |\n",
       "| 35 | [2, 7, 3, 4, 0, 5, 1, 6] | True          |        170 |       -420 |        590 |  170 |  140 |  -50 |  -240 | -420 | -330 | -420 | -300 |               0 | True              |\n",
       "| 36 | [5, 1, 6, 2, 7, 3, 4, 0] | True          |         70 |       -500 |        570 |   70 | -280 |   40 |  -240 | -120 |   20 | -170 | -500 |               0 | True              |\n",
       "| 37 | [0, 5, 1, 6, 2, 7, 3, 4] | True          |        350 |      -1370 |       1720 |  140 |  350 |   60 | -1370 |  130 |  230 |  340 |  220 |              17 | False             |\n",
       "| 38 | [2, 7, 3, 4, 0, 5, 1, 6] | True          |        350 |       -140 |        490 |   10 |  -90 |  350 |  -140 |  -70 |  -30 | -130 |   60 |               1 | True              |\n",
       "| 39 | [4, 0, 5, 1, 6, 2, 7, 3] | True          |          0 |       -410 |        410 | -160 | -200 |  -90 |  -410 | -180 |  -50 | -290 | -220 |               0 | True              |\n",
       "| 40 | [5, 1, 6, 2, 7, 3, 4, 0] | True          |        250 |       -380 |        630 |  150 |   50 |  -50 |   250 |   30 |  100 | -380 |   20 |               0 | True              |\n",
       "| 41 | [7, 3, 4, 0, 5, 1, 6, 2] | True          |        180 |       -310 |        490 |  180 |  -70 | -310 |  -210 |  -50 | -300 |  -70 | -300 |               0 | True              |\n",
       "| 42 | [7, 3, 4, 0, 5, 1, 6, 2] | True          |        220 |       -160 |        380 |  210 |  220 | -130 |   -90 |  -30 |  -60 | -160 | -100 |               0 | True              |\n",
       "| 43 | [5, 1, 6, 2, 7, 3, 4, 0] | True          |          0 |       -710 |        710 | -670 | -560 | -490 |  -660 | -390 | -470 | -560 | -710 |               8 | True              |\n",
       "| 44 | [4, 0, 5, 1, 6, 2, 7, 3] | True          |          0 |       -550 |        550 | -500 | -480 | -550 |  -230 | -510 | -180 | -490 | -490 |               4 | True              |\n",
       "| 45 | [5, 1, 6, 2, 7, 3, 4, 0] | True          |          0 |       -620 |        620 | -160 | -380 | -530 |  -230 | -170 | -350 | -620 | -500 |               2 | True              |\n",
       "| 46 | [2, 7, 3, 4, 0, 5, 1, 6] | True          |          0 |       -770 |        770 | -380 | -550 | -440 |  -770 | -610 | -330 | -580 | -510 |               4 | True              |\n",
       "| 47 | [0, 5, 1, 6, 2, 7, 3, 4] | True          |        100 |       -270 |        370 |  -30 | -250 |   80 |   -50 |  100 |  -90 | -110 | -270 |               0 | True              |\n",
       "| 48 | [2, 7, 3, 4, 0, 5, 1, 6] | True          |        110 |       -360 |        470 |  110 |  -40 |   -0 |  -360 | -310 |  -60 | -330 | -300 |               0 | True              |\n",
       "| 49 | [1, 6, 2, 7, 3, 4, 0, 5] | True          |        270 |       -180 |        450 |   50 |  -80 |   60 |   270 |  270 |   30 |  160 | -180 |               0 | True              |\n",
       "| 50 | [6, 2, 7, 3, 4, 0, 5, 1] | True          |        140 |        -60 |        200 |  -40 |  -50 |  140 |   110 |   60 |  -60 |  -40 |  120 |               0 | True              |\n",
       "| 51 | [2, 7, 3, 4, 0, 5, 1, 6] | True          |         80 |       -360 |        440 |   80 |   10 |   40 |   -70 | -360 | -340 | -190 | -320 |               0 | True              |\n",
       "| 52 | [2, 7, 3, 4, 0, 5, 1, 6] | True          |          0 |       -580 |        580 |  -50 | -100 | -440 |  -430 | -500 | -580 | -280 | -530 |               1 | True              |\n",
       "| 53 | [0, 5, 1, 6, 2, 7, 3, 4] | True          |          0 |       -700 |        700 | -210 | -250 | -170 |  -520 | -550 | -450 | -330 | -700 |               0 | True              |\n",
       "| 54 | [2, 7, 3, 4, 0, 5, 1, 6] | True          |         20 |       -360 |        380 |   20 |  -90 | -100 |   -20 | -360 | -280 | -260 | -240 |               0 | True              |\n",
       "| 55 | [4, 0, 5, 1, 6, 2, 7, 3] | True          |         30 |       -280 |        310 |  -70 |   30 | -270 |  -170 | -130 | -110 | -240 | -280 |               0 | True              |\n",
       "| 56 | [4, 0, 5, 1, 6, 2, 7, 3] | True          |          0 |       -440 |        440 | -140 | -290 | -440 |  -100 | -130 | -240 | -140 | -320 |               0 | True              |\n",
       "| 57 | [3, 4, 0, 5, 1, 6, 2, 7] | True          |        270 |        -20 |        290 |  140 |  200 |   80 |   190 |  270 |   90 |  -10 |  -20 |               0 | True              |\n",
       "| 58 | [7, 3, 4, 0, 5, 1, 6, 2] | True          |         80 |       -330 |        410 |   50 |   80 | -220 |  -320 | -240 |   40 | -270 | -330 |               0 | True              |\n",
       "| 59 | [5, 1, 6, 2, 7, 3, 4, 0] | True          |        340 |        -40 |        380 |   40 |  130 |  340 |   210 |  260 |   -0 |   70 |  -40 |               0 | True              |\n",
       "| 60 | [3, 4, 0, 5, 1, 6, 2, 7] | True          |        210 |       -330 |        540 |  210 |  -30 |   70 |  -190 |   -0 | -120 | -310 | -330 |               0 | True              |\n",
       "| 61 | [4, 0, 5, 1, 6, 2, 7, 3] | True          |        190 |        -90 |        280 |  140 |  100 |   30 |   190 |  130 |  -70 |   50 |  -90 |              15 | True              |\n",
       "| 62 | [3, 4, 0, 5, 1, 6, 2, 7] | True          |        280 |        -70 |        350 |  130 |  120 |  200 |   160 |   70 |  280 |  100 |  -70 |               0 | True              |\n",
       "| 63 | [5, 1, 6, 2, 7, 3, 4, 0] | True          |        320 |       -200 |        520 |   90 |  240 |  180 |   180 |  320 |  300 |  -70 | -200 |               0 | True              |\n",
       "| 64 | [6, 2, 7, 3, 4, 0, 5, 1] | True          |        250 |       -120 |        370 |  -10 |  250 |   50 |   200 | -120 |   50 |   -0 |   30 |               1 | True              |\n",
       "| 65 | [5, 1, 6, 2, 7, 3, 4, 0] | True          |        190 |       -300 |        490 |   30 |  -40 | -100 |   190 | -150 |   50 |  -40 | -300 |               0 | True              |\n",
       "| 66 | [4, 0, 5, 1, 6, 2, 7, 3] | True          |        140 |       -170 |        310 |  -90 |  120 | -170 |  -100 | -170 |  140 |   60 |   20 |               0 | True              |\n",
       "| 67 | [5, 1, 6, 2, 7, 3, 4, 0] | True          |          0 |       -770 |        770 | -600 | -470 | -270 |  -390 | -380 | -440 | -700 | -770 |               7 | True              |\n",
       "| 68 | [4, 0, 5, 1, 6, 2, 7, 3] | True          |          0 |       -560 |        560 | -450 | -200 | -300 |  -560 | -250 | -540 | -510 | -470 |               2 | True              |\n",
       "| 69 | [3, 4, 0, 5, 1, 6, 2, 7] | True          |        110 |       -100 |        210 |   90 | -100 |   60 |   -50 |  -80 |  -20 |  -40 |  110 |               0 | True              |\n",
       "| 70 | [6, 2, 7, 3, 4, 0, 5, 1] | True          |        240 |       -240 |        480 |   60 |  240 |  220 |   -60 |  -70 | -240 |  -10 | -170 |               1 | True              |\n",
       "| 71 | [0, 5, 1, 6, 2, 7, 3, 4] | True          |        110 |       -300 |        410 |  -60 | -180 | -120 |  -120 |  110 | -100 |   -0 | -300 |               0 | True              |\n",
       "| 72 | [4, 0, 5, 1, 6, 2, 7, 3] | True          |        160 |       -210 |        370 | -210 | -130 | -140 |    50 |   -0 |  160 |  -10 |  -70 |               0 | True              |\n",
       "| 73 | [4, 0, 5, 1, 6, 2, 7, 3] | True          |        270 |       -130 |        400 |  -40 |   -0 |  -80 |   270 | -130 |  250 |   20 |   70 |               0 | True              |\n",
       "| 74 | [1, 6, 2, 7, 3, 4, 0, 5] | True          |        290 |        -70 |        360 |  290 |  -30 |  160 |   110 |  110 |  130 |  -70 |   30 |              16 | True              |\n",
       "| 75 | [0, 5, 1, 6, 2, 7, 3, 4] | True          |         20 |       -150 |        170 |  -80 |  -10 |  -80 |   -30 | -110 |  -20 | -150 |   20 |               0 | True              |\n",
       "| 76 | [2, 7, 3, 4, 0, 5, 1, 6] | True          |        190 |       -190 |        380 |  130 |   50 |   50 |  -190 |  130 |  -20 |  -80 |  190 |               0 | True              |\n",
       "| 77 | [0, 5, 1, 6, 2, 7, 3, 4] | True          |        230 |       -150 |        380 | -100 |   50 |  130 |   170 |   30 | -150 |  230 |   -0 |               0 | True              |\n",
       "| 78 | [4, 0, 5, 1, 6, 2, 7, 3] | True          |          0 |       -430 |        430 | -120 | -130 | -290 |  -320 | -180 | -430 | -430 | -130 |               0 | True              |\n",
       "| 79 | [1, 6, 2, 7, 3, 4, 0, 5] | True          |          0 |       -520 |        520 | -350 | -460 | -260 |  -220 | -380 | -460 | -340 | -520 |               5 | True              |\n",
       "| 80 | [0, 5, 1, 6, 2, 7, 3, 4] | True          |        150 |       -100 |        250 |  150 |   20 |   90 |    40 |   -0 |   90 |  -80 | -100 |               0 | True              |\n",
       "| 81 | [6, 2, 7, 3, 4, 0, 5, 1] | True          |          0 |       -650 |        650 | -450 | -340 | -340 |  -330 | -440 | -650 | -370 | -460 |               5 | True              |\n",
       "| 82 | [0, 5, 1, 6, 2, 7, 3, 4] | True          |        280 |        -90 |        370 |  -20 |   -0 |  100 |   -90 |  280 |   80 |  180 |  -90 |               0 | True              |\n",
       "| 83 | [0, 5, 1, 6, 2, 7, 3, 4] | True          |        140 |       -190 |        330 |  -50 |   90 |   90 |    50 |   80 | -100 |  140 | -190 |               0 | True              |\n",
       "| 84 | [5, 1, 6, 2, 7, 3, 4, 0] | True          |        230 |       -310 |        540 |  230 |  180 |   40 |   -90 |   60 |  210 | -310 | -160 |               0 | True              |\n",
       "| 85 | [4, 0, 5, 1, 6, 2, 7, 3] | True          |         -0 |       -300 |        300 |   -0 | -210 |  -10 |  -300 | -260 |  -40 | -270 |  -80 |              16 | True              |\n",
       "| 86 | [6, 2, 7, 3, 4, 0, 5, 1] | True          |        160 |       -180 |        340 |   80 |  160 |  -30 |   -50 |  -40 |   80 | -180 |  160 |               0 | True              |\n",
       "| 87 | [5, 1, 6, 2, 7, 3, 4, 0] | True          |        370 |        -30 |        400 |   -0 |  100 |  280 |    -0 |  140 |  370 |  -30 |  150 |               0 | True              |\n",
       "| 88 | [2, 7, 3, 4, 0, 5, 1, 6] | True          |        310 |        -80 |        390 |  160 |  190 |  180 |   190 |  -80 |   30 |   20 |  310 |               0 | True              |\n",
       "| 89 | [0, 5, 1, 6, 2, 7, 3, 4] | True          |        370 |        -60 |        430 |  -10 |  370 |   50 |   110 |  320 |  240 |   20 |  -60 |               0 | True              |\n",
       "| 90 | [7, 3, 4, 0, 5, 1, 6, 2] | True          |         10 |       -630 |        640 |   10 | -330 | -420 |  -630 | -380 | -550 | -250 | -250 |               0 | True              |\n",
       "| 91 | [2, 7, 3, 4, 0, 5, 1, 6] | True          |        330 |        -20 |        350 |  190 |  330 |  220 |   -20 |  140 |   30 |   90 |   20 |               0 | True              |\n",
       "| 92 | [1, 6, 2, 7, 3, 4, 0, 5] | True          |        340 |       -150 |        490 |  130 |  280 |  310 |   340 |   50 |  210 | -120 | -150 |               0 | True              |\n",
       "| 93 | [5, 1, 6, 2, 7, 3, 4, 0] | True          |          0 |       -400 |        400 |  -90 |  -60 |  -60 |  -290 | -260 |  -80 | -400 | -350 |               1 | True              |\n",
       "| 94 | [0, 5, 1, 6, 2, 7, 3, 4] | True          |        190 |       -230 |        420 |  190 |  160 | -170 |    20 |  120 | -190 | -230 |  -50 |               0 | True              |\n",
       "| 95 | [0, 5, 1, 6, 2, 7, 3, 4] | True          |        170 |       -200 |        370 |  170 |   40 | -120 |   120 |   10 |   40 |   40 | -200 |               0 | True              |\n",
       "| 96 | [5, 1, 6, 2, 7, 3, 4, 0] | True          |        170 |       -320 |        490 |  170 |  -70 |  -70 |    60 |  -90 | -130 |  -20 | -320 |               0 | True              |\n",
       "| 97 | [6, 2, 7, 3, 4, 0, 5, 1] | True          |        270 |       -170 |        440 |  240 |  -50 |  220 |   270 |  -30 |   80 |  -20 | -170 |              17 | True              |\n",
       "| 98 | [1, 6, 2, 7, 3, 4, 0, 5] | True          |          0 |       -660 |        660 | -350 | -560 | -620 |  -450 | -550 | -660 | -620 | -520 |               4 | True              |\n",
       "| 99 | [0, 5, 1, 6, 2, 7, 3, 4] | True          |        180 |       -320 |        500 | -120 |  180 | -210 |  -130 |   10 |  -90 |  100 | -320 |               0 | True              |"
      ],
      "text/plain": [
       "<IPython.core.display.Markdown object>"
      ]
     },
     "metadata": {},
     "output_type": "display_data"
    },
    {
     "data": {
      "text/markdown": [
       "# CRR results"
      ],
      "text/plain": [
       "<IPython.core.display.Markdown object>"
      ]
     },
     "metadata": {},
     "output_type": "display_data"
    },
    {
     "data": {
      "text/markdown": [
       "|    | laser_sequence           | mrm_crr_equivalent   |   max_cool |   max_heat |   max_diff |     0 |     1 |     2 |     3 |     4 |     5 |     6 |     7 |\n",
       "|---:|:-------------------------|:---------------------|-----------:|-----------:|-----------:|------:|------:|------:|------:|------:|------:|------:|------:|\n",
       "|  0 | [6, 2, 7, 3, 4, 0, 5, 1] | True                 |          0 |       -530 |        530 |  -300 |  -300 |  -350 |  -290 |  -530 |  -530 |  -360 |  -520 |\n",
       "|  1 | [1, 6, 2, 7, 3, 4, 0, 5] | True                 |        370 |          0 |        370 |   270 |   370 |   210 |   260 |   280 |   100 |    50 |    30 |\n",
       "|  2 | [2, 7, 3, 4, 0, 5, 1, 6] | True                 |          0 |      -1150 |       1150 |  -740 |  -770 |  -820 | -1110 | -1150 | -1020 |  -980 | -1000 |\n",
       "|  3 | [0, 5, 1, 6, 2, 7, 3, 4] | True                 |         20 |       -300 |        320 |  -120 |    20 |   -50 |   -50 |   -40 |  -120 |   -80 |  -300 |\n",
       "|  4 | [0, 5, 1, 6, 2, 7, 3, 4] | True                 |        240 |        -10 |        250 |    40 |   240 |   120 |    90 |    70 |    60 |    40 |   -10 |\n",
       "|  5 | [5, 1, 6, 2, 7, 3, 4, 0] | True                 |          0 |      -1160 |       1160 |  -890 |  -820 |  -920 |  -860 |  -750 |  -920 | -1160 | -1160 |\n",
       "|  6 | [1, 6, 2, 7, 3, 4, 0, 5] | True                 |        290 |       -100 |        390 |   220 |   260 |   240 |   290 |   140 |  -100 |   110 |    30 |\n",
       "|  7 | [7, 3, 4, 0, 5, 1, 6, 2] | True                 |        320 |        -10 |        330 |   320 |   310 |   110 |    40 |   -10 |    30 |    10 |   190 |\n",
       "|  8 | [2, 7, 3, 4, 0, 5, 1, 6] | True                 |        280 |        -90 |        370 |   280 |   120 |   160 |   -90 |    40 |   -30 |   -10 |   -10 |\n",
       "|  9 | [4, 0, 5, 1, 6, 2, 7, 3] | True                 |          0 |       -710 |        710 |  -610 |  -620 |  -640 |  -550 |  -710 |  -680 |  -580 |  -650 |\n",
       "| 10 | [5, 1, 6, 2, 7, 3, 4, 0] | True                 |          0 |       -790 |        790 |  -650 |  -510 |  -520 |  -560 |  -410 |  -380 |  -790 |  -670 |\n",
       "| 11 | [6, 2, 7, 3, 4, 0, 5, 1] | True                 |          0 |       -940 |        940 |  -600 |  -730 |  -600 |  -690 |  -910 |  -850 |  -940 |  -880 |\n",
       "| 12 | [1, 6, 2, 7, 3, 4, 0, 5] | True                 |        270 |        -10 |        280 |   250 |   260 |   170 |   210 |   270 |   160 |   100 |   -10 |\n",
       "| 13 | [3, 4, 0, 5, 1, 6, 2, 7] | True                 |        320 |          0 |        320 |   320 |   180 |   230 |   250 |   250 |    80 |   320 |   160 |\n",
       "| 14 | [6, 2, 7, 3, 4, 0, 5, 1] | True                 |          0 |       -690 |        690 |  -320 |  -430 |  -430 |  -340 |  -690 |  -520 |  -450 |  -510 |\n",
       "| 15 | [0, 5, 1, 6, 2, 7, 3, 4] | True                 |          0 |      -1130 |       1130 | -1010 |  -890 | -1090 |  -910 |  -890 | -1070 |  -950 | -1130 |\n",
       "| 16 | [7, 3, 4, 0, 5, 1, 6, 2] | True                 |        280 |        -50 |        330 |   280 |   190 |    50 |   -20 |   -40 |   -50 |    -0 |   -40 |\n",
       "| 17 | [3, 4, 0, 5, 1, 6, 2, 7] | True                 |        180 |       -120 |        300 |   180 |   -40 |  -120 |    10 |    30 |    20 |    70 |   110 |\n",
       "| 18 | [0, 5, 1, 6, 2, 7, 3, 4] | True                 |          0 |       -490 |        490 |  -230 |  -170 |  -130 |  -130 |  -200 |  -280 |  -160 |  -490 |\n",
       "| 19 | [7, 3, 4, 0, 5, 1, 6, 2] | True                 |          0 |       -750 |        750 |  -470 |  -520 |  -750 |  -730 |  -600 |  -720 |  -690 |  -590 |\n",
       "| 20 | [5, 1, 6, 2, 7, 3, 4, 0] | True                 |          0 |       -770 |        770 |  -620 |  -540 |  -490 |  -540 |  -570 |  -540 |  -770 |  -700 |\n",
       "| 21 | [1, 6, 2, 7, 3, 4, 0, 5] | True                 |          0 |       -870 |        870 |  -690 |  -500 |  -670 |  -500 |  -590 |  -870 |  -790 |  -710 |\n",
       "| 22 | [5, 1, 6, 2, 7, 3, 4, 0] | True                 |          0 |      -1170 |       1170 |  -910 |  -920 |  -830 |  -940 | -1030 | -1080 | -1170 | -1040 |\n",
       "| 23 | [5, 1, 6, 2, 7, 3, 4, 0] | True                 |          0 |       -610 |        610 |  -310 |  -450 |  -430 |  -370 |  -330 |  -300 |  -580 |  -610 |\n",
       "| 24 | [1, 6, 2, 7, 3, 4, 0, 5] | True                 |        230 |        -60 |        290 |   150 |   180 |   200 |   100 |   230 |   -30 |    80 |   -60 |\n",
       "| 25 | [2, 7, 3, 4, 0, 5, 1, 6] | True                 |        260 |          0 |        260 |   260 |   200 |   240 |    20 |    80 |   150 |    30 |    50 |\n",
       "| 26 | [0, 5, 1, 6, 2, 7, 3, 4] | True                 |          0 |       -300 |        300 |   -90 |  -180 |  -140 |  -170 |  -230 |  -260 |  -250 |  -300 |\n",
       "| 27 | [6, 2, 7, 3, 4, 0, 5, 1] | True                 |        170 |       -140 |        310 |   170 |    10 |    10 |    30 |  -140 |   -90 |  -140 |  -120 |\n",
       "| 28 | [5, 1, 6, 2, 7, 3, 4, 0] | True                 |          0 |      -1170 |       1170 |  -740 |  -940 |  -840 |  -770 |  -870 |  -830 | -1000 | -1170 |\n",
       "| 29 | [0, 5, 1, 6, 2, 7, 3, 4] | True                 |        310 |        -80 |        390 |   150 |   160 |   160 |   220 |   180 |   160 |   310 |   -80 |\n",
       "| 30 | [3, 4, 0, 5, 1, 6, 2, 7] | True                 |          0 |      -1180 |       1180 |  -870 | -1180 | -1150 | -1100 | -1050 | -1120 | -1070 | -1140 |\n",
       "| 31 | [2, 7, 3, 4, 0, 5, 1, 6] | True                 |          0 |      -1100 |       1100 |  -770 |  -890 |  -890 | -1100 |  -980 |  -910 |  -990 | -1000 |\n",
       "| 32 | [1, 6, 2, 7, 3, 4, 0, 5] | True                 |        240 |       -120 |        360 |   160 |    40 |   130 |    20 |   240 |  -100 |  -120 |   -30 |\n",
       "| 33 | [4, 0, 5, 1, 6, 2, 7, 3] | True                 |          0 |       -810 |        810 |  -810 |  -600 |  -750 |  -640 |  -660 |  -720 |  -630 |  -740 |\n",
       "| 34 | [2, 7, 3, 4, 0, 5, 1, 6] | True                 |        130 |       -140 |        270 |   130 |   120 |    20 |   -80 |  -140 |   -60 |   -50 |   -40 |\n",
       "| 35 | [2, 7, 3, 4, 0, 5, 1, 6] | True                 |          0 |       -500 |        500 |  -150 |  -140 |  -310 |  -360 |  -500 |  -440 |  -430 |  -430 |\n",
       "| 36 | [5, 1, 6, 2, 7, 3, 4, 0] | True                 |          0 |       -910 |        910 |  -560 |  -630 |  -700 |  -700 |  -670 |  -580 |  -910 |  -850 |\n",
       "| 37 | [0, 5, 1, 6, 2, 7, 3, 4] | True                 |          0 |       -970 |        970 |  -960 |  -850 |  -950 |  -900 |  -780 |  -970 |  -820 |  -960 |\n",
       "| 38 | [2, 7, 3, 4, 0, 5, 1, 6] | True                 |         20 |       -280 |        300 |    20 |  -190 |  -130 |  -230 |  -260 |  -260 |  -270 |  -280 |\n",
       "| 39 | [4, 0, 5, 1, 6, 2, 7, 3] | True                 |          0 |       -430 |        430 |  -230 |  -370 |  -200 |  -400 |  -430 |  -210 |  -430 |  -370 |\n",
       "| 40 | [5, 1, 6, 2, 7, 3, 4, 0] | True                 |          0 |       -580 |        580 |  -360 |  -210 |  -330 |  -210 |  -200 |  -380 |  -580 |  -560 |\n",
       "| 41 | [7, 3, 4, 0, 5, 1, 6, 2] | True                 |         90 |       -290 |        380 |    90 |    60 |  -240 |  -250 |  -240 |  -140 |  -270 |  -290 |\n",
       "| 42 | [7, 3, 4, 0, 5, 1, 6, 2] | True                 |        240 |        -10 |        250 |   230 |   240 |   130 |    70 |   -10 |    10 |   130 |   120 |\n",
       "| 43 | [5, 1, 6, 2, 7, 3, 4, 0] | True                 |        220 |       -190 |        410 |   160 |    60 |   220 |   160 |    70 |   170 |  -190 |  -170 |\n",
       "| 44 | [4, 0, 5, 1, 6, 2, 7, 3] | True                 |        250 |          0 |        250 |   120 |   170 |   150 |   190 |   180 |   130 |   110 |   250 |\n",
       "| 45 | [5, 1, 6, 2, 7, 3, 4, 0] | True                 |        270 |        -70 |        340 |   170 |   220 |   240 |   220 |   270 |   200 |   -70 |    10 |\n",
       "| 46 | [2, 7, 3, 4, 0, 5, 1, 6] | True                 |        390 |          0 |        390 |   310 |   290 |   390 |   130 |   130 |   180 |   130 |   140 |\n",
       "| 47 | [0, 5, 1, 6, 2, 7, 3, 4] | True                 |          0 |       -360 |        360 |  -210 |  -230 |  -140 |  -150 |  -150 |  -200 |  -230 |  -360 |\n",
       "| 48 | [2, 7, 3, 4, 0, 5, 1, 6] | True                 |          0 |       -540 |        540 |  -190 |  -220 |  -200 |  -400 |  -420 |  -540 |  -350 |  -470 |\n",
       "| 49 | [1, 6, 2, 7, 3, 4, 0, 5] | True                 |          0 |       -650 |        650 |  -580 |  -620 |  -500 |  -600 |  -600 |  -650 |  -610 |  -620 |\n",
       "| 50 | [6, 2, 7, 3, 4, 0, 5, 1] | True                 |        230 |       -120 |        350 |    20 |   150 |   200 |   230 |   -10 |  -120 |   -30 |   -30 |\n",
       "| 51 | [2, 7, 3, 4, 0, 5, 1, 6] | True                 |          0 |       -740 |        740 |  -590 |  -600 |  -500 |  -710 |  -640 |  -740 |  -720 |  -650 |\n",
       "| 52 | [2, 7, 3, 4, 0, 5, 1, 6] | True                 |        260 |        -30 |        290 |   260 |   150 |   190 |   110 |   -30 |   -10 |    -0 |   -30 |\n",
       "| 53 | [0, 5, 1, 6, 2, 7, 3, 4] | True                 |        310 |         -0 |        310 |   160 |   240 |   250 |   310 |   270 |   190 |   190 |    -0 |\n",
       "| 54 | [2, 7, 3, 4, 0, 5, 1, 6] | True                 |          0 |       -450 |        450 |  -100 |  -210 |  -130 |  -260 |  -450 |  -350 |  -290 |  -360 |\n",
       "| 55 | [4, 0, 5, 1, 6, 2, 7, 3] | True                 |         80 |       -150 |        230 |   -50 |    80 |  -150 |    -0 |   -30 |   -80 |   -60 |  -130 |\n",
       "| 56 | [4, 0, 5, 1, 6, 2, 7, 3] | True                 |          0 |      -1010 |       1010 |  -920 |  -880 |  -780 |  -780 | -1010 |  -970 |  -830 |  -840 |\n",
       "| 57 | [3, 4, 0, 5, 1, 6, 2, 7] | True                 |          0 |       -990 |        990 |  -720 |  -850 |  -990 |  -910 |  -930 |  -940 |  -890 |  -920 |\n",
       "| 58 | [7, 3, 4, 0, 5, 1, 6, 2] | True                 |          0 |      -1120 |       1120 |  -800 |  -760 | -1000 | -1100 | -1020 | -1100 | -1120 |  -970 |\n",
       "| 59 | [5, 1, 6, 2, 7, 3, 4, 0] | True                 |          0 |      -1110 |       1110 |  -730 |  -780 |  -860 |  -800 |  -710 |  -950 |  -980 | -1110 |\n",
       "| 60 | [3, 4, 0, 5, 1, 6, 2, 7] | True                 |          0 |       -780 |        780 |  -330 |  -710 |  -630 |  -770 |  -730 |  -730 |  -780 |  -600 |\n",
       "| 61 | [4, 0, 5, 1, 6, 2, 7, 3] | True                 |          0 |       -970 |        970 |  -850 |  -780 |  -850 |  -970 |  -900 |  -860 |  -920 |  -780 |\n",
       "| 62 | [3, 4, 0, 5, 1, 6, 2, 7] | True                 |        170 |        -60 |        230 |   170 |   -20 |   -30 |   -10 |   -40 |   -60 |   -20 |    50 |\n",
       "| 63 | [5, 1, 6, 2, 7, 3, 4, 0] | True                 |        120 |       -240 |        360 |    50 |    50 |   120 |   -70 |   -10 |    30 |  -120 |  -240 |\n",
       "| 64 | [6, 2, 7, 3, 4, 0, 5, 1] | True                 |        350 |        -30 |        380 |   270 |   320 |   350 |   170 |   -30 |    70 |   -30 |    20 |\n",
       "| 65 | [5, 1, 6, 2, 7, 3, 4, 0] | True                 |        140 |       -230 |        370 |    20 |   140 |    20 |    70 |   110 |   -40 |  -160 |  -230 |\n",
       "| 66 | [4, 0, 5, 1, 6, 2, 7, 3] | True                 |         70 |       -100 |        170 |  -100 |   -10 |    70 |   -50 |  -100 |    -0 |   -90 |   -20 |\n",
       "| 67 | [5, 1, 6, 2, 7, 3, 4, 0] | True                 |        220 |       -230 |        450 |    50 |    90 |   220 |   160 |   180 |   160 |  -230 |   -30 |\n",
       "| 68 | [4, 0, 5, 1, 6, 2, 7, 3] | True                 |        130 |        -10 |        140 |    20 |    60 |    50 |   130 |   -10 |    30 |    90 |    90 |\n",
       "| 69 | [3, 4, 0, 5, 1, 6, 2, 7] | True                 |        160 |       -200 |        360 |   160 |  -180 |   -80 |  -200 |   -40 |  -180 |    10 |   -20 |\n",
       "| 70 | [6, 2, 7, 3, 4, 0, 5, 1] | True                 |          0 |       -740 |        740 |  -490 |  -380 |  -340 |  -350 |  -720 |  -660 |  -740 |  -720 |\n",
       "| 71 | [0, 5, 1, 6, 2, 7, 3, 4] | True                 |          0 |       -900 |        900 |  -790 |  -730 |  -820 |  -760 |  -790 |  -850 |  -900 |  -890 |\n",
       "| 72 | [4, 0, 5, 1, 6, 2, 7, 3] | True                 |        100 |        -60 |        160 |   -20 |    10 |    30 |    -0 |    -0 |   100 |    -0 |   -60 |\n",
       "| 73 | [4, 0, 5, 1, 6, 2, 7, 3] | True                 |          0 |       -190 |        190 |  -100 |   -60 |  -190 |   -90 |  -120 |   -60 |   -50 |   -60 |\n",
       "| 74 | [1, 6, 2, 7, 3, 4, 0, 5] | True                 |          0 |      -1120 |       1120 |  -690 |  -820 |  -850 |  -870 |  -740 | -1020 | -1120 |  -970 |\n",
       "| 75 | [0, 5, 1, 6, 2, 7, 3, 4] | True                 |          0 |       -390 |        390 |  -240 |  -320 |  -160 |  -260 |  -310 |  -260 |  -320 |  -390 |\n",
       "| 76 | [2, 7, 3, 4, 0, 5, 1, 6] | True                 |        200 |       -150 |        350 |   200 |   100 |   200 |    70 |    60 |   -20 |  -150 |    30 |\n",
       "| 77 | [0, 5, 1, 6, 2, 7, 3, 4] | True                 |          0 |       -730 |        730 |  -510 |  -460 |  -450 |  -600 |  -500 |  -500 |  -460 |  -730 |\n",
       "| 78 | [4, 0, 5, 1, 6, 2, 7, 3] | True                 |          0 |       -230 |        230 |  -210 |  -120 |  -160 |  -170 |  -230 |  -200 |  -230 |  -210 |\n",
       "| 79 | [1, 6, 2, 7, 3, 4, 0, 5] | True                 |        350 |        -10 |        360 |   350 |   350 |   280 |   120 |   250 |    -0 |   -10 |    70 |\n",
       "| 80 | [0, 5, 1, 6, 2, 7, 3, 4] | True                 |          0 |       -880 |        880 |  -580 |  -570 |  -640 |  -640 |  -650 |  -620 |  -680 |  -880 |\n",
       "| 81 | [6, 2, 7, 3, 4, 0, 5, 1] | True                 |        290 |        -80 |        370 |   220 |   290 |   280 |   260 |   -20 |   -20 |    60 |   -80 |\n",
       "| 82 | [0, 5, 1, 6, 2, 7, 3, 4] | True                 |          0 |       -860 |        860 |  -580 |  -690 |  -760 |  -750 |  -550 |  -680 |  -550 |  -860 |\n",
       "| 83 | [0, 5, 1, 6, 2, 7, 3, 4] | True                 |          0 |       -430 |        430 |  -190 |  -150 |  -120 |  -170 |  -140 |  -230 |  -160 |  -430 |\n",
       "| 84 | [5, 1, 6, 2, 7, 3, 4, 0] | True                 |        220 |        -40 |        260 |   170 |    90 |   150 |    80 |   220 |   200 |   -40 |    20 |\n",
       "| 85 | [4, 0, 5, 1, 6, 2, 7, 3] | True                 |          0 |      -1070 |       1070 |  -930 | -1040 |  -920 |  -880 | -1070 |  -990 |  -850 |  -820 |\n",
       "| 86 | [6, 2, 7, 3, 4, 0, 5, 1] | True                 |          0 |       -750 |        750 |  -410 |  -440 |  -390 |  -420 |  -530 |  -750 |  -650 |  -710 |\n",
       "| 87 | [5, 1, 6, 2, 7, 3, 4, 0] | True                 |         40 |       -240 |        280 |    40 |   -80 |   -80 |    30 |    20 |   -10 |  -140 |  -240 |\n",
       "| 88 | [2, 7, 3, 4, 0, 5, 1, 6] | True                 |          0 |       -440 |        440 |  -200 |  -120 |  -190 |  -440 |  -330 |  -360 |  -420 |  -400 |\n",
       "| 89 | [0, 5, 1, 6, 2, 7, 3, 4] | True                 |          0 |       -810 |        810 |  -660 |  -660 |  -570 |  -540 |  -490 |  -620 |  -540 |  -810 |\n",
       "| 90 | [7, 3, 4, 0, 5, 1, 6, 2] | True                 |          0 |       -600 |        600 |  -290 |  -270 |  -570 |  -510 |  -540 |  -600 |  -460 |  -480 |\n",
       "| 91 | [2, 7, 3, 4, 0, 5, 1, 6] | True                 |          0 |       -880 |        880 |  -480 |  -480 |  -530 |  -670 |  -840 |  -690 |  -880 |  -770 |\n",
       "| 92 | [1, 6, 2, 7, 3, 4, 0, 5] | True                 |          0 |       -240 |        240 |   -50 |  -190 |   -20 |   -40 |  -180 |  -240 |  -190 |  -210 |\n",
       "| 93 | [5, 1, 6, 2, 7, 3, 4, 0] | True                 |        250 |       -150 |        400 |    80 |   250 |   210 |   200 |   150 |   210 |  -150 |   -10 |\n",
       "| 94 | [0, 5, 1, 6, 2, 7, 3, 4] | True                 |        160 |       -180 |        340 |   160 |   100 |   110 |    70 |   -60 |    10 |   -80 |  -180 |\n",
       "| 95 | [0, 5, 1, 6, 2, 7, 3, 4] | True                 |          0 |       -850 |        850 |  -480 |  -650 |  -560 |  -480 |  -600 |  -510 |  -630 |  -850 |\n",
       "| 96 | [5, 1, 6, 2, 7, 3, 4, 0] | True                 |         60 |       -290 |        350 |   -50 |   -90 |    60 |   -80 |    -0 |   -90 |  -100 |  -290 |\n",
       "| 97 | [6, 2, 7, 3, 4, 0, 5, 1] | True                 |          0 |       -940 |        940 |  -590 |  -800 |  -770 |  -620 |  -940 |  -930 |  -870 |  -830 |\n",
       "| 98 | [1, 6, 2, 7, 3, 4, 0, 5] | True                 |        400 |          0 |        400 |   400 |   400 |   260 |   320 |   390 |   210 |   280 |    50 |\n",
       "| 99 | [0, 5, 1, 6, 2, 7, 3, 4] | True                 |        210 |          0 |        210 |    20 |   130 |   100 |   210 |    30 |   210 |    70 |    10 |"
      ],
      "text/plain": [
       "<IPython.core.display.Markdown object>"
      ]
     },
     "metadata": {},
     "output_type": "display_data"
    }
   ],
   "source": [
    "# check the results: barrel-roll and meeting our threshold requirements\n",
    "print(\"All in barrel-roll sequence? \", trial_results_mrm['barrel_roll'].all())\n",
    "print(\"All locked within the heating limit?\", trial_results_mrm['successful_lock'].all())\n",
    "\n",
    "# display all the trial results in a markdown table\n",
    "from IPython.display import display, Markdown\n",
    "display(Markdown(\"# MRM results\"))\n",
    "display(Markdown(trial_results_mrm.to_markdown()))\n",
    "\n",
    "display(Markdown(\"# CRR results\"))\n",
    "display(Markdown(trial_results_crr.to_markdown()))"
   ]
  }
 ],
 "metadata": {
  "kernelspec": {
   "display_name": "passage",
   "language": "python",
   "name": "python3"
  },
  "language_info": {
   "codemirror_mode": {
    "name": "ipython",
    "version": 3
   },
   "file_extension": ".py",
   "mimetype": "text/x-python",
   "name": "python",
   "nbconvert_exporter": "python",
   "pygments_lexer": "ipython3",
   "version": "3.11.7"
  }
 },
 "nbformat": 4,
 "nbformat_minor": 2
}
