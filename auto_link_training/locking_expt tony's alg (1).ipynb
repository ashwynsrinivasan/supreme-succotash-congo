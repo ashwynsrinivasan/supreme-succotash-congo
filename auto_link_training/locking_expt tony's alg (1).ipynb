{
 "cells": [
  {
   "cell_type": "code",
   "execution_count": 150,
   "metadata": {},
   "outputs": [],
   "source": [
    "import numpy as np\n",
    "from transitions import Machine\n",
    "\n",
    "STEP_SIZE = 10\n",
    "# Note: cooling is positive in GHz and heating is negative in GHz\n",
    "\n",
    "NUM_OF_LASERS = 8   # number of lasers and/or MRMs\n",
    "LASER_FREQ_SPACING = 400  # in GHz\n",
    "LASER_FREQ_UNCERTAINTY = 50  # ± this number in GHz\n",
    "\n",
    "MRM_FSR = 1800  # in GHz\n",
    "MRM_FREQ_SPACING = -200  # in GHz, negative freq is longer wavelength\n",
    "MRM_FREQ_UNCERTAINTY = 100  # in GHz\n",
    "INITIAL_COOLDOWN = 200 # in GHz -- should clear laser uncertainty and mrm uncertainty\n",
    "\n",
    "WHICH_RESONANCES = list(range(-10, 10, 1))  # will track the resonances -10*FSR over, ..., 0*FSR over, ... 9*FSR over\n",
    "BARREL_ROLL_SEQ = [0, 5, 1, 6, 2, 7, 3, 4]\n",
    "\n",
    "\n",
    "class Lasers(object):\n",
    "\n",
    "    def __init__(self,\n",
    "                 variations=False,\n",
    "                 corners=False,\n",
    "                 reverse=False,\n",
    "                 offset=0) -> None:\n",
    "        self._delta = None\n",
    "\n",
    "        # start by having all the laser lines 'bright'\n",
    "        # will be replaced by the MRM number that captures that laser\n",
    "        # Note: need to consider upstream vs. downstream\n",
    "        self._brightness = ['bright'] * NUM_OF_LASERS\n",
    "\n",
    "        # If reverse, the first laser line will have the highest frequency\n",
    "        self._reverse = reverse\n",
    "\n",
    "        # offset specifies the additive frequency offset from 0\n",
    "        self._offset = offset\n",
    "\n",
    "        self.populate_laser_lines(variations, corners)        \n",
    "\n",
    "    def populate_laser_lines(self, variations, corners):\n",
    "        # the first laser line is always at 0 GHz\n",
    "        laser_lines = np.arange(\n",
    "            NUM_OF_LASERS, dtype=int) * LASER_FREQ_SPACING\n",
    "\n",
    "        if self._reverse:\n",
    "            laser_lines = np.flip(laser_lines)\n",
    "        \n",
    "        laser_lines += self._offset    \n",
    "    \n",
    "        if variations:\n",
    "            if corners:  # only evaluate the corners\n",
    "                delta = np.random.randint(2, size=laser_lines.size)\n",
    "                delta = 2*delta - 1  # convert to [-1, +1] random numbers\n",
    "                delta *= LASER_FREQ_UNCERTAINTY\n",
    "            else:\n",
    "                delta = np.random.uniform(-1*LASER_FREQ_UNCERTAINTY,\n",
    "                                          LASER_FREQ_UNCERTAINTY,\n",
    "                                          laser_lines.size)\n",
    "            # round to the nearest STEP_SIZE\n",
    "            delta = np.round(delta/STEP_SIZE, decimals=0) * STEP_SIZE\n",
    "            delta = delta.astype(int)\n",
    "\n",
    "            self._delta = delta\n",
    "            laser_lines += delta\n",
    "\n",
    "        self._laser_lines = laser_lines\n",
    "\n",
    "    def capture_laser_line(self, which_laser, which_ring):\n",
    "        assert self._brightness[which_laser] == 'bright', \\\n",
    "            f\"Laser line {which_laser} (at {self._laser_lines[which_laser]} GHz) should be bright to be captured\"\n",
    "        # which_ring will modulate this laser\n",
    "        self._brightness[which_laser] = which_ring\n",
    "\n",
    "    @property\n",
    "    def laser_lines(self):\n",
    "        return self._laser_lines\n",
    "\n",
    "    @property\n",
    "    def brightness(self):\n",
    "        return self._brightness\n",
    "\n",
    "    def __str__(self) -> str:\n",
    "        return f\"Lines: {self.laser_lines}, Brightness: {self.brightness}\"\n",
    "    \n",
    "    def __repr__(self) -> str:\n",
    "        return self.__str__()\n",
    "\n",
    "\n",
    "class RingFSM(object):\n",
    "\n",
    "    states = ['idle', 'cold', 'search', 'lock']\n",
    "\n",
    "    def __init__(self,\n",
    "                 resonances,\n",
    "                 lasers,\n",
    "                 initial_loc=0,\n",
    "                 previous_ring=None,  # None if there's no previous ring, otherwise supply the ring idx\n",
    "                 cool_down_by=INITIAL_COOLDOWN,  # cool down by this amt in GHz\n",
    "                 step_size=STEP_SIZE,\n",
    "                 ) -> None:\n",
    "        self.laser_locs_seen = []\n",
    "        self.laser_brightness_seen = []\n",
    "        self.laser_indices_seen = []\n",
    "        self.loc = initial_loc  # location of the resonance\n",
    "\n",
    "        self.locked_laser_idx = None\n",
    "\n",
    "        self._initial_loc = initial_loc\n",
    "        self._previous_ring = previous_ring\n",
    "        self._initial_resonances = resonances\n",
    "        self._lasers = lasers\n",
    "\n",
    "        self._cool_down_by = cool_down_by\n",
    "        self._step_size = step_size\n",
    "        self._found_all_lines = False\n",
    "\n",
    "        self.machine = Machine(\n",
    "            model=self, states=RingFSM.states, initial='idle')\n",
    "\n",
    "        # 'start' starts the search algorithm\n",
    "        self.machine.add_transition(trigger='start',\n",
    "                                    source='idle',\n",
    "                                    dest='cold',\n",
    "                                    after='cool_step')\n",
    "\n",
    "        # once the ring has cooled, start searching\n",
    "        self.machine.add_transition(trigger='keep_searching',\n",
    "                                    source='cold',\n",
    "                                    dest='search',\n",
    "                                    after='heat_step')\n",
    "\n",
    "        # 'reset' puts the ring back to idle from any state\n",
    "        self.machine.add_transition(trigger='reset',\n",
    "                                    source='*',\n",
    "                                    dest='idle',\n",
    "                                    after='reset_resonances')\n",
    "\n",
    "        # will 'keep_searching' until we find all the laser lines\n",
    "        self.machine.add_transition(\n",
    "            trigger='keep_searching',\n",
    "            source='search',\n",
    "            dest='search',\n",
    "            after='heat_step')\n",
    "\n",
    "        # lock ring once the laser lines have been found\n",
    "        self.machine.add_transition(\n",
    "            trigger='lock_to_line',\n",
    "            source='search',\n",
    "            dest='lock',\n",
    "            after='lock_to_laser',\n",
    "            conditions=['found_all_lines'])\n",
    "\n",
    "    def reset_resonances(self):\n",
    "        # reset everything\n",
    "        self.loc = self._initial_loc\n",
    "        self.laser_locs_seen = []\n",
    "        self.laser_brightness_seen = []\n",
    "        self.laser_indices_seen = []\n",
    "        self._found_all_lines = False\n",
    "\n",
    "    def cool(self, amount):\n",
    "        self.loc += amount\n",
    "\n",
    "    def heat(self, amount):\n",
    "        self.loc -= amount\n",
    "\n",
    "    def cool_step(self):\n",
    "        # cool the resonances by the cool down by amount\n",
    "        self.cool(self._cool_down_by)\n",
    "\n",
    "    def heat_step(self):\n",
    "        # check if there's a laser signal to be found\n",
    "        found = self._check_laser_signal()\n",
    "        # found is tuple (bool, idx | None)\n",
    "        # if found: (True, laser idx), and if not found: (False, None)\n",
    "        if found[0]:\n",
    "            self.laser_locs_seen.append(self.loc)\n",
    "            self.laser_brightness_seen.append(\n",
    "                self._lasers.brightness[found[1]])\n",
    "            self.laser_indices_seen.append(found[1])\n",
    "\n",
    "        # check if we have found all lasers\n",
    "        self._check_exit_search_condition()\n",
    "\n",
    "        # move the resonance location by specified step_size\n",
    "        self.heat(self._step_size)\n",
    "\n",
    "    def lock_to_laser(self):\n",
    "        # jump to the laser signal we want to capture\n",
    "        self.loc = self.laser_locs_seen[-2]\n",
    "        # check and capture that laser signal\n",
    "        self._check_laser_signal(capture=True)\n",
    "\n",
    "    def _check_laser_signal(self, capture=False):\n",
    "        # check if there's any laser signal at this location\n",
    "        found_laser = False\n",
    "        idx = None\n",
    "        for r in self.resonances:\n",
    "            if (r in self._lasers.laser_lines):\n",
    "                # get the index\n",
    "                idx = np.where(self._lasers.laser_lines == r)\n",
    "                assert len(idx) == 1\n",
    "                idx = idx[0][0]\n",
    "                if capture:\n",
    "                    if self._previous_ring is None:\n",
    "                        this_ring = 0\n",
    "                    else:\n",
    "                        this_ring = self._previous_ring + 1\n",
    "                    self._lasers.capture_laser_line(idx, this_ring)\n",
    "                    self.locked_laser_idx = idx\n",
    "                found_laser = True\n",
    "        # if there's a laser there, found_laser will return that laser's index\n",
    "        return (found_laser, idx)\n",
    "\n",
    "    def _check_exit_search_condition(self):\n",
    "        # This is the crux of the search algorithm.\n",
    "        # In this case, we consider the simple algo.\n",
    "        # if we have seen one dim and one bright, we have found all lines\n",
    "        if self._previous_ring is None:  # this is the first ring\n",
    "            if len(self.laser_locs_seen) >= 3:\n",
    "                self._found_all_lines = True\n",
    "        else:  # all the other rings\n",
    "            if len(self.laser_locs_seen) >= 3:\n",
    "                if self.laser_brightness_seen[-3] != 'bright' \\\n",
    "                        and self.laser_brightness_seen[-2] == 'bright':\n",
    "                    self._found_all_lines = True\n",
    "\n",
    "    @property\n",
    "    def found_all_lines(self):\n",
    "        return self._found_all_lines\n",
    "\n",
    "    @property\n",
    "    def resonances(self):\n",
    "        return self.loc + self._initial_resonances"
   ]
  },
  {
   "cell_type": "code",
   "execution_count": 151,
   "metadata": {},
   "outputs": [],
   "source": [
    "from collections import deque\n",
    "import copy\n",
    "\n",
    "\n",
    "def populate_mrm_resonances(global_variations=False,\n",
    "                            variations=False,\n",
    "                            corners=False):\n",
    "\n",
    "    mrm_lines = np.arange(NUM_OF_LASERS, dtype=np.int64) * MRM_FREQ_SPACING\n",
    "    mrm_lines = np.vstack([mrm_lines] * len(WHICH_RESONANCES)).T\n",
    "\n",
    "    fsr_shifts = np.array(WHICH_RESONANCES) * MRM_FSR\n",
    "    mrm_lines += fsr_shifts\n",
    "\n",
    "    if variations:  # assume we keep the FSR to be the same\n",
    "        if corners:  # only evaluate the corners\n",
    "            delta = np.random.randint(2, size=NUM_OF_LASERS)\n",
    "            delta = 2*delta - 1  # convert to [-1, +1] random numbers\n",
    "            delta *= MRM_FREQ_UNCERTAINTY\n",
    "        else:\n",
    "            delta = np.random.uniform(-1*MRM_FREQ_UNCERTAINTY,\n",
    "                                      MRM_FREQ_UNCERTAINTY,\n",
    "                                      NUM_OF_LASERS)\n",
    "        # round to the nearest STEP_SIZE\n",
    "        delta = np.round(delta/STEP_SIZE, decimals=0) * STEP_SIZE\n",
    "\n",
    "        delta = delta.astype(int)\n",
    "        delta = delta[:, np.newaxis]\n",
    "        mrm_lines += delta\n",
    "\n",
    "    if global_variations:  # the global variation can be as much as ±1 FSR\n",
    "        global_delta = np.random.uniform(-1*MRM_FSR, MRM_FSR)\n",
    "        global_delta = np.round(global_delta/STEP_SIZE, decimals=0) * STEP_SIZE\n",
    "        global_delta = global_delta.astype(int)\n",
    "        mrm_lines += global_delta\n",
    "\n",
    "    return mrm_lines\n",
    "\n",
    "\n",
    "def check_barrel_roll(list1, list2):\n",
    "    # check for barrel roll in sequence or reverse sequence\n",
    "    assert len(list1) == len(list2)\n",
    "\n",
    "    def check_equivalent(list1, list2):\n",
    "        d1 = deque(list1)\n",
    "        d2 = deque(list2)\n",
    "\n",
    "        equivalent = d1 == d2\n",
    "\n",
    "        for _ in range(len(list1)):\n",
    "            d1.rotate(1)\n",
    "            if d1 == d2:\n",
    "                equivalent = True\n",
    "\n",
    "        return equivalent\n",
    "    \n",
    "    list1_ = copy.deepcopy(list1)\n",
    "    equivalent = check_equivalent(list1_, list2)\n",
    "    list1_.reverse()\n",
    "    equivalent = equivalent or check_equivalent(list1_, list2)\n",
    "    return equivalent"
   ]
  },
  {
   "cell_type": "code",
   "execution_count": 154,
   "metadata": {},
   "outputs": [
    {
     "name": "stdout",
     "output_type": "stream",
     "text": [
      "Locked to laser # 4\n",
      "['bright', 'bright', 'bright', 'bright', 0, 'bright', 'bright', 'bright']\n",
      "Locked to laser # 0\n",
      "[1, 'bright', 'bright', 'bright', 0, 'bright', 'bright', 'bright']\n",
      "Locked to laser # 5\n",
      "[1, 'bright', 'bright', 'bright', 0, 2, 'bright', 'bright']\n",
      "Locked to laser # 1\n",
      "[1, 3, 'bright', 'bright', 0, 2, 'bright', 'bright']\n",
      "Locked to laser # 6\n",
      "[1, 3, 'bright', 'bright', 0, 2, 4, 'bright']\n",
      "Locked to laser # 2\n",
      "[1, 3, 5, 'bright', 0, 2, 4, 'bright']\n",
      "Locked to laser # 7\n",
      "[1, 3, 5, 'bright', 0, 2, 4, 6]\n",
      "Locked to laser # 3\n",
      "[1, 3, 5, 7, 0, 2, 4, 6]\n",
      "Barrel roll check? True\n",
      "Amount of heat applied: [-250, -450, -550, -250, -450, -250, -250, -450]\n"
     ]
    }
   ],
   "source": [
    "# Try out the algorithm with a single try\n",
    "lasers = Lasers(reverse=True, offset=-4*LASER_FREQ_SPACING, variations=True, corners=True)\n",
    "all_ring_resonances = populate_mrm_resonances(variations=True, corners=True)\n",
    "\n",
    "all_rings = []\n",
    "\n",
    "for idx in range(NUM_OF_LASERS):\n",
    "    if idx == 0:\n",
    "        mrm = RingFSM(resonances=all_ring_resonances[idx], lasers=lasers)\n",
    "    else:\n",
    "        mrm = RingFSM(resonances=all_ring_resonances[idx], lasers=lasers, previous_ring=idx-1)\n",
    "    mrm.start()\n",
    "\n",
    "    while not mrm.found_all_lines:\n",
    "        mrm.keep_searching()\n",
    "\n",
    "    mrm.lock_to_line()\n",
    "    all_rings.append(mrm)\n",
    "\n",
    "    print(f\"Locked to laser # {mrm.locked_laser_idx}\")\n",
    "    print(lasers.brightness)\n",
    "\n",
    "lasers_locked_to = [int(m.locked_laser_idx) for m in all_rings]\n",
    "\n",
    "# check for barrel roll in sequence or reverse sequence\n",
    "print(\"Barrel roll check?\", check_barrel_roll(lasers_locked_to, BARREL_ROLL_SEQ))\n",
    "\n",
    "amt_heat_applied = [m.loc for m in all_rings]\n",
    "print(f\"Amount of heat applied: {amt_heat_applied}\")"
   ]
  },
  {
   "cell_type": "code",
   "execution_count": 166,
   "metadata": {},
   "outputs": [],
   "source": [
    "# Run Monte Carlo and get distribution\n",
    "\n",
    "import pandas as pd\n",
    "import copy\n",
    "\n",
    "eval_corners = False\n",
    "\n",
    "# With cycling:\n",
    "cycling_freqs = [-k * 50 for k in range(18)]  # change in frequency due to cycling\n",
    "# cycling_freqs = [-k * 100 for k in range(9)]  # change in frequency due to cycling\n",
    "# Without cycling: uncomment the one below for no cycling\n",
    "# cycling_freqs = [0]\n",
    "\n",
    "num_trials = 50\n",
    "trial_results = []\n",
    "\n",
    "for _ in range(num_trials):\n",
    "    lasers = Lasers(reverse=True, offset=-4*LASER_FREQ_SPACING, variations=True, corners=eval_corners)\n",
    "    all_ring_resonances = populate_mrm_resonances(global_variations=True,\n",
    "                                                  variations=True,\n",
    "                                                  corners=eval_corners)\n",
    "\n",
    "    for ctry, cfreq in enumerate(cycling_freqs):\n",
    "\n",
    "        lasers_ = copy.deepcopy(lasers)\n",
    "        all_rings = []\n",
    "\n",
    "        for idx in range(NUM_OF_LASERS):\n",
    "            if idx == 0:  # the first ring\n",
    "                mrm = RingFSM(resonances=all_ring_resonances[idx],\n",
    "                              lasers=lasers_,\n",
    "                              initial_loc=cfreq)\n",
    "            else:\n",
    "                mrm = RingFSM(resonances=all_ring_resonances[idx],\n",
    "                              lasers=lasers_,\n",
    "                              initial_loc=cfreq,\n",
    "                              previous_ring=idx-1)\n",
    "            # Run the search algorithm for each MRM\n",
    "            mrm.start()\n",
    "\n",
    "            while not mrm.found_all_lines:\n",
    "                mrm.keep_searching()\n",
    "\n",
    "            mrm.lock_to_line()\n",
    "            all_rings.append(mrm)\n",
    "\n",
    "        laser_sequence = [int(m.locked_laser_idx) for m in all_rings]\n",
    "        amt_heat_applied = [m.loc for m in all_rings]\n",
    "        colder = [n for n in amt_heat_applied if n >= 0]\n",
    "        hotter = [n for n in amt_heat_applied if n <= 0]\n",
    "\n",
    "        max_cool = max(colder) if len(colder) > 0 else 0\n",
    "        max_heat = min(hotter) if len(hotter) > 0 else 0\n",
    "        \n",
    "        max_diff = max_cool - max_heat\n",
    "\n",
    "        # if True, cycle; else, success and no need for cycling\n",
    "        cycling_condition = abs(max_heat) > (MRM_FSR * .5)\n",
    "        if not cycling_condition:\n",
    "            break\n",
    "\n",
    "    result = {'laser_sequence': laser_sequence,\n",
    "              'barrel_roll': check_barrel_roll(laser_sequence, BARREL_ROLL_SEQ), # check if barrel roll equivalent\n",
    "              'max_cool': max_cool,\n",
    "              'max_heat': max_heat,\n",
    "              'max_diff': max_diff,\n",
    "              'cycling_trial': ctry,\n",
    "              'successful_lock': not cycling_condition  # check if we were able to lock with < 1/2 * FSR of heat\n",
    "              }\n",
    "    \n",
    "    ring_numbers = list(range(NUM_OF_LASERS))\n",
    "    heat_result = dict(zip(ring_numbers, amt_heat_applied))  # (-) value is heat and (+) value is cool\n",
    "    result.update(heat_result)\n",
    "\n",
    "    trial_results.append(result)\n",
    "\n",
    "trial_results = pd.DataFrame(trial_results)\n",
    "\n"
   ]
  },
  {
   "cell_type": "code",
   "execution_count": 167,
   "metadata": {},
   "outputs": [
    {
     "data": {
      "application/vnd.plotly.v1+json": {
       "config": {
        "plotlyServerURL": "https://plot.ly"
       },
       "data": [
        {
         "alignmentgroup": "True",
         "bingroup": "x",
         "hovertemplate": "variable=0<br>value=%{x}<br>count=%{y}<extra></extra>",
         "legendgroup": "0",
         "marker": {
          "color": "#636efa",
          "pattern": {
           "shape": ""
          }
         },
         "name": "0",
         "offsetgroup": "0",
         "orientation": "v",
         "showlegend": true,
         "type": "histogram",
         "x": [
          -390,
          -440,
          -380,
          -460,
          -360,
          -450,
          -440,
          -400,
          -80,
          -200,
          -450,
          -400,
          -460,
          -450,
          -420,
          -320,
          -350,
          -450,
          -440,
          -420,
          -270,
          -330,
          -290,
          -610,
          -120,
          -110,
          -260,
          -380,
          -290,
          -300,
          -290,
          -290,
          -370,
          -260,
          -270,
          -210,
          -380,
          -340,
          -300,
          -310,
          -200,
          -170,
          -230,
          -350,
          -370,
          -330,
          -460,
          -530,
          -240,
          -120,
          -510,
          -510,
          -420,
          -460,
          -490,
          -510,
          -100,
          -100,
          -180,
          40,
          -190,
          -100,
          0,
          -390,
          -160,
          -20,
          0,
          -50,
          -90,
          -100,
          -240,
          -390,
          -260,
          -250,
          -240,
          -330,
          -240,
          -200,
          -430,
          -340,
          -10,
          -70,
          -150,
          -290,
          -280,
          -350,
          -300,
          -260,
          20,
          0,
          -100,
          -60,
          -80,
          -250,
          -320,
          -360,
          -350,
          -330,
          -290,
          -340,
          -330,
          -320,
          -300,
          -310,
          -90,
          -130,
          -100,
          -130,
          -180,
          -50,
          -220,
          -410,
          -310,
          -350,
          -330,
          -430,
          -430,
          -350,
          -310,
          -320,
          -280,
          -190,
          -310,
          -140,
          -440,
          -310,
          -430,
          -410,
          -220,
          -110,
          -70,
          -130,
          -180,
          -240,
          -80,
          -440,
          -200,
          -360,
          -400,
          -270,
          -160,
          -380,
          -170,
          -300,
          -370,
          -290,
          -440,
          -420,
          -370,
          -380,
          -390,
          -610,
          -220,
          -230,
          -200,
          -160,
          -230,
          -140,
          -360,
          -480,
          -80,
          -200,
          -140,
          -180,
          -220,
          -300,
          -320,
          -370,
          -70,
          -90,
          -340,
          -360,
          -500,
          -460,
          -360,
          -370,
          -390,
          -410,
          -510,
          -410,
          -430,
          -490,
          -560,
          -530,
          -80,
          -290,
          -240,
          -150,
          -170,
          -190,
          -210,
          -120,
          -90,
          -190,
          -220,
          -190,
          -160,
          -320,
          -240,
          -320,
          -300,
          -260,
          -240,
          -210,
          -480,
          -450,
          -510,
          -410,
          -170,
          -100,
          -100,
          -360,
          -360,
          -360,
          -450,
          -510,
          -290,
          -180,
          -220,
          -330,
          -400,
          -400,
          -450,
          -460,
          -40,
          -150,
          -90,
          -40,
          -100,
          -200,
          -280,
          -320,
          -150,
          -150,
          -290,
          -190,
          -220,
          -340,
          -510,
          -350,
          -370,
          -320,
          -300,
          -220,
          -290,
          -240,
          -390,
          -540,
          -380,
          -240,
          -200,
          -190,
          -270,
          -270,
          -390,
          -360,
          -40,
          -40,
          0,
          -230,
          20,
          -220,
          -200,
          -280,
          -210,
          -270,
          -130,
          -120,
          -520,
          -330,
          -370,
          -500,
          -130,
          -140,
          -200,
          -200,
          -220,
          -330,
          -330,
          -370,
          -100,
          -70,
          -150,
          -50,
          -90,
          -160,
          -390,
          -270,
          -220,
          -220,
          -330,
          -320,
          -460,
          -380,
          -330,
          -430,
          -170,
          -210,
          -330,
          -220,
          -350,
          -300,
          -230,
          -460,
          -400,
          -600,
          -470,
          -450,
          -470,
          -510,
          -390,
          -660,
          -80,
          -210,
          -220,
          -180,
          -170,
          -200,
          -440,
          -430,
          -500,
          -320,
          -320,
          -300,
          -660,
          -610,
          -540,
          -500,
          -280,
          -280,
          -340,
          -230,
          -460,
          -470,
          -560,
          -540,
          -170,
          -130,
          -80,
          -150,
          -240,
          -250,
          -370,
          -320,
          -150,
          -170,
          -160,
          -160,
          -130,
          -310,
          -430,
          -340,
          -50,
          -160,
          -370,
          -470,
          -400,
          -300,
          -370,
          -350,
          -110,
          -290,
          -210,
          -170,
          -300,
          -220,
          -210,
          -200,
          -160,
          -350,
          -230,
          -340,
          -340,
          -250,
          -330,
          -210,
          -140,
          -150,
          -110,
          -90,
          -130,
          -100,
          -390,
          -350,
          -160,
          -140,
          -70,
          -40,
          -80,
          -50,
          -340,
          -230,
          -630,
          -450,
          -550,
          -600,
          -690,
          -760,
          -700,
          -760
         ],
         "xaxis": "x",
         "xbins": {
          "size": 100
         },
         "yaxis": "y"
        }
       ],
       "layout": {
        "barmode": "relative",
        "legend": {
         "title": {
          "text": "variable"
         },
         "tracegroupgap": 0
        },
        "margin": {
         "t": 60
        },
        "showlegend": false,
        "template": {
         "data": {
          "bar": [
           {
            "error_x": {
             "color": "#2a3f5f"
            },
            "error_y": {
             "color": "#2a3f5f"
            },
            "marker": {
             "line": {
              "color": "#E5ECF6",
              "width": 0.5
             },
             "pattern": {
              "fillmode": "overlay",
              "size": 10,
              "solidity": 0.2
             }
            },
            "type": "bar"
           }
          ],
          "barpolar": [
           {
            "marker": {
             "line": {
              "color": "#E5ECF6",
              "width": 0.5
             },
             "pattern": {
              "fillmode": "overlay",
              "size": 10,
              "solidity": 0.2
             }
            },
            "type": "barpolar"
           }
          ],
          "carpet": [
           {
            "aaxis": {
             "endlinecolor": "#2a3f5f",
             "gridcolor": "white",
             "linecolor": "white",
             "minorgridcolor": "white",
             "startlinecolor": "#2a3f5f"
            },
            "baxis": {
             "endlinecolor": "#2a3f5f",
             "gridcolor": "white",
             "linecolor": "white",
             "minorgridcolor": "white",
             "startlinecolor": "#2a3f5f"
            },
            "type": "carpet"
           }
          ],
          "choropleth": [
           {
            "colorbar": {
             "outlinewidth": 0,
             "ticks": ""
            },
            "type": "choropleth"
           }
          ],
          "contour": [
           {
            "colorbar": {
             "outlinewidth": 0,
             "ticks": ""
            },
            "colorscale": [
             [
              0,
              "#0d0887"
             ],
             [
              0.1111111111111111,
              "#46039f"
             ],
             [
              0.2222222222222222,
              "#7201a8"
             ],
             [
              0.3333333333333333,
              "#9c179e"
             ],
             [
              0.4444444444444444,
              "#bd3786"
             ],
             [
              0.5555555555555556,
              "#d8576b"
             ],
             [
              0.6666666666666666,
              "#ed7953"
             ],
             [
              0.7777777777777778,
              "#fb9f3a"
             ],
             [
              0.8888888888888888,
              "#fdca26"
             ],
             [
              1,
              "#f0f921"
             ]
            ],
            "type": "contour"
           }
          ],
          "contourcarpet": [
           {
            "colorbar": {
             "outlinewidth": 0,
             "ticks": ""
            },
            "type": "contourcarpet"
           }
          ],
          "heatmap": [
           {
            "colorbar": {
             "outlinewidth": 0,
             "ticks": ""
            },
            "colorscale": [
             [
              0,
              "#0d0887"
             ],
             [
              0.1111111111111111,
              "#46039f"
             ],
             [
              0.2222222222222222,
              "#7201a8"
             ],
             [
              0.3333333333333333,
              "#9c179e"
             ],
             [
              0.4444444444444444,
              "#bd3786"
             ],
             [
              0.5555555555555556,
              "#d8576b"
             ],
             [
              0.6666666666666666,
              "#ed7953"
             ],
             [
              0.7777777777777778,
              "#fb9f3a"
             ],
             [
              0.8888888888888888,
              "#fdca26"
             ],
             [
              1,
              "#f0f921"
             ]
            ],
            "type": "heatmap"
           }
          ],
          "heatmapgl": [
           {
            "colorbar": {
             "outlinewidth": 0,
             "ticks": ""
            },
            "colorscale": [
             [
              0,
              "#0d0887"
             ],
             [
              0.1111111111111111,
              "#46039f"
             ],
             [
              0.2222222222222222,
              "#7201a8"
             ],
             [
              0.3333333333333333,
              "#9c179e"
             ],
             [
              0.4444444444444444,
              "#bd3786"
             ],
             [
              0.5555555555555556,
              "#d8576b"
             ],
             [
              0.6666666666666666,
              "#ed7953"
             ],
             [
              0.7777777777777778,
              "#fb9f3a"
             ],
             [
              0.8888888888888888,
              "#fdca26"
             ],
             [
              1,
              "#f0f921"
             ]
            ],
            "type": "heatmapgl"
           }
          ],
          "histogram": [
           {
            "marker": {
             "pattern": {
              "fillmode": "overlay",
              "size": 10,
              "solidity": 0.2
             }
            },
            "type": "histogram"
           }
          ],
          "histogram2d": [
           {
            "colorbar": {
             "outlinewidth": 0,
             "ticks": ""
            },
            "colorscale": [
             [
              0,
              "#0d0887"
             ],
             [
              0.1111111111111111,
              "#46039f"
             ],
             [
              0.2222222222222222,
              "#7201a8"
             ],
             [
              0.3333333333333333,
              "#9c179e"
             ],
             [
              0.4444444444444444,
              "#bd3786"
             ],
             [
              0.5555555555555556,
              "#d8576b"
             ],
             [
              0.6666666666666666,
              "#ed7953"
             ],
             [
              0.7777777777777778,
              "#fb9f3a"
             ],
             [
              0.8888888888888888,
              "#fdca26"
             ],
             [
              1,
              "#f0f921"
             ]
            ],
            "type": "histogram2d"
           }
          ],
          "histogram2dcontour": [
           {
            "colorbar": {
             "outlinewidth": 0,
             "ticks": ""
            },
            "colorscale": [
             [
              0,
              "#0d0887"
             ],
             [
              0.1111111111111111,
              "#46039f"
             ],
             [
              0.2222222222222222,
              "#7201a8"
             ],
             [
              0.3333333333333333,
              "#9c179e"
             ],
             [
              0.4444444444444444,
              "#bd3786"
             ],
             [
              0.5555555555555556,
              "#d8576b"
             ],
             [
              0.6666666666666666,
              "#ed7953"
             ],
             [
              0.7777777777777778,
              "#fb9f3a"
             ],
             [
              0.8888888888888888,
              "#fdca26"
             ],
             [
              1,
              "#f0f921"
             ]
            ],
            "type": "histogram2dcontour"
           }
          ],
          "mesh3d": [
           {
            "colorbar": {
             "outlinewidth": 0,
             "ticks": ""
            },
            "type": "mesh3d"
           }
          ],
          "parcoords": [
           {
            "line": {
             "colorbar": {
              "outlinewidth": 0,
              "ticks": ""
             }
            },
            "type": "parcoords"
           }
          ],
          "pie": [
           {
            "automargin": true,
            "type": "pie"
           }
          ],
          "scatter": [
           {
            "fillpattern": {
             "fillmode": "overlay",
             "size": 10,
             "solidity": 0.2
            },
            "type": "scatter"
           }
          ],
          "scatter3d": [
           {
            "line": {
             "colorbar": {
              "outlinewidth": 0,
              "ticks": ""
             }
            },
            "marker": {
             "colorbar": {
              "outlinewidth": 0,
              "ticks": ""
             }
            },
            "type": "scatter3d"
           }
          ],
          "scattercarpet": [
           {
            "marker": {
             "colorbar": {
              "outlinewidth": 0,
              "ticks": ""
             }
            },
            "type": "scattercarpet"
           }
          ],
          "scattergeo": [
           {
            "marker": {
             "colorbar": {
              "outlinewidth": 0,
              "ticks": ""
             }
            },
            "type": "scattergeo"
           }
          ],
          "scattergl": [
           {
            "marker": {
             "colorbar": {
              "outlinewidth": 0,
              "ticks": ""
             }
            },
            "type": "scattergl"
           }
          ],
          "scattermapbox": [
           {
            "marker": {
             "colorbar": {
              "outlinewidth": 0,
              "ticks": ""
             }
            },
            "type": "scattermapbox"
           }
          ],
          "scatterpolar": [
           {
            "marker": {
             "colorbar": {
              "outlinewidth": 0,
              "ticks": ""
             }
            },
            "type": "scatterpolar"
           }
          ],
          "scatterpolargl": [
           {
            "marker": {
             "colorbar": {
              "outlinewidth": 0,
              "ticks": ""
             }
            },
            "type": "scatterpolargl"
           }
          ],
          "scatterternary": [
           {
            "marker": {
             "colorbar": {
              "outlinewidth": 0,
              "ticks": ""
             }
            },
            "type": "scatterternary"
           }
          ],
          "surface": [
           {
            "colorbar": {
             "outlinewidth": 0,
             "ticks": ""
            },
            "colorscale": [
             [
              0,
              "#0d0887"
             ],
             [
              0.1111111111111111,
              "#46039f"
             ],
             [
              0.2222222222222222,
              "#7201a8"
             ],
             [
              0.3333333333333333,
              "#9c179e"
             ],
             [
              0.4444444444444444,
              "#bd3786"
             ],
             [
              0.5555555555555556,
              "#d8576b"
             ],
             [
              0.6666666666666666,
              "#ed7953"
             ],
             [
              0.7777777777777778,
              "#fb9f3a"
             ],
             [
              0.8888888888888888,
              "#fdca26"
             ],
             [
              1,
              "#f0f921"
             ]
            ],
            "type": "surface"
           }
          ],
          "table": [
           {
            "cells": {
             "fill": {
              "color": "#EBF0F8"
             },
             "line": {
              "color": "white"
             }
            },
            "header": {
             "fill": {
              "color": "#C8D4E3"
             },
             "line": {
              "color": "white"
             }
            },
            "type": "table"
           }
          ]
         },
         "layout": {
          "annotationdefaults": {
           "arrowcolor": "#2a3f5f",
           "arrowhead": 0,
           "arrowwidth": 1
          },
          "autotypenumbers": "strict",
          "coloraxis": {
           "colorbar": {
            "outlinewidth": 0,
            "ticks": ""
           }
          },
          "colorscale": {
           "diverging": [
            [
             0,
             "#8e0152"
            ],
            [
             0.1,
             "#c51b7d"
            ],
            [
             0.2,
             "#de77ae"
            ],
            [
             0.3,
             "#f1b6da"
            ],
            [
             0.4,
             "#fde0ef"
            ],
            [
             0.5,
             "#f7f7f7"
            ],
            [
             0.6,
             "#e6f5d0"
            ],
            [
             0.7,
             "#b8e186"
            ],
            [
             0.8,
             "#7fbc41"
            ],
            [
             0.9,
             "#4d9221"
            ],
            [
             1,
             "#276419"
            ]
           ],
           "sequential": [
            [
             0,
             "#0d0887"
            ],
            [
             0.1111111111111111,
             "#46039f"
            ],
            [
             0.2222222222222222,
             "#7201a8"
            ],
            [
             0.3333333333333333,
             "#9c179e"
            ],
            [
             0.4444444444444444,
             "#bd3786"
            ],
            [
             0.5555555555555556,
             "#d8576b"
            ],
            [
             0.6666666666666666,
             "#ed7953"
            ],
            [
             0.7777777777777778,
             "#fb9f3a"
            ],
            [
             0.8888888888888888,
             "#fdca26"
            ],
            [
             1,
             "#f0f921"
            ]
           ],
           "sequentialminus": [
            [
             0,
             "#0d0887"
            ],
            [
             0.1111111111111111,
             "#46039f"
            ],
            [
             0.2222222222222222,
             "#7201a8"
            ],
            [
             0.3333333333333333,
             "#9c179e"
            ],
            [
             0.4444444444444444,
             "#bd3786"
            ],
            [
             0.5555555555555556,
             "#d8576b"
            ],
            [
             0.6666666666666666,
             "#ed7953"
            ],
            [
             0.7777777777777778,
             "#fb9f3a"
            ],
            [
             0.8888888888888888,
             "#fdca26"
            ],
            [
             1,
             "#f0f921"
            ]
           ]
          },
          "colorway": [
           "#636efa",
           "#EF553B",
           "#00cc96",
           "#ab63fa",
           "#FFA15A",
           "#19d3f3",
           "#FF6692",
           "#B6E880",
           "#FF97FF",
           "#FECB52"
          ],
          "font": {
           "color": "#2a3f5f"
          },
          "geo": {
           "bgcolor": "white",
           "lakecolor": "white",
           "landcolor": "#E5ECF6",
           "showlakes": true,
           "showland": true,
           "subunitcolor": "white"
          },
          "hoverlabel": {
           "align": "left"
          },
          "hovermode": "closest",
          "mapbox": {
           "style": "light"
          },
          "paper_bgcolor": "white",
          "plot_bgcolor": "#E5ECF6",
          "polar": {
           "angularaxis": {
            "gridcolor": "white",
            "linecolor": "white",
            "ticks": ""
           },
           "bgcolor": "#E5ECF6",
           "radialaxis": {
            "gridcolor": "white",
            "linecolor": "white",
            "ticks": ""
           }
          },
          "scene": {
           "xaxis": {
            "backgroundcolor": "#E5ECF6",
            "gridcolor": "white",
            "gridwidth": 2,
            "linecolor": "white",
            "showbackground": true,
            "ticks": "",
            "zerolinecolor": "white"
           },
           "yaxis": {
            "backgroundcolor": "#E5ECF6",
            "gridcolor": "white",
            "gridwidth": 2,
            "linecolor": "white",
            "showbackground": true,
            "ticks": "",
            "zerolinecolor": "white"
           },
           "zaxis": {
            "backgroundcolor": "#E5ECF6",
            "gridcolor": "white",
            "gridwidth": 2,
            "linecolor": "white",
            "showbackground": true,
            "ticks": "",
            "zerolinecolor": "white"
           }
          },
          "shapedefaults": {
           "line": {
            "color": "#2a3f5f"
           }
          },
          "ternary": {
           "aaxis": {
            "gridcolor": "white",
            "linecolor": "white",
            "ticks": ""
           },
           "baxis": {
            "gridcolor": "white",
            "linecolor": "white",
            "ticks": ""
           },
           "bgcolor": "#E5ECF6",
           "caxis": {
            "gridcolor": "white",
            "linecolor": "white",
            "ticks": ""
           }
          },
          "title": {
           "x": 0.05
          },
          "xaxis": {
           "automargin": true,
           "gridcolor": "white",
           "linecolor": "white",
           "ticks": "",
           "title": {
            "standoff": 15
           },
           "zerolinecolor": "white",
           "zerolinewidth": 2
          },
          "yaxis": {
           "automargin": true,
           "gridcolor": "white",
           "linecolor": "white",
           "ticks": "",
           "title": {
            "standoff": 15
           },
           "zerolinecolor": "white",
           "zerolinewidth": 2
          }
         }
        },
        "xaxis": {
         "anchor": "y",
         "domain": [
          0,
          1
         ],
         "tickmode": "array",
         "tickvals": [
          -1800,
          -1700,
          -1600,
          -1500,
          -1400,
          -1300,
          -1200,
          -1100,
          -1000,
          -900,
          -800,
          -700,
          -600,
          -500,
          -400,
          -300,
          -200,
          -100,
          0,
          100,
          200,
          300,
          400,
          500,
          600,
          700,
          800,
          900,
          1000,
          1100,
          1200,
          1300,
          1400,
          1500,
          1600,
          1700,
          1800
         ],
         "title": {
          "text": "Heat (-) & Cool (+) amount (GHz)"
         }
        },
        "yaxis": {
         "anchor": "x",
         "domain": [
          0,
          1
         ],
         "title": {
          "text": "Count"
         }
        }
       }
      }
     },
     "metadata": {},
     "output_type": "display_data"
    },
    {
     "data": {
      "application/vnd.plotly.v1+json": {
       "config": {
        "plotlyServerURL": "https://plot.ly"
       },
       "data": [
        {
         "alignmentgroup": "True",
         "bingroup": "x",
         "hovertemplate": "max_diff=%{x}<br>count=%{y}<extra></extra>",
         "legendgroup": "",
         "marker": {
          "color": "#636efa",
          "pattern": {
           "shape": ""
          }
         },
         "name": "",
         "offsetgroup": "",
         "orientation": "v",
         "showlegend": false,
         "type": "histogram",
         "x": [
          460,
          460,
          610,
          380,
          380,
          530,
          510,
          430,
          390,
          430,
          350,
          380,
          350,
          410,
          430,
          440,
          440,
          400,
          610,
          480,
          370,
          500,
          560,
          290,
          320,
          510,
          510,
          460,
          320,
          510,
          540,
          390,
          300,
          520,
          370,
          390,
          460,
          460,
          660,
          440,
          660,
          560,
          370,
          430,
          470,
          300,
          350,
          390,
          340,
          760
         ],
         "xaxis": "x",
         "xbins": {
          "size": 100
         },
         "yaxis": "y"
        }
       ],
       "layout": {
        "barmode": "relative",
        "legend": {
         "tracegroupgap": 0
        },
        "margin": {
         "t": 60
        },
        "showlegend": false,
        "template": {
         "data": {
          "bar": [
           {
            "error_x": {
             "color": "#2a3f5f"
            },
            "error_y": {
             "color": "#2a3f5f"
            },
            "marker": {
             "line": {
              "color": "#E5ECF6",
              "width": 0.5
             },
             "pattern": {
              "fillmode": "overlay",
              "size": 10,
              "solidity": 0.2
             }
            },
            "type": "bar"
           }
          ],
          "barpolar": [
           {
            "marker": {
             "line": {
              "color": "#E5ECF6",
              "width": 0.5
             },
             "pattern": {
              "fillmode": "overlay",
              "size": 10,
              "solidity": 0.2
             }
            },
            "type": "barpolar"
           }
          ],
          "carpet": [
           {
            "aaxis": {
             "endlinecolor": "#2a3f5f",
             "gridcolor": "white",
             "linecolor": "white",
             "minorgridcolor": "white",
             "startlinecolor": "#2a3f5f"
            },
            "baxis": {
             "endlinecolor": "#2a3f5f",
             "gridcolor": "white",
             "linecolor": "white",
             "minorgridcolor": "white",
             "startlinecolor": "#2a3f5f"
            },
            "type": "carpet"
           }
          ],
          "choropleth": [
           {
            "colorbar": {
             "outlinewidth": 0,
             "ticks": ""
            },
            "type": "choropleth"
           }
          ],
          "contour": [
           {
            "colorbar": {
             "outlinewidth": 0,
             "ticks": ""
            },
            "colorscale": [
             [
              0,
              "#0d0887"
             ],
             [
              0.1111111111111111,
              "#46039f"
             ],
             [
              0.2222222222222222,
              "#7201a8"
             ],
             [
              0.3333333333333333,
              "#9c179e"
             ],
             [
              0.4444444444444444,
              "#bd3786"
             ],
             [
              0.5555555555555556,
              "#d8576b"
             ],
             [
              0.6666666666666666,
              "#ed7953"
             ],
             [
              0.7777777777777778,
              "#fb9f3a"
             ],
             [
              0.8888888888888888,
              "#fdca26"
             ],
             [
              1,
              "#f0f921"
             ]
            ],
            "type": "contour"
           }
          ],
          "contourcarpet": [
           {
            "colorbar": {
             "outlinewidth": 0,
             "ticks": ""
            },
            "type": "contourcarpet"
           }
          ],
          "heatmap": [
           {
            "colorbar": {
             "outlinewidth": 0,
             "ticks": ""
            },
            "colorscale": [
             [
              0,
              "#0d0887"
             ],
             [
              0.1111111111111111,
              "#46039f"
             ],
             [
              0.2222222222222222,
              "#7201a8"
             ],
             [
              0.3333333333333333,
              "#9c179e"
             ],
             [
              0.4444444444444444,
              "#bd3786"
             ],
             [
              0.5555555555555556,
              "#d8576b"
             ],
             [
              0.6666666666666666,
              "#ed7953"
             ],
             [
              0.7777777777777778,
              "#fb9f3a"
             ],
             [
              0.8888888888888888,
              "#fdca26"
             ],
             [
              1,
              "#f0f921"
             ]
            ],
            "type": "heatmap"
           }
          ],
          "heatmapgl": [
           {
            "colorbar": {
             "outlinewidth": 0,
             "ticks": ""
            },
            "colorscale": [
             [
              0,
              "#0d0887"
             ],
             [
              0.1111111111111111,
              "#46039f"
             ],
             [
              0.2222222222222222,
              "#7201a8"
             ],
             [
              0.3333333333333333,
              "#9c179e"
             ],
             [
              0.4444444444444444,
              "#bd3786"
             ],
             [
              0.5555555555555556,
              "#d8576b"
             ],
             [
              0.6666666666666666,
              "#ed7953"
             ],
             [
              0.7777777777777778,
              "#fb9f3a"
             ],
             [
              0.8888888888888888,
              "#fdca26"
             ],
             [
              1,
              "#f0f921"
             ]
            ],
            "type": "heatmapgl"
           }
          ],
          "histogram": [
           {
            "marker": {
             "pattern": {
              "fillmode": "overlay",
              "size": 10,
              "solidity": 0.2
             }
            },
            "type": "histogram"
           }
          ],
          "histogram2d": [
           {
            "colorbar": {
             "outlinewidth": 0,
             "ticks": ""
            },
            "colorscale": [
             [
              0,
              "#0d0887"
             ],
             [
              0.1111111111111111,
              "#46039f"
             ],
             [
              0.2222222222222222,
              "#7201a8"
             ],
             [
              0.3333333333333333,
              "#9c179e"
             ],
             [
              0.4444444444444444,
              "#bd3786"
             ],
             [
              0.5555555555555556,
              "#d8576b"
             ],
             [
              0.6666666666666666,
              "#ed7953"
             ],
             [
              0.7777777777777778,
              "#fb9f3a"
             ],
             [
              0.8888888888888888,
              "#fdca26"
             ],
             [
              1,
              "#f0f921"
             ]
            ],
            "type": "histogram2d"
           }
          ],
          "histogram2dcontour": [
           {
            "colorbar": {
             "outlinewidth": 0,
             "ticks": ""
            },
            "colorscale": [
             [
              0,
              "#0d0887"
             ],
             [
              0.1111111111111111,
              "#46039f"
             ],
             [
              0.2222222222222222,
              "#7201a8"
             ],
             [
              0.3333333333333333,
              "#9c179e"
             ],
             [
              0.4444444444444444,
              "#bd3786"
             ],
             [
              0.5555555555555556,
              "#d8576b"
             ],
             [
              0.6666666666666666,
              "#ed7953"
             ],
             [
              0.7777777777777778,
              "#fb9f3a"
             ],
             [
              0.8888888888888888,
              "#fdca26"
             ],
             [
              1,
              "#f0f921"
             ]
            ],
            "type": "histogram2dcontour"
           }
          ],
          "mesh3d": [
           {
            "colorbar": {
             "outlinewidth": 0,
             "ticks": ""
            },
            "type": "mesh3d"
           }
          ],
          "parcoords": [
           {
            "line": {
             "colorbar": {
              "outlinewidth": 0,
              "ticks": ""
             }
            },
            "type": "parcoords"
           }
          ],
          "pie": [
           {
            "automargin": true,
            "type": "pie"
           }
          ],
          "scatter": [
           {
            "fillpattern": {
             "fillmode": "overlay",
             "size": 10,
             "solidity": 0.2
            },
            "type": "scatter"
           }
          ],
          "scatter3d": [
           {
            "line": {
             "colorbar": {
              "outlinewidth": 0,
              "ticks": ""
             }
            },
            "marker": {
             "colorbar": {
              "outlinewidth": 0,
              "ticks": ""
             }
            },
            "type": "scatter3d"
           }
          ],
          "scattercarpet": [
           {
            "marker": {
             "colorbar": {
              "outlinewidth": 0,
              "ticks": ""
             }
            },
            "type": "scattercarpet"
           }
          ],
          "scattergeo": [
           {
            "marker": {
             "colorbar": {
              "outlinewidth": 0,
              "ticks": ""
             }
            },
            "type": "scattergeo"
           }
          ],
          "scattergl": [
           {
            "marker": {
             "colorbar": {
              "outlinewidth": 0,
              "ticks": ""
             }
            },
            "type": "scattergl"
           }
          ],
          "scattermapbox": [
           {
            "marker": {
             "colorbar": {
              "outlinewidth": 0,
              "ticks": ""
             }
            },
            "type": "scattermapbox"
           }
          ],
          "scatterpolar": [
           {
            "marker": {
             "colorbar": {
              "outlinewidth": 0,
              "ticks": ""
             }
            },
            "type": "scatterpolar"
           }
          ],
          "scatterpolargl": [
           {
            "marker": {
             "colorbar": {
              "outlinewidth": 0,
              "ticks": ""
             }
            },
            "type": "scatterpolargl"
           }
          ],
          "scatterternary": [
           {
            "marker": {
             "colorbar": {
              "outlinewidth": 0,
              "ticks": ""
             }
            },
            "type": "scatterternary"
           }
          ],
          "surface": [
           {
            "colorbar": {
             "outlinewidth": 0,
             "ticks": ""
            },
            "colorscale": [
             [
              0,
              "#0d0887"
             ],
             [
              0.1111111111111111,
              "#46039f"
             ],
             [
              0.2222222222222222,
              "#7201a8"
             ],
             [
              0.3333333333333333,
              "#9c179e"
             ],
             [
              0.4444444444444444,
              "#bd3786"
             ],
             [
              0.5555555555555556,
              "#d8576b"
             ],
             [
              0.6666666666666666,
              "#ed7953"
             ],
             [
              0.7777777777777778,
              "#fb9f3a"
             ],
             [
              0.8888888888888888,
              "#fdca26"
             ],
             [
              1,
              "#f0f921"
             ]
            ],
            "type": "surface"
           }
          ],
          "table": [
           {
            "cells": {
             "fill": {
              "color": "#EBF0F8"
             },
             "line": {
              "color": "white"
             }
            },
            "header": {
             "fill": {
              "color": "#C8D4E3"
             },
             "line": {
              "color": "white"
             }
            },
            "type": "table"
           }
          ]
         },
         "layout": {
          "annotationdefaults": {
           "arrowcolor": "#2a3f5f",
           "arrowhead": 0,
           "arrowwidth": 1
          },
          "autotypenumbers": "strict",
          "coloraxis": {
           "colorbar": {
            "outlinewidth": 0,
            "ticks": ""
           }
          },
          "colorscale": {
           "diverging": [
            [
             0,
             "#8e0152"
            ],
            [
             0.1,
             "#c51b7d"
            ],
            [
             0.2,
             "#de77ae"
            ],
            [
             0.3,
             "#f1b6da"
            ],
            [
             0.4,
             "#fde0ef"
            ],
            [
             0.5,
             "#f7f7f7"
            ],
            [
             0.6,
             "#e6f5d0"
            ],
            [
             0.7,
             "#b8e186"
            ],
            [
             0.8,
             "#7fbc41"
            ],
            [
             0.9,
             "#4d9221"
            ],
            [
             1,
             "#276419"
            ]
           ],
           "sequential": [
            [
             0,
             "#0d0887"
            ],
            [
             0.1111111111111111,
             "#46039f"
            ],
            [
             0.2222222222222222,
             "#7201a8"
            ],
            [
             0.3333333333333333,
             "#9c179e"
            ],
            [
             0.4444444444444444,
             "#bd3786"
            ],
            [
             0.5555555555555556,
             "#d8576b"
            ],
            [
             0.6666666666666666,
             "#ed7953"
            ],
            [
             0.7777777777777778,
             "#fb9f3a"
            ],
            [
             0.8888888888888888,
             "#fdca26"
            ],
            [
             1,
             "#f0f921"
            ]
           ],
           "sequentialminus": [
            [
             0,
             "#0d0887"
            ],
            [
             0.1111111111111111,
             "#46039f"
            ],
            [
             0.2222222222222222,
             "#7201a8"
            ],
            [
             0.3333333333333333,
             "#9c179e"
            ],
            [
             0.4444444444444444,
             "#bd3786"
            ],
            [
             0.5555555555555556,
             "#d8576b"
            ],
            [
             0.6666666666666666,
             "#ed7953"
            ],
            [
             0.7777777777777778,
             "#fb9f3a"
            ],
            [
             0.8888888888888888,
             "#fdca26"
            ],
            [
             1,
             "#f0f921"
            ]
           ]
          },
          "colorway": [
           "#636efa",
           "#EF553B",
           "#00cc96",
           "#ab63fa",
           "#FFA15A",
           "#19d3f3",
           "#FF6692",
           "#B6E880",
           "#FF97FF",
           "#FECB52"
          ],
          "font": {
           "color": "#2a3f5f"
          },
          "geo": {
           "bgcolor": "white",
           "lakecolor": "white",
           "landcolor": "#E5ECF6",
           "showlakes": true,
           "showland": true,
           "subunitcolor": "white"
          },
          "hoverlabel": {
           "align": "left"
          },
          "hovermode": "closest",
          "mapbox": {
           "style": "light"
          },
          "paper_bgcolor": "white",
          "plot_bgcolor": "#E5ECF6",
          "polar": {
           "angularaxis": {
            "gridcolor": "white",
            "linecolor": "white",
            "ticks": ""
           },
           "bgcolor": "#E5ECF6",
           "radialaxis": {
            "gridcolor": "white",
            "linecolor": "white",
            "ticks": ""
           }
          },
          "scene": {
           "xaxis": {
            "backgroundcolor": "#E5ECF6",
            "gridcolor": "white",
            "gridwidth": 2,
            "linecolor": "white",
            "showbackground": true,
            "ticks": "",
            "zerolinecolor": "white"
           },
           "yaxis": {
            "backgroundcolor": "#E5ECF6",
            "gridcolor": "white",
            "gridwidth": 2,
            "linecolor": "white",
            "showbackground": true,
            "ticks": "",
            "zerolinecolor": "white"
           },
           "zaxis": {
            "backgroundcolor": "#E5ECF6",
            "gridcolor": "white",
            "gridwidth": 2,
            "linecolor": "white",
            "showbackground": true,
            "ticks": "",
            "zerolinecolor": "white"
           }
          },
          "shapedefaults": {
           "line": {
            "color": "#2a3f5f"
           }
          },
          "ternary": {
           "aaxis": {
            "gridcolor": "white",
            "linecolor": "white",
            "ticks": ""
           },
           "baxis": {
            "gridcolor": "white",
            "linecolor": "white",
            "ticks": ""
           },
           "bgcolor": "#E5ECF6",
           "caxis": {
            "gridcolor": "white",
            "linecolor": "white",
            "ticks": ""
           }
          },
          "title": {
           "x": 0.05
          },
          "xaxis": {
           "automargin": true,
           "gridcolor": "white",
           "linecolor": "white",
           "ticks": "",
           "title": {
            "standoff": 15
           },
           "zerolinecolor": "white",
           "zerolinewidth": 2
          },
          "yaxis": {
           "automargin": true,
           "gridcolor": "white",
           "linecolor": "white",
           "ticks": "",
           "title": {
            "standoff": 15
           },
           "zerolinecolor": "white",
           "zerolinewidth": 2
          }
         }
        },
        "xaxis": {
         "anchor": "y",
         "domain": [
          0,
          1
         ],
         "tickmode": "array",
         "tickvals": [
          0,
          100,
          200,
          300,
          400,
          500,
          600,
          700,
          800,
          900,
          1000,
          1100,
          1200,
          1300,
          1400,
          1500,
          1600,
          1700,
          1800,
          1900,
          2000,
          2100,
          2200,
          2300,
          2400,
          2500,
          2600,
          2700,
          2800,
          2900,
          3000,
          3100,
          3200,
          3300,
          3400,
          3500,
          3600
         ],
         "title": {
          "text": "Heat amount difference between rings (GHz)"
         }
        },
        "yaxis": {
         "anchor": "x",
         "domain": [
          0,
          1
         ],
         "title": {
          "text": "Count"
         }
        }
       }
      }
     },
     "metadata": {},
     "output_type": "display_data"
    }
   ],
   "source": [
    "# Now plot the results of the Monte Carlo runs\n",
    "import plotly.express as px\n",
    "\n",
    "# Heat and cool amount\n",
    "fig = px.histogram(np.array(trial_results[range(NUM_OF_LASERS)]).reshape(-1))  # turn into a vector to wash out the ring number\n",
    "fig.update_traces(xbins_size = 100)\n",
    "fig.update_layout(xaxis_title=\"Heat (-) & Cool (+) amount (GHz)\", yaxis_title=\"Count\", showlegend=False)\n",
    "tick_size = 100\n",
    "fig.update_layout(\n",
    "    xaxis = dict(\n",
    "        tickmode = 'array',\n",
    "        tickvals = list(range(-MRM_FSR, MRM_FSR+tick_size, tick_size))\n",
    "    )\n",
    ")\n",
    "fig.show()\n",
    "\n",
    "# Plot the maximum differences\n",
    "fig = px.histogram(trial_results, x=\"max_diff\")  # turn into a vector to wash out the ring number\n",
    "fig.update_traces(xbins_size = 100)\n",
    "fig.update_layout(xaxis_title=\"Heat amount difference between rings (GHz)\", yaxis_title=\"Count\", showlegend=False)\n",
    "tick_size = 100\n",
    "fig.update_layout(\n",
    "    xaxis = dict(\n",
    "        tickmode = 'array',\n",
    "        tickvals = list(range(0, 2*MRM_FSR+tick_size, tick_size))\n",
    "    )\n",
    ")\n",
    "fig.show()"
   ]
  },
  {
   "cell_type": "code",
   "execution_count": 164,
   "metadata": {},
   "outputs": [
    {
     "name": "stdout",
     "output_type": "stream",
     "text": [
      "All in barrel-roll sequence?  True\n",
      "All locked with 1/2 * FSR condition? False\n"
     ]
    }
   ],
   "source": [
    "# check the results: barrel-roll and meeting our heat threshold requirements\n",
    "\n",
    "print(\"All in barrel-roll sequence? \", trial_results['barrel_roll'].all())\n",
    "print(\"All locked with 1/2 * FSR condition?\", trial_results['successful_lock'].all())\n"
   ]
  },
  {
   "cell_type": "code",
   "execution_count": 165,
   "metadata": {},
   "outputs": [
    {
     "data": {
      "text/markdown": [
       "|    | laser_sequence           | barrel_roll   |   max_cool |   max_heat |   max_diff |   cycling_trial | successful_lock   |    0 |    1 |     2 |    3 |    4 |     5 |    6 |    7 |\n",
       "|---:|:-------------------------|:--------------|-----------:|-----------:|-----------:|----------------:|:------------------|-----:|-----:|------:|-----:|-----:|------:|-----:|-----:|\n",
       "|  0 | [0, 5, 1, 6, 2, 7, 3, 4] | True          |         10 |       -320 |        330 |               0 | True              | -110 |  -50 |   -30 | -220 |  -20 |    10 |  -50 | -320 |\n",
       "|  1 | [3, 4, 0, 5, 1, 6, 2, 7] | True          |          0 |       -560 |        560 |               0 | True              | -270 | -420 |  -340 | -430 | -350 |  -560 | -330 | -450 |\n",
       "|  2 | [5, 1, 6, 2, 7, 3, 4, 0] | True          |          0 |       -350 |        350 |               0 | True              | -220 |  -80 |  -270 | -220 | -270 |  -170 | -350 | -310 |\n",
       "|  3 | [5, 1, 6, 2, 7, 3, 4, 0] | True          |          0 |       -530 |        530 |               1 | True              | -220 | -240 |  -340 | -320 | -310 |  -270 | -350 | -530 |\n",
       "|  4 | [4, 0, 5, 1, 6, 2, 7, 3] | True          |          0 |       -470 |        470 |               0 | True              | -390 | -390 |  -310 | -330 | -320 |  -400 | -400 | -470 |\n",
       "|  5 | [1, 6, 2, 7, 3, 4, 0, 5] | True          |          0 |       -510 |        510 |               0 | True              | -130 | -120 |  -200 | -180 | -150 |  -370 | -300 | -510 |\n",
       "|  6 | [3, 4, 0, 5, 1, 6, 2, 7] | True          |          0 |       -420 |        420 |               0 | True              |  -70 | -420 |  -210 | -260 | -270 |  -220 | -210 | -280 |\n",
       "|  7 | [7, 3, 4, 0, 5, 1, 6, 2] | True          |          0 |      -2720 |       2720 |               8 | False             | -860 | -800 | -2720 | -960 | -960 | -1100 | -880 | -980 |\n",
       "|  8 | [6, 2, 7, 3, 4, 0, 5, 1] | True          |          0 |       -490 |        490 |               2 | True              | -320 | -340 |  -350 | -260 | -490 |  -320 | -470 | -470 |\n",
       "|  9 | [7, 3, 4, 0, 5, 1, 6, 2] | True          |          0 |       -420 |        420 |               0 | True              | -120 | -180 |  -420 | -370 | -290 |  -350 | -320 | -360 |\n",
       "| 10 | [3, 4, 0, 5, 1, 6, 2, 7] | True          |          0 |       -400 |        400 |               0 | True              |  -20 | -250 |  -280 | -370 | -320 |  -400 | -300 | -230 |\n",
       "| 11 | [7, 3, 4, 0, 5, 1, 6, 2] | True          |          0 |       -520 |        520 |               1 | True              | -200 | -260 |  -490 | -520 | -500 |  -480 | -410 | -360 |\n",
       "| 12 | [3, 4, 0, 5, 1, 6, 2, 7] | True          |          0 |       -340 |        340 |               1 | True              | -190 | -310 |  -280 | -280 | -310 |  -250 | -340 | -240 |\n",
       "| 13 | [5, 1, 6, 2, 7, 3, 4, 0] | True          |          0 |       -450 |        450 |               2 | True              | -300 | -280 |  -210 | -330 | -360 |  -230 | -450 | -360 |\n",
       "| 14 | [1, 6, 2, 7, 3, 4, 0, 5] | True          |          0 |       -460 |        460 |               0 | True              | -190 | -300 |  -240 | -150 | -270 |  -460 | -420 | -430 |\n",
       "| 15 | [7, 3, 4, 0, 5, 1, 6, 2] | True          |          0 |       -440 |        440 |               0 | True              | -150 | -130 |  -440 | -290 | -360 |  -380 | -300 | -430 |\n",
       "| 16 | [7, 3, 4, 0, 5, 1, 6, 2] | True          |          0 |       -790 |        790 |               4 | True              | -590 | -460 |  -780 | -720 | -760 |  -790 | -680 | -640 |\n",
       "| 17 | [1, 6, 2, 7, 3, 4, 0, 5] | True          |          0 |       -630 |        630 |               1 | True              | -250 | -320 |  -310 | -380 | -260 |  -410 | -580 | -630 |\n",
       "| 18 | [6, 2, 7, 3, 4, 0, 5, 1] | True          |          0 |       -420 |        420 |               0 | True              | -200 |  -90 |  -220 | -210 | -220 |  -420 | -290 | -340 |\n",
       "| 19 | [2, 7, 3, 4, 0, 5, 1, 6] | True          |          0 |       -570 |        570 |               1 | True              | -220 | -150 |  -150 | -520 | -450 |  -360 | -530 | -570 |\n",
       "| 20 | [5, 1, 6, 2, 7, 3, 4, 0] | True          |          0 |       -520 |        520 |               0 | True              | -180 | -160 |   -60 | -120 | -240 |  -160 | -520 | -410 |\n",
       "| 21 | [2, 7, 3, 4, 0, 5, 1, 6] | True          |          0 |       -510 |        510 |               0 | True              | -140 | -260 |  -230 | -480 | -380 |  -430 | -510 | -360 |\n",
       "| 22 | [0, 5, 1, 6, 2, 7, 3, 4] | True          |          0 |       -540 |        540 |               0 | True              | -360 | -250 |  -370 | -370 | -330 |  -380 | -430 | -540 |\n",
       "| 23 | [6, 2, 7, 3, 4, 0, 5, 1] | True          |          0 |       -470 |        470 |               0 | True              | -210 | -190 |  -130 | -160 | -470 |  -450 | -460 | -470 |\n",
       "| 24 | [5, 1, 6, 2, 7, 3, 4, 0] | True          |          0 |       -350 |        350 |               0 | True              |  -40 | -180 |   -40 | -130 | -110 |  -120 | -350 | -240 |\n",
       "| 25 | [4, 0, 5, 1, 6, 2, 7, 3] | True          |          0 |       -380 |        380 |               0 | True              | -370 | -380 |  -240 | -250 | -340 |  -310 | -230 | -280 |\n",
       "| 26 | [0, 5, 1, 6, 2, 7, 3, 4] | True          |          0 |       -570 |        570 |               0 | True              | -340 | -320 |  -370 | -230 | -350 |  -330 | -400 | -570 |\n",
       "| 27 | [3, 4, 0, 5, 1, 6, 2, 7] | True          |          0 |       -480 |        480 |               0 | True              |  -60 | -330 |  -460 | -480 | -360 |  -290 | -340 | -380 |\n",
       "| 28 | [7, 3, 4, 0, 5, 1, 6, 2] | True          |          0 |       -430 |        430 |               1 | True              | -240 | -160 |  -340 | -430 | -420 |  -360 | -390 | -430 |\n",
       "| 29 | [3, 4, 0, 5, 1, 6, 2, 7] | True          |          0 |       -370 |        370 |               0 | True              | -130 | -340 |  -240 | -310 | -370 |  -210 | -330 | -280 |\n",
       "| 30 | [2, 7, 3, 4, 0, 5, 1, 6] | True          |          0 |       -410 |        410 |               0 | True              | -160 | -220 |  -180 | -270 | -380 |  -400 | -410 | -330 |\n",
       "| 31 | [7, 3, 4, 0, 5, 1, 6, 2] | True          |          0 |       -460 |        460 |               0 | True              | -180 |  -80 |  -290 | -390 | -390 |  -460 | -320 | -280 |\n",
       "| 32 | [3, 4, 0, 5, 1, 6, 2, 7] | True          |          0 |       -410 |        410 |               0 | True              | -210 | -410 |  -280 | -330 | -360 |  -240 | -350 | -370 |\n",
       "| 33 | [2, 7, 3, 4, 0, 5, 1, 6] | True          |          0 |       -440 |        440 |               0 | True              | -130 | -250 |   -50 | -250 | -440 |  -400 | -440 | -290 |\n",
       "| 34 | [0, 5, 1, 6, 2, 7, 3, 4] | True          |          0 |       -370 |        370 |               0 | True              | -290 | -230 |  -100 | -220 | -130 |  -260 |  -80 | -370 |\n",
       "| 35 | [0, 5, 1, 6, 2, 7, 3, 4] | True          |          0 |       -410 |        410 |               0 | True              | -320 | -330 |  -370 | -300 | -210 |  -240 | -230 | -410 |\n",
       "| 36 | [2, 7, 3, 4, 0, 5, 1, 6] | True          |          0 |       -630 |        630 |               4 | True              | -570 | -460 |  -460 | -620 | -600 |  -630 | -540 | -550 |\n",
       "| 37 | [4, 0, 5, 1, 6, 2, 7, 3] | True          |          0 |       -570 |        570 |               2 | True              | -570 | -430 |  -370 | -400 | -520 |  -500 | -470 | -390 |\n",
       "| 38 | [5, 1, 6, 2, 7, 3, 4, 0] | True          |         10 |       -370 |        380 |               0 | True              | -170 | -130 |    10 | -110 |  -10 |   -40 | -300 | -370 |\n",
       "| 39 | [4, 0, 5, 1, 6, 2, 7, 3] | True          |          0 |       -380 |        380 |               0 | True              | -230 | -230 |  -240 | -290 | -380 |  -180 | -170 | -230 |\n",
       "| 40 | [3, 4, 0, 5, 1, 6, 2, 7] | True          |          0 |       -450 |        450 |               0 | True              |  -80 | -300 |  -360 | -240 | -370 |  -450 | -310 | -440 |\n",
       "| 41 | [4, 0, 5, 1, 6, 2, 7, 3] | True          |          0 |       -420 |        420 |               0 | True              | -420 | -370 |  -370 | -250 | -360 |  -300 | -390 | -260 |\n",
       "| 42 | [7, 3, 4, 0, 5, 1, 6, 2] | True          |          0 |       -500 |        500 |               0 | True              | -160 | -300 |  -450 | -320 | -300 |  -500 | -460 | -440 |\n",
       "| 43 | [1, 6, 2, 7, 3, 4, 0, 5] | True          |         10 |       -410 |        420 |               0 | True              |  -10 | -120 |    10 |  -70 | -160 |  -290 | -260 | -410 |\n",
       "| 44 | [5, 1, 6, 2, 7, 3, 4, 0] | True          |          0 |       -300 |        300 |               0 | True              | -210 | -230 |  -190 | -200 | -300 |  -280 | -300 | -300 |\n",
       "| 45 | [6, 2, 7, 3, 4, 0, 5, 1] | True          |          0 |       -530 |        530 |               0 | True              | -170 | -250 |  -220 | -320 | -490 |  -530 | -380 | -500 |\n",
       "| 46 | [2, 7, 3, 4, 0, 5, 1, 6] | True          |          0 |       -580 |        580 |               2 | True              | -300 | -260 |  -220 | -580 | -560 |  -380 | -440 | -440 |\n",
       "| 47 | [2, 7, 3, 4, 0, 5, 1, 6] | True          |          0 |       -370 |        370 |               0 | True              |  -40 | -100 |  -150 | -320 | -360 |  -350 | -370 | -190 |\n",
       "| 48 | [6, 2, 7, 3, 4, 0, 5, 1] | True          |          0 |       -490 |        490 |               0 | True              | -170 | -220 |  -280 | -120 | -480 |  -400 | -430 | -490 |\n",
       "| 49 | [6, 2, 7, 3, 4, 0, 5, 1] | True          |          0 |       -610 |        610 |               1 | True              | -350 | -190 |  -300 | -330 | -610 |  -450 | -420 | -490 |"
      ],
      "text/plain": [
       "<IPython.core.display.Markdown object>"
      ]
     },
     "metadata": {},
     "output_type": "display_data"
    }
   ],
   "source": [
    "# display all the trial results in a markdown table\n",
    "from IPython.display import display, Markdown\n",
    "display(Markdown(trial_results.to_markdown()))"
   ]
  },
  {
   "cell_type": "code",
   "execution_count": null,
   "metadata": {},
   "outputs": [],
   "source": []
  }
 ],
 "metadata": {
  "kernelspec": {
   "display_name": "passage",
   "language": "python",
   "name": "python3"
  },
  "language_info": {
   "codemirror_mode": {
    "name": "ipython",
    "version": 3
   },
   "file_extension": ".py",
   "mimetype": "text/x-python",
   "name": "python",
   "nbconvert_exporter": "python",
   "pygments_lexer": "ipython3",
   "version": "3.11.1"
  }
 },
 "nbformat": 4,
 "nbformat_minor": 2
}
