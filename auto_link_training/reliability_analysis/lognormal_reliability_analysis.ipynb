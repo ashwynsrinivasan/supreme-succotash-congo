{
 "cells": [
  {
   "cell_type": "code",
   "execution_count": 1,
   "metadata": {},
   "outputs": [],
   "source": [
    "import numpy as np \n",
    "import pandas as pd\n",
    "import matplotlib.pyplot as plt\n",
    "from scipy import stats\n",
    "import scipy.constants as const\n",
    "import os\n",
    "import plotly.express as px\n",
    "from plotly.subplots import make_subplots\n",
    "import plotly.graph_objects as go"
   ]
  },
  {
   "cell_type": "markdown",
   "metadata": {},
   "source": [
    "\\begin{equation}\n",
    "\\rm{MTTF(T_{joule}) = A_{MTTF} \\cdot exp(\\frac{E_A}{k_B T_{joule}})}\n",
    "\\end{equation}\n",
    "\n",
    "\\begin{equation}\n",
    "\\rm{P_{failure, rate}(t, T_{joule})=1-exp(-[\\frac{t}{MTTF(T_{joule})}]^{\\beta})}\n",
    "\\end{equation}\n",
    "\n",
    "\\begin{equation}\n",
    "\\rm{\\tau_{lifetime} = MTTF(T_{joule})[-1 \\cdot log_{e}(1 - P_{failure, rate}(T_{joule}))]^{1/\\beta}}\n",
    "\\end{equation}"
   ]
  },
  {
   "cell_type": "code",
   "execution_count": 2,
   "metadata": {},
   "outputs": [
    {
     "name": "stdout",
     "output_type": "stream",
     "text": [
      "Activation energy is  2.107565747858432 eV\n"
     ]
    },
    {
     "data": {
      "application/vnd.plotly.v1+json": {
       "config": {
        "plotlyServerURL": "https://plot.ly"
       },
       "data": [
        {
         "hovertemplate": "1/kT {1/eV}=%{x}<br>Time to Fail (Hours)=%{y}<extra></extra>",
         "legendgroup": "",
         "line": {
          "color": "#636efa",
          "dash": "solid"
         },
         "marker": {
          "symbol": "circle"
         },
         "mode": "lines",
         "name": "",
         "orientation": "v",
         "showlegend": false,
         "type": "scatter",
         "x": [
          17.41698882,
          17.45229051,
          17.48932025,
          17.49882455,
          17.52289389,
          17.55819558,
          17.59349727,
          17.62879896,
          17.66410065,
          17.69940234,
          17.73470403,
          17.747541,
          17.77000572,
          17.80530741,
          17.84085596,
          17.87591079,
          17.91121248,
          17.94651417,
          17.98181585,
          18.01711754,
          18.05167864,
          18.04760537,
          18.08772092,
          18.12302261,
          18.1583243,
          18.19362599,
          18.22892768,
          18.26422937,
          18.29953106,
          18.33483275,
          18.37013444,
          18.40543613,
          18.44073782,
          18.47603951,
          18.5113412,
          18.54699948,
          18.58194458,
          18.61403703,
          18.61243241,
          18.64933872,
          18.68464041,
          18.7199421,
          18.75524379,
          18.79054548,
          18.82584717,
          18.86114886,
          18.89645055,
          18.93175224,
          18.96705393,
          18.95261233,
          19.00235562,
          19.03765731,
          19.072959,
          19.10826069,
          19.14430297,
          19.16963749,
          19.20132878,
          19.23663047,
          19.27193216,
          19.30723385,
          19.34253554,
          19.37783723,
          19.41313892,
          19.44844061,
          19.4837423,
          19.51904399,
          19.55434568,
          19.58964737,
          19.62571316,
          19.65802896,
          19.69581987,
          19.72082524,
          19.75294128,
          19.7857491,
          19.82273986,
          19.85507077,
          19.85013105,
          19.88810711,
          19.9234088,
          19.96015465,
          19.98866344,
          19.99722142,
          20.03059756,
          20.02733895,
          20.06537966,
          20.05855365,
          20.09028951,
          20.09941052,
          20.12947608,
          20.12238196,
          20.161657,
          20.19918988,
          20.19519169,
          20.1833576,
          20.23149627,
          20.23149627,
          20.26679796,
          20.27107695,
          20.26230502,
          20.30209965,
          20.30049503,
          20.33098285
         ],
         "xaxis": "x",
         "y": [
          4.382936961,
          4.725681213,
          5.056845964,
          4.444786533,
          5.491375648,
          5.928233991,
          6.389146877,
          6.885895172,
          7.433692473,
          8.011652901,
          8.63454904,
          9.806759507,
          9.290317287,
          10.0461898,
          10.66732677,
          11.68372793,
          12.5815934,
          13.55979678,
          14.6201685,
          15.80307307,
          16.9781212,
          14.87306679,
          18.36361928,
          19.81621939,
          21.33904662,
          23.02700916,
          24.85888913,
          26.75803797,
          28.83844245,
          31.14566776,
          33.58124889,
          36.2224401,
          39.07136304,
          42.14435597,
          45.72603576,
          49.75527519,
          53.17942143,
          61.35812539,
          56.84608547,
          60.99985627,
          65.77002528,
          70.88356369,
          76.49059958,
          82.50664441,
          88.92143433,
          96.79418889,
          102.1382831,
          105.1899169,
          120.2222661,
          99.46995709,
          129.5693992,
          139.8771028,
          150.5003516,
          162.6091661,
          172.3373063,
          187.0494546,
          197.93667,
          213.4152535,
          230.3931913,
          248.9299481,
          268.9581177,
          289.6268809,
          312.5369637,
          337.1182377,
          363.0249368,
          392.0688189,
          422.374973,
          456.3034808,
          500.3448663,
          527.7816212,
          562.8322891,
          609.1386959,
          657.4759505,
          691.8649593,
          706.0831628,
          752.3368629,
          672.4283204,
          861.8510964,
          933.2728066,
          981.1568477,
          923.4096135,
          1048.837731,
          1113.105656,
          991.3321873,
          1218.710207,
          1079.009361,
          1336.582876,
          1185.566086,
          1363.290954,
          1180.59998,
          1466.907597,
          1612.327368,
          1351.327892,
          1290.435397,
          1795.013619,
          1528.015637,
          1949.194613,
          1692.914556,
          1599.028904,
          2085.856754,
          1688.247318,
          2212.182721
         ],
         "yaxis": "y"
        }
       ],
       "layout": {
        "height": 400,
        "legend": {
         "tracegroupgap": 0
        },
        "template": {
         "data": {
          "bar": [
           {
            "error_x": {
             "color": "#2a3f5f"
            },
            "error_y": {
             "color": "#2a3f5f"
            },
            "marker": {
             "line": {
              "color": "#E5ECF6",
              "width": 0.5
             },
             "pattern": {
              "fillmode": "overlay",
              "size": 10,
              "solidity": 0.2
             }
            },
            "type": "bar"
           }
          ],
          "barpolar": [
           {
            "marker": {
             "line": {
              "color": "#E5ECF6",
              "width": 0.5
             },
             "pattern": {
              "fillmode": "overlay",
              "size": 10,
              "solidity": 0.2
             }
            },
            "type": "barpolar"
           }
          ],
          "carpet": [
           {
            "aaxis": {
             "endlinecolor": "#2a3f5f",
             "gridcolor": "white",
             "linecolor": "white",
             "minorgridcolor": "white",
             "startlinecolor": "#2a3f5f"
            },
            "baxis": {
             "endlinecolor": "#2a3f5f",
             "gridcolor": "white",
             "linecolor": "white",
             "minorgridcolor": "white",
             "startlinecolor": "#2a3f5f"
            },
            "type": "carpet"
           }
          ],
          "choropleth": [
           {
            "colorbar": {
             "outlinewidth": 0,
             "ticks": ""
            },
            "type": "choropleth"
           }
          ],
          "contour": [
           {
            "colorbar": {
             "outlinewidth": 0,
             "ticks": ""
            },
            "colorscale": [
             [
              0,
              "#0d0887"
             ],
             [
              0.1111111111111111,
              "#46039f"
             ],
             [
              0.2222222222222222,
              "#7201a8"
             ],
             [
              0.3333333333333333,
              "#9c179e"
             ],
             [
              0.4444444444444444,
              "#bd3786"
             ],
             [
              0.5555555555555556,
              "#d8576b"
             ],
             [
              0.6666666666666666,
              "#ed7953"
             ],
             [
              0.7777777777777778,
              "#fb9f3a"
             ],
             [
              0.8888888888888888,
              "#fdca26"
             ],
             [
              1,
              "#f0f921"
             ]
            ],
            "type": "contour"
           }
          ],
          "contourcarpet": [
           {
            "colorbar": {
             "outlinewidth": 0,
             "ticks": ""
            },
            "type": "contourcarpet"
           }
          ],
          "heatmap": [
           {
            "colorbar": {
             "outlinewidth": 0,
             "ticks": ""
            },
            "colorscale": [
             [
              0,
              "#0d0887"
             ],
             [
              0.1111111111111111,
              "#46039f"
             ],
             [
              0.2222222222222222,
              "#7201a8"
             ],
             [
              0.3333333333333333,
              "#9c179e"
             ],
             [
              0.4444444444444444,
              "#bd3786"
             ],
             [
              0.5555555555555556,
              "#d8576b"
             ],
             [
              0.6666666666666666,
              "#ed7953"
             ],
             [
              0.7777777777777778,
              "#fb9f3a"
             ],
             [
              0.8888888888888888,
              "#fdca26"
             ],
             [
              1,
              "#f0f921"
             ]
            ],
            "type": "heatmap"
           }
          ],
          "heatmapgl": [
           {
            "colorbar": {
             "outlinewidth": 0,
             "ticks": ""
            },
            "colorscale": [
             [
              0,
              "#0d0887"
             ],
             [
              0.1111111111111111,
              "#46039f"
             ],
             [
              0.2222222222222222,
              "#7201a8"
             ],
             [
              0.3333333333333333,
              "#9c179e"
             ],
             [
              0.4444444444444444,
              "#bd3786"
             ],
             [
              0.5555555555555556,
              "#d8576b"
             ],
             [
              0.6666666666666666,
              "#ed7953"
             ],
             [
              0.7777777777777778,
              "#fb9f3a"
             ],
             [
              0.8888888888888888,
              "#fdca26"
             ],
             [
              1,
              "#f0f921"
             ]
            ],
            "type": "heatmapgl"
           }
          ],
          "histogram": [
           {
            "marker": {
             "pattern": {
              "fillmode": "overlay",
              "size": 10,
              "solidity": 0.2
             }
            },
            "type": "histogram"
           }
          ],
          "histogram2d": [
           {
            "colorbar": {
             "outlinewidth": 0,
             "ticks": ""
            },
            "colorscale": [
             [
              0,
              "#0d0887"
             ],
             [
              0.1111111111111111,
              "#46039f"
             ],
             [
              0.2222222222222222,
              "#7201a8"
             ],
             [
              0.3333333333333333,
              "#9c179e"
             ],
             [
              0.4444444444444444,
              "#bd3786"
             ],
             [
              0.5555555555555556,
              "#d8576b"
             ],
             [
              0.6666666666666666,
              "#ed7953"
             ],
             [
              0.7777777777777778,
              "#fb9f3a"
             ],
             [
              0.8888888888888888,
              "#fdca26"
             ],
             [
              1,
              "#f0f921"
             ]
            ],
            "type": "histogram2d"
           }
          ],
          "histogram2dcontour": [
           {
            "colorbar": {
             "outlinewidth": 0,
             "ticks": ""
            },
            "colorscale": [
             [
              0,
              "#0d0887"
             ],
             [
              0.1111111111111111,
              "#46039f"
             ],
             [
              0.2222222222222222,
              "#7201a8"
             ],
             [
              0.3333333333333333,
              "#9c179e"
             ],
             [
              0.4444444444444444,
              "#bd3786"
             ],
             [
              0.5555555555555556,
              "#d8576b"
             ],
             [
              0.6666666666666666,
              "#ed7953"
             ],
             [
              0.7777777777777778,
              "#fb9f3a"
             ],
             [
              0.8888888888888888,
              "#fdca26"
             ],
             [
              1,
              "#f0f921"
             ]
            ],
            "type": "histogram2dcontour"
           }
          ],
          "mesh3d": [
           {
            "colorbar": {
             "outlinewidth": 0,
             "ticks": ""
            },
            "type": "mesh3d"
           }
          ],
          "parcoords": [
           {
            "line": {
             "colorbar": {
              "outlinewidth": 0,
              "ticks": ""
             }
            },
            "type": "parcoords"
           }
          ],
          "pie": [
           {
            "automargin": true,
            "type": "pie"
           }
          ],
          "scatter": [
           {
            "fillpattern": {
             "fillmode": "overlay",
             "size": 10,
             "solidity": 0.2
            },
            "type": "scatter"
           }
          ],
          "scatter3d": [
           {
            "line": {
             "colorbar": {
              "outlinewidth": 0,
              "ticks": ""
             }
            },
            "marker": {
             "colorbar": {
              "outlinewidth": 0,
              "ticks": ""
             }
            },
            "type": "scatter3d"
           }
          ],
          "scattercarpet": [
           {
            "marker": {
             "colorbar": {
              "outlinewidth": 0,
              "ticks": ""
             }
            },
            "type": "scattercarpet"
           }
          ],
          "scattergeo": [
           {
            "marker": {
             "colorbar": {
              "outlinewidth": 0,
              "ticks": ""
             }
            },
            "type": "scattergeo"
           }
          ],
          "scattergl": [
           {
            "marker": {
             "colorbar": {
              "outlinewidth": 0,
              "ticks": ""
             }
            },
            "type": "scattergl"
           }
          ],
          "scattermapbox": [
           {
            "marker": {
             "colorbar": {
              "outlinewidth": 0,
              "ticks": ""
             }
            },
            "type": "scattermapbox"
           }
          ],
          "scatterpolar": [
           {
            "marker": {
             "colorbar": {
              "outlinewidth": 0,
              "ticks": ""
             }
            },
            "type": "scatterpolar"
           }
          ],
          "scatterpolargl": [
           {
            "marker": {
             "colorbar": {
              "outlinewidth": 0,
              "ticks": ""
             }
            },
            "type": "scatterpolargl"
           }
          ],
          "scatterternary": [
           {
            "marker": {
             "colorbar": {
              "outlinewidth": 0,
              "ticks": ""
             }
            },
            "type": "scatterternary"
           }
          ],
          "surface": [
           {
            "colorbar": {
             "outlinewidth": 0,
             "ticks": ""
            },
            "colorscale": [
             [
              0,
              "#0d0887"
             ],
             [
              0.1111111111111111,
              "#46039f"
             ],
             [
              0.2222222222222222,
              "#7201a8"
             ],
             [
              0.3333333333333333,
              "#9c179e"
             ],
             [
              0.4444444444444444,
              "#bd3786"
             ],
             [
              0.5555555555555556,
              "#d8576b"
             ],
             [
              0.6666666666666666,
              "#ed7953"
             ],
             [
              0.7777777777777778,
              "#fb9f3a"
             ],
             [
              0.8888888888888888,
              "#fdca26"
             ],
             [
              1,
              "#f0f921"
             ]
            ],
            "type": "surface"
           }
          ],
          "table": [
           {
            "cells": {
             "fill": {
              "color": "#EBF0F8"
             },
             "line": {
              "color": "white"
             }
            },
            "header": {
             "fill": {
              "color": "#C8D4E3"
             },
             "line": {
              "color": "white"
             }
            },
            "type": "table"
           }
          ]
         },
         "layout": {
          "annotationdefaults": {
           "arrowcolor": "#2a3f5f",
           "arrowhead": 0,
           "arrowwidth": 1
          },
          "autotypenumbers": "strict",
          "coloraxis": {
           "colorbar": {
            "outlinewidth": 0,
            "ticks": ""
           }
          },
          "colorscale": {
           "diverging": [
            [
             0,
             "#8e0152"
            ],
            [
             0.1,
             "#c51b7d"
            ],
            [
             0.2,
             "#de77ae"
            ],
            [
             0.3,
             "#f1b6da"
            ],
            [
             0.4,
             "#fde0ef"
            ],
            [
             0.5,
             "#f7f7f7"
            ],
            [
             0.6,
             "#e6f5d0"
            ],
            [
             0.7,
             "#b8e186"
            ],
            [
             0.8,
             "#7fbc41"
            ],
            [
             0.9,
             "#4d9221"
            ],
            [
             1,
             "#276419"
            ]
           ],
           "sequential": [
            [
             0,
             "#0d0887"
            ],
            [
             0.1111111111111111,
             "#46039f"
            ],
            [
             0.2222222222222222,
             "#7201a8"
            ],
            [
             0.3333333333333333,
             "#9c179e"
            ],
            [
             0.4444444444444444,
             "#bd3786"
            ],
            [
             0.5555555555555556,
             "#d8576b"
            ],
            [
             0.6666666666666666,
             "#ed7953"
            ],
            [
             0.7777777777777778,
             "#fb9f3a"
            ],
            [
             0.8888888888888888,
             "#fdca26"
            ],
            [
             1,
             "#f0f921"
            ]
           ],
           "sequentialminus": [
            [
             0,
             "#0d0887"
            ],
            [
             0.1111111111111111,
             "#46039f"
            ],
            [
             0.2222222222222222,
             "#7201a8"
            ],
            [
             0.3333333333333333,
             "#9c179e"
            ],
            [
             0.4444444444444444,
             "#bd3786"
            ],
            [
             0.5555555555555556,
             "#d8576b"
            ],
            [
             0.6666666666666666,
             "#ed7953"
            ],
            [
             0.7777777777777778,
             "#fb9f3a"
            ],
            [
             0.8888888888888888,
             "#fdca26"
            ],
            [
             1,
             "#f0f921"
            ]
           ]
          },
          "colorway": [
           "#636efa",
           "#EF553B",
           "#00cc96",
           "#ab63fa",
           "#FFA15A",
           "#19d3f3",
           "#FF6692",
           "#B6E880",
           "#FF97FF",
           "#FECB52"
          ],
          "font": {
           "color": "#2a3f5f"
          },
          "geo": {
           "bgcolor": "white",
           "lakecolor": "white",
           "landcolor": "#E5ECF6",
           "showlakes": true,
           "showland": true,
           "subunitcolor": "white"
          },
          "hoverlabel": {
           "align": "left"
          },
          "hovermode": "closest",
          "mapbox": {
           "style": "light"
          },
          "paper_bgcolor": "white",
          "plot_bgcolor": "#E5ECF6",
          "polar": {
           "angularaxis": {
            "gridcolor": "white",
            "linecolor": "white",
            "ticks": ""
           },
           "bgcolor": "#E5ECF6",
           "radialaxis": {
            "gridcolor": "white",
            "linecolor": "white",
            "ticks": ""
           }
          },
          "scene": {
           "xaxis": {
            "backgroundcolor": "#E5ECF6",
            "gridcolor": "white",
            "gridwidth": 2,
            "linecolor": "white",
            "showbackground": true,
            "ticks": "",
            "zerolinecolor": "white"
           },
           "yaxis": {
            "backgroundcolor": "#E5ECF6",
            "gridcolor": "white",
            "gridwidth": 2,
            "linecolor": "white",
            "showbackground": true,
            "ticks": "",
            "zerolinecolor": "white"
           },
           "zaxis": {
            "backgroundcolor": "#E5ECF6",
            "gridcolor": "white",
            "gridwidth": 2,
            "linecolor": "white",
            "showbackground": true,
            "ticks": "",
            "zerolinecolor": "white"
           }
          },
          "shapedefaults": {
           "line": {
            "color": "#2a3f5f"
           }
          },
          "ternary": {
           "aaxis": {
            "gridcolor": "white",
            "linecolor": "white",
            "ticks": ""
           },
           "baxis": {
            "gridcolor": "white",
            "linecolor": "white",
            "ticks": ""
           },
           "bgcolor": "#E5ECF6",
           "caxis": {
            "gridcolor": "white",
            "linecolor": "white",
            "ticks": ""
           }
          },
          "title": {
           "x": 0.05
          },
          "xaxis": {
           "automargin": true,
           "gridcolor": "white",
           "linecolor": "white",
           "ticks": "",
           "title": {
            "standoff": 15
           },
           "zerolinecolor": "white",
           "zerolinewidth": 2
          },
          "yaxis": {
           "automargin": true,
           "gridcolor": "white",
           "linecolor": "white",
           "ticks": "",
           "title": {
            "standoff": 15
           },
           "zerolinecolor": "white",
           "zerolinewidth": 2
          }
         }
        },
        "title": {
         "text": "Fig(6): TTF vs kT"
        },
        "width": 800,
        "xaxis": {
         "anchor": "y",
         "domain": [
          0,
          1
         ],
         "title": {
          "text": "1/kT {1/eV}"
         },
         "type": "log"
        },
        "yaxis": {
         "anchor": "x",
         "domain": [
          0,
          1
         ],
         "title": {
          "text": "Time to Fail (Hours)"
         },
         "type": "log"
        }
       }
      }
     },
     "metadata": {},
     "output_type": "display_data"
    }
   ],
   "source": [
    "''''\n",
    "Extracted data from Fig 6 and plotting the results\n",
    "'''\n",
    "\n",
    "figure_6 = pd.read_csv('ttf_vs_kT.csv')\n",
    "figure_6[\"T\"] = 1 / figure_6[\"kT\"] * const.eV / const.k - const.zero_Celsius\n",
    "Ea_fit = np.polyfit(figure_6[\"kT\"], np.log(figure_6[\"TTF\"]), 1)\n",
    "kTinv_array = np.linspace(17, 20.5, 100)\n",
    "mttf_fit = np.polyval(Ea_fit, kTinv_array)\n",
    "print(\"Activation energy is \", Ea_fit[0], \"eV\")\n",
    "px.line(figure_6, x='kT', y='TTF', title='Fig(6): TTF vs kT', labels={\"kT\":\"1/kT {1/eV}\", \"TTF\":\"Time to Fail (Hours)\"}, log_x=True, log_y=True, width=800, height=400).show()"
   ]
  },
  {
   "cell_type": "code",
   "execution_count": 3,
   "metadata": {},
   "outputs": [
    {
     "name": "stdout",
     "output_type": "stream",
     "text": [
      "Activation energy is  1.966256206948785 eV\n",
      "Amttf_fit 8.88893341469434e-15\n"
     ]
    },
    {
     "data": {
      "image/png": "[encoded data removed]",
      "text/plain": [
       "<Figure size 1500x400 with 2 Axes>"
      ]
     },
     "metadata": {},
     "output_type": "display_data"
    }
   ],
   "source": [
    "plt.figure(figsize=(15,4))\n",
    "plt.subplot(121)\n",
    "for mu_exp in [11, 240, 1025]:\n",
    "       # plt.subplot(121)\n",
    "       sigma = 0.4\n",
    "       size = 100001\n",
    "       s = stats.lognorm(s=sigma, scale=mu_exp)\n",
    "       plt.axis('tight')\n",
    "       s_rvs = s.rvs(size=size)\n",
    "       plt.ecdf(s_rvs, linewidth=3.0, label=f'mu={mu_exp}, sigma={sigma}')\n",
    "       plt.xscale('log')\n",
    "       plt.legend()\n",
    "       plt.yticks(np.arange(0, 1.1, 0.1))\n",
    "       plt.grid(True, which=\"both\", ls=\"--\")\n",
    "       plt.xlim([1, 2e3])\n",
    "       plt.ylim([0, 1])\n",
    "       plt.xlabel('ttf (a.u.)')\n",
    "       plt.ylabel(\"Failure Probability\")\n",
    "plt.title('Failure Probability vs Time to Fail')\n",
    "mttf = np.array([11, 240, 1025])\n",
    "T_joule = np.array([383, 331, 307]) + const.zero_Celsius\n",
    "kTinv = np.array([(const.eV / T  / const.k) for T in T_joule])\n",
    "Ea_fit = np.polyfit(kTinv, np.log(mttf), 1)\n",
    "kTinv_array = np.linspace(17, 20.5, 100)\n",
    "mttf_fit = np.polyval(Ea_fit, kTinv_array)\n",
    "print(\"Activation energy is \", Ea_fit[0], \"eV\")\n",
    "print(\"Amttf_fit\", np.exp(Ea_fit[1]))\n",
    "plt.subplot(122)\n",
    "plt.plot(kTinv_array, np.exp(mttf_fit), label=r'Fit with $E_{A}$='+f'{Ea_fit[0]:0.3f} eV, A={np.exp(Ea_fit[1])*1e15:0.1f}'+r'$\\times$ 10$^{-15}$ hours')\n",
    "plt.semilogy(kTinv , mttf, 'o', label='mu={11, 240, 1025}')\n",
    "plt.xlim([17, 20.5])\n",
    "plt.ylim([5, 3000])\n",
    "plt.xlabel('1/kT (1/eV)')\n",
    "plt.ylabel('Time to Fail (Hours)')\n",
    "plt.title(r'TTF vs Temperature')\n",
    "plt.grid(True)\n",
    "plt.legend()\n",
    "plt.show()"
   ]
  },
  {
   "cell_type": "code",
   "execution_count": 4,
   "metadata": {},
   "outputs": [
    {
     "data": {
      "text/plain": [
       "array([  11.25470335,  224.50453608, 1070.94858103])"
      ]
     },
     "execution_count": 4,
     "metadata": {},
     "output_type": "execute_result"
    }
   ],
   "source": [
    "mu_fit = np.exp(Ea_fit[1]) * np.exp(Ea_fit[0] * kTinv)\n",
    "mu_fit"
   ]
  },
  {
   "cell_type": "code",
   "execution_count": 5,
   "metadata": {},
   "outputs": [
    {
     "data": {
      "text/plain": [
       "8.88893341469434e-15"
      ]
     },
     "execution_count": 5,
     "metadata": {},
     "output_type": "execute_result"
    }
   ],
   "source": [
    "np.exp(Ea_fit[1])"
   ]
  },
  {
   "cell_type": "code",
   "execution_count": 8,
   "metadata": {},
   "outputs": [
    {
     "data": {
      "image/png": "[encoded data removed]",
      "text/plain": [
       "<Figure size 750x400 with 1 Axes>"
      ]
     },
     "metadata": {},
     "output_type": "display_data"
    }
   ],
   "source": [
    "T_range = np.linspace(200, 300, num=11) + const.zero_Celsius\n",
    "kTinv_range = const.eV / T_range / const.k\n",
    "\n",
    "fit_factor = 22\n",
    "# fit_factor = 1\n",
    "\n",
    "mttf_range = np.exp(Ea_fit[1]) * np.exp(Ea_fit[0] * kTinv_range)*fit_factor\n",
    "sigma = 0.4\n",
    "\n",
    "size = 10001\n",
    "\n",
    "lifetime_years = np.zeros((len(T_range), 3))\n",
    "\n",
    "for idx in range(len(T_range)):\n",
    "      s = stats.lognorm(s=sigma, scale=mttf_range[idx])\n",
    "      lifetime_years[idx, 0] = s.ppf(1e-9)/24/365\n",
    "      lifetime_years[idx, 1] = s.ppf(1e-6)/24/365\n",
    "      lifetime_years[idx, 2] = s.ppf(1e-3)/24/365\n",
    "      \n",
    "plt.figure(figsize=(7.5, 4))\n",
    "plt.plot(T_range - const.zero_Celsius, lifetime_years[:, 0], linewidth=2.0, label=r'1defect/10$^{9}$')\n",
    "plt.plot(T_range - const.zero_Celsius, lifetime_years[:, 1], linewidth=2.0, label=r'1defect/10$^{6}$')\n",
    "plt.plot(T_range - const.zero_Celsius, lifetime_years[:, 2], linewidth=2.0, label=r'1defect/10$^{3}$')\n",
    "plt.legend()\n",
    "plt.ylim(0.1, 3000)\n",
    "plt.grid(True, which=\"both\", ls=\"--\")\n",
    "plt.yscale('log')\n",
    "plt.xlabel('Heater Temperature (°C)')\n",
    "plt.ylabel('Lifetime (Years)')\n",
    "plt.title(r'Lifetime vs Heater Temperature for E$_{A}$ = '+f'{Ea_fit[0]:0.3f} eV')\n",
    "plt.show()"
   ]
  },
  {
   "cell_type": "code",
   "execution_count": 12,
   "metadata": {},
   "outputs": [
    {
     "data": {
      "text/plain": [
       "1.1922774928222672"
      ]
     },
     "execution_count": 12,
     "metadata": {},
     "output_type": "execute_result"
    }
   ],
   "source": [
    "s.cdf(1*24*365)*1e4"
   ]
  },
  {
   "cell_type": "code",
   "execution_count": null,
   "metadata": {},
   "outputs": [],
   "source": []
  }
 ],
 "metadata": {
  "kernelspec": {
   "display_name": "lmpython",
   "language": "python",
   "name": "python3"
  },
  "language_info": {
   "codemirror_mode": {
    "name": "ipython",
    "version": 3
   },
   "file_extension": ".py",
   "mimetype": "text/x-python",
   "name": "python",
   "nbconvert_exporter": "python",
   "pygments_lexer": "ipython3",
   "version": "3.12.4"
  }
 },
 "nbformat": 4,
 "nbformat_minor": 2
}
