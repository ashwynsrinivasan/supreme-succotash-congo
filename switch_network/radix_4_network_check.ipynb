{
 "cells": [
  {
   "cell_type": "code",
   "execution_count": 1,
   "metadata": {},
   "outputs": [],
   "source": [
    "import numpy as np\n",
    "from tqdm import tqdm\n",
    "from itertools import product\n",
    "from scipy.optimize import minimize\n",
    "import matplotlib.pyplot as plt"
   ]
  },
  {
   "cell_type": "code",
   "execution_count": 2,
   "metadata": {},
   "outputs": [],
   "source": [
    "def switch_4x4(phase, input_state = np.array([1, 0, 0, 0])):\n",
    "  # T_mmi_4x4 = 1/2*np.array([\n",
    "  #   [1, -np.exp(-1j*np.pi/4), np.exp(-1j*np.pi/4), 1],\n",
    "  #   [-np.exp(-1j*np.pi/4), 1, 1, np.exp(-1j*np.pi/4)],\n",
    "  #   [np.exp(1j*np.pi/4), 1, 1, -np.exp(1j*np.pi/4)],\n",
    "  #   [1, np.exp(1j*np.pi/4), -np.exp(1j*np.pi/4), 1]\n",
    "  # ])  \n",
    "  T_mmi_4x4 = 1/2*np.array([\n",
    "    [1, -np.exp(-1j*np.pi/4), np.exp(1j*np.pi/4), 1],\n",
    "    [-np.exp(-1j*np.pi/4), 1, 1, np.exp(-1j*np.pi/4)],\n",
    "    [np.exp(-1j*np.pi/4), 1, 1, -np.exp(-1j*np.pi/4)],\n",
    "    [1, np.exp(-1j*np.pi/4), -np.exp(-1j*np.pi/4), 1]\n",
    "  ])\n",
    "\n",
    "  T_ps_4x4 = np.array([\n",
    "    [np.exp(1j*phase[0]), 0, 0, 0],\n",
    "    [0, np.exp(1j*phase[1]), 0, 0],\n",
    "    [0, 0, np.exp(1j*phase[2]), 0],\n",
    "    [0, 0, 0, np.exp(1j*phase[3])]\n",
    "  ])\n",
    "\n",
    "  output_state = T_mmi_4x4 @ T_ps_4x4 @ T_mmi_4x4 @ input_state\n",
    "\n",
    "  return output_state  \n",
    "\n",
    "def optimization_func(phase, input_state = np.array([1, 0, 0, 0]), target_state = np.array([0, 1, 0, 0])):\n",
    "  output_state = switch_4x4(phase, input_state)\n",
    "  fidelity = 0\n",
    "  for idd_state, idd_state_value in enumerate(target_state):\n",
    "    if idd_state_value == 0:\n",
    "      fidelity += 1-np.abs(output_state[idd_state])**2\n",
    "    else:\n",
    "      fidelity += np.abs(output_state[idd_state])**2\n",
    "  return -fidelity"
   ]
  },
  {
   "cell_type": "code",
   "execution_count": 3,
   "metadata": {},
   "outputs": [],
   "source": [
    "def minimize_value(input_state, output_state):\n",
    "  fidelity_values = []\n",
    "  num_range = 21\n",
    "  phase = np.linspace(0, 2*np.pi, num_range)\n",
    "  for phase_1, phase_2, phase_3, phase_4 in product(phase, phase, phase, phase):\n",
    "    fidelity_values.append(optimization_func([phase_1, phase_2, phase_3, phase_4], input_state, output_state))\n",
    "  \n",
    "  fidelity_values = np.array(fidelity_values)\n",
    "\n",
    "  for idd_1, idd_2, idd_3, idd_4 in product(range(num_range), range(num_range), range(num_range), range(num_range)):\n",
    "    if fidelity_values[idd_1*num_range**3 + idd_2*num_range**2 + idd_3*num_range + idd_4] == np.min(fidelity_values):\n",
    "      phase_value = [phase[idd_1], phase[idd_2], phase[idd_3], phase[idd_4]]\n",
    "      break\n",
    "  return phase_value"
   ]
  },
  {
   "cell_type": "code",
   "execution_count": 4,
   "metadata": {},
   "outputs": [
    {
     "data": {
      "text/plain": [
       "2"
      ]
     },
     "execution_count": 4,
     "metadata": {},
     "output_type": "execute_result"
    }
   ],
   "source": [
    "A = np.random.rand(4,4)\n",
    "np.argmin(A)"
   ]
  },
  {
   "cell_type": "code",
   "execution_count": 5,
   "metadata": {},
   "outputs": [
    {
     "name": "stderr",
     "output_type": "stream",
     "text": [
      "100%|██████████| 16/16 [03:23<00:00, 12.69s/it]\n"
     ]
    }
   ],
   "source": [
    "bounds = [(0, 2*np.pi)]*4\n",
    "params = {}\n",
    "idd = 0\n",
    "\n",
    "binary_list = []\n",
    "\n",
    "for number in range(2**4):\n",
    "    binary_value = '{0:04b}'.format(number)\n",
    "    zeros = 0\n",
    "    ones = 0\n",
    "    binary_list.append(binary_value)\n",
    "\n",
    "for input_binary in tqdm(binary_list, total=len(binary_list)):\n",
    "    zeros = 0\n",
    "    ones = 0\n",
    "    for number in range(len(input_binary)):\n",
    "        if input_binary[number] == '0':\n",
    "            zeros += 1\n",
    "        else:\n",
    "            ones += 1\n",
    "    output_binary_list = []\n",
    "    for number in range(2**4):\n",
    "        binary_value = '{0:04b}'.format(number)\n",
    "        zeros_ = 0\n",
    "        ones = 0\n",
    "        for number in range(len(binary_value)):\n",
    "            if binary_value[number] == '0':\n",
    "                zeros_ += 1\n",
    "            else:\n",
    "                ones += 1\n",
    "        if zeros == zeros_ and ones == ones:\n",
    "            output_binary_list.append(binary_value)\n",
    "    for output_binary in output_binary_list:\n",
    "        input_state = np.array([int(x) for x in input_binary])\n",
    "        output_state = np.array([int(x) for x in output_binary])\n",
    "        phase_value = minimize_value(input_state, output_state)\n",
    "        # params = minimize(optimization_func, phase_value, args=(input_state, output_state), method='SLSQP', bounds=bounds)\n",
    "        # Phase = np.array(phase_value)\n",
    "        fidelity = -optimization_func(phase_value, input_state, output_state)\n",
    "        params[idd] = {\n",
    "            \"input_state_ideal\": input_state,\n",
    "            \"output_state_ideal\": output_state,\n",
    "            \"output_state_optimized\": switch_4x4(phase_value, input_state),\n",
    "            \"phase_params\": phase_value,\n",
    "            \"fidelity\": fidelity\n",
    "        }\n",
    "\n",
    "        idd += 1"
   ]
  },
  {
   "cell_type": "code",
   "execution_count": 6,
   "metadata": {},
   "outputs": [],
   "source": [
    "fidelity_list = []\n",
    "for key, values in params.items():\n",
    "    fidelity_list.append(values[\"fidelity\"])"
   ]
  },
  {
   "cell_type": "code",
   "execution_count": 7,
   "metadata": {},
   "outputs": [
    {
     "data": {
      "text/plain": [
       "[<matplotlib.lines.Line2D at 0x13a46df10>]"
      ]
     },
     "execution_count": 7,
     "metadata": {},
     "output_type": "execute_result"
    },
    {
     "data": {
      "image/png": "[encoded data removed]",
      "text/plain": [
       "<Figure size 640x480 with 1 Axes>"
      ]
     },
     "metadata": {},
     "output_type": "display_data"
    }
   ],
   "source": [
    "plt.plot(fidelity_list)"
   ]
  },
  {
   "cell_type": "code",
   "execution_count": 8,
   "metadata": {},
   "outputs": [
    {
     "data": {
      "text/plain": [
       "[4.0,\n",
       " 3.915546635815102,\n",
       " 3.9033107648888907,\n",
       " 3.9033107648888903,\n",
       " 3.773800842500283,\n",
       " 3.915546635815102,\n",
       " 3.9033107648888903,\n",
       " 3.9033107648888903,\n",
       " 3.773800842500283,\n",
       " 3.933498948381337,\n",
       " 3.9448679942989955,\n",
       " 3.4058389686033754,\n",
       " 3.60787748610484,\n",
       " 4.41439181299403,\n",
       " 4.056927331012213,\n",
       " 3.915546635815102,\n",
       " 3.9033107648888907,\n",
       " 3.9033107648888903,\n",
       " 3.773800842500283,\n",
       " 3.9386525299725794,\n",
       " 3.9444412383328493,\n",
       " 3.4125542776223448,\n",
       " 3.619661058808892,\n",
       " 4.051817423752525,\n",
       " 4.421707223780819,\n",
       " 4.124985897776441,\n",
       " 3.716180884523865,\n",
       " 4.0810932716302055,\n",
       " 4.081093271630205,\n",
       " 4.801310743854895,\n",
       " 3.6055650134826283,\n",
       " 4.364116961057536,\n",
       " 5.313369064447861,\n",
       " 5.352514652473773,\n",
       " 5.8116061616507215,\n",
       " 3.915546635815102,\n",
       " 3.9033107648888907,\n",
       " 3.9033107648888907,\n",
       " 3.773800842500283,\n",
       " 2.000000000000001,\n",
       " 2.000000000000001,\n",
       " 4.000000000000001,\n",
       " 4.0,\n",
       " 2.000000000000001,\n",
       " 2.0000000000000004,\n",
       " 3.667203004604512,\n",
       " 3.7810953414115014,\n",
       " 3.6157605281046328,\n",
       " 4.103524657178421,\n",
       " 4.252918698197196,\n",
       " 3.6302959030783573,\n",
       " 3.937327112864871,\n",
       " 4.862428095890553,\n",
       " 4.690477843860845,\n",
       " 4.284105852946136,\n",
       " 3.781767172811721,\n",
       " 3.6642319905202925,\n",
       " 3.6196610588088927,\n",
       " 4.119661058808893,\n",
       " 3.6321433933372615,\n",
       " 4.26472585337342,\n",
       " 3.9373055829463217,\n",
       " 4.698528296104464,\n",
       " 4.852380099094099,\n",
       " 4.286506144613178,\n",
       " 4.010562694838137,\n",
       " 5.8355985563215045,\n",
       " 5.653510615530828,\n",
       " 5.4669602622457685,\n",
       " 6.77146193348418]"
      ]
     },
     "execution_count": 8,
     "metadata": {},
     "output_type": "execute_result"
    }
   ],
   "source": [
    "fidelity_list"
   ]
  },
  {
   "cell_type": "code",
   "execution_count": null,
   "metadata": {},
   "outputs": [],
   "source": []
  }
 ],
 "metadata": {
  "kernelspec": {
   "display_name": "lmphoton",
   "language": "python",
   "name": "python3"
  },
  "language_info": {
   "codemirror_mode": {
    "name": "ipython",
    "version": 3
   },
   "file_extension": ".py",
   "mimetype": "text/x-python",
   "name": "python",
   "nbconvert_exporter": "python",
   "pygments_lexer": "ipython3",
   "version": "3.11.5"
  }
 },
 "nbformat": 4,
 "nbformat_minor": 2
}
