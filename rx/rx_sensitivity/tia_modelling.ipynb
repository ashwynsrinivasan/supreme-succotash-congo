{
 "cells": [
  {
   "cell_type": "code",
   "execution_count": 1,
   "metadata": {},
   "outputs": [],
   "source": [
    "import numpy as np\n",
    "import matplotlib.pyplot as plt\n",
    "from scipy import constants as const\n",
    "import scipy\n",
    "from scipy.special import erfc\n",
    "import pandas as pd"
   ]
  },
  {
   "cell_type": "code",
   "execution_count": 2,
   "metadata": {},
   "outputs": [],
   "source": [
    "johnson_nyquist_noise = lambda R, T, B: np.sqrt(4 * const.k * T / R * B)\n",
    "johnson_nyquist_noise_psd = lambda R, T: 4 * const.k * T / R\n",
    "johnson_nyquist_noise_rms = lambda R, T: np.sqrt(4 * const.k * T / R)"
   ]
  },
  {
   "cell_type": "markdown",
   "metadata": {},
   "source": [
    "## IMEC 2018"
   ]
  },
  {
   "cell_type": "code",
   "execution_count": 3,
   "metadata": {},
   "outputs": [
    {
     "name": "stdout",
     "output_type": "stream",
     "text": [
      "imec Transimpedance: 3162.28 Ohms\n",
      "imec Inpur Referred Noise: 2.70 uArms\n"
     ]
    }
   ],
   "source": [
    "imec_rfb = 380 \n",
    "imec_bw = 44e9\n",
    "imec_temp = 300\n",
    "\n",
    "imec_transimpedance_gain = 70 # dBOhms\n",
    "imec_transimpedance = 10 ** (imec_transimpedance_gain / 20)\n",
    "print(f\"imec Transimpedance: {imec_transimpedance:0.2f} Ohms\")\n",
    "\n",
    "imec_irn = 2.7e-6\n",
    "print(f\"imec Inpur Referred Noise: {imec_irn*1e6:0.2f} uArms\")"
   ]
  },
  {
   "cell_type": "code",
   "execution_count": 4,
   "metadata": {},
   "outputs": [
    {
     "name": "stdout",
     "output_type": "stream",
     "text": [
      "imec Transimpedance Noise: 0.48 uArms\n",
      "imec Transimpedance Noise fraction of IRN: 17.78 %\n"
     ]
    }
   ],
   "source": [
    "imec_transimpedance_noise = johnson_nyquist_noise(imec_transimpedance, imec_temp, imec_bw)\n",
    "print(f\"imec Transimpedance Noise: {imec_transimpedance_noise*1e6:0.2f} uArms\")\n",
    "\n",
    "imec_transimpendance_irn = imec_transimpedance_noise / imec_irn\n",
    "print(f\"imec Transimpedance Noise fraction of IRN: {imec_transimpendance_irn*100:0.2f} %\")"
   ]
  },
  {
   "cell_type": "code",
   "execution_count": 5,
   "metadata": {},
   "outputs": [
    {
     "name": "stdout",
     "output_type": "stream",
     "text": [
      "imec Johnson Nyquist Noise: 0.98 uArms PSD: 43.60 sq(pA)/sqrt(Hz) RMS: 6.60 pA\n",
      "imec Johnson Nyquist Noise fraction of IRN: 36.27 %\n"
     ]
    }
   ],
   "source": [
    "imec_jn = johnson_nyquist_noise(imec_rfb, imec_temp, imec_bw) / np.sqrt(2) # TIA is designed differentially\n",
    "imec_jn_psd = johnson_nyquist_noise_psd(imec_rfb, imec_temp)\n",
    "imec_jn_rms = johnson_nyquist_noise_rms(imec_rfb, imec_temp)\n",
    "\n",
    "print(f\"imec Johnson Nyquist Noise: {imec_jn*1e6:.2f} uArms\", f\"PSD: {imec_jn_psd*1e24:.2f} sq(pA)/sqrt(Hz)\", f\"RMS: {imec_jn_rms*1e12:.2f} pA\")\n",
    "\n",
    "imec_rfb_irn = imec_jn / imec_irn\n",
    "print(f\"imec Johnson Nyquist Noise fraction of IRN: {imec_rfb_irn*100:.2f} %\")"
   ]
  },
  {
   "cell_type": "markdown",
   "metadata": {},
   "source": [
    "## AMD SSC 2020"
   ]
  },
  {
   "cell_type": "code",
   "execution_count": 6,
   "metadata": {},
   "outputs": [
    {
     "name": "stdout",
     "output_type": "stream",
     "text": [
      "amd Transimpedance: 1496.24 Ohms\n",
      "amd Inpur Referred Noise: 3.50 uArms\n"
     ]
    }
   ],
   "source": [
    "amd_rfb = 420\n",
    "amd_bw = 35e9\n",
    "amd_temp = 300\n",
    "\n",
    "amd_transimpedance_gain = 63.5 # dBOhms\n",
    "amd_transimpedance = 10 ** (amd_transimpedance_gain / 20)\n",
    "print(f\"amd Transimpedance: {amd_transimpedance:0.2f} Ohms\")\n",
    "\n",
    "amd_irn = 3.5e-6\n",
    "print(f\"amd Inpur Referred Noise: {amd_irn*1e6:0.2f} uArms\")"
   ]
  },
  {
   "cell_type": "code",
   "execution_count": 7,
   "metadata": {},
   "outputs": [
    {
     "name": "stdout",
     "output_type": "stream",
     "text": [
      "amd Transimpedance Noise: 0.62 uArms\n",
      "amd Transimpedance Noise fraction of IRN: 17.79 %\n"
     ]
    }
   ],
   "source": [
    "amd_transimpedance_noise = johnson_nyquist_noise(amd_transimpedance, amd_temp, amd_bw)\n",
    "print(f\"amd Transimpedance Noise: {amd_transimpedance_noise*1e6:0.2f} uArms\")\n",
    "\n",
    "amd_transimpedance_irn = amd_transimpedance_noise / amd_irn\n",
    "print(f\"amd Transimpedance Noise fraction of IRN: {amd_transimpedance_irn*100:0.2f} %\")"
   ]
  },
  {
   "cell_type": "code",
   "execution_count": 8,
   "metadata": {},
   "outputs": [
    {
     "name": "stdout",
     "output_type": "stream",
     "text": [
      "amd Johnson Nyquist Noise: 1.18 uArms PSD: 39.45 sq(pA)/sqrt(Hz) RMS: 6.28 pA\n",
      "amd Johnson Nyquist Noise fraction of IRN: 33.57 %\n"
     ]
    }
   ],
   "source": [
    "amd_jn = johnson_nyquist_noise(amd_rfb, amd_temp, amd_bw)\n",
    "amd_jn_psd = johnson_nyquist_noise_psd(amd_rfb, amd_temp)\n",
    "amd_jn_rms = johnson_nyquist_noise_rms(amd_rfb, amd_temp)\n",
    "\n",
    "print(f\"amd Johnson Nyquist Noise: {amd_jn*1e6:.2f} uArms\", f\"PSD: {amd_jn_psd*1e24:.2f} sq(pA)/sqrt(Hz)\", f\"RMS: {amd_jn_rms*1e12:.2f} pA\")\n",
    "\n",
    "amd_rfb_irn = amd_jn / amd_irn\n",
    "print(f\"amd Johnson Nyquist Noise fraction of IRN: {amd_rfb_irn*100:.2f} %\")"
   ]
  },
  {
   "cell_type": "markdown",
   "metadata": {},
   "source": [
    "## UofT JSSC 2023"
   ]
  },
  {
   "cell_type": "code",
   "execution_count": 9,
   "metadata": {},
   "outputs": [
    {
     "name": "stdout",
     "output_type": "stream",
     "text": [
      "UofT TIA Voltage Noise: 2.14 mVrms CTLE Voltage Noise: 0.63 mVrms RX Voltage Noise: 2.23 mVrms\n",
      "UofT Transimpedance Gain: 1412.54 Ohms\n",
      "UofT Input Referred Noise: 3.03 uArms\n"
     ]
    }
   ],
   "source": [
    "uoft_rfb = 324\n",
    "uoft_bw = 32e9\n",
    "uoft_temp = 300\n",
    "\n",
    "uoft_vn_rx = 2.23e-3\n",
    "uoft_vn_ctle = 0.63e-3\n",
    "uoft_vn_tia = np.sqrt(uoft_vn_rx**2 - uoft_vn_ctle**2)\n",
    "\n",
    "print(f\"UofT TIA Voltage Noise: {uoft_vn_tia*1e3:.2f} mVrms\", f\"CTLE Voltage Noise: {uoft_vn_ctle*1e3:.2f} mVrms\", f\"RX Voltage Noise: {uoft_vn_rx*1e3:.2f} mVrms\")\n",
    "\n",
    "uoft_transimpedance_gain = 63 # dBOhms\n",
    "uoft_transimpedance = 10**(uoft_transimpedance_gain/20)\n",
    "print(f\"UofT Transimpedance Gain: {uoft_transimpedance:.2f} Ohms\")\n",
    "\n",
    "uoft_irn = 2*uoft_vn_tia/uoft_transimpedance\n",
    "print(f\"UofT Input Referred Noise: {uoft_irn*1e6:.2f} uArms\")"
   ]
  },
  {
   "cell_type": "code",
   "execution_count": 10,
   "metadata": {},
   "outputs": [
    {
     "name": "stdout",
     "output_type": "stream",
     "text": [
      "UofT Transimpedance Noise: 0.61 uArms\n",
      "UofT Transimpedance Noise fraction of IRN: 20.23 %\n"
     ]
    }
   ],
   "source": [
    "uoft_transimpendance_noise = johnson_nyquist_noise(uoft_transimpedance, uoft_temp, uoft_bw)\n",
    "print(f\"UofT Transimpedance Noise: {uoft_transimpendance_noise*1e6:.2f} uArms\")\n",
    "\n",
    "uoft_transimpedance_irn = uoft_transimpendance_noise / uoft_irn\n",
    "print(f\"UofT Transimpedance Noise fraction of IRN: {uoft_transimpedance_irn*100:.2f} %\")"
   ]
  },
  {
   "cell_type": "code",
   "execution_count": 11,
   "metadata": {},
   "outputs": [
    {
     "name": "stdout",
     "output_type": "stream",
     "text": [
      "UofT Johnson Nyquist Noise: 1.28 uArms PSD: 51.14 sq(pA)/sqrt(Hz) RMS: 7.15 pA\n",
      "UofT RFB fraction of IRN: 42.23 %\n"
     ]
    }
   ],
   "source": [
    "uoft_jn = johnson_nyquist_noise(uoft_rfb, uoft_temp, uoft_bw)\n",
    "uoft_jn_psd = johnson_nyquist_noise_psd(uoft_rfb, uoft_temp)\n",
    "uoft_jn_rms = johnson_nyquist_noise_rms(uoft_rfb, uoft_temp)\n",
    "\n",
    "print(f\"UofT Johnson Nyquist Noise: {uoft_jn*1e6:.2f} uArms\", f\"PSD: {uoft_jn_psd*1e24:.2f} sq(pA)/sqrt(Hz)\", f\"RMS: {uoft_jn_rms*1e12:.2f} pA\")\n",
    "\n",
    "uoft_rfb_irn = uoft_jn / uoft_irn\n",
    "print(f\"UofT RFB fraction of IRN: {uoft_rfb_irn*100:.2f} %\")"
   ]
  },
  {
   "cell_type": "markdown",
   "metadata": {},
   "source": [
    "## Congo 2024"
   ]
  },
  {
   "cell_type": "code",
   "execution_count": 12,
   "metadata": {},
   "outputs": [
    {
     "name": "stdout",
     "output_type": "stream",
     "text": [
      "Congo TIA Voltage Noise: 4.38 mVrms\n",
      "Congo Transimpedance Gain: 3981.07 Ohms\n",
      "Estimated Congo Input Referred Noise: 2.20 uArms\n",
      "Simulated Congo Input Referred Noise: 2.58 uArms\n"
     ]
    }
   ],
   "source": [
    "congo_rfb = 3000\n",
    "congo_bw = 40e9\n",
    "congo_temp = 300\n",
    "\n",
    "congo_vn_tia = 4.38e-3\n",
    "print(f\"Congo TIA Voltage Noise: {congo_vn_tia*1e3:.2f} mVrms\")\n",
    "\n",
    "congo_transimpedance_gain = 72 # dBOhms\n",
    "congo_transimpendance = 10**(congo_transimpedance_gain/20)\n",
    "print(f\"Congo Transimpedance Gain: {congo_transimpendance:.2f} Ohms\")\n",
    "\n",
    "congo_irn_estimated = 2*congo_vn_tia/congo_transimpendance\n",
    "print(f\"Estimated Congo Input Referred Noise: {congo_irn_estimated*1e6:.2f} uArms\")\n",
    "\n",
    "congo_irn = 2.58e-6\n",
    "print(f\"Simulated Congo Input Referred Noise: {congo_irn*1e6:.2f} uArms\")"
   ]
  },
  {
   "cell_type": "code",
   "execution_count": 13,
   "metadata": {},
   "outputs": [
    {
     "name": "stdout",
     "output_type": "stream",
     "text": [
      "Congo Transimpedance Noise: 0.41 uArms\n",
      "Congo Transimpedance Noise fraction of IRN: 15.81 %\n"
     ]
    }
   ],
   "source": [
    "congo_transimpendance_noise = johnson_nyquist_noise(congo_transimpendance, congo_temp, congo_bw)\n",
    "print(f\"Congo Transimpedance Noise: {congo_transimpendance_noise*1e6:.2f} uArms\")\n",
    "\n",
    "congo_transimpedance_irn = congo_transimpendance_noise / congo_irn\n",
    "print(f\"Congo Transimpedance Noise fraction of IRN: {congo_transimpedance_irn*100:.2f} %\")"
   ]
  },
  {
   "cell_type": "code",
   "execution_count": 14,
   "metadata": {
    "tags": []
   },
   "outputs": [
    {
     "name": "stdout",
     "output_type": "stream",
     "text": [
      "Congo Johnson Nyquist Noise: 0.47 uArms PSD: 5.52 sq(pA)/sqrt(Hz) RMS: 2.35 pA\n",
      "Congo RFB fraction of IRN: 18.22 %\n"
     ]
    }
   ],
   "source": [
    "congo_jn = johnson_nyquist_noise(congo_rfb, congo_temp, congo_bw)\n",
    "congo_jn_psd = johnson_nyquist_noise_psd(congo_rfb, congo_temp)\n",
    "congo_jn_rms = johnson_nyquist_noise_rms(congo_rfb, congo_temp)\n",
    "\n",
    "print(f\"Congo Johnson Nyquist Noise: {congo_jn*1e6:.2f} uArms\", f\"PSD: {congo_jn_psd*1e24:.2f} sq(pA)/sqrt(Hz)\", f\"RMS: {congo_jn_rms*1e12:.2f} pA\")\n",
    "\n",
    "congo_rfb_irn = congo_jn / congo_irn\n",
    "print(f\"Congo RFB fraction of IRN: {congo_rfb_irn*100:.2f} %\")"
   ]
  }
 ],
 "metadata": {
  "kernelspec": {
   "display_name": "Python 3 (ipykernel)",
   "language": "python",
   "name": "python3"
  },
  "language_info": {
   "codemirror_mode": {
    "name": "ipython",
    "version": 3
   },
   "file_extension": ".py",
   "mimetype": "text/x-python",
   "name": "python",
   "nbconvert_exporter": "python",
   "pygments_lexer": "ipython3",
   "version": "3.11.7"
  }
 },
 "nbformat": 4,
 "nbformat_minor": 4
}
